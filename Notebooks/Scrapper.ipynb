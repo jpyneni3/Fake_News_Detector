{
 "cells": [
  {
   "cell_type": "code",
   "execution_count": 1,
   "metadata": {},
   "outputs": [],
   "source": [
    "import feedparser as fp\n",
    "import json\n",
    "import newspaper\n",
    "from newspaper import Article\n",
    "from time import mktime\n",
    "from datetime import datetime"
   ]
  },
  {
   "cell_type": "code",
   "execution_count": 2,
   "metadata": {},
   "outputs": [
    {
     "name": "stdout",
     "output_type": "stream",
     "text": [
      "<class 'dict'>\n"
     ]
    }
   ],
   "source": [
    "newspaper_feeds = {}\n",
    "newspaper_feeds['websites'] = {}\n",
    "\n",
    "#JSON File mapping news source to RSS Feed URL \n",
    "with open('News_RSS.json') as news_sources:\n",
    "    newspaper_feeds = json.load(news_sources)\n",
    "print(type(newspaper_feeds))"
   ]
  },
  {
   "cell_type": "code",
   "execution_count": 20,
   "metadata": {},
   "outputs": [
    {
     "name": "stdout",
     "output_type": "stream",
     "text": [
      "cnn_world\n",
      "<class 'list'>\n",
      "29\n",
      "<class 'feedparser.FeedParserDict'>\n",
      "\n",
      "dict_keys(['title', 'title_detail', 'summary', 'summary_detail', 'links', 'link', 'id', 'guidislink', 'published', 'published_parsed', 'media_content', 'feedburner_origlink'])\n",
      "\n",
      "<class 'newspaper.article.Article'>\n",
      "<newspaper.article.Article object at 0x106ebfed0>\n"
     ]
    }
   ],
   "source": [
    "for key in newspaper_feeds:\n",
    "    rss_feed = newspaper_feeds[key]\n",
    "    print(key)\n",
    "    rss_feed = fp.parse(rss_feed) #FP Parse to get feed entries as a list\n",
    "    #each entry is a feedparser.FeedParserDict with \n",
    "    #['title', 'title_detail', 'summary', 'summary_detail', 'links', 'link', 'id', 'guidislink', 'published', 'published_parsed', 'media_content', 'feedburner_origlink']\n",
    "    print(type(rss_feed['entries']))\n",
    "    print(len(rss_feed['entries']))\n",
    "    for i in rss_feed['entries']: \n",
    "        print(type(i))\n",
    "        print()\n",
    "        print(i.keys())\n",
    "#         for k in i.keys():\n",
    "#             print()\n",
    "#             print(k)\n",
    "#             print(i[k])\n",
    "        print()\n",
    "        url = i['link']\n",
    "        article = Article(url)\n",
    "        article.download()\n",
    "        article.parse()\n",
    " \n",
    "        print(type(article))\n",
    "        print(article)\n",
    "        break"
   ]
  },
  {
   "cell_type": "code",
   "execution_count": null,
   "metadata": {},
   "outputs": [],
   "source": []
  }
 ],
 "metadata": {
  "kernelspec": {
   "display_name": "Python 3",
   "language": "python",
   "name": "python3"
  },
  "language_info": {
   "codemirror_mode": {
    "name": "ipython",
    "version": 3
   },
   "file_extension": ".py",
   "mimetype": "text/x-python",
   "name": "python",
   "nbconvert_exporter": "python",
   "pygments_lexer": "ipython3",
   "version": "3.7.4"
  }
 },
 "nbformat": 4,
 "nbformat_minor": 2
}
