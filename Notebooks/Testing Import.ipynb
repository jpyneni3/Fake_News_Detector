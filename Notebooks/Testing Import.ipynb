{
 "cells": [
  {
   "cell_type": "code",
   "execution_count": 3,
   "metadata": {},
   "outputs": [],
   "source": [
    "import import_ipynb\n",
    "from LIAR_Data_Cleaner import get_df"
   ]
  },
  {
   "cell_type": "code",
   "execution_count": 4,
   "metadata": {},
   "outputs": [
    {
     "name": "stdout",
     "output_type": "stream",
     "text": [
      "               id label                                          statement\n",
      "0       2635.json     0  Says the Annies List political group supports ...\n",
      "1      10540.json     1  When did the decline of coal start? It started...\n",
      "2        324.json     1  Hillary Clinton agrees with John McCain \"by vo...\n",
      "3       1123.json     0  Health care reform legislation is likely to ma...\n",
      "4       9028.json     1  The economic turnaround started at the end of ...\n",
      "...           ...   ...                                                ...\n",
      "12786   3419.json     1  For the first time in more than a decade, impo...\n",
      "12787  12548.json     1  Says Donald Trump has bankrupted his companies...\n",
      "12788    401.json     1  John McCain and George Bush have \"absolutely n...\n",
      "12789   1055.json     0  A new poll shows 62 percent support the presid...\n",
      "12790   9117.json     0  No one claims the report vindicating New Jerse...\n",
      "\n",
      "[12791 rows x 3 columns]\n"
     ]
    }
   ],
   "source": [
    "print(get_df())"
   ]
  },
  {
   "cell_type": "code",
   "execution_count": null,
   "metadata": {},
   "outputs": [],
   "source": []
  }
 ],
 "metadata": {
  "kernelspec": {
   "display_name": "Python 3",
   "language": "python",
   "name": "python3"
  },
  "language_info": {
   "codemirror_mode": {
    "name": "ipython",
    "version": 3
   },
   "file_extension": ".py",
   "mimetype": "text/x-python",
   "name": "python",
   "nbconvert_exporter": "python",
   "pygments_lexer": "ipython3",
   "version": "3.7.4"
  }
 },
 "nbformat": 4,
 "nbformat_minor": 2
}
