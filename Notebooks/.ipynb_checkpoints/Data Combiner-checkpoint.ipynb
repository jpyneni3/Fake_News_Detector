{
 "cells": [
  {
   "cell_type": "code",
   "execution_count": 60,
   "metadata": {},
   "outputs": [],
   "source": [
    "import pandas as pd\n",
    "import numpy as np\n",
    "import json"
   ]
  },
  {
   "cell_type": "code",
   "execution_count": 74,
   "metadata": {},
   "outputs": [
    {
     "name": "stdout",
     "output_type": "stream",
     "text": [
      "(909, 3)\n"
     ]
    },
    {
     "data": {
      "text/html": [
       "<div>\n",
       "<style scoped>\n",
       "    .dataframe tbody tr th:only-of-type {\n",
       "        vertical-align: middle;\n",
       "    }\n",
       "\n",
       "    .dataframe tbody tr th {\n",
       "        vertical-align: top;\n",
       "    }\n",
       "\n",
       "    .dataframe thead th {\n",
       "        text-align: right;\n",
       "    }\n",
       "</style>\n",
       "<table border=\"1\" class=\"dataframe\">\n",
       "  <thead>\n",
       "    <tr style=\"text-align: right;\">\n",
       "      <th></th>\n",
       "      <th>url</th>\n",
       "      <th>title</th>\n",
       "      <th>text</th>\n",
       "    </tr>\n",
       "  </thead>\n",
       "  <tbody>\n",
       "    <tr>\n",
       "      <td>0</td>\n",
       "      <td>https://www.cnn.com/2020/03/29/politics/trump-...</td>\n",
       "      <td>Trump extends federal social distancing guidel...</td>\n",
       "      <td>Washington (CNN) President Donald Trump said S...</td>\n",
       "    </tr>\n",
       "    <tr>\n",
       "      <td>1</td>\n",
       "      <td>https://www.cnn.com/world/live-news/coronaviru...</td>\n",
       "      <td>Coronavirus live updates: Global pandemic kill...</td>\n",
       "      <td>The exterior of Elmhurst Hospital in Queens on...</td>\n",
       "    </tr>\n",
       "    <tr>\n",
       "      <td>2</td>\n",
       "      <td>https://www.cnn.com/2020/03/29/politics/trump-...</td>\n",
       "      <td>Trump concedes US coronavirus death toll could...</td>\n",
       "      <td>(CNN) President Donald Trump acknowledged Sund...</td>\n",
       "    </tr>\n",
       "    <tr>\n",
       "      <td>3</td>\n",
       "      <td>https://www.cnn.com/interactive/2020/health/co...</td>\n",
       "      <td>Tracking Covid-19 cases in the US</td>\n",
       "      <td>NaN</td>\n",
       "    </tr>\n",
       "    <tr>\n",
       "      <td>4</td>\n",
       "      <td>https://www.cnn.com/2020/03/29/opinions/donald...</td>\n",
       "      <td>Donald Trump's special day</td>\n",
       "      <td>Sign up to get our new weekly column as a news...</td>\n",
       "    </tr>\n",
       "  </tbody>\n",
       "</table>\n",
       "</div>"
      ],
      "text/plain": [
       "                                                 url  \\\n",
       "0  https://www.cnn.com/2020/03/29/politics/trump-...   \n",
       "1  https://www.cnn.com/world/live-news/coronaviru...   \n",
       "2  https://www.cnn.com/2020/03/29/politics/trump-...   \n",
       "3  https://www.cnn.com/interactive/2020/health/co...   \n",
       "4  https://www.cnn.com/2020/03/29/opinions/donald...   \n",
       "\n",
       "                                               title  \\\n",
       "0  Trump extends federal social distancing guidel...   \n",
       "1  Coronavirus live updates: Global pandemic kill...   \n",
       "2  Trump concedes US coronavirus death toll could...   \n",
       "3                  Tracking Covid-19 cases in the US   \n",
       "4                         Donald Trump's special day   \n",
       "\n",
       "                                                text  \n",
       "0  Washington (CNN) President Donald Trump said S...  \n",
       "1  The exterior of Elmhurst Hospital in Queens on...  \n",
       "2  (CNN) President Donald Trump acknowledged Sund...  \n",
       "3                                                NaN  \n",
       "4  Sign up to get our new weekly column as a news...  "
      ]
     },
     "execution_count": 74,
     "metadata": {},
     "output_type": "execute_result"
    }
   ],
   "source": [
    "df_real = pd.read_csv('../Uncleaned Data/Real_Scrapped.csv')\n",
    "print(df_real.shape)\n",
    "df_real.head()\n",
    "\n"
   ]
  },
  {
   "cell_type": "code",
   "execution_count": 75,
   "metadata": {},
   "outputs": [
    {
     "name": "stdout",
     "output_type": "stream",
     "text": [
      "(905, 4)\n"
     ]
    },
    {
     "data": {
      "text/html": [
       "<div>\n",
       "<style scoped>\n",
       "    .dataframe tbody tr th:only-of-type {\n",
       "        vertical-align: middle;\n",
       "    }\n",
       "\n",
       "    .dataframe tbody tr th {\n",
       "        vertical-align: top;\n",
       "    }\n",
       "\n",
       "    .dataframe thead th {\n",
       "        text-align: right;\n",
       "    }\n",
       "</style>\n",
       "<table border=\"1\" class=\"dataframe\">\n",
       "  <thead>\n",
       "    <tr style=\"text-align: right;\">\n",
       "      <th></th>\n",
       "      <th>title</th>\n",
       "      <th>text</th>\n",
       "      <th>label</th>\n",
       "    </tr>\n",
       "  </thead>\n",
       "  <tbody>\n",
       "    <tr>\n",
       "      <td>0</td>\n",
       "      <td>Trump extends federal social distancing guidel...</td>\n",
       "      <td>Washington (CNN) President Donald Trump said S...</td>\n",
       "      <td>1</td>\n",
       "    </tr>\n",
       "    <tr>\n",
       "      <td>1</td>\n",
       "      <td>Coronavirus live updates: Global pandemic kill...</td>\n",
       "      <td>The exterior of Elmhurst Hospital in Queens on...</td>\n",
       "      <td>1</td>\n",
       "    </tr>\n",
       "    <tr>\n",
       "      <td>2</td>\n",
       "      <td>Trump concedes US coronavirus death toll could...</td>\n",
       "      <td>(CNN) President Donald Trump acknowledged Sund...</td>\n",
       "      <td>1</td>\n",
       "    </tr>\n",
       "    <tr>\n",
       "      <td>4</td>\n",
       "      <td>Donald Trump's special day</td>\n",
       "      <td>Sign up to get our new weekly column as a news...</td>\n",
       "      <td>1</td>\n",
       "    </tr>\n",
       "    <tr>\n",
       "      <td>5</td>\n",
       "      <td>How long will Trump's poll surge last?</td>\n",
       "      <td>(CNN) The 2020 race, publicly at least, has la...</td>\n",
       "      <td>1</td>\n",
       "    </tr>\n",
       "  </tbody>\n",
       "</table>\n",
       "</div>"
      ],
      "text/plain": [
       "                                               title  \\\n",
       "0  Trump extends federal social distancing guidel...   \n",
       "1  Coronavirus live updates: Global pandemic kill...   \n",
       "2  Trump concedes US coronavirus death toll could...   \n",
       "4                         Donald Trump's special day   \n",
       "5             How long will Trump's poll surge last?   \n",
       "\n",
       "                                                text  label  \n",
       "0  Washington (CNN) President Donald Trump said S...      1  \n",
       "1  The exterior of Elmhurst Hospital in Queens on...      1  \n",
       "2  (CNN) President Donald Trump acknowledged Sund...      1  \n",
       "4  Sign up to get our new weekly column as a news...      1  \n",
       "5  (CNN) The 2020 race, publicly at least, has la...      1  "
      ]
     },
     "execution_count": 75,
     "metadata": {},
     "output_type": "execute_result"
    }
   ],
   "source": [
    "df_real['label'] = 1\n",
    "df_real.dropna(inplace=True)\n",
    "print(df_real.shape)\n",
    "df_real.drop(['url'],axis=1,inplace=True)\n",
    "df_real.head()"
   ]
  },
  {
   "cell_type": "code",
   "execution_count": 76,
   "metadata": {},
   "outputs": [],
   "source": [
    "df_fake = pd.read_csv('../Uncleaned Data/fake.csv')"
   ]
  },
  {
   "cell_type": "code",
   "execution_count": 77,
   "metadata": {},
   "outputs": [
    {
     "name": "stdout",
     "output_type": "stream",
     "text": [
      "(12999, 20)\n"
     ]
    },
    {
     "data": {
      "text/html": [
       "<div>\n",
       "<style scoped>\n",
       "    .dataframe tbody tr th:only-of-type {\n",
       "        vertical-align: middle;\n",
       "    }\n",
       "\n",
       "    .dataframe tbody tr th {\n",
       "        vertical-align: top;\n",
       "    }\n",
       "\n",
       "    .dataframe thead th {\n",
       "        text-align: right;\n",
       "    }\n",
       "</style>\n",
       "<table border=\"1\" class=\"dataframe\">\n",
       "  <thead>\n",
       "    <tr style=\"text-align: right;\">\n",
       "      <th></th>\n",
       "      <th>uuid</th>\n",
       "      <th>ord_in_thread</th>\n",
       "      <th>author</th>\n",
       "      <th>published</th>\n",
       "      <th>title</th>\n",
       "      <th>text</th>\n",
       "      <th>language</th>\n",
       "      <th>crawled</th>\n",
       "      <th>site_url</th>\n",
       "      <th>country</th>\n",
       "      <th>domain_rank</th>\n",
       "      <th>thread_title</th>\n",
       "      <th>spam_score</th>\n",
       "      <th>main_img_url</th>\n",
       "      <th>replies_count</th>\n",
       "      <th>participants_count</th>\n",
       "      <th>likes</th>\n",
       "      <th>comments</th>\n",
       "      <th>shares</th>\n",
       "      <th>type</th>\n",
       "    </tr>\n",
       "  </thead>\n",
       "  <tbody>\n",
       "    <tr>\n",
       "      <td>0</td>\n",
       "      <td>6a175f46bcd24d39b3e962ad0f29936721db70db</td>\n",
       "      <td>0</td>\n",
       "      <td>Barracuda Brigade</td>\n",
       "      <td>2016-10-26T21:41:00.000+03:00</td>\n",
       "      <td>Muslims BUSTED: They Stole Millions In Gov’t B...</td>\n",
       "      <td>Print They should pay all the back all the mon...</td>\n",
       "      <td>english</td>\n",
       "      <td>2016-10-27T01:49:27.168+03:00</td>\n",
       "      <td>100percentfedup.com</td>\n",
       "      <td>US</td>\n",
       "      <td>25689.0</td>\n",
       "      <td>Muslims BUSTED: They Stole Millions In Gov’t B...</td>\n",
       "      <td>0.000</td>\n",
       "      <td>http://bb4sp.com/wp-content/uploads/2016/10/Fu...</td>\n",
       "      <td>0</td>\n",
       "      <td>1</td>\n",
       "      <td>0</td>\n",
       "      <td>0</td>\n",
       "      <td>0</td>\n",
       "      <td>bias</td>\n",
       "    </tr>\n",
       "    <tr>\n",
       "      <td>1</td>\n",
       "      <td>2bdc29d12605ef9cf3f09f9875040a7113be5d5b</td>\n",
       "      <td>0</td>\n",
       "      <td>reasoning with facts</td>\n",
       "      <td>2016-10-29T08:47:11.259+03:00</td>\n",
       "      <td>Re: Why Did Attorney General Loretta Lynch Ple...</td>\n",
       "      <td>Why Did Attorney General Loretta Lynch Plead T...</td>\n",
       "      <td>english</td>\n",
       "      <td>2016-10-29T08:47:11.259+03:00</td>\n",
       "      <td>100percentfedup.com</td>\n",
       "      <td>US</td>\n",
       "      <td>25689.0</td>\n",
       "      <td>Re: Why Did Attorney General Loretta Lynch Ple...</td>\n",
       "      <td>0.000</td>\n",
       "      <td>http://bb4sp.com/wp-content/uploads/2016/10/Fu...</td>\n",
       "      <td>0</td>\n",
       "      <td>1</td>\n",
       "      <td>0</td>\n",
       "      <td>0</td>\n",
       "      <td>0</td>\n",
       "      <td>bias</td>\n",
       "    </tr>\n",
       "    <tr>\n",
       "      <td>2</td>\n",
       "      <td>c70e149fdd53de5e61c29281100b9de0ed268bc3</td>\n",
       "      <td>0</td>\n",
       "      <td>Barracuda Brigade</td>\n",
       "      <td>2016-10-31T01:41:49.479+02:00</td>\n",
       "      <td>BREAKING: Weiner Cooperating With FBI On Hilla...</td>\n",
       "      <td>Red State : \\nFox News Sunday reported this mo...</td>\n",
       "      <td>english</td>\n",
       "      <td>2016-10-31T01:41:49.479+02:00</td>\n",
       "      <td>100percentfedup.com</td>\n",
       "      <td>US</td>\n",
       "      <td>25689.0</td>\n",
       "      <td>BREAKING: Weiner Cooperating With FBI On Hilla...</td>\n",
       "      <td>0.000</td>\n",
       "      <td>http://bb4sp.com/wp-content/uploads/2016/10/Fu...</td>\n",
       "      <td>0</td>\n",
       "      <td>1</td>\n",
       "      <td>0</td>\n",
       "      <td>0</td>\n",
       "      <td>0</td>\n",
       "      <td>bias</td>\n",
       "    </tr>\n",
       "    <tr>\n",
       "      <td>3</td>\n",
       "      <td>7cf7c15731ac2a116dd7f629bd57ea468ed70284</td>\n",
       "      <td>0</td>\n",
       "      <td>Fed Up</td>\n",
       "      <td>2016-11-01T05:22:00.000+02:00</td>\n",
       "      <td>PIN DROP SPEECH BY FATHER OF DAUGHTER Kidnappe...</td>\n",
       "      <td>Email Kayla Mueller was a prisoner and torture...</td>\n",
       "      <td>english</td>\n",
       "      <td>2016-11-01T15:46:26.304+02:00</td>\n",
       "      <td>100percentfedup.com</td>\n",
       "      <td>US</td>\n",
       "      <td>25689.0</td>\n",
       "      <td>PIN DROP SPEECH BY FATHER OF DAUGHTER Kidnappe...</td>\n",
       "      <td>0.068</td>\n",
       "      <td>http://100percentfedup.com/wp-content/uploads/...</td>\n",
       "      <td>0</td>\n",
       "      <td>0</td>\n",
       "      <td>0</td>\n",
       "      <td>0</td>\n",
       "      <td>0</td>\n",
       "      <td>bias</td>\n",
       "    </tr>\n",
       "    <tr>\n",
       "      <td>4</td>\n",
       "      <td>0206b54719c7e241ffe0ad4315b808290dbe6c0f</td>\n",
       "      <td>0</td>\n",
       "      <td>Fed Up</td>\n",
       "      <td>2016-11-01T21:56:00.000+02:00</td>\n",
       "      <td>FANTASTIC! TRUMP'S 7 POINT PLAN To Reform Heal...</td>\n",
       "      <td>Email HEALTHCARE REFORM TO MAKE AMERICA GREAT ...</td>\n",
       "      <td>english</td>\n",
       "      <td>2016-11-01T23:59:42.266+02:00</td>\n",
       "      <td>100percentfedup.com</td>\n",
       "      <td>US</td>\n",
       "      <td>25689.0</td>\n",
       "      <td>FANTASTIC! TRUMP'S 7 POINT PLAN To Reform Heal...</td>\n",
       "      <td>0.865</td>\n",
       "      <td>http://100percentfedup.com/wp-content/uploads/...</td>\n",
       "      <td>0</td>\n",
       "      <td>0</td>\n",
       "      <td>0</td>\n",
       "      <td>0</td>\n",
       "      <td>0</td>\n",
       "      <td>bias</td>\n",
       "    </tr>\n",
       "  </tbody>\n",
       "</table>\n",
       "</div>"
      ],
      "text/plain": [
       "                                       uuid  ord_in_thread  \\\n",
       "0  6a175f46bcd24d39b3e962ad0f29936721db70db              0   \n",
       "1  2bdc29d12605ef9cf3f09f9875040a7113be5d5b              0   \n",
       "2  c70e149fdd53de5e61c29281100b9de0ed268bc3              0   \n",
       "3  7cf7c15731ac2a116dd7f629bd57ea468ed70284              0   \n",
       "4  0206b54719c7e241ffe0ad4315b808290dbe6c0f              0   \n",
       "\n",
       "                 author                      published  \\\n",
       "0     Barracuda Brigade  2016-10-26T21:41:00.000+03:00   \n",
       "1  reasoning with facts  2016-10-29T08:47:11.259+03:00   \n",
       "2     Barracuda Brigade  2016-10-31T01:41:49.479+02:00   \n",
       "3                Fed Up  2016-11-01T05:22:00.000+02:00   \n",
       "4                Fed Up  2016-11-01T21:56:00.000+02:00   \n",
       "\n",
       "                                               title  \\\n",
       "0  Muslims BUSTED: They Stole Millions In Gov’t B...   \n",
       "1  Re: Why Did Attorney General Loretta Lynch Ple...   \n",
       "2  BREAKING: Weiner Cooperating With FBI On Hilla...   \n",
       "3  PIN DROP SPEECH BY FATHER OF DAUGHTER Kidnappe...   \n",
       "4  FANTASTIC! TRUMP'S 7 POINT PLAN To Reform Heal...   \n",
       "\n",
       "                                                text language  \\\n",
       "0  Print They should pay all the back all the mon...  english   \n",
       "1  Why Did Attorney General Loretta Lynch Plead T...  english   \n",
       "2  Red State : \\nFox News Sunday reported this mo...  english   \n",
       "3  Email Kayla Mueller was a prisoner and torture...  english   \n",
       "4  Email HEALTHCARE REFORM TO MAKE AMERICA GREAT ...  english   \n",
       "\n",
       "                         crawled             site_url country  domain_rank  \\\n",
       "0  2016-10-27T01:49:27.168+03:00  100percentfedup.com      US      25689.0   \n",
       "1  2016-10-29T08:47:11.259+03:00  100percentfedup.com      US      25689.0   \n",
       "2  2016-10-31T01:41:49.479+02:00  100percentfedup.com      US      25689.0   \n",
       "3  2016-11-01T15:46:26.304+02:00  100percentfedup.com      US      25689.0   \n",
       "4  2016-11-01T23:59:42.266+02:00  100percentfedup.com      US      25689.0   \n",
       "\n",
       "                                        thread_title  spam_score  \\\n",
       "0  Muslims BUSTED: They Stole Millions In Gov’t B...       0.000   \n",
       "1  Re: Why Did Attorney General Loretta Lynch Ple...       0.000   \n",
       "2  BREAKING: Weiner Cooperating With FBI On Hilla...       0.000   \n",
       "3  PIN DROP SPEECH BY FATHER OF DAUGHTER Kidnappe...       0.068   \n",
       "4  FANTASTIC! TRUMP'S 7 POINT PLAN To Reform Heal...       0.865   \n",
       "\n",
       "                                        main_img_url  replies_count  \\\n",
       "0  http://bb4sp.com/wp-content/uploads/2016/10/Fu...              0   \n",
       "1  http://bb4sp.com/wp-content/uploads/2016/10/Fu...              0   \n",
       "2  http://bb4sp.com/wp-content/uploads/2016/10/Fu...              0   \n",
       "3  http://100percentfedup.com/wp-content/uploads/...              0   \n",
       "4  http://100percentfedup.com/wp-content/uploads/...              0   \n",
       "\n",
       "   participants_count  likes  comments  shares  type  \n",
       "0                   1      0         0       0  bias  \n",
       "1                   1      0         0       0  bias  \n",
       "2                   1      0         0       0  bias  \n",
       "3                   0      0         0       0  bias  \n",
       "4                   0      0         0       0  bias  "
      ]
     },
     "execution_count": 77,
     "metadata": {},
     "output_type": "execute_result"
    }
   ],
   "source": [
    "print(df_fake.shape)\n",
    "df_fake.head()"
   ]
  },
  {
   "cell_type": "code",
   "execution_count": 78,
   "metadata": {},
   "outputs": [],
   "source": [
    "df_fake = df_fake[['site_url','title','text']]\n",
    "df_fake.dropna(inplace=True)\n",
    "df_fake.rename(columns={\"site_url\": \"url\"}, inplace=True)\n",
    "chosen_idx = np.random.choice(df_fake.shape[0], replace=False, size=900)\n",
    "df_fake_trim = df_fake.iloc[chosen_idx]"
   ]
  },
  {
   "cell_type": "code",
   "execution_count": 79,
   "metadata": {},
   "outputs": [
    {
     "name": "stdout",
     "output_type": "stream",
     "text": [
      "(900, 4)\n"
     ]
    },
    {
     "name": "stderr",
     "output_type": "stream",
     "text": [
      "/Users/jpyneni/opt/anaconda3/lib/python3.7/site-packages/ipykernel_launcher.py:1: SettingWithCopyWarning: \n",
      "A value is trying to be set on a copy of a slice from a DataFrame.\n",
      "Try using .loc[row_indexer,col_indexer] = value instead\n",
      "\n",
      "See the caveats in the documentation: http://pandas.pydata.org/pandas-docs/stable/user_guide/indexing.html#returning-a-view-versus-a-copy\n",
      "  \"\"\"Entry point for launching an IPython kernel.\n"
     ]
    },
    {
     "data": {
      "text/html": [
       "<div>\n",
       "<style scoped>\n",
       "    .dataframe tbody tr th:only-of-type {\n",
       "        vertical-align: middle;\n",
       "    }\n",
       "\n",
       "    .dataframe tbody tr th {\n",
       "        vertical-align: top;\n",
       "    }\n",
       "\n",
       "    .dataframe thead th {\n",
       "        text-align: right;\n",
       "    }\n",
       "</style>\n",
       "<table border=\"1\" class=\"dataframe\">\n",
       "  <thead>\n",
       "    <tr style=\"text-align: right;\">\n",
       "      <th></th>\n",
       "      <th>title</th>\n",
       "      <th>text</th>\n",
       "      <th>label</th>\n",
       "    </tr>\n",
       "  </thead>\n",
       "  <tbody>\n",
       "    <tr>\n",
       "      <td>11664</td>\n",
       "      <td>Automation: Robots from Korea to America Are R...</td>\n",
       "      <td></td>\n",
       "      <td>0</td>\n",
       "    </tr>\n",
       "    <tr>\n",
       "      <td>7811</td>\n",
       "      <td>Le prince et l’imposteur : qui est le mystérie...</td>\n",
       "      <td>Dictionnaire visuel Le prince et l’imposteur :...</td>\n",
       "      <td>0</td>\n",
       "    </tr>\n",
       "    <tr>\n",
       "      <td>12786</td>\n",
       "      <td>He Saved Thousands From The Nazis By Writing T...</td>\n",
       "      <td>posted by Eddie You’ve heard of “Schindler’s L...</td>\n",
       "      <td>0</td>\n",
       "    </tr>\n",
       "    <tr>\n",
       "      <td>3890</td>\n",
       "      <td>Climate Engineering And Microwaved Skies</td>\n",
       "      <td>geoengineeringwatch.org \\nWe are all swimming ...</td>\n",
       "      <td>0</td>\n",
       "    </tr>\n",
       "    <tr>\n",
       "      <td>5351</td>\n",
       "      <td>Fungus: The Hidden Cause of Almost Every Major...</td>\n",
       "      <td>Fungus: The Hidden Cause of Almost Every Major...</td>\n",
       "      <td>0</td>\n",
       "    </tr>\n",
       "  </tbody>\n",
       "</table>\n",
       "</div>"
      ],
      "text/plain": [
       "                                                   title  \\\n",
       "11664  Automation: Robots from Korea to America Are R...   \n",
       "7811   Le prince et l’imposteur : qui est le mystérie...   \n",
       "12786  He Saved Thousands From The Nazis By Writing T...   \n",
       "3890            Climate Engineering And Microwaved Skies   \n",
       "5351   Fungus: The Hidden Cause of Almost Every Major...   \n",
       "\n",
       "                                                    text  label  \n",
       "11664                                                         0  \n",
       "7811   Dictionnaire visuel Le prince et l’imposteur :...      0  \n",
       "12786  posted by Eddie You’ve heard of “Schindler’s L...      0  \n",
       "3890   geoengineeringwatch.org \\nWe are all swimming ...      0  \n",
       "5351   Fungus: The Hidden Cause of Almost Every Major...      0  "
      ]
     },
     "execution_count": 79,
     "metadata": {},
     "output_type": "execute_result"
    }
   ],
   "source": [
    "df_fake_trim['label'] = 0\n",
    "print(df_fake_trim.shape)\n",
    "df_fake_trim.drop(['url'], axis=1, inplace= True)\n",
    "df_fake_trim.head()\n"
   ]
  },
  {
   "cell_type": "code",
   "execution_count": 80,
   "metadata": {},
   "outputs": [
    {
     "name": "stdout",
     "output_type": "stream",
     "text": [
      "(909, 3)\n"
     ]
    },
    {
     "data": {
      "text/html": [
       "<div>\n",
       "<style scoped>\n",
       "    .dataframe tbody tr th:only-of-type {\n",
       "        vertical-align: middle;\n",
       "    }\n",
       "\n",
       "    .dataframe tbody tr th {\n",
       "        vertical-align: top;\n",
       "    }\n",
       "\n",
       "    .dataframe thead th {\n",
       "        text-align: right;\n",
       "    }\n",
       "</style>\n",
       "<table border=\"1\" class=\"dataframe\">\n",
       "  <thead>\n",
       "    <tr style=\"text-align: right;\">\n",
       "      <th></th>\n",
       "      <th>title</th>\n",
       "      <th>text</th>\n",
       "      <th>label</th>\n",
       "    </tr>\n",
       "  </thead>\n",
       "  <tbody>\n",
       "    <tr>\n",
       "      <td>0</td>\n",
       "      <td>Trump extends federal social distancing guidel...</td>\n",
       "      <td>President Donald Trump, on his first official ...</td>\n",
       "      <td>2</td>\n",
       "    </tr>\n",
       "    <tr>\n",
       "      <td>1</td>\n",
       "      <td>Coronavirus live updates: Global pandemic kill...</td>\n",
       "      <td>By Dylan Welch\\nApril 1, 2015. (Bloomberg) -- ...</td>\n",
       "      <td>2</td>\n",
       "    </tr>\n",
       "    <tr>\n",
       "      <td>2</td>\n",
       "      <td>Trump concedes US coronavirus death toll could...</td>\n",
       "      <td>Donald Trump won his home state of California ...</td>\n",
       "      <td>2</td>\n",
       "    </tr>\n",
       "    <tr>\n",
       "      <td>3</td>\n",
       "      <td>Tracking Covid-19 cases in the US</td>\n",
       "      <td>Editor’s note: Readers and visitors in the New...</td>\n",
       "      <td>2</td>\n",
       "    </tr>\n",
       "    <tr>\n",
       "      <td>4</td>\n",
       "      <td>Donald Trump's special day</td>\n",
       "      <td>The wish of many in the press was for the morn...</td>\n",
       "      <td>2</td>\n",
       "    </tr>\n",
       "  </tbody>\n",
       "</table>\n",
       "</div>"
      ],
      "text/plain": [
       "                                               title  \\\n",
       "0  Trump extends federal social distancing guidel...   \n",
       "1  Coronavirus live updates: Global pandemic kill...   \n",
       "2  Trump concedes US coronavirus death toll could...   \n",
       "3                  Tracking Covid-19 cases in the US   \n",
       "4                         Donald Trump's special day   \n",
       "\n",
       "                                                text  label  \n",
       "0  President Donald Trump, on his first official ...      2  \n",
       "1  By Dylan Welch\\nApril 1, 2015. (Bloomberg) -- ...      2  \n",
       "2  Donald Trump won his home state of California ...      2  \n",
       "3  Editor’s note: Readers and visitors in the New...      2  \n",
       "4  The wish of many in the press was for the morn...      2  "
      ]
     },
     "execution_count": 80,
     "metadata": {},
     "output_type": "execute_result"
    }
   ],
   "source": [
    "df_grover = pd.read_csv('../Uncleaned Data/Neural_Fake_News.csv')\n",
    "print(df_grover.shape)\n",
    "\n",
    "df_grover.drop(['Unnamed: 0'], axis=1, inplace= True)\n",
    "df_grover.head()\n",
    "df_grover['label'] = 2\n",
    "df_grover.head()"
   ]
  },
  {
   "cell_type": "code",
   "execution_count": 100,
   "metadata": {},
   "outputs": [],
   "source": [
    "combined = pd.concat([df_real,df_fake_trim],ignore_index=True)"
   ]
  },
  {
   "cell_type": "code",
   "execution_count": 101,
   "metadata": {},
   "outputs": [
    {
     "name": "stdout",
     "output_type": "stream",
     "text": [
      "                                               title  \\\n",
      "0  Trump extends federal social distancing guidel...   \n",
      "1  Coronavirus live updates: Global pandemic kill...   \n",
      "2  Trump concedes US coronavirus death toll could...   \n",
      "3                         Donald Trump's special day   \n",
      "4             How long will Trump's poll surge last?   \n",
      "\n",
      "                                                text  label  \n",
      "0  Washington (CNN) President Donald Trump said S...      1  \n",
      "1  The exterior of Elmhurst Hospital in Queens on...      1  \n",
      "2  (CNN) President Donald Trump acknowledged Sund...      1  \n",
      "3  Sign up to get our new weekly column as a news...      1  \n",
      "4  (CNN) The 2020 race, publicly at least, has la...      1  \n"
     ]
    },
    {
     "data": {
      "text/html": [
       "<div>\n",
       "<style scoped>\n",
       "    .dataframe tbody tr th:only-of-type {\n",
       "        vertical-align: middle;\n",
       "    }\n",
       "\n",
       "    .dataframe tbody tr th {\n",
       "        vertical-align: top;\n",
       "    }\n",
       "\n",
       "    .dataframe thead th {\n",
       "        text-align: right;\n",
       "    }\n",
       "</style>\n",
       "<table border=\"1\" class=\"dataframe\">\n",
       "  <thead>\n",
       "    <tr style=\"text-align: right;\">\n",
       "      <th></th>\n",
       "      <th>title</th>\n",
       "      <th>text</th>\n",
       "      <th>label</th>\n",
       "    </tr>\n",
       "  </thead>\n",
       "  <tbody>\n",
       "    <tr>\n",
       "      <td>1800</td>\n",
       "      <td>Here’s what would happen if Hillary Clinton we...</td>\n",
       "      <td>Print \\n1. If Clinton is indicted before the e...</td>\n",
       "      <td>0</td>\n",
       "    </tr>\n",
       "    <tr>\n",
       "      <td>1801</td>\n",
       "      <td>Why American Surrogates Are in Demand for Chin...</td>\n",
       "      <td>Why American Surrogates Are in Demand for Chin...</td>\n",
       "      <td>0</td>\n",
       "    </tr>\n",
       "    <tr>\n",
       "      <td>1802</td>\n",
       "      <td>Manny Pacquiao's Son Dead? Report Says Jimuel ...</td>\n",
       "      <td>Continue Scroll down to preview in browser Man...</td>\n",
       "      <td>0</td>\n",
       "    </tr>\n",
       "    <tr>\n",
       "      <td>1803</td>\n",
       "      <td>10 Signs Western Society is a Satanic Cult</td>\n",
       "      <td>10 Signs Western Society is a Satanic Cult Man...</td>\n",
       "      <td>0</td>\n",
       "    </tr>\n",
       "    <tr>\n",
       "      <td>1804</td>\n",
       "      <td>‘Climate Emergency': North Pole Sees Record Te...</td>\n",
       "      <td>Source: Common Dreams \\nArctic is losing ice a...</td>\n",
       "      <td>0</td>\n",
       "    </tr>\n",
       "  </tbody>\n",
       "</table>\n",
       "</div>"
      ],
      "text/plain": [
       "                                                  title  \\\n",
       "1800  Here’s what would happen if Hillary Clinton we...   \n",
       "1801  Why American Surrogates Are in Demand for Chin...   \n",
       "1802  Manny Pacquiao's Son Dead? Report Says Jimuel ...   \n",
       "1803         10 Signs Western Society is a Satanic Cult   \n",
       "1804  ‘Climate Emergency': North Pole Sees Record Te...   \n",
       "\n",
       "                                                   text  label  \n",
       "1800  Print \\n1. If Clinton is indicted before the e...      0  \n",
       "1801  Why American Surrogates Are in Demand for Chin...      0  \n",
       "1802  Continue Scroll down to preview in browser Man...      0  \n",
       "1803  10 Signs Western Society is a Satanic Cult Man...      0  \n",
       "1804  Source: Common Dreams \\nArctic is losing ice a...      0  "
      ]
     },
     "execution_count": 101,
     "metadata": {},
     "output_type": "execute_result"
    }
   ],
   "source": [
    "print(combined.head())\n",
    "combined.tail()"
   ]
  },
  {
   "cell_type": "code",
   "execution_count": 102,
   "metadata": {},
   "outputs": [],
   "source": [
    "import nltk\n",
    "from wordcloud import WordCloud\n",
    "from sklearn.feature_extraction.text import TfidfVectorizer\n",
    "from sklearn.model_selection import train_test_split\n",
    "from sklearn.metrics import f1_score, accuracy_score, recall_score, precision_score"
   ]
  },
  {
   "cell_type": "code",
   "execution_count": 103,
   "metadata": {},
   "outputs": [
    {
     "data": {
      "text/html": [
       "<div>\n",
       "<style scoped>\n",
       "    .dataframe tbody tr th:only-of-type {\n",
       "        vertical-align: middle;\n",
       "    }\n",
       "\n",
       "    .dataframe tbody tr th {\n",
       "        vertical-align: top;\n",
       "    }\n",
       "\n",
       "    .dataframe thead th {\n",
       "        text-align: right;\n",
       "    }\n",
       "</style>\n",
       "<table border=\"1\" class=\"dataframe\">\n",
       "  <thead>\n",
       "    <tr style=\"text-align: right;\">\n",
       "      <th></th>\n",
       "      <th>title</th>\n",
       "      <th>text</th>\n",
       "    </tr>\n",
       "    <tr>\n",
       "      <th>label</th>\n",
       "      <th></th>\n",
       "      <th></th>\n",
       "    </tr>\n",
       "  </thead>\n",
       "  <tbody>\n",
       "    <tr>\n",
       "      <td>0</td>\n",
       "      <td>900</td>\n",
       "      <td>900</td>\n",
       "    </tr>\n",
       "    <tr>\n",
       "      <td>1</td>\n",
       "      <td>905</td>\n",
       "      <td>905</td>\n",
       "    </tr>\n",
       "  </tbody>\n",
       "</table>\n",
       "</div>"
      ],
      "text/plain": [
       "       title  text\n",
       "label             \n",
       "0        900   900\n",
       "1        905   905"
      ]
     },
     "execution_count": 103,
     "metadata": {},
     "output_type": "execute_result"
    }
   ],
   "source": [
    "combined_text = combined['text'].values\n",
    "X_title =combined['title'].values\n",
    "labels = combined['label'].values\n",
    "combined.groupby('label').agg('count')"
   ]
  },
  {
   "cell_type": "code",
   "execution_count": 104,
   "metadata": {},
   "outputs": [],
   "source": [
    "tfidf = TfidfVectorizer(ngram_range=(1,2), max_df= 0.85, min_df= 0.01)"
   ]
  },
  {
   "cell_type": "code",
   "execution_count": 105,
   "metadata": {},
   "outputs": [],
   "source": [
    "combined_text = tfidf.fit_transform(combined_text)\n",
    "# combined['title'] = tfidf.fit_transform (combined['title'])"
   ]
  },
  {
   "cell_type": "code",
   "execution_count": 106,
   "metadata": {},
   "outputs": [
    {
     "name": "stdout",
     "output_type": "stream",
     "text": [
      "<class 'scipy.sparse.csr.csr_matrix'>\n",
      "tf idf vectorized text shape: (1805, 10178)\n",
      "original text shape: (1805,)\n"
     ]
    }
   ],
   "source": [
    "print(type(combined_text))\n",
    "print(\"tf idf vectorized text shape: {}\".format(combined_text.shape))\n",
    "print(\"original text shape: {}\".format(combined['text'].shape))\n"
   ]
  },
  {
   "cell_type": "code",
   "execution_count": 107,
   "metadata": {},
   "outputs": [],
   "source": [
    "train_text, test_text, train_labels, test_labels  = train_test_split(combined_text, labels, test_size=0.2)\n"
   ]
  },
  {
   "cell_type": "code",
   "execution_count": 108,
   "metadata": {},
   "outputs": [
    {
     "name": "stdout",
     "output_type": "stream",
     "text": [
      "  (0, 1731)\t0.04544513249167999\n",
      "  (0, 3971)\t0.04544513249167999\n",
      "  (0, 6807)\t0.0436024039887\n",
      "  (0, 3150)\t0.03651154149011333\n",
      "  (0, 9233)\t0.04544513249167999\n",
      "  (0, 7959)\t0.04393951367619908\n",
      "  (0, 1735)\t0.03874843785475819\n",
      "  (0, 5795)\t0.045042221335831766\n",
      "  (0, 9513)\t0.036372747624943816\n",
      "  (0, 4331)\t0.042096785173219096\n",
      "  (0, 6917)\t0.03874843785475819\n",
      "  (0, 5472)\t0.039517182346489696\n",
      "  (0, 2655)\t0.04182600548557978\n",
      "  (0, 8524)\t0.04393951367619908\n",
      "  (0, 8687)\t0.038215476127923795\n",
      "  (0, 6698)\t0.0446580571587152\n",
      "  (0, 2584)\t0.04429097269934119\n",
      "  (0, 1736)\t0.08365201097115955\n",
      "  (0, 2289)\t0.04059116635773818\n",
      "  (0, 8651)\t0.0436024039887\n",
      "  (0, 1704)\t0.0436024039887\n",
      "  (0, 1056)\t0.1673040219423191\n",
      "  (0, 5164)\t0.04393951367619908\n",
      "  (0, 7607)\t0.0401446770501831\n",
      "  (0, 9517)\t0.04296685658755255\n",
      "  :\t:\n",
      "  (1443, 2614)\t0.0229702166337331\n",
      "  (1443, 9759)\t0.01331366624478838\n",
      "  (1443, 2346)\t0.08958676642118682\n",
      "  (1443, 5426)\t0.026266892860370174\n",
      "  (1443, 1096)\t0.02062005921802939\n",
      "  (1443, 9867)\t0.024366541627236664\n",
      "  (1443, 8678)\t0.020980224933206264\n",
      "  (1443, 1384)\t0.021995794967314106\n",
      "  (1443, 9790)\t0.0376823497483675\n",
      "  (1443, 1432)\t0.06062996291681963\n",
      "  (1443, 2181)\t0.03167800662482998\n",
      "  (1443, 2792)\t0.014684736706232252\n",
      "  (1443, 8562)\t0.02993714831959353\n",
      "  (1443, 9571)\t0.043579894595204345\n",
      "  (1443, 6012)\t0.028564275713922924\n",
      "  (1443, 3532)\t0.013498093903777817\n",
      "  (1443, 9717)\t0.05346368781607472\n",
      "  (1443, 866)\t0.040652137749878824\n",
      "  (1443, 3810)\t0.027556929139065416\n",
      "  (1443, 3279)\t0.020525385765318815\n",
      "  (1443, 481)\t0.032570161023756365\n",
      "  (1443, 2198)\t0.017719058722141533\n",
      "  (1443, 719)\t0.0180915894834985\n",
      "  (1443, 10045)\t0.025997687877904924\n",
      "  (1443, 3665)\t0.024024213153004376\n",
      "<class 'scipy.sparse.csr.csr_matrix'>\n",
      "size of train_text: (1444, 10178)\n",
      "[0 0 0 ... 1 1 0]\n",
      "<class 'numpy.ndarray'>\n",
      "size of train_labels: (1444,)\n"
     ]
    }
   ],
   "source": [
    "print(train_text)\n",
    "print(type(train_text))\n",
    "print(\"size of train_text: {}\".format(train_text.shape))\n",
    "\n",
    "print(train_labels)\n",
    "print(type(train_labels))\n",
    "print(\"size of train_labels: {}\".format(train_labels.shape))\n"
   ]
  },
  {
   "cell_type": "code",
   "execution_count": 109,
   "metadata": {},
   "outputs": [
    {
     "name": "stdout",
     "output_type": "stream",
     "text": [
      "  (0, 8300)\t0.019611884327601983\n",
      "  (0, 4987)\t0.018821299544067777\n",
      "  (0, 8879)\t0.020807665959165618\n",
      "  (0, 2662)\t0.02129470275015597\n",
      "  (0, 5341)\t0.020583565300802475\n",
      "  (0, 489)\t0.022148943739346297\n",
      "  (0, 3967)\t0.04643754305040484\n",
      "  (0, 9561)\t0.023020739101576343\n",
      "  (0, 3986)\t0.020583565300802475\n",
      "  (0, 8180)\t0.08417689157580135\n",
      "  (0, 9559)\t0.022309601652222847\n",
      "  (0, 9513)\t0.018749752827478396\n",
      "  (0, 2338)\t0.0379362095238056\n",
      "  (0, 8705)\t0.021425695529535025\n",
      "  (0, 5215)\t0.046852935621869915\n",
      "  (0, 9238)\t0.04312169499548978\n",
      "  (0, 7402)\t0.044953122920597395\n",
      "  (0, 8106)\t0.020070060469540154\n",
      "  (0, 1738)\t0.019699659178114653\n",
      "  (0, 5065)\t0.06795101343045254\n",
      "  (0, 2711)\t0.02129470275015597\n",
      "  (0, 8224)\t0.04074134893933348\n",
      "  (0, 6462)\t0.02321877152520242\n",
      "  (0, 2511)\t0.023426467810934958\n",
      "  (0, 7101)\t0.022309601652222847\n",
      "  :\t:\n",
      "  (360, 9571)\t0.11858722096706537\n",
      "  (360, 6097)\t0.004526519108114372\n",
      "  (360, 6012)\t0.020151584893637643\n",
      "  (360, 3532)\t0.11155120077828257\n",
      "  (360, 9717)\t0.06465886997407323\n",
      "  (360, 347)\t0.004493461216233649\n",
      "  (360, 9696)\t0.004074039716221337\n",
      "  (360, 9266)\t0.02346494408673348\n",
      "  (360, 709)\t0.0047154493590278925\n",
      "  (360, 2188)\t0.006930360109484449\n",
      "  (360, 866)\t0.14134824989426303\n",
      "  (360, 2065)\t0.059721266852606425\n",
      "  (360, 3810)\t0.0722091311609014\n",
      "  (360, 3279)\t0.07653868640014164\n",
      "  (360, 2519)\t0.014046348660741875\n",
      "  (360, 1030)\t0.01041272253452047\n",
      "  (360, 481)\t0.06783882115293671\n",
      "  (360, 2198)\t0.010714695906493812\n",
      "  (360, 719)\t0.010939964860468592\n",
      "  (360, 7417)\t0.00409088888153324\n",
      "  (360, 10045)\t0.04192206433412999\n",
      "  (360, 3665)\t0.07021584431157898\n",
      "  (360, 7009)\t0.007093171789798113\n",
      "  (360, 6362)\t0.018731612776163253\n",
      "  (360, 9606)\t0.04472249680431683\n",
      "<class 'scipy.sparse.csr.csr_matrix'>\n",
      "size of test_text: (361, 10178)\n",
      "[0 0 0 0 0 1 0 1 0 0 0 1 0 0 0 0 0 1 0 0 0 0 0 0 1 0 0 0 0 0 0 1 0 1 0 0 1\n",
      " 1 0 1 1 0 0 1 0 0 1 0 0 0 1 1 0 1 1 0 1 1 0 0 0 0 1 0 1 1 1 1 0 0 1 0 0 1\n",
      " 0 1 1 1 0 0 1 0 1 1 0 0 0 1 1 1 0 1 0 0 1 0 1 0 0 1 0 1 1 1 1 0 0 1 0 0 0\n",
      " 0 0 0 0 1 0 0 0 0 1 1 0 0 1 1 0 1 0 1 0 1 0 1 1 0 0 1 0 1 1 0 0 0 1 0 0 0\n",
      " 1 0 0 1 0 1 1 0 0 1 0 0 1 0 0 0 0 1 1 0 0 1 0 1 1 1 1 0 1 0 0 1 1 1 1 1 0\n",
      " 0 0 1 0 1 1 1 1 1 1 0 0 0 1 0 1 0 0 1 1 1 1 1 1 0 1 1 1 1 1 1 1 1 0 1 0 1\n",
      " 1 1 1 0 0 1 0 1 0 0 0 0 0 1 0 0 1 0 0 1 1 1 0 0 0 0 1 0 1 0 1 1 1 1 0 1 0\n",
      " 1 1 0 1 1 1 1 1 1 0 1 0 1 1 1 0 0 1 0 1 0 1 1 1 0 1 0 0 0 0 0 0 1 1 0 0 1\n",
      " 1 0 0 1 0 0 0 1 0 1 0 0 1 0 0 0 0 1 0 1 1 0 0 1 1 0 1 0 1 1 1 0 1 1 1 0 0\n",
      " 0 0 0 0 1 0 0 1 0 0 0 0 0 1 1 1 0 0 1 0 1 0 0 0 0 1 0 0]\n",
      "<class 'numpy.ndarray'>\n",
      "size of test_labels: (361,)\n"
     ]
    }
   ],
   "source": [
    "print(test_text)\n",
    "print(type(test_text))\n",
    "print(\"size of test_text: {}\".format(test_text.shape))\n",
    "\n",
    "print(test_labels)\n",
    "print(type(test_labels))\n",
    "print(\"size of test_labels: {}\".format(test_labels.shape))\n",
    "\n"
   ]
  },
  {
   "cell_type": "code",
   "execution_count": 110,
   "metadata": {},
   "outputs": [],
   "source": [
    "from sklearn.naive_bayes import MultinomialNB\n",
    "nb = MultinomialNB()\n"
   ]
  },
  {
   "cell_type": "code",
   "execution_count": 111,
   "metadata": {},
   "outputs": [
    {
     "data": {
      "text/plain": [
       "MultinomialNB(alpha=1.0, class_prior=None, fit_prior=True)"
      ]
     },
     "execution_count": 111,
     "metadata": {},
     "output_type": "execute_result"
    }
   ],
   "source": [
    "nb.fit(train_text,train_labels)"
   ]
  },
  {
   "cell_type": "code",
   "execution_count": 112,
   "metadata": {},
   "outputs": [],
   "source": [
    "train_pred = nb.predict(train_text)"
   ]
  },
  {
   "cell_type": "code",
   "execution_count": 113,
   "metadata": {},
   "outputs": [
    {
     "name": "stdout",
     "output_type": "stream",
     "text": [
      "Naive Bayes In Sample F1 and Accuracy Scores:\n",
      "F1 score 97.23%\n",
      "Accuracy score 97.23%\n"
     ]
    }
   ],
   "source": [
    "print('Naive Bayes In Sample F1 and Accuracy Scores:')\n",
    "print('F1 score {:.4}%'.format(f1_score(train_labels, train_pred, average='macro')*100 ))\n",
    "print ('Accuracy score {:.4}%'.format(accuracy_score(train_labels, train_pred)*100))"
   ]
  },
  {
   "cell_type": "code",
   "execution_count": 114,
   "metadata": {},
   "outputs": [
    {
     "data": {
      "text/html": [
       "<div>\n",
       "<style scoped>\n",
       "    .dataframe tbody tr th:only-of-type {\n",
       "        vertical-align: middle;\n",
       "    }\n",
       "\n",
       "    .dataframe tbody tr th {\n",
       "        vertical-align: top;\n",
       "    }\n",
       "\n",
       "    .dataframe thead th {\n",
       "        text-align: right;\n",
       "    }\n",
       "</style>\n",
       "<table border=\"1\" class=\"dataframe\">\n",
       "  <thead>\n",
       "    <tr style=\"text-align: right;\">\n",
       "      <th></th>\n",
       "      <th>title</th>\n",
       "      <th>text</th>\n",
       "    </tr>\n",
       "    <tr>\n",
       "      <th>label</th>\n",
       "      <th></th>\n",
       "      <th></th>\n",
       "    </tr>\n",
       "  </thead>\n",
       "  <tbody>\n",
       "    <tr>\n",
       "      <td>0</td>\n",
       "      <td>14</td>\n",
       "      <td>14</td>\n",
       "    </tr>\n",
       "    <tr>\n",
       "      <td>1</td>\n",
       "      <td>26</td>\n",
       "      <td>26</td>\n",
       "    </tr>\n",
       "  </tbody>\n",
       "</table>\n",
       "</div>"
      ],
      "text/plain": [
       "       title  text\n",
       "label             \n",
       "0         14    14\n",
       "1         26    26"
      ]
     },
     "execution_count": 114,
     "metadata": {},
     "output_type": "execute_result"
    }
   ],
   "source": [
    "combined.loc[np.where(train_labels != train_pred)[0].tolist()].groupby('label').agg('count')"
   ]
  },
  {
   "cell_type": "code",
   "execution_count": 116,
   "metadata": {},
   "outputs": [
    {
     "name": "stdout",
     "output_type": "stream",
     "text": [
      "Naive Bayes Out of Sample F1 and Accuracy Scores:\n",
      "F1 score 93.33%\n",
      "Accuracy score 93.35%\n"
     ]
    }
   ],
   "source": [
    "test_pred = nb.predict(test_text)\n",
    "print('Naive Bayes Out of Sample F1 and Accuracy Scores:')\n",
    "print('F1 score {:.4}%'.format(f1_score(test_labels, test_pred, average='macro')*100 ))\n",
    "print ('Accuracy score {:.4}%'.format(accuracy_score(test_labels, test_pred)*100))"
   ]
  },
  {
   "cell_type": "code",
   "execution_count": 117,
   "metadata": {},
   "outputs": [
    {
     "data": {
      "text/html": [
       "<div>\n",
       "<style scoped>\n",
       "    .dataframe tbody tr th:only-of-type {\n",
       "        vertical-align: middle;\n",
       "    }\n",
       "\n",
       "    .dataframe tbody tr th {\n",
       "        vertical-align: top;\n",
       "    }\n",
       "\n",
       "    .dataframe thead th {\n",
       "        text-align: right;\n",
       "    }\n",
       "</style>\n",
       "<table border=\"1\" class=\"dataframe\">\n",
       "  <thead>\n",
       "    <tr style=\"text-align: right;\">\n",
       "      <th></th>\n",
       "      <th>title</th>\n",
       "      <th>text</th>\n",
       "    </tr>\n",
       "    <tr>\n",
       "      <th>label</th>\n",
       "      <th></th>\n",
       "      <th></th>\n",
       "    </tr>\n",
       "  </thead>\n",
       "  <tbody>\n",
       "    <tr>\n",
       "      <td>1</td>\n",
       "      <td>24</td>\n",
       "      <td>24</td>\n",
       "    </tr>\n",
       "  </tbody>\n",
       "</table>\n",
       "</div>"
      ],
      "text/plain": [
       "       title  text\n",
       "label             \n",
       "1         24    24"
      ]
     },
     "execution_count": 117,
     "metadata": {},
     "output_type": "execute_result"
    }
   ],
   "source": [
    "combined.loc[np.where(test_labels != test_pred)[0].tolist()].groupby('label').agg('count')"
   ]
  },
  {
   "cell_type": "code",
   "execution_count": 118,
   "metadata": {},
   "outputs": [
    {
     "data": {
      "text/plain": [
       "(1805, 3)"
      ]
     },
     "execution_count": 118,
     "metadata": {},
     "output_type": "execute_result"
    }
   ],
   "source": [
    "combined.shape"
   ]
  },
  {
   "cell_type": "code",
   "execution_count": null,
   "metadata": {},
   "outputs": [],
   "source": []
  }
 ],
 "metadata": {
  "kernelspec": {
   "display_name": "Python 3",
   "language": "python",
   "name": "python3"
  },
  "language_info": {
   "codemirror_mode": {
    "name": "ipython",
    "version": 3
   },
   "file_extension": ".py",
   "mimetype": "text/x-python",
   "name": "python",
   "nbconvert_exporter": "python",
   "pygments_lexer": "ipython3",
   "version": "3.7.4"
  }
 },
 "nbformat": 4,
 "nbformat_minor": 2
}
