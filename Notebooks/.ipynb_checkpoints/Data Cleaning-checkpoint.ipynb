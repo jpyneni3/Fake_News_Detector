{
 "cells": [
  {
   "cell_type": "code",
   "execution_count": 4,
   "metadata": {},
   "outputs": [
    {
     "name": "stderr",
     "output_type": "stream",
     "text": [
      "[nltk_data] Downloading package stopwords to\n",
      "[nltk_data]     /Users/shukan/nltk_data...\n",
      "[nltk_data]   Unzipping corpora/stopwords.zip.\n"
     ]
    },
    {
     "data": {
      "text/plain": [
       "True"
      ]
     },
     "execution_count": 4,
     "metadata": {},
     "output_type": "execute_result"
    }
   ],
   "source": [
    "import nltk\n",
    "nltk.download('stopwords')\n",
    "\n",
    "import pandas as pd\n",
    "import numpy as np\n",
    "import string\n",
    "import re\n",
    "from nltk.corpus import stopwords"
   ]
  },
  {
   "cell_type": "code",
   "execution_count": 5,
   "metadata": {},
   "outputs": [],
   "source": [
    "nltk_stopwords = stopwords.words('english')\n",
    "remove_punctuation = '!\"$%&\\'()*+,-./:;<=>?@[\\\\]“”^_`{|}~’'\n",
    "\n",
    "def clean_column(dataframe, column_to_clean, new_col):\n",
    "    df_copy = dataframe.copy()\n",
    "    df_copy['copied_column'] = df_copy[column_to_clean]\n",
    "    df_copy['copied_column'] = df_copy['copied_column'].str.lower()\n",
    "    cleaned_column = []\n",
    "    for label in df_copy.index:\n",
    "        row = df_copy.loc[label, :]['copied_column']\n",
    "        clean = [x for x in row.split() if x not in string.punctuation]\n",
    "        clean = [x for x in clean if x not in nltk_stopwords]\n",
    "        clean = [x for x in clean if x not in string.digits]\n",
    "        clean = [x for x in clean if x not in remove_punctuation]\n",
    "        clean = [x for x in clean if len(x) != 1]\n",
    "        clean = \" \".join(clean)\n",
    "        clean = clean.strip()\n",
    "        cleaned_column.append(clean)\n",
    "    df_copy[new_col] = cleaned_column\n",
    "    del df_copy['copied_column']\n",
    "    return df_copy"
   ]
  },
  {
   "cell_type": "code",
   "execution_count": null,
   "metadata": {},
   "outputs": [],
   "source": []
  }
 ],
 "metadata": {
  "kernelspec": {
   "display_name": "Python 3",
   "language": "python",
   "name": "python3"
  },
  "language_info": {
   "codemirror_mode": {
    "name": "ipython",
    "version": 3
   },
   "file_extension": ".py",
   "mimetype": "text/x-python",
   "name": "python",
   "nbconvert_exporter": "python",
   "pygments_lexer": "ipython3",
   "version": "3.7.4"
  }
 },
 "nbformat": 4,
 "nbformat_minor": 2
}
