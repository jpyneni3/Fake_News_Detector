{
 "cells": [
  {
   "cell_type": "code",
   "execution_count": 1,
   "metadata": {},
   "outputs": [],
   "source": [
    "import pandas as pd\n",
    "import numpy as np\n",
    "import json"
   ]
  },
  {
   "cell_type": "code",
   "execution_count": 2,
   "metadata": {},
   "outputs": [
    {
     "name": "stdout",
     "output_type": "stream",
     "text": [
      "(905, 3)\n"
     ]
    },
    {
     "data": {
      "text/html": [
       "<div>\n",
       "<style scoped>\n",
       "    .dataframe tbody tr th:only-of-type {\n",
       "        vertical-align: middle;\n",
       "    }\n",
       "\n",
       "    .dataframe tbody tr th {\n",
       "        vertical-align: top;\n",
       "    }\n",
       "\n",
       "    .dataframe thead th {\n",
       "        text-align: right;\n",
       "    }\n",
       "</style>\n",
       "<table border=\"1\" class=\"dataframe\">\n",
       "  <thead>\n",
       "    <tr style=\"text-align: right;\">\n",
       "      <th></th>\n",
       "      <th>url</th>\n",
       "      <th>clean_title</th>\n",
       "      <th>clean_text</th>\n",
       "    </tr>\n",
       "  </thead>\n",
       "  <tbody>\n",
       "    <tr>\n",
       "      <td>0</td>\n",
       "      <td>https://www.cnn.com/2020/03/29/politics/trump-...</td>\n",
       "      <td>trump extends federal social distancing guidel...</td>\n",
       "      <td>washington cnn president donald trump said sun...</td>\n",
       "    </tr>\n",
       "    <tr>\n",
       "      <td>1</td>\n",
       "      <td>https://www.cnn.com/world/live-news/coronaviru...</td>\n",
       "      <td>coronavirus live updates global pandemic kills</td>\n",
       "      <td>exterior elmhurst hospital queens sunday march...</td>\n",
       "    </tr>\n",
       "    <tr>\n",
       "      <td>2</td>\n",
       "      <td>https://www.cnn.com/2020/03/29/politics/trump-...</td>\n",
       "      <td>trump concedes us coronavirus death toll could</td>\n",
       "      <td>cnn president donald trump acknowledged sunday...</td>\n",
       "    </tr>\n",
       "    <tr>\n",
       "      <td>3</td>\n",
       "      <td>https://www.cnn.com/2020/03/29/opinions/donald...</td>\n",
       "      <td>donald trumps special day</td>\n",
       "      <td>sign get new weekly column newsletter looking ...</td>\n",
       "    </tr>\n",
       "    <tr>\n",
       "      <td>4</td>\n",
       "      <td>https://www.cnn.com/2020/03/29/politics/us-ele...</td>\n",
       "      <td>long trumps poll surge last</td>\n",
       "      <td>cnn  race publicly least largely halted countr...</td>\n",
       "    </tr>\n",
       "  </tbody>\n",
       "</table>\n",
       "</div>"
      ],
      "text/plain": [
       "                                                 url  \\\n",
       "0  https://www.cnn.com/2020/03/29/politics/trump-...   \n",
       "1  https://www.cnn.com/world/live-news/coronaviru...   \n",
       "2  https://www.cnn.com/2020/03/29/politics/trump-...   \n",
       "3  https://www.cnn.com/2020/03/29/opinions/donald...   \n",
       "4  https://www.cnn.com/2020/03/29/politics/us-ele...   \n",
       "\n",
       "                                         clean_title  \\\n",
       "0  trump extends federal social distancing guidel...   \n",
       "1     coronavirus live updates global pandemic kills   \n",
       "2     trump concedes us coronavirus death toll could   \n",
       "3                          donald trumps special day   \n",
       "4                        long trumps poll surge last   \n",
       "\n",
       "                                          clean_text  \n",
       "0  washington cnn president donald trump said sun...  \n",
       "1  exterior elmhurst hospital queens sunday march...  \n",
       "2  cnn president donald trump acknowledged sunday...  \n",
       "3  sign get new weekly column newsletter looking ...  \n",
       "4  cnn  race publicly least largely halted countr...  "
      ]
     },
     "execution_count": 2,
     "metadata": {},
     "output_type": "execute_result"
    }
   ],
   "source": [
    "df_real = pd.read_csv('../Cleaned Data/Real_News.csv')\n",
    "df_real = df_real[['url','title','text']]\n",
    "print(df_real.shape)\n",
    "df_real.head()\n",
    "\n"
   ]
  },
  {
   "cell_type": "code",
   "execution_count": 3,
   "metadata": {},
   "outputs": [
    {
     "name": "stdout",
     "output_type": "stream",
     "text": [
      "(905, 4)\n"
     ]
    },
    {
     "data": {
      "text/html": [
       "<div>\n",
       "<style scoped>\n",
       "    .dataframe tbody tr th:only-of-type {\n",
       "        vertical-align: middle;\n",
       "    }\n",
       "\n",
       "    .dataframe tbody tr th {\n",
       "        vertical-align: top;\n",
       "    }\n",
       "\n",
       "    .dataframe thead th {\n",
       "        text-align: right;\n",
       "    }\n",
       "</style>\n",
       "<table border=\"1\" class=\"dataframe\">\n",
       "  <thead>\n",
       "    <tr style=\"text-align: right;\">\n",
       "      <th></th>\n",
       "      <th>clean_title</th>\n",
       "      <th>clean_text</th>\n",
       "      <th>label</th>\n",
       "    </tr>\n",
       "  </thead>\n",
       "  <tbody>\n",
       "    <tr>\n",
       "      <td>0</td>\n",
       "      <td>trump extends federal social distancing guidel...</td>\n",
       "      <td>washington cnn president donald trump said sun...</td>\n",
       "      <td>1</td>\n",
       "    </tr>\n",
       "    <tr>\n",
       "      <td>1</td>\n",
       "      <td>coronavirus live updates global pandemic kills</td>\n",
       "      <td>exterior elmhurst hospital queens sunday march...</td>\n",
       "      <td>1</td>\n",
       "    </tr>\n",
       "    <tr>\n",
       "      <td>2</td>\n",
       "      <td>trump concedes us coronavirus death toll could</td>\n",
       "      <td>cnn president donald trump acknowledged sunday...</td>\n",
       "      <td>1</td>\n",
       "    </tr>\n",
       "    <tr>\n",
       "      <td>3</td>\n",
       "      <td>donald trumps special day</td>\n",
       "      <td>sign get new weekly column newsletter looking ...</td>\n",
       "      <td>1</td>\n",
       "    </tr>\n",
       "    <tr>\n",
       "      <td>4</td>\n",
       "      <td>long trumps poll surge last</td>\n",
       "      <td>cnn  race publicly least largely halted countr...</td>\n",
       "      <td>1</td>\n",
       "    </tr>\n",
       "  </tbody>\n",
       "</table>\n",
       "</div>"
      ],
      "text/plain": [
       "                                         clean_title  \\\n",
       "0  trump extends federal social distancing guidel...   \n",
       "1     coronavirus live updates global pandemic kills   \n",
       "2     trump concedes us coronavirus death toll could   \n",
       "3                          donald trumps special day   \n",
       "4                        long trumps poll surge last   \n",
       "\n",
       "                                          clean_text  label  \n",
       "0  washington cnn president donald trump said sun...      1  \n",
       "1  exterior elmhurst hospital queens sunday march...      1  \n",
       "2  cnn president donald trump acknowledged sunday...      1  \n",
       "3  sign get new weekly column newsletter looking ...      1  \n",
       "4  cnn  race publicly least largely halted countr...      1  "
      ]
     },
     "execution_count": 3,
     "metadata": {},
     "output_type": "execute_result"
    }
   ],
   "source": [
    "df_real['label'] = 1\n",
    "df_real.dropna(inplace=True)\n",
    "print(df_real.shape)\n",
    "df_real.drop(['url'],axis=1,inplace=True)\n",
    "df_real.head()"
   ]
  },
  {
   "cell_type": "code",
   "execution_count": 4,
   "metadata": {},
   "outputs": [],
   "source": [
    "df_fake = pd.read_csv('../Cleaned Data/Human_Fake_News.csv')"
   ]
  },
  {
   "cell_type": "code",
   "execution_count": 5,
   "metadata": {},
   "outputs": [
    {
     "name": "stdout",
     "output_type": "stream",
     "text": [
      "(12273, 23)\n"
     ]
    },
    {
     "data": {
      "text/html": [
       "<div>\n",
       "<style scoped>\n",
       "    .dataframe tbody tr th:only-of-type {\n",
       "        vertical-align: middle;\n",
       "    }\n",
       "\n",
       "    .dataframe tbody tr th {\n",
       "        vertical-align: top;\n",
       "    }\n",
       "\n",
       "    .dataframe thead th {\n",
       "        text-align: right;\n",
       "    }\n",
       "</style>\n",
       "<table border=\"1\" class=\"dataframe\">\n",
       "  <thead>\n",
       "    <tr style=\"text-align: right;\">\n",
       "      <th></th>\n",
       "      <th>Unnamed: 0</th>\n",
       "      <th>uuid</th>\n",
       "      <th>ord_in_thread</th>\n",
       "      <th>author</th>\n",
       "      <th>published</th>\n",
       "      <th>title</th>\n",
       "      <th>text</th>\n",
       "      <th>language</th>\n",
       "      <th>crawled</th>\n",
       "      <th>site_url</th>\n",
       "      <th>...</th>\n",
       "      <th>spam_score</th>\n",
       "      <th>main_img_url</th>\n",
       "      <th>replies_count</th>\n",
       "      <th>participants_count</th>\n",
       "      <th>likes</th>\n",
       "      <th>comments</th>\n",
       "      <th>shares</th>\n",
       "      <th>type</th>\n",
       "      <th>clean_text</th>\n",
       "      <th>clean_title</th>\n",
       "    </tr>\n",
       "  </thead>\n",
       "  <tbody>\n",
       "    <tr>\n",
       "      <td>0</td>\n",
       "      <td>0</td>\n",
       "      <td>6a175f46bcd24d39b3e962ad0f29936721db70db</td>\n",
       "      <td>0</td>\n",
       "      <td>Barracuda Brigade</td>\n",
       "      <td>2016-10-26T21:41:00.000+03:00</td>\n",
       "      <td>Muslims BUSTED: They Stole Millions In Gov’t B...</td>\n",
       "      <td>Print They should pay all the back all the mon...</td>\n",
       "      <td>english</td>\n",
       "      <td>2016-10-27T01:49:27.168+03:00</td>\n",
       "      <td>100percentfedup.com</td>\n",
       "      <td>...</td>\n",
       "      <td>0.000</td>\n",
       "      <td>http://bb4sp.com/wp-content/uploads/2016/10/Fu...</td>\n",
       "      <td>0</td>\n",
       "      <td>1</td>\n",
       "      <td>0</td>\n",
       "      <td>0</td>\n",
       "      <td>0</td>\n",
       "      <td>bias</td>\n",
       "      <td>print pay back money plus interest entire fami...</td>\n",
       "      <td>muslims busted stole millions govt benefits</td>\n",
       "    </tr>\n",
       "    <tr>\n",
       "      <td>1</td>\n",
       "      <td>1</td>\n",
       "      <td>2bdc29d12605ef9cf3f09f9875040a7113be5d5b</td>\n",
       "      <td>0</td>\n",
       "      <td>reasoning with facts</td>\n",
       "      <td>2016-10-29T08:47:11.259+03:00</td>\n",
       "      <td>Re: Why Did Attorney General Loretta Lynch Ple...</td>\n",
       "      <td>Why Did Attorney General Loretta Lynch Plead T...</td>\n",
       "      <td>english</td>\n",
       "      <td>2016-10-29T08:47:11.259+03:00</td>\n",
       "      <td>100percentfedup.com</td>\n",
       "      <td>...</td>\n",
       "      <td>0.000</td>\n",
       "      <td>http://bb4sp.com/wp-content/uploads/2016/10/Fu...</td>\n",
       "      <td>0</td>\n",
       "      <td>1</td>\n",
       "      <td>0</td>\n",
       "      <td>0</td>\n",
       "      <td>0</td>\n",
       "      <td>bias</td>\n",
       "      <td>attorney general loretta lynch plead fifth bar...</td>\n",
       "      <td>attorney general loretta lynch plead fifth</td>\n",
       "    </tr>\n",
       "    <tr>\n",
       "      <td>2</td>\n",
       "      <td>2</td>\n",
       "      <td>c70e149fdd53de5e61c29281100b9de0ed268bc3</td>\n",
       "      <td>0</td>\n",
       "      <td>Barracuda Brigade</td>\n",
       "      <td>2016-10-31T01:41:49.479+02:00</td>\n",
       "      <td>BREAKING: Weiner Cooperating With FBI On Hilla...</td>\n",
       "      <td>Red State : \\nFox News Sunday reported this mo...</td>\n",
       "      <td>english</td>\n",
       "      <td>2016-10-31T01:41:49.479+02:00</td>\n",
       "      <td>100percentfedup.com</td>\n",
       "      <td>...</td>\n",
       "      <td>0.000</td>\n",
       "      <td>http://bb4sp.com/wp-content/uploads/2016/10/Fu...</td>\n",
       "      <td>0</td>\n",
       "      <td>1</td>\n",
       "      <td>0</td>\n",
       "      <td>0</td>\n",
       "      <td>0</td>\n",
       "      <td>bias</td>\n",
       "      <td>red state  fox news sunday reported morning an...</td>\n",
       "      <td>breaking weiner cooperating fbi hillary email ...</td>\n",
       "    </tr>\n",
       "    <tr>\n",
       "      <td>3</td>\n",
       "      <td>3</td>\n",
       "      <td>7cf7c15731ac2a116dd7f629bd57ea468ed70284</td>\n",
       "      <td>0</td>\n",
       "      <td>Fed Up</td>\n",
       "      <td>2016-11-01T05:22:00.000+02:00</td>\n",
       "      <td>PIN DROP SPEECH BY FATHER OF DAUGHTER Kidnappe...</td>\n",
       "      <td>Email Kayla Mueller was a prisoner and torture...</td>\n",
       "      <td>english</td>\n",
       "      <td>2016-11-01T15:46:26.304+02:00</td>\n",
       "      <td>100percentfedup.com</td>\n",
       "      <td>...</td>\n",
       "      <td>0.068</td>\n",
       "      <td>http://100percentfedup.com/wp-content/uploads/...</td>\n",
       "      <td>0</td>\n",
       "      <td>0</td>\n",
       "      <td>0</td>\n",
       "      <td>0</td>\n",
       "      <td>0</td>\n",
       "      <td>bias</td>\n",
       "      <td>email kayla mueller prisoner tortured isis cha...</td>\n",
       "      <td>pin drop speech father daughter kidnapped kill...</td>\n",
       "    </tr>\n",
       "    <tr>\n",
       "      <td>4</td>\n",
       "      <td>4</td>\n",
       "      <td>0206b54719c7e241ffe0ad4315b808290dbe6c0f</td>\n",
       "      <td>0</td>\n",
       "      <td>Fed Up</td>\n",
       "      <td>2016-11-01T21:56:00.000+02:00</td>\n",
       "      <td>FANTASTIC! TRUMP'S 7 POINT PLAN To Reform Heal...</td>\n",
       "      <td>Email HEALTHCARE REFORM TO MAKE AMERICA GREAT ...</td>\n",
       "      <td>english</td>\n",
       "      <td>2016-11-01T23:59:42.266+02:00</td>\n",
       "      <td>100percentfedup.com</td>\n",
       "      <td>...</td>\n",
       "      <td>0.865</td>\n",
       "      <td>http://100percentfedup.com/wp-content/uploads/...</td>\n",
       "      <td>0</td>\n",
       "      <td>0</td>\n",
       "      <td>0</td>\n",
       "      <td>0</td>\n",
       "      <td>0</td>\n",
       "      <td>bias</td>\n",
       "      <td>email healthcare reform make america great sin...</td>\n",
       "      <td>fantastic trumps  point plan reform healthcare...</td>\n",
       "    </tr>\n",
       "  </tbody>\n",
       "</table>\n",
       "<p>5 rows × 23 columns</p>\n",
       "</div>"
      ],
      "text/plain": [
       "   Unnamed: 0                                      uuid  ord_in_thread  \\\n",
       "0           0  6a175f46bcd24d39b3e962ad0f29936721db70db              0   \n",
       "1           1  2bdc29d12605ef9cf3f09f9875040a7113be5d5b              0   \n",
       "2           2  c70e149fdd53de5e61c29281100b9de0ed268bc3              0   \n",
       "3           3  7cf7c15731ac2a116dd7f629bd57ea468ed70284              0   \n",
       "4           4  0206b54719c7e241ffe0ad4315b808290dbe6c0f              0   \n",
       "\n",
       "                 author                      published  \\\n",
       "0     Barracuda Brigade  2016-10-26T21:41:00.000+03:00   \n",
       "1  reasoning with facts  2016-10-29T08:47:11.259+03:00   \n",
       "2     Barracuda Brigade  2016-10-31T01:41:49.479+02:00   \n",
       "3                Fed Up  2016-11-01T05:22:00.000+02:00   \n",
       "4                Fed Up  2016-11-01T21:56:00.000+02:00   \n",
       "\n",
       "                                               title  \\\n",
       "0  Muslims BUSTED: They Stole Millions In Gov’t B...   \n",
       "1  Re: Why Did Attorney General Loretta Lynch Ple...   \n",
       "2  BREAKING: Weiner Cooperating With FBI On Hilla...   \n",
       "3  PIN DROP SPEECH BY FATHER OF DAUGHTER Kidnappe...   \n",
       "4  FANTASTIC! TRUMP'S 7 POINT PLAN To Reform Heal...   \n",
       "\n",
       "                                                text language  \\\n",
       "0  Print They should pay all the back all the mon...  english   \n",
       "1  Why Did Attorney General Loretta Lynch Plead T...  english   \n",
       "2  Red State : \\nFox News Sunday reported this mo...  english   \n",
       "3  Email Kayla Mueller was a prisoner and torture...  english   \n",
       "4  Email HEALTHCARE REFORM TO MAKE AMERICA GREAT ...  english   \n",
       "\n",
       "                         crawled             site_url  ... spam_score  \\\n",
       "0  2016-10-27T01:49:27.168+03:00  100percentfedup.com  ...      0.000   \n",
       "1  2016-10-29T08:47:11.259+03:00  100percentfedup.com  ...      0.000   \n",
       "2  2016-10-31T01:41:49.479+02:00  100percentfedup.com  ...      0.000   \n",
       "3  2016-11-01T15:46:26.304+02:00  100percentfedup.com  ...      0.068   \n",
       "4  2016-11-01T23:59:42.266+02:00  100percentfedup.com  ...      0.865   \n",
       "\n",
       "                                        main_img_url replies_count  \\\n",
       "0  http://bb4sp.com/wp-content/uploads/2016/10/Fu...             0   \n",
       "1  http://bb4sp.com/wp-content/uploads/2016/10/Fu...             0   \n",
       "2  http://bb4sp.com/wp-content/uploads/2016/10/Fu...             0   \n",
       "3  http://100percentfedup.com/wp-content/uploads/...             0   \n",
       "4  http://100percentfedup.com/wp-content/uploads/...             0   \n",
       "\n",
       "   participants_count likes  comments  shares  type  \\\n",
       "0                   1     0         0       0  bias   \n",
       "1                   1     0         0       0  bias   \n",
       "2                   1     0         0       0  bias   \n",
       "3                   0     0         0       0  bias   \n",
       "4                   0     0         0       0  bias   \n",
       "\n",
       "                                          clean_text  \\\n",
       "0  print pay back money plus interest entire fami...   \n",
       "1  attorney general loretta lynch plead fifth bar...   \n",
       "2  red state  fox news sunday reported morning an...   \n",
       "3  email kayla mueller prisoner tortured isis cha...   \n",
       "4  email healthcare reform make america great sin...   \n",
       "\n",
       "                                         clean_title  \n",
       "0        muslims busted stole millions govt benefits  \n",
       "1         attorney general loretta lynch plead fifth  \n",
       "2  breaking weiner cooperating fbi hillary email ...  \n",
       "3  pin drop speech father daughter kidnapped kill...  \n",
       "4  fantastic trumps  point plan reform healthcare...  \n",
       "\n",
       "[5 rows x 23 columns]"
      ]
     },
     "execution_count": 5,
     "metadata": {},
     "output_type": "execute_result"
    }
   ],
   "source": [
    "print(df_fake.shape)\n",
    "df_fake.head()"
   ]
  },
  {
   "cell_type": "code",
   "execution_count": 6,
   "metadata": {},
   "outputs": [],
   "source": [
    "df_fake = df_fake[['site_url','title','text']]\n",
    "df_fake.dropna(inplace=True)\n",
    "df_fake.rename(columns={\"site_url\": \"url\"}, inplace=True)\n",
    "chosen_idx = np.random.choice(df_fake.shape[0], replace=False, size=df_real.shape[0])\n",
    "df_fake_trim = df_fake.iloc[chosen_idx]"
   ]
  },
  {
   "cell_type": "code",
   "execution_count": 7,
   "metadata": {},
   "outputs": [
    {
     "name": "stdout",
     "output_type": "stream",
     "text": [
      "(905, 4)\n"
     ]
    },
    {
     "name": "stderr",
     "output_type": "stream",
     "text": [
      "/opt/anaconda3/lib/python3.7/site-packages/ipykernel_launcher.py:1: SettingWithCopyWarning: \n",
      "A value is trying to be set on a copy of a slice from a DataFrame.\n",
      "Try using .loc[row_indexer,col_indexer] = value instead\n",
      "\n",
      "See the caveats in the documentation: http://pandas.pydata.org/pandas-docs/stable/user_guide/indexing.html#returning-a-view-versus-a-copy\n",
      "  \"\"\"Entry point for launching an IPython kernel.\n",
      "/opt/anaconda3/lib/python3.7/site-packages/pandas/core/frame.py:4102: SettingWithCopyWarning: \n",
      "A value is trying to be set on a copy of a slice from a DataFrame\n",
      "\n",
      "See the caveats in the documentation: http://pandas.pydata.org/pandas-docs/stable/user_guide/indexing.html#returning-a-view-versus-a-copy\n",
      "  errors=errors,\n"
     ]
    },
    {
     "data": {
      "text/html": [
       "<div>\n",
       "<style scoped>\n",
       "    .dataframe tbody tr th:only-of-type {\n",
       "        vertical-align: middle;\n",
       "    }\n",
       "\n",
       "    .dataframe tbody tr th {\n",
       "        vertical-align: top;\n",
       "    }\n",
       "\n",
       "    .dataframe thead th {\n",
       "        text-align: right;\n",
       "    }\n",
       "</style>\n",
       "<table border=\"1\" class=\"dataframe\">\n",
       "  <thead>\n",
       "    <tr style=\"text-align: right;\">\n",
       "      <th></th>\n",
       "      <th>clean_title</th>\n",
       "      <th>clean_text</th>\n",
       "      <th>label</th>\n",
       "    </tr>\n",
       "  </thead>\n",
       "  <tbody>\n",
       "    <tr>\n",
       "      <td>6481</td>\n",
       "      <td>goal progressive movement gain power give away</td>\n",
       "      <td>pirate clip art free printable  illustration p...</td>\n",
       "      <td>0</td>\n",
       "    </tr>\n",
       "    <tr>\n",
       "      <td>1887</td>\n",
       "      <td>christie lost republicans  election may losing...</td>\n",
       "      <td>christie lost republicans  election may losing...</td>\n",
       "      <td>0</td>\n",
       "    </tr>\n",
       "    <tr>\n",
       "      <td>5276</td>\n",
       "      <td>true someone trying intimidate voters polls video</td>\n",
       "      <td>republican operative roger stone made entire c...</td>\n",
       "      <td>0</td>\n",
       "    </tr>\n",
       "    <tr>\n",
       "      <td>9021</td>\n",
       "      <td>jackboots heavily militarized police caught re...</td>\n",
       "      <td>via alternet todays militarized crackdown wate...</td>\n",
       "      <td>0</td>\n",
       "    </tr>\n",
       "    <tr>\n",
       "      <td>10215</td>\n",
       "      <td>something strange happened bombing iraq fake s...</td>\n",
       "      <td>behind headlines  conspiracies coverups ancien...</td>\n",
       "      <td>0</td>\n",
       "    </tr>\n",
       "  </tbody>\n",
       "</table>\n",
       "</div>"
      ],
      "text/plain": [
       "                                             clean_title  \\\n",
       "6481      goal progressive movement gain power give away   \n",
       "1887   christie lost republicans  election may losing...   \n",
       "5276   true someone trying intimidate voters polls video   \n",
       "9021   jackboots heavily militarized police caught re...   \n",
       "10215  something strange happened bombing iraq fake s...   \n",
       "\n",
       "                                              clean_text  label  \n",
       "6481   pirate clip art free printable  illustration p...      0  \n",
       "1887   christie lost republicans  election may losing...      0  \n",
       "5276   republican operative roger stone made entire c...      0  \n",
       "9021   via alternet todays militarized crackdown wate...      0  \n",
       "10215  behind headlines  conspiracies coverups ancien...      0  "
      ]
     },
     "execution_count": 7,
     "metadata": {},
     "output_type": "execute_result"
    }
   ],
   "source": [
    "df_fake_trim['label'] = 0\n",
    "print(df_fake_trim.shape)\n",
    "df_fake_trim.drop(['url'], axis=1, inplace= True)\n",
    "df_fake_trim.head()\n"
   ]
  },
  {
   "cell_type": "code",
   "execution_count": 8,
   "metadata": {},
   "outputs": [
    {
     "name": "stdout",
     "output_type": "stream",
     "text": [
      "(908, 2)\n",
      "(908, 2)\n"
     ]
    },
    {
     "data": {
      "text/html": [
       "<div>\n",
       "<style scoped>\n",
       "    .dataframe tbody tr th:only-of-type {\n",
       "        vertical-align: middle;\n",
       "    }\n",
       "\n",
       "    .dataframe tbody tr th {\n",
       "        vertical-align: top;\n",
       "    }\n",
       "\n",
       "    .dataframe thead th {\n",
       "        text-align: right;\n",
       "    }\n",
       "</style>\n",
       "<table border=\"1\" class=\"dataframe\">\n",
       "  <thead>\n",
       "    <tr style=\"text-align: right;\">\n",
       "      <th></th>\n",
       "      <th>clean_title</th>\n",
       "      <th>clean_text</th>\n",
       "      <th>label</th>\n",
       "    </tr>\n",
       "  </thead>\n",
       "  <tbody>\n",
       "    <tr>\n",
       "      <td>0</td>\n",
       "      <td>trump extends federal social distancing guidel...</td>\n",
       "      <td>president donald trump first official state vi...</td>\n",
       "      <td>2</td>\n",
       "    </tr>\n",
       "    <tr>\n",
       "      <td>1</td>\n",
       "      <td>coronavirus live updates global pandemic kills</td>\n",
       "      <td>dylan welch april   bloomberg  outbreak intest...</td>\n",
       "      <td>2</td>\n",
       "    </tr>\n",
       "    <tr>\n",
       "      <td>2</td>\n",
       "      <td>trump concedes us coronavirus death toll could</td>\n",
       "      <td>donald trump home state california sunday land...</td>\n",
       "      <td>2</td>\n",
       "    </tr>\n",
       "    <tr>\n",
       "      <td>3</td>\n",
       "      <td>tracking covid cases us</td>\n",
       "      <td>editors note readers visitors new york area ma...</td>\n",
       "      <td>2</td>\n",
       "    </tr>\n",
       "    <tr>\n",
       "      <td>4</td>\n",
       "      <td>donald trumps special day</td>\n",
       "      <td>wish many press morning president facebook sta...</td>\n",
       "      <td>2</td>\n",
       "    </tr>\n",
       "  </tbody>\n",
       "</table>\n",
       "</div>"
      ],
      "text/plain": [
       "                                         clean_title  \\\n",
       "0  trump extends federal social distancing guidel...   \n",
       "1     coronavirus live updates global pandemic kills   \n",
       "2     trump concedes us coronavirus death toll could   \n",
       "3                            tracking covid cases us   \n",
       "4                          donald trumps special day   \n",
       "\n",
       "                                          clean_text  label  \n",
       "0  president donald trump first official state vi...      2  \n",
       "1  dylan welch april   bloomberg  outbreak intest...      2  \n",
       "2  donald trump home state california sunday land...      2  \n",
       "3  editors note readers visitors new york area ma...      2  \n",
       "4  wish many press morning president facebook sta...      2  "
      ]
     },
     "execution_count": 8,
     "metadata": {},
     "output_type": "execute_result"
    }
   ],
   "source": [
    "df_grover = pd.read_csv('../Cleaned Data/Neural_Fake_News.csv')\n",
    "df_grover = df_grover[['title','text']]\n",
    "print(df_grover.shape)\n",
    "df_grover.dropna(inplace=True)\n",
    "print(df_grover.shape)\n",
    "df_grover.head()\n",
    "df_grover['label'] = 2\n",
    "df_grover.head()"
   ]
  },
  {
   "cell_type": "markdown",
   "metadata": {},
   "source": [
    "# Experiment Number 1\n",
    "## Naive Bayes, Real Human News and Fake Human News\n",
    "905 instances of each \n",
    "\n",
    "Class: Label\n",
    "\n",
    "Real: 0\n",
    "\n",
    "Fake: 1"
   ]
  },
  {
   "cell_type": "code",
   "execution_count": 9,
   "metadata": {},
   "outputs": [],
   "source": [
    "#combine both the real and trimmed fake news into one df\n",
    "\n",
    "# combined = pd.concat([df_real,df_fake_trim,df_grover],ignore_index=True) # For 3 class classification \n",
    "# combined = pd.concat([df_real,df_grover],ignore_index=True) # For real vs neural fake\n",
    "combined = pd.concat([df_real,df_fake_trim],ignore_index=True) # For real vs human fake"
   ]
  },
  {
   "cell_type": "code",
   "execution_count": 10,
   "metadata": {},
   "outputs": [
    {
     "name": "stdout",
     "output_type": "stream",
     "text": [
      "                                         clean_title  \\\n",
      "0  trump extends federal social distancing guidel...   \n",
      "1     coronavirus live updates global pandemic kills   \n",
      "2     trump concedes us coronavirus death toll could   \n",
      "3                          donald trumps special day   \n",
      "4                        long trumps poll surge last   \n",
      "\n",
      "                                          clean_text  label  \n",
      "0  washington cnn president donald trump said sun...      1  \n",
      "1  exterior elmhurst hospital queens sunday march...      1  \n",
      "2  cnn president donald trump acknowledged sunday...      1  \n",
      "3  sign get new weekly column newsletter looking ...      1  \n",
      "4  cnn  race publicly least largely halted countr...      1  \n"
     ]
    },
    {
     "data": {
      "text/html": [
       "<div>\n",
       "<style scoped>\n",
       "    .dataframe tbody tr th:only-of-type {\n",
       "        vertical-align: middle;\n",
       "    }\n",
       "\n",
       "    .dataframe tbody tr th {\n",
       "        vertical-align: top;\n",
       "    }\n",
       "\n",
       "    .dataframe thead th {\n",
       "        text-align: right;\n",
       "    }\n",
       "</style>\n",
       "<table border=\"1\" class=\"dataframe\">\n",
       "  <thead>\n",
       "    <tr style=\"text-align: right;\">\n",
       "      <th></th>\n",
       "      <th>clean_title</th>\n",
       "      <th>clean_text</th>\n",
       "      <th>label</th>\n",
       "    </tr>\n",
       "  </thead>\n",
       "  <tbody>\n",
       "    <tr>\n",
       "      <td>1808</td>\n",
       "      <td>activists implore prisons release atrisk inmat...</td>\n",
       "      <td>addressing overcrowding prisons michelle vande...</td>\n",
       "      <td>2</td>\n",
       "    </tr>\n",
       "    <tr>\n",
       "      <td>1809</td>\n",
       "      <td>want go outside idyllic french town fill form</td>\n",
       "      <td>earning first kick french dining easy keen try...</td>\n",
       "      <td>2</td>\n",
       "    </tr>\n",
       "    <tr>\n",
       "      <td>1810</td>\n",
       "      <td>coronavirus containment britains johnson less ...</td>\n",
       "      <td>britains longstanding health minister sir john...</td>\n",
       "      <td>2</td>\n",
       "    </tr>\n",
       "    <tr>\n",
       "      <td>1811</td>\n",
       "      <td>trump administration ratchets advisory avoid i...</td>\n",
       "      <td>washington cnn  secretary state rex tillerson ...</td>\n",
       "      <td>2</td>\n",
       "    </tr>\n",
       "    <tr>\n",
       "      <td>1812</td>\n",
       "      <td>nationalism rears head europe battles coronavi...</td>\n",
       "      <td>calgary  european union border controls could ...</td>\n",
       "      <td>2</td>\n",
       "    </tr>\n",
       "  </tbody>\n",
       "</table>\n",
       "</div>"
      ],
      "text/plain": [
       "                                            clean_title  \\\n",
       "1808  activists implore prisons release atrisk inmat...   \n",
       "1809      want go outside idyllic french town fill form   \n",
       "1810  coronavirus containment britains johnson less ...   \n",
       "1811  trump administration ratchets advisory avoid i...   \n",
       "1812  nationalism rears head europe battles coronavi...   \n",
       "\n",
       "                                             clean_text  label  \n",
       "1808  addressing overcrowding prisons michelle vande...      2  \n",
       "1809  earning first kick french dining easy keen try...      2  \n",
       "1810  britains longstanding health minister sir john...      2  \n",
       "1811  washington cnn  secretary state rex tillerson ...      2  \n",
       "1812  calgary  european union border controls could ...      2  "
      ]
     },
     "execution_count": 10,
     "metadata": {},
     "output_type": "execute_result"
    }
   ],
   "source": [
    "print(combined.head())\n",
    "combined.tail()"
   ]
  },
  {
   "cell_type": "code",
   "execution_count": 11,
   "metadata": {},
   "outputs": [],
   "source": [
    "import nltk\n",
    "from wordcloud import WordCloud\n",
    "from sklearn.feature_extraction.text import TfidfVectorizer\n",
    "from sklearn.model_selection import train_test_split\n",
    "from sklearn.metrics import f1_score, accuracy_score, recall_score, precision_score"
   ]
  },
  {
   "cell_type": "code",
   "execution_count": 12,
   "metadata": {},
   "outputs": [
    {
     "data": {
      "text/html": [
       "<div>\n",
       "<style scoped>\n",
       "    .dataframe tbody tr th:only-of-type {\n",
       "        vertical-align: middle;\n",
       "    }\n",
       "\n",
       "    .dataframe tbody tr th {\n",
       "        vertical-align: top;\n",
       "    }\n",
       "\n",
       "    .dataframe thead th {\n",
       "        text-align: right;\n",
       "    }\n",
       "</style>\n",
       "<table border=\"1\" class=\"dataframe\">\n",
       "  <thead>\n",
       "    <tr style=\"text-align: right;\">\n",
       "      <th></th>\n",
       "      <th>clean_title</th>\n",
       "      <th>clean_text</th>\n",
       "    </tr>\n",
       "    <tr>\n",
       "      <th>label</th>\n",
       "      <th></th>\n",
       "      <th></th>\n",
       "    </tr>\n",
       "  </thead>\n",
       "  <tbody>\n",
       "    <tr>\n",
       "      <td>1</td>\n",
       "      <td>905</td>\n",
       "      <td>905</td>\n",
       "    </tr>\n",
       "    <tr>\n",
       "      <td>2</td>\n",
       "      <td>908</td>\n",
       "      <td>908</td>\n",
       "    </tr>\n",
       "  </tbody>\n",
       "</table>\n",
       "</div>"
      ],
      "text/plain": [
       "       clean_title  clean_text\n",
       "label                         \n",
       "1              905         905\n",
       "2              908         908"
      ]
     },
     "execution_count": 12,
     "metadata": {},
     "output_type": "execute_result"
    }
   ],
   "source": [
    "combined_text = combined['text'].values\n",
    "X_title =combined['title'].values\n",
    "labels = combined['label'].values\n",
    "combined.groupby('label').agg('count')"
   ]
  },
  {
   "cell_type": "code",
   "execution_count": 13,
   "metadata": {},
   "outputs": [],
   "source": [
    "tfidf = TfidfVectorizer(ngram_range=(1,2), max_df= 0.85, min_df= 0.01)"
   ]
  },
  {
   "cell_type": "code",
   "execution_count": 14,
   "metadata": {},
   "outputs": [],
   "source": [
    "combined_text = tfidf.fit_transform(combined_text)\n",
    "# combined['title'] = tfidf.fit_transform (combined['title'])"
   ]
  },
  {
   "cell_type": "code",
   "execution_count": 15,
   "metadata": {},
   "outputs": [
    {
     "name": "stdout",
     "output_type": "stream",
     "text": [
      "tf idf vectorized text shape: (1813, 4831)\n",
      "original text shape: (1813,)\n"
     ]
    }
   ],
   "source": [
    "print(\"tf idf vectorized text shape: {}\".format(combined_text.shape))\n",
    "print(\"original text shape: {}\".format(combined['text'].shape))\n"
   ]
  },
  {
   "cell_type": "code",
   "execution_count": 16,
   "metadata": {},
   "outputs": [],
   "source": [
    "train_text, test_text, train_labels, test_labels  = train_test_split(combined_text, labels, test_size=0.2)\n"
   ]
  },
  {
   "cell_type": "code",
   "execution_count": 17,
   "metadata": {},
   "outputs": [
    {
     "name": "stdout",
     "output_type": "stream",
     "text": [
      "size of train_text: (1450, 4831)\n",
      "size of train_labels: (1450,)\n"
     ]
    },
    {
     "data": {
      "text/plain": [
       "Counter({1: 704, 2: 746})"
      ]
     },
     "execution_count": 17,
     "metadata": {},
     "output_type": "execute_result"
    }
   ],
   "source": [
    "import collections\n",
    "\n",
    "print(\"size of train_text: {}\".format(train_text.shape))\n",
    "\n",
    "print(\"size of train_labels: {}\".format(train_labels.shape))\n",
    "collections.Counter(train_labels)\n"
   ]
  },
  {
   "cell_type": "code",
   "execution_count": 18,
   "metadata": {},
   "outputs": [
    {
     "name": "stdout",
     "output_type": "stream",
     "text": [
      "size of test_text: (363, 4831)\n",
      "size of test_labels: (363,)\n"
     ]
    },
    {
     "data": {
      "text/plain": [
       "Counter({2: 162, 1: 201})"
      ]
     },
     "execution_count": 18,
     "metadata": {},
     "output_type": "execute_result"
    }
   ],
   "source": [
    "print(\"size of test_text: {}\".format(test_text.shape))\n",
    "\n",
    "print(\"size of test_labels: {}\".format(test_labels.shape))\n",
    "collections.Counter(test_labels)\n",
    "\n"
   ]
  },
  {
   "cell_type": "code",
   "execution_count": 19,
   "metadata": {},
   "outputs": [],
   "source": [
    "from sklearn.naive_bayes import MultinomialNB\n",
    "nb = MultinomialNB()\n"
   ]
  },
  {
   "cell_type": "code",
   "execution_count": 20,
   "metadata": {},
   "outputs": [
    {
     "data": {
      "text/plain": [
       "MultinomialNB(alpha=1.0, class_prior=None, fit_prior=True)"
      ]
     },
     "execution_count": 20,
     "metadata": {},
     "output_type": "execute_result"
    }
   ],
   "source": [
    "nb.fit(train_text,train_labels)"
   ]
  },
  {
   "cell_type": "code",
   "execution_count": 21,
   "metadata": {},
   "outputs": [],
   "source": [
    "train_pred = nb.predict(train_text)"
   ]
  },
  {
   "cell_type": "code",
   "execution_count": 22,
   "metadata": {},
   "outputs": [
    {
     "name": "stdout",
     "output_type": "stream",
     "text": [
      "Naive Bayes In Sample F1 and Accuracy Scores:\n",
      "F1 score 92.93%\n",
      "Accuracy score 92.97%\n"
     ]
    }
   ],
   "source": [
    "print('Naive Bayes In Sample F1 and Accuracy Scores:')\n",
    "print('F1 score {:.4}%'.format(f1_score(train_labels, train_pred, average='macro')*100 ))\n",
    "print ('Accuracy score {:.4}%'.format(accuracy_score(train_labels, train_pred)*100))"
   ]
  },
  {
   "cell_type": "code",
   "execution_count": 23,
   "metadata": {},
   "outputs": [
    {
     "data": {
      "text/html": [
       "<div>\n",
       "<style scoped>\n",
       "    .dataframe tbody tr th:only-of-type {\n",
       "        vertical-align: middle;\n",
       "    }\n",
       "\n",
       "    .dataframe tbody tr th {\n",
       "        vertical-align: top;\n",
       "    }\n",
       "\n",
       "    .dataframe thead th {\n",
       "        text-align: right;\n",
       "    }\n",
       "</style>\n",
       "<table border=\"1\" class=\"dataframe\">\n",
       "  <thead>\n",
       "    <tr style=\"text-align: right;\">\n",
       "      <th></th>\n",
       "      <th>clean_title</th>\n",
       "      <th>clean_text</th>\n",
       "    </tr>\n",
       "    <tr>\n",
       "      <th>label</th>\n",
       "      <th></th>\n",
       "      <th></th>\n",
       "    </tr>\n",
       "  </thead>\n",
       "  <tbody>\n",
       "    <tr>\n",
       "      <td>1</td>\n",
       "      <td>68</td>\n",
       "      <td>68</td>\n",
       "    </tr>\n",
       "    <tr>\n",
       "      <td>2</td>\n",
       "      <td>34</td>\n",
       "      <td>34</td>\n",
       "    </tr>\n",
       "  </tbody>\n",
       "</table>\n",
       "</div>"
      ],
      "text/plain": [
       "       clean_title  clean_text\n",
       "label                         \n",
       "1               68          68\n",
       "2               34          34"
      ]
     },
     "execution_count": 23,
     "metadata": {},
     "output_type": "execute_result"
    }
   ],
   "source": [
    "combined.loc[np.where(train_labels != train_pred)[0].tolist()].groupby('label').agg('count')"
   ]
  },
  {
   "cell_type": "code",
   "execution_count": 24,
   "metadata": {},
   "outputs": [
    {
     "name": "stdout",
     "output_type": "stream",
     "text": [
      "Naive Bayes Out of Sample F1 and Accuracy Scores:\n",
      "F1 score 89.51%\n",
      "Accuracy score 89.53%\n"
     ]
    }
   ],
   "source": [
    "test_pred = nb.predict(test_text)\n",
    "print('Naive Bayes Out of Sample F1 and Accuracy Scores:')\n",
    "print('F1 score {:.4}%'.format(f1_score(test_labels, test_pred, average='macro')*100 ))\n",
    "print ('Accuracy score {:.4}%'.format(accuracy_score(test_labels, test_pred)*100))"
   ]
  },
  {
   "cell_type": "code",
   "execution_count": 25,
   "metadata": {},
   "outputs": [
    {
     "data": {
      "text/html": [
       "<div>\n",
       "<style scoped>\n",
       "    .dataframe tbody tr th:only-of-type {\n",
       "        vertical-align: middle;\n",
       "    }\n",
       "\n",
       "    .dataframe tbody tr th {\n",
       "        vertical-align: top;\n",
       "    }\n",
       "\n",
       "    .dataframe thead th {\n",
       "        text-align: right;\n",
       "    }\n",
       "</style>\n",
       "<table border=\"1\" class=\"dataframe\">\n",
       "  <thead>\n",
       "    <tr style=\"text-align: right;\">\n",
       "      <th></th>\n",
       "      <th>clean_title</th>\n",
       "      <th>clean_text</th>\n",
       "    </tr>\n",
       "    <tr>\n",
       "      <th>label</th>\n",
       "      <th></th>\n",
       "      <th></th>\n",
       "    </tr>\n",
       "  </thead>\n",
       "  <tbody>\n",
       "    <tr>\n",
       "      <td>1</td>\n",
       "      <td>38</td>\n",
       "      <td>38</td>\n",
       "    </tr>\n",
       "  </tbody>\n",
       "</table>\n",
       "</div>"
      ],
      "text/plain": [
       "       clean_title  clean_text\n",
       "label                         \n",
       "1               38          38"
      ]
     },
     "execution_count": 25,
     "metadata": {},
     "output_type": "execute_result"
    }
   ],
   "source": [
    "combined.loc[np.where(test_labels != test_pred)[0].tolist()].groupby('label').agg('count')"
   ]
  },
  {
   "cell_type": "markdown",
   "metadata": {},
   "source": [
    "# Experiment 2\n",
    "## Augmenting with Neural Fake News\n",
    "\n",
    "905 Real News, 905 Fake (neural and human combined)\n",
    "\n",
    "80% Train = 1448\n",
    "20% Test = 362 (1/2 Real, 1/2 Human Fake)\n",
    "\n",
    "Train on (1/2 real news, 1/2 fake news (1/4 human fake + 1/4 neural fake))\n",
    "\n",
    "Human Fake = 543 (362 for train, 181 for test)\n",
    "\n",
    "Neural Fake = 362 for train"
   ]
  },
  {
   "cell_type": "code",
   "execution_count": 26,
   "metadata": {},
   "outputs": [
    {
     "name": "stdout",
     "output_type": "stream",
     "text": [
      "(908, 3)\n",
      "(905, 3)\n",
      "(12160, 3)\n"
     ]
    }
   ],
   "source": [
    "print(df_grover.shape)\n",
    "print(df_real.shape)\n",
    "print(df_fake.shape)"
   ]
  },
  {
   "cell_type": "code",
   "execution_count": 27,
   "metadata": {},
   "outputs": [
    {
     "name": "stdout",
     "output_type": "stream",
     "text": [
      "(543, 4)\n"
     ]
    },
    {
     "name": "stderr",
     "output_type": "stream",
     "text": [
      "/opt/anaconda3/lib/python3.7/site-packages/ipykernel_launcher.py:4: SettingWithCopyWarning: \n",
      "A value is trying to be set on a copy of a slice from a DataFrame.\n",
      "Try using .loc[row_indexer,col_indexer] = value instead\n",
      "\n",
      "See the caveats in the documentation: http://pandas.pydata.org/pandas-docs/stable/user_guide/indexing.html#returning-a-view-versus-a-copy\n",
      "  after removing the cwd from sys.path.\n",
      "/opt/anaconda3/lib/python3.7/site-packages/pandas/core/frame.py:4102: SettingWithCopyWarning: \n",
      "A value is trying to be set on a copy of a slice from a DataFrame\n",
      "\n",
      "See the caveats in the documentation: http://pandas.pydata.org/pandas-docs/stable/user_guide/indexing.html#returning-a-view-versus-a-copy\n",
      "  errors=errors,\n"
     ]
    },
    {
     "data": {
      "text/html": [
       "<div>\n",
       "<style scoped>\n",
       "    .dataframe tbody tr th:only-of-type {\n",
       "        vertical-align: middle;\n",
       "    }\n",
       "\n",
       "    .dataframe tbody tr th {\n",
       "        vertical-align: top;\n",
       "    }\n",
       "\n",
       "    .dataframe thead th {\n",
       "        text-align: right;\n",
       "    }\n",
       "</style>\n",
       "<table border=\"1\" class=\"dataframe\">\n",
       "  <thead>\n",
       "    <tr style=\"text-align: right;\">\n",
       "      <th></th>\n",
       "      <th>clean_title</th>\n",
       "      <th>clean_text</th>\n",
       "      <th>label</th>\n",
       "    </tr>\n",
       "  </thead>\n",
       "  <tbody>\n",
       "    <tr>\n",
       "      <td>7382</td>\n",
       "      <td>prepping budget  food dehydrators</td>\n",
       "      <td>many believe dehydrating food safest affordabl...</td>\n",
       "      <td>0</td>\n",
       "    </tr>\n",
       "    <tr>\n",
       "      <td>1711</td>\n",
       "      <td>show film end watch list  counterpunch</td>\n",
       "      <td>email speech american israel public affairs co...</td>\n",
       "      <td>0</td>\n",
       "    </tr>\n",
       "    <tr>\n",
       "      <td>6119</td>\n",
       "      <td>hillary clinton strangles bald eagle</td>\n",
       "      <td>october   described another ‘bizarre attempt s...</td>\n",
       "      <td>0</td>\n",
       "    </tr>\n",
       "    <tr>\n",
       "      <td>7432</td>\n",
       "      <td>walnuts drugs says fda</td>\n",
       "      <td>michael tennant seen walnuts medicine cabinet ...</td>\n",
       "      <td>0</td>\n",
       "    </tr>\n",
       "    <tr>\n",
       "      <td>4953</td>\n",
       "      <td>brink war uk sends tanks drones  soldiers russ...</td>\n",
       "      <td>joey millar show force comes days russian lead...</td>\n",
       "      <td>0</td>\n",
       "    </tr>\n",
       "  </tbody>\n",
       "</table>\n",
       "</div>"
      ],
      "text/plain": [
       "                                            clean_title  \\\n",
       "7382                  prepping budget  food dehydrators   \n",
       "1711             show film end watch list  counterpunch   \n",
       "6119               hillary clinton strangles bald eagle   \n",
       "7432                             walnuts drugs says fda   \n",
       "4953  brink war uk sends tanks drones  soldiers russ...   \n",
       "\n",
       "                                             clean_text  label  \n",
       "7382  many believe dehydrating food safest affordabl...      0  \n",
       "1711  email speech american israel public affairs co...      0  \n",
       "6119  october   described another ‘bizarre attempt s...      0  \n",
       "7432  michael tennant seen walnuts medicine cabinet ...      0  \n",
       "4953  joey millar show force comes days russian lead...      0  "
      ]
     },
     "execution_count": 27,
     "metadata": {},
     "output_type": "execute_result"
    }
   ],
   "source": [
    "trim_size = int(df_real.shape[0] * 0.6)\n",
    "chosen_idx = np.random.choice(df_fake.shape[0], replace=False, size=trim_size)\n",
    "df_fake_trim_2 = df_fake.iloc[chosen_idx]\n",
    "df_fake_trim_2['label'] = 0\n",
    "print(df_fake_trim_2.shape)\n",
    "df_fake_trim_2.drop(['url'], axis=1, inplace= True)\n",
    "df_fake_trim_2.head()"
   ]
  },
  {
   "cell_type": "code",
   "execution_count": 28,
   "metadata": {},
   "outputs": [
    {
     "name": "stdout",
     "output_type": "stream",
     "text": [
      "(362, 3)\n"
     ]
    },
    {
     "name": "stderr",
     "output_type": "stream",
     "text": [
      "/opt/anaconda3/lib/python3.7/site-packages/ipykernel_launcher.py:4: SettingWithCopyWarning: \n",
      "A value is trying to be set on a copy of a slice from a DataFrame.\n",
      "Try using .loc[row_indexer,col_indexer] = value instead\n",
      "\n",
      "See the caveats in the documentation: http://pandas.pydata.org/pandas-docs/stable/user_guide/indexing.html#returning-a-view-versus-a-copy\n",
      "  after removing the cwd from sys.path.\n"
     ]
    },
    {
     "data": {
      "text/html": [
       "<div>\n",
       "<style scoped>\n",
       "    .dataframe tbody tr th:only-of-type {\n",
       "        vertical-align: middle;\n",
       "    }\n",
       "\n",
       "    .dataframe tbody tr th {\n",
       "        vertical-align: top;\n",
       "    }\n",
       "\n",
       "    .dataframe thead th {\n",
       "        text-align: right;\n",
       "    }\n",
       "</style>\n",
       "<table border=\"1\" class=\"dataframe\">\n",
       "  <thead>\n",
       "    <tr style=\"text-align: right;\">\n",
       "      <th></th>\n",
       "      <th>clean_title</th>\n",
       "      <th>clean_text</th>\n",
       "      <th>label</th>\n",
       "    </tr>\n",
       "  </thead>\n",
       "  <tbody>\n",
       "    <tr>\n",
       "      <td>219</td>\n",
       "      <td>trump extends social distancing guidelines end...</td>\n",
       "      <td>president donald trump monday extended  social...</td>\n",
       "      <td>0</td>\n",
       "    </tr>\n",
       "    <tr>\n",
       "      <td>809</td>\n",
       "      <td>federal social distancing guidelines extended ...</td>\n",
       "      <td>washington reuters  us government able withhol...</td>\n",
       "      <td>0</td>\n",
       "    </tr>\n",
       "    <tr>\n",
       "      <td>462</td>\n",
       "      <td>spiking us coronavirus cases could force ratio...</td>\n",
       "      <td>san francisco calif ap spiking us coronavirus ...</td>\n",
       "      <td>0</td>\n",
       "    </tr>\n",
       "    <tr>\n",
       "      <td>887</td>\n",
       "      <td>experts fear india next coronavirus hotspot</td>\n",
       "      <td>people across country forced little much less ...</td>\n",
       "      <td>0</td>\n",
       "    </tr>\n",
       "    <tr>\n",
       "      <td>752</td>\n",
       "      <td>us bring home stranded americans using planes ...</td>\n",
       "      <td>american airlines bringing home bunch stranded...</td>\n",
       "      <td>0</td>\n",
       "    </tr>\n",
       "  </tbody>\n",
       "</table>\n",
       "</div>"
      ],
      "text/plain": [
       "                                           clean_title  \\\n",
       "219  trump extends social distancing guidelines end...   \n",
       "809  federal social distancing guidelines extended ...   \n",
       "462  spiking us coronavirus cases could force ratio...   \n",
       "887        experts fear india next coronavirus hotspot   \n",
       "752  us bring home stranded americans using planes ...   \n",
       "\n",
       "                                            clean_text  label  \n",
       "219  president donald trump monday extended  social...      0  \n",
       "809  washington reuters  us government able withhol...      0  \n",
       "462  san francisco calif ap spiking us coronavirus ...      0  \n",
       "887  people across country forced little much less ...      0  \n",
       "752  american airlines bringing home bunch stranded...      0  "
      ]
     },
     "execution_count": 28,
     "metadata": {},
     "output_type": "execute_result"
    }
   ],
   "source": [
    "trim_size = int(df_real.shape[0]*0.4)\n",
    "chosen_idx = np.random.choice(df_grover.shape[0], replace=False, size=trim_size)\n",
    "df_grover_trim = df_grover.iloc[chosen_idx]\n",
    "df_grover_trim['label'] = 0\n",
    "print(df_grover_trim.shape)\n",
    "df_grover_trim.head()"
   ]
  },
  {
   "cell_type": "code",
   "execution_count": 29,
   "metadata": {},
   "outputs": [
    {
     "name": "stdout",
     "output_type": "stream",
     "text": [
      "(905, 3)\n"
     ]
    },
    {
     "data": {
      "text/html": [
       "<div>\n",
       "<style scoped>\n",
       "    .dataframe tbody tr th:only-of-type {\n",
       "        vertical-align: middle;\n",
       "    }\n",
       "\n",
       "    .dataframe tbody tr th {\n",
       "        vertical-align: top;\n",
       "    }\n",
       "\n",
       "    .dataframe thead th {\n",
       "        text-align: right;\n",
       "    }\n",
       "</style>\n",
       "<table border=\"1\" class=\"dataframe\">\n",
       "  <thead>\n",
       "    <tr style=\"text-align: right;\">\n",
       "      <th></th>\n",
       "      <th>clean_title</th>\n",
       "      <th>clean_text</th>\n",
       "      <th>label</th>\n",
       "    </tr>\n",
       "  </thead>\n",
       "  <tbody>\n",
       "    <tr>\n",
       "      <td>0</td>\n",
       "      <td>trump extends federal social distancing guidel...</td>\n",
       "      <td>washington cnn president donald trump said sun...</td>\n",
       "      <td>1</td>\n",
       "    </tr>\n",
       "    <tr>\n",
       "      <td>1</td>\n",
       "      <td>coronavirus live updates global pandemic kills</td>\n",
       "      <td>exterior elmhurst hospital queens sunday march...</td>\n",
       "      <td>1</td>\n",
       "    </tr>\n",
       "    <tr>\n",
       "      <td>2</td>\n",
       "      <td>trump concedes us coronavirus death toll could</td>\n",
       "      <td>cnn president donald trump acknowledged sunday...</td>\n",
       "      <td>1</td>\n",
       "    </tr>\n",
       "    <tr>\n",
       "      <td>3</td>\n",
       "      <td>donald trumps special day</td>\n",
       "      <td>sign get new weekly column newsletter looking ...</td>\n",
       "      <td>1</td>\n",
       "    </tr>\n",
       "    <tr>\n",
       "      <td>4</td>\n",
       "      <td>long trumps poll surge last</td>\n",
       "      <td>cnn  race publicly least largely halted countr...</td>\n",
       "      <td>1</td>\n",
       "    </tr>\n",
       "  </tbody>\n",
       "</table>\n",
       "</div>"
      ],
      "text/plain": [
       "                                         clean_title  \\\n",
       "0  trump extends federal social distancing guidel...   \n",
       "1     coronavirus live updates global pandemic kills   \n",
       "2     trump concedes us coronavirus death toll could   \n",
       "3                          donald trumps special day   \n",
       "4                        long trumps poll surge last   \n",
       "\n",
       "                                          clean_text  label  \n",
       "0  washington cnn president donald trump said sun...      1  \n",
       "1  exterior elmhurst hospital queens sunday march...      1  \n",
       "2  cnn president donald trump acknowledged sunday...      1  \n",
       "3  sign get new weekly column newsletter looking ...      1  \n",
       "4  cnn  race publicly least largely halted countr...      1  "
      ]
     },
     "execution_count": 29,
     "metadata": {},
     "output_type": "execute_result"
    }
   ],
   "source": [
    "print(df_real.shape)\n",
    "df_real.head()"
   ]
  },
  {
   "cell_type": "code",
   "execution_count": 30,
   "metadata": {},
   "outputs": [
    {
     "name": "stdout",
     "output_type": "stream",
     "text": [
      "(181, 3)\n",
      "(724, 3)\n"
     ]
    }
   ],
   "source": [
    "#Create Test Set first from trimmed\n",
    "trim_size = int(df_real.shape[0]*.2)\n",
    "mask =  np.random.choice(df_real.shape[0], trim_size, replace=False) \n",
    "neg_mask = [i for i in range(0, df_real.shape[0]) if i not in mask]\n",
    "df_real_test = df_real.iloc[mask]\n",
    "df_real_train = df_real.iloc[neg_mask]\n",
    "print(df_real_test.shape)\n",
    "print(df_real_train.shape)"
   ]
  },
  {
   "cell_type": "code",
   "execution_count": 31,
   "metadata": {},
   "outputs": [
    {
     "name": "stdout",
     "output_type": "stream",
     "text": [
      "(543, 3)\n",
      "(181, 3)\n",
      "(362, 3)\n"
     ]
    }
   ],
   "source": [
    "#Create Test Set first from trimmed\n",
    "print(df_fake_trim_2.shape)\n",
    "trim_size = int(df_fake_trim_2.shape[0]*(1/3))\n",
    "mask =  np.random.choice(df_fake_trim_2.shape[0], trim_size, replace=False) \n",
    "neg_mask = [i for i in range(0, df_fake_trim_2.shape[0]) if i not in mask]\n",
    "df_fake_trim_2_test = df_fake_trim_2.iloc[mask]\n",
    "df_fake_trim_2_train = df_fake_trim_2.iloc[neg_mask]\n",
    "print(df_fake_trim_2_test.shape)\n",
    "print(df_fake_trim_2_train.shape)"
   ]
  },
  {
   "cell_type": "code",
   "execution_count": 32,
   "metadata": {},
   "outputs": [],
   "source": [
    "#combine both the real and trimmed fake news into one df\n",
    "combined_train = pd.concat([df_real_train,df_fake_trim_2_train,df_grover_trim],ignore_index=True)\n",
    "combined_test = pd.concat([df_real_test,df_fake_trim_2_test],ignore_index=True)"
   ]
  },
  {
   "cell_type": "code",
   "execution_count": 33,
   "metadata": {},
   "outputs": [
    {
     "name": "stdout",
     "output_type": "stream",
     "text": [
      "(1448, 3)\n",
      "                                         clean_title  \\\n",
      "0  trump extends federal social distancing guidel...   \n",
      "1     coronavirus live updates global pandemic kills   \n",
      "2     trump concedes us coronavirus death toll could   \n",
      "3                        long trumps poll surge last   \n",
      "4  breakdown false misleading statements trump ro...   \n",
      "\n",
      "                                          clean_text  label  \n",
      "0  washington cnn president donald trump said sun...      1  \n",
      "1  exterior elmhurst hospital queens sunday march...      1  \n",
      "2  cnn president donald trump acknowledged sunday...      1  \n",
      "3  cnn  race publicly least largely halted countr...      1  \n",
      "4  cnn president donald trump made numerous false...      1  \n"
     ]
    },
    {
     "data": {
      "text/html": [
       "<div>\n",
       "<style scoped>\n",
       "    .dataframe tbody tr th:only-of-type {\n",
       "        vertical-align: middle;\n",
       "    }\n",
       "\n",
       "    .dataframe tbody tr th {\n",
       "        vertical-align: top;\n",
       "    }\n",
       "\n",
       "    .dataframe thead th {\n",
       "        text-align: right;\n",
       "    }\n",
       "</style>\n",
       "<table border=\"1\" class=\"dataframe\">\n",
       "  <thead>\n",
       "    <tr style=\"text-align: right;\">\n",
       "      <th></th>\n",
       "      <th>clean_title</th>\n",
       "      <th>clean_text</th>\n",
       "      <th>label</th>\n",
       "    </tr>\n",
       "  </thead>\n",
       "  <tbody>\n",
       "    <tr>\n",
       "      <td>1443</td>\n",
       "      <td>north korea launches two shortrange ballistic ...</td>\n",
       "      <td>korean war veteran walks bomb site offshore mi...</td>\n",
       "      <td>0</td>\n",
       "    </tr>\n",
       "    <tr>\n",
       "      <td>1444</td>\n",
       "      <td>democratic candidates president</td>\n",
       "      <td>happened first lets focus democrats think demo...</td>\n",
       "      <td>0</td>\n",
       "    </tr>\n",
       "    <tr>\n",
       "      <td>1445</td>\n",
       "      <td>bunker bowling alley rich running coronavirus</td>\n",
       "      <td>virus spread rich biology sadly theories float...</td>\n",
       "      <td>0</td>\n",
       "    </tr>\n",
       "    <tr>\n",
       "      <td>1446</td>\n",
       "      <td>trump said president manufacturing disaster st...</td>\n",
       "      <td>president donald trump fired unflinchingly any...</td>\n",
       "      <td>0</td>\n",
       "    </tr>\n",
       "    <tr>\n",
       "      <td>1447</td>\n",
       "      <td>doctor refugee violinist refugee model refugee</td>\n",
       "      <td>musician david welsh performed well outside us...</td>\n",
       "      <td>0</td>\n",
       "    </tr>\n",
       "  </tbody>\n",
       "</table>\n",
       "</div>"
      ],
      "text/plain": [
       "                                            clean_title  \\\n",
       "1443  north korea launches two shortrange ballistic ...   \n",
       "1444                    democratic candidates president   \n",
       "1445      bunker bowling alley rich running coronavirus   \n",
       "1446  trump said president manufacturing disaster st...   \n",
       "1447     doctor refugee violinist refugee model refugee   \n",
       "\n",
       "                                             clean_text  label  \n",
       "1443  korean war veteran walks bomb site offshore mi...      0  \n",
       "1444  happened first lets focus democrats think demo...      0  \n",
       "1445  virus spread rich biology sadly theories float...      0  \n",
       "1446  president donald trump fired unflinchingly any...      0  \n",
       "1447  musician david welsh performed well outside us...      0  "
      ]
     },
     "execution_count": 33,
     "metadata": {},
     "output_type": "execute_result"
    }
   ],
   "source": [
    "print(combined_train.shape)\n",
    "print(combined_train.head())\n",
    "combined_train.tail()"
   ]
  },
  {
   "cell_type": "code",
   "execution_count": 34,
   "metadata": {},
   "outputs": [
    {
     "name": "stdout",
     "output_type": "stream",
     "text": [
      "(362, 3)\n",
      "                                         clean_title  \\\n",
      "0  white house holding dod nomination amid trump ...   \n",
      "1  kosovo turmoil coronavirus controversy helped ...   \n",
      "2  trump ties grievances gm governors coronavirus...   \n",
      "3        coronavirus france lockdown friday briefing   \n",
      "4  pelosi trumps coronavirus response president f...   \n",
      "\n",
      "                                          clean_text  label  \n",
      "0  white house announced intent nominate wheelbar...      1  \n",
      "1  kosovo turmoil coronavirus controversy helped ...      1  \n",
      "2  theyre appreciative theyre appreciative army c...      1  \n",
      "3  scientists say louisiana may experiencing worl...      1  \n",
      "4  washington cnn house speaker nancy pelosi sund...      1  \n"
     ]
    },
    {
     "data": {
      "text/html": [
       "<div>\n",
       "<style scoped>\n",
       "    .dataframe tbody tr th:only-of-type {\n",
       "        vertical-align: middle;\n",
       "    }\n",
       "\n",
       "    .dataframe tbody tr th {\n",
       "        vertical-align: top;\n",
       "    }\n",
       "\n",
       "    .dataframe thead th {\n",
       "        text-align: right;\n",
       "    }\n",
       "</style>\n",
       "<table border=\"1\" class=\"dataframe\">\n",
       "  <thead>\n",
       "    <tr style=\"text-align: right;\">\n",
       "      <th></th>\n",
       "      <th>clean_title</th>\n",
       "      <th>clean_text</th>\n",
       "      <th>label</th>\n",
       "    </tr>\n",
       "  </thead>\n",
       "  <tbody>\n",
       "    <tr>\n",
       "      <td>357</td>\n",
       "      <td>fall rise forgotten ‘deplorables</td>\n",
       "      <td>fall rise forgotten ‘deplorables november   po...</td>\n",
       "      <td>0</td>\n",
       "    </tr>\n",
       "    <tr>\n",
       "      <td>358</td>\n",
       "      <td>airbnb community commitment</td>\n",
       "      <td>airbnb october   hi earlier year launched comp...</td>\n",
       "      <td>0</td>\n",
       "    </tr>\n",
       "    <tr>\n",
       "      <td>359</td>\n",
       "      <td>breaking trump announces devastating cuts soci...</td>\n",
       "      <td>social security lifeline many people either el...</td>\n",
       "      <td>0</td>\n",
       "    </tr>\n",
       "    <tr>\n",
       "      <td>360</td>\n",
       "      <td>video trey gowdy made trump hating harry reid ...</td>\n",
       "      <td>october   case havent heard fbi reopened email...</td>\n",
       "      <td>0</td>\n",
       "    </tr>\n",
       "    <tr>\n",
       "      <td>361</td>\n",
       "      <td>transgender butchered cut pieces liberal media...</td>\n",
       "      <td>share adam aliev sex change operation marrying...</td>\n",
       "      <td>0</td>\n",
       "    </tr>\n",
       "  </tbody>\n",
       "</table>\n",
       "</div>"
      ],
      "text/plain": [
       "                                           clean_title  \\\n",
       "357                   fall rise forgotten ‘deplorables   \n",
       "358                        airbnb community commitment   \n",
       "359  breaking trump announces devastating cuts soci...   \n",
       "360  video trey gowdy made trump hating harry reid ...   \n",
       "361  transgender butchered cut pieces liberal media...   \n",
       "\n",
       "                                            clean_text  label  \n",
       "357  fall rise forgotten ‘deplorables november   po...      0  \n",
       "358  airbnb october   hi earlier year launched comp...      0  \n",
       "359  social security lifeline many people either el...      0  \n",
       "360  october   case havent heard fbi reopened email...      0  \n",
       "361  share adam aliev sex change operation marrying...      0  "
      ]
     },
     "execution_count": 34,
     "metadata": {},
     "output_type": "execute_result"
    }
   ],
   "source": [
    "print(combined_test.shape)\n",
    "print(combined_test.head())\n",
    "combined_test.tail()"
   ]
  },
  {
   "cell_type": "code",
   "execution_count": 35,
   "metadata": {},
   "outputs": [],
   "source": [
    "train_text = combined_train['text'].values\n",
    "test_text = combined_test['text'].values\n",
    "train_labels = combined_train['label'].values\n",
    "test_labels = combined_test['label'].values"
   ]
  },
  {
   "cell_type": "code",
   "execution_count": 36,
   "metadata": {},
   "outputs": [
    {
     "name": "stdout",
     "output_type": "stream",
     "text": [
      "(1448,)\n",
      "(362,)\n",
      "(1810,)\n"
     ]
    }
   ],
   "source": [
    "type(train_text)\n",
    "print(train_text.shape)\n",
    "print(test_text.shape)\n",
    "fit_text = np.concatenate((train_text, test_text))\n",
    "print(fit_text.shape)"
   ]
  },
  {
   "cell_type": "code",
   "execution_count": 37,
   "metadata": {},
   "outputs": [
    {
     "name": "stdout",
     "output_type": "stream",
     "text": [
      "<class 'scipy.sparse.csr.csr_matrix'>\n",
      "tf idf vectorized text shape: (1448, 5077)\n",
      "original text shape: (1448,)\n",
      "<class 'scipy.sparse.csr.csr_matrix'>\n",
      "tf idf vectorized text shape: (362, 5077)\n",
      "original text shape: (362,)\n"
     ]
    }
   ],
   "source": [
    "tfidf_2 = TfidfVectorizer(ngram_range=(1,2), max_df= 0.85, min_df= 0.01)\n",
    "tfidf_2.fit(fit_text)\n",
    "train_text = tfidf_2.transform(train_text)\n",
    "print(type(train_text))\n",
    "print(\"tf idf vectorized text shape: {}\".format(train_text.shape))\n",
    "print(\"original text shape: {}\".format(combined_train['text'].shape))\n",
    "\n",
    "test_text = tfidf_2.transform(test_text)\n",
    "print(type(test_text))\n",
    "print(\"tf idf vectorized text shape: {}\".format(test_text.shape))\n",
    "print(\"original text shape: {}\".format(combined_test['text'].shape))"
   ]
  },
  {
   "cell_type": "code",
   "execution_count": 38,
   "metadata": {},
   "outputs": [],
   "source": [
    "nb_2 = MultinomialNB()\n",
    "nb_2.fit(train_text,train_labels)\n",
    "train_pred = nb_2.predict(train_text)"
   ]
  },
  {
   "cell_type": "code",
   "execution_count": 39,
   "metadata": {},
   "outputs": [
    {
     "name": "stdout",
     "output_type": "stream",
     "text": [
      "Naive Bayes In Sample F1 and Accuracy Scores:\n",
      "F1 score 91.23%\n",
      "Accuracy score 91.23%\n"
     ]
    }
   ],
   "source": [
    "print('Naive Bayes In Sample F1 and Accuracy Scores:')\n",
    "print('F1 score {:.4}%'.format(f1_score(train_labels, train_pred, average='macro')*100 ))\n",
    "print ('Accuracy score {:.4}%'.format(accuracy_score(train_labels, train_pred)*100))"
   ]
  },
  {
   "cell_type": "code",
   "execution_count": 40,
   "metadata": {},
   "outputs": [
    {
     "data": {
      "text/html": [
       "<div>\n",
       "<style scoped>\n",
       "    .dataframe tbody tr th:only-of-type {\n",
       "        vertical-align: middle;\n",
       "    }\n",
       "\n",
       "    .dataframe tbody tr th {\n",
       "        vertical-align: top;\n",
       "    }\n",
       "\n",
       "    .dataframe thead th {\n",
       "        text-align: right;\n",
       "    }\n",
       "</style>\n",
       "<table border=\"1\" class=\"dataframe\">\n",
       "  <thead>\n",
       "    <tr style=\"text-align: right;\">\n",
       "      <th></th>\n",
       "      <th>clean_title</th>\n",
       "      <th>clean_text</th>\n",
       "    </tr>\n",
       "    <tr>\n",
       "      <th>label</th>\n",
       "      <th></th>\n",
       "      <th></th>\n",
       "    </tr>\n",
       "  </thead>\n",
       "  <tbody>\n",
       "    <tr>\n",
       "      <td>1</td>\n",
       "      <td>72</td>\n",
       "      <td>72</td>\n",
       "    </tr>\n",
       "    <tr>\n",
       "      <td>2</td>\n",
       "      <td>55</td>\n",
       "      <td>55</td>\n",
       "    </tr>\n",
       "  </tbody>\n",
       "</table>\n",
       "</div>"
      ],
      "text/plain": [
       "       clean_title  clean_text\n",
       "label                         \n",
       "1               72          72\n",
       "2               55          55"
      ]
     },
     "execution_count": 40,
     "metadata": {},
     "output_type": "execute_result"
    }
   ],
   "source": [
    "combined.loc[np.where(train_labels != train_pred)[0].tolist()].groupby('label').agg('count')"
   ]
  },
  {
   "cell_type": "code",
   "execution_count": 41,
   "metadata": {},
   "outputs": [
    {
     "name": "stdout",
     "output_type": "stream",
     "text": [
      "Naive Bayes Out of Sample F1 and Accuracy Scores:\n",
      "F1 score 96.41%\n",
      "Accuracy score 96.41%\n"
     ]
    }
   ],
   "source": [
    "test_pred = nb_2.predict(test_text)\n",
    "print('Naive Bayes Out of Sample F1 and Accuracy Scores:')\n",
    "print('F1 score {:.4}%'.format(f1_score(test_labels, test_pred, average='macro')*100 ))\n",
    "print ('Accuracy score {:.4}%'.format(accuracy_score(test_labels, test_pred)*100))"
   ]
  },
  {
   "cell_type": "code",
   "execution_count": 42,
   "metadata": {},
   "outputs": [
    {
     "data": {
      "text/html": [
       "<div>\n",
       "<style scoped>\n",
       "    .dataframe tbody tr th:only-of-type {\n",
       "        vertical-align: middle;\n",
       "    }\n",
       "\n",
       "    .dataframe tbody tr th {\n",
       "        vertical-align: top;\n",
       "    }\n",
       "\n",
       "    .dataframe thead th {\n",
       "        text-align: right;\n",
       "    }\n",
       "</style>\n",
       "<table border=\"1\" class=\"dataframe\">\n",
       "  <thead>\n",
       "    <tr style=\"text-align: right;\">\n",
       "      <th></th>\n",
       "      <th>clean_title</th>\n",
       "      <th>clean_text</th>\n",
       "    </tr>\n",
       "    <tr>\n",
       "      <th>label</th>\n",
       "      <th></th>\n",
       "      <th></th>\n",
       "    </tr>\n",
       "  </thead>\n",
       "  <tbody>\n",
       "    <tr>\n",
       "      <td>1</td>\n",
       "      <td>13</td>\n",
       "      <td>13</td>\n",
       "    </tr>\n",
       "  </tbody>\n",
       "</table>\n",
       "</div>"
      ],
      "text/plain": [
       "       clean_title  clean_text\n",
       "label                         \n",
       "1               13          13"
      ]
     },
     "execution_count": 42,
     "metadata": {},
     "output_type": "execute_result"
    }
   ],
   "source": [
    "combined.loc[np.where(test_labels != test_pred)[0].tolist()].groupby('label').agg('count')"
   ]
  },
  {
   "cell_type": "code",
   "execution_count": null,
   "metadata": {},
   "outputs": [],
   "source": []
  }
 ],
 "metadata": {
  "kernelspec": {
   "display_name": "Python 3",
   "language": "python",
   "name": "python3"
  },
  "language_info": {
   "codemirror_mode": {
    "name": "ipython",
    "version": 3
   },
   "file_extension": ".py",
   "mimetype": "text/x-python",
   "name": "python",
   "nbconvert_exporter": "python",
   "pygments_lexer": "ipython3",
   "version": "3.7.4"
  }
 },
 "nbformat": 4,
 "nbformat_minor": 2
}
