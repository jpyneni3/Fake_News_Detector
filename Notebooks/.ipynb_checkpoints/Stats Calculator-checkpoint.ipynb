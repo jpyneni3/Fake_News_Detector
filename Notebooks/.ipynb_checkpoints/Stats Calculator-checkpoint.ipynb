{
 "cells": [
  {
   "cell_type": "code",
   "execution_count": 19,
   "metadata": {},
   "outputs": [],
   "source": [
    "import pandas as pd\n",
    "import numpy as np\n",
    "import json"
   ]
  },
  {
   "cell_type": "code",
   "execution_count": 22,
   "metadata": {},
   "outputs": [
    {
     "name": "stdout",
     "output_type": "stream",
     "text": [
      "(909, 3)\n",
      "Number of articles = 905\n",
      "Average article Length = 740 words\n"
     ]
    }
   ],
   "source": [
    "df_real = pd.read_csv('../Cleaned Data/Neural_Fake_News.csv')\n",
    "print(df_real.shape)\n",
    "df_real.head()\n",
    "df_real.dropna(inplace=True)\n",
    "\n",
    "articles = 0\n",
    "words = 0\n",
    "for i in range(0, df_real.shape[0]):\n",
    "    text = df_real['text'].iloc[i]\n",
    "    articles += 1\n",
    "    words += len(text.split())\n",
    "    \n",
    "print(\"Number of articles = {}\".format(df_real.shape[0]))\n",
    "print(\"Average article Length = {} words\".format(int(words/articles)))"
   ]
  },
  {
   "cell_type": "code",
   "execution_count": 24,
   "metadata": {},
   "outputs": [
    {
     "name": "stdout",
     "output_type": "stream",
     "text": [
      "(12999, 20)\n",
      "(4702, 20)\n",
      "Number of articles = 4702\n",
      "Average article Length = 670 words\n"
     ]
    }
   ],
   "source": [
    "df_fake = pd.read_csv('../Uncleaned Data/fake.csv')\n",
    "print(df_fake.shape)\n",
    "df_fake.head()\n",
    "df_fake.dropna(inplace=True)\n",
    "print(df_fake.shape)\n",
    "articles = 0\n",
    "words = 0\n",
    "for i in range(0, df_fake.shape[0]):\n",
    "    text = df_fake['text'].iloc[i]\n",
    "    articles += 1\n",
    "    words += len(text.split())\n",
    "    \n",
    "print(\"Number of articles = {}\".format(df_fake.shape[0]))\n",
    "print(\"Average article Length = {} words\".format(int(words/articles)))"
   ]
  },
  {
   "cell_type": "code",
   "execution_count": null,
   "metadata": {},
   "outputs": [],
   "source": []
  }
 ],
 "metadata": {
  "kernelspec": {
   "display_name": "Python 3",
   "language": "python",
   "name": "python3"
  },
  "language_info": {
   "codemirror_mode": {
    "name": "ipython",
    "version": 3
   },
   "file_extension": ".py",
   "mimetype": "text/x-python",
   "name": "python",
   "nbconvert_exporter": "python",
   "pygments_lexer": "ipython3",
   "version": "3.7.4"
  }
 },
 "nbformat": 4,
 "nbformat_minor": 2
}
