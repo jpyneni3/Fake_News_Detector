{
 "cells": [
  {
   "cell_type": "code",
   "execution_count": 1,
   "metadata": {},
   "outputs": [],
   "source": [
    "import os\n",
    "os.environ[\"GOOGLE_APPLICATION_CREDENTIALS\"]=\"../../backtranslation-48e963c02707.json\"\n",
    "from google.cloud import translate_v2 as translate\n",
    "translate_client = translate.Client()\n",
    "\n",
    "import pandas as pd\n",
    "import time"
   ]
  },
  {
   "cell_type": "code",
   "execution_count": 2,
   "metadata": {},
   "outputs": [
    {
     "name": "stdout",
     "output_type": "stream",
     "text": [
      "Text: So let us begin anew--remembering on both sides that civility is not a sign of weakness, and sincerity is always subject to proof. Let us never negotiate out of fear. But let us never fear to negotiate.\n",
      "Translation: Beginnen wir also neu - denken wir auf beiden Seiten daran, dass Höflichkeit kein Zeichen von Schwäche ist und Aufrichtigkeit immer einem Beweis unterliegt. Lasst uns niemals aus Angst verhandeln. Aber lasst uns niemals Angst haben zu verhandeln.\n",
      "Detected source language: en\n"
     ]
    }
   ],
   "source": [
    "target = \"de\" #german\n",
    "model = \"base\" #Neural Machine Translation\n",
    "text = \"So let us begin anew--remembering on both sides that civility is not a sign of weakness, and sincerity is always subject to proof. Let us never negotiate out of fear. But let us never fear to negotiate.\"\n",
    "\n",
    "\n",
    "# Text can also be a sequence of strings, in which case this method\n",
    "# will return a sequence of results for each text.\n",
    "result = translate_client.translate(\n",
    "    text, target_language=target, model=\"nmt\")\n",
    "\n",
    "print(u'Text: {}'.format(result['input']))\n",
    "print(u'Translation: {}'.format(result['translatedText']))\n",
    "print(u'Detected source language: {}'.format(\n",
    "    result['detectedSourceLanguage']))"
   ]
  },
  {
   "cell_type": "code",
   "execution_count": 75,
   "metadata": {},
   "outputs": [],
   "source": [
    "file_name = \"../Uncleaned Data/Real_Scrapped.csv\""
   ]
  },
  {
   "cell_type": "code",
   "execution_count": 76,
   "metadata": {},
   "outputs": [
    {
     "data": {
      "text/html": [
       "<div>\n",
       "<style scoped>\n",
       "    .dataframe tbody tr th:only-of-type {\n",
       "        vertical-align: middle;\n",
       "    }\n",
       "\n",
       "    .dataframe tbody tr th {\n",
       "        vertical-align: top;\n",
       "    }\n",
       "\n",
       "    .dataframe thead th {\n",
       "        text-align: right;\n",
       "    }\n",
       "</style>\n",
       "<table border=\"1\" class=\"dataframe\">\n",
       "  <thead>\n",
       "    <tr style=\"text-align: right;\">\n",
       "      <th></th>\n",
       "      <th>text</th>\n",
       "    </tr>\n",
       "  </thead>\n",
       "  <tbody>\n",
       "    <tr>\n",
       "      <td>0</td>\n",
       "      <td>Washington (CNN) President Donald Trump said S...</td>\n",
       "    </tr>\n",
       "    <tr>\n",
       "      <td>1</td>\n",
       "      <td>The exterior of Elmhurst Hospital in Queens on...</td>\n",
       "    </tr>\n",
       "    <tr>\n",
       "      <td>2</td>\n",
       "      <td>(CNN) President Donald Trump acknowledged Sund...</td>\n",
       "    </tr>\n",
       "    <tr>\n",
       "      <td>3</td>\n",
       "      <td>NaN</td>\n",
       "    </tr>\n",
       "    <tr>\n",
       "      <td>4</td>\n",
       "      <td>Sign up to get our new weekly column as a news...</td>\n",
       "    </tr>\n",
       "    <tr>\n",
       "      <td>...</td>\n",
       "      <td>...</td>\n",
       "    </tr>\n",
       "    <tr>\n",
       "      <td>2323</td>\n",
       "      <td>In a city with few skyscrapers, the Baghdad To...</td>\n",
       "    </tr>\n",
       "    <tr>\n",
       "      <td>2324</td>\n",
       "      <td>Esther García was walking toward a bus stop af...</td>\n",
       "    </tr>\n",
       "    <tr>\n",
       "      <td>2325</td>\n",
       "      <td>The malaria drugs touted by President Trump as...</td>\n",
       "    </tr>\n",
       "    <tr>\n",
       "      <td>2326</td>\n",
       "      <td>The phone rang in the prayer room at the hospi...</td>\n",
       "    </tr>\n",
       "    <tr>\n",
       "      <td>2327</td>\n",
       "      <td>Jeff vonKaenel has weathered wildfires, recess...</td>\n",
       "    </tr>\n",
       "  </tbody>\n",
       "</table>\n",
       "<p>2328 rows × 1 columns</p>\n",
       "</div>"
      ],
      "text/plain": [
       "                                                   text\n",
       "0     Washington (CNN) President Donald Trump said S...\n",
       "1     The exterior of Elmhurst Hospital in Queens on...\n",
       "2     (CNN) President Donald Trump acknowledged Sund...\n",
       "3                                                   NaN\n",
       "4     Sign up to get our new weekly column as a news...\n",
       "...                                                 ...\n",
       "2323  In a city with few skyscrapers, the Baghdad To...\n",
       "2324  Esther García was walking toward a bus stop af...\n",
       "2325  The malaria drugs touted by President Trump as...\n",
       "2326  The phone rang in the prayer room at the hospi...\n",
       "2327  Jeff vonKaenel has weathered wildfires, recess...\n",
       "\n",
       "[2328 rows x 1 columns]"
      ]
     },
     "execution_count": 76,
     "metadata": {},
     "output_type": "execute_result"
    }
   ],
   "source": [
    "df_real = pd.read_csv(file_name)\n",
    "df_real.drop(['url','title'],inplace=True,axis=1)\n",
    "df_real"
   ]
  },
  {
   "cell_type": "code",
   "execution_count": 77,
   "metadata": {
    "scrolled": false
   },
   "outputs": [
    {
     "data": {
      "text/html": [
       "<div>\n",
       "<style scoped>\n",
       "    .dataframe tbody tr th:only-of-type {\n",
       "        vertical-align: middle;\n",
       "    }\n",
       "\n",
       "    .dataframe tbody tr th {\n",
       "        vertical-align: top;\n",
       "    }\n",
       "\n",
       "    .dataframe thead th {\n",
       "        text-align: right;\n",
       "    }\n",
       "</style>\n",
       "<table border=\"1\" class=\"dataframe\">\n",
       "  <thead>\n",
       "    <tr style=\"text-align: right;\">\n",
       "      <th></th>\n",
       "      <th>text</th>\n",
       "    </tr>\n",
       "  </thead>\n",
       "  <tbody>\n",
       "    <tr>\n",
       "      <td>0</td>\n",
       "      <td>Washington (CNN) President Donald Trump said S...</td>\n",
       "    </tr>\n",
       "    <tr>\n",
       "      <td>1</td>\n",
       "      <td>The exterior of Elmhurst Hospital in Queens on...</td>\n",
       "    </tr>\n",
       "    <tr>\n",
       "      <td>2</td>\n",
       "      <td>(CNN) President Donald Trump acknowledged Sund...</td>\n",
       "    </tr>\n",
       "    <tr>\n",
       "      <td>3</td>\n",
       "      <td>Sign up to get our new weekly column as a news...</td>\n",
       "    </tr>\n",
       "    <tr>\n",
       "      <td>4</td>\n",
       "      <td>(CNN) The 2020 race, publicly at least, has la...</td>\n",
       "    </tr>\n",
       "    <tr>\n",
       "      <td>...</td>\n",
       "      <td>...</td>\n",
       "    </tr>\n",
       "    <tr>\n",
       "      <td>2310</td>\n",
       "      <td>In a city with few skyscrapers, the Baghdad To...</td>\n",
       "    </tr>\n",
       "    <tr>\n",
       "      <td>2311</td>\n",
       "      <td>Esther García was walking toward a bus stop af...</td>\n",
       "    </tr>\n",
       "    <tr>\n",
       "      <td>2312</td>\n",
       "      <td>The malaria drugs touted by President Trump as...</td>\n",
       "    </tr>\n",
       "    <tr>\n",
       "      <td>2313</td>\n",
       "      <td>The phone rang in the prayer room at the hospi...</td>\n",
       "    </tr>\n",
       "    <tr>\n",
       "      <td>2314</td>\n",
       "      <td>Jeff vonKaenel has weathered wildfires, recess...</td>\n",
       "    </tr>\n",
       "  </tbody>\n",
       "</table>\n",
       "<p>2315 rows × 1 columns</p>\n",
       "</div>"
      ],
      "text/plain": [
       "                                                   text\n",
       "0     Washington (CNN) President Donald Trump said S...\n",
       "1     The exterior of Elmhurst Hospital in Queens on...\n",
       "2     (CNN) President Donald Trump acknowledged Sund...\n",
       "3     Sign up to get our new weekly column as a news...\n",
       "4     (CNN) The 2020 race, publicly at least, has la...\n",
       "...                                                 ...\n",
       "2310  In a city with few skyscrapers, the Baghdad To...\n",
       "2311  Esther García was walking toward a bus stop af...\n",
       "2312  The malaria drugs touted by President Trump as...\n",
       "2313  The phone rang in the prayer room at the hospi...\n",
       "2314  Jeff vonKaenel has weathered wildfires, recess...\n",
       "\n",
       "[2315 rows x 1 columns]"
      ]
     },
     "execution_count": 77,
     "metadata": {},
     "output_type": "execute_result"
    }
   ],
   "source": [
    "test_str = df_real['text'].iloc[4]\n",
    "# print(test_str)\n",
    "df_real.dropna(inplace=True)\n",
    "df_real.reset_index(inplace=True, drop=True)\n",
    "df_real"
   ]
  },
  {
   "cell_type": "code",
   "execution_count": 6,
   "metadata": {},
   "outputs": [],
   "source": [
    "text = test_str\n",
    "target = \"ja\" #Japanese\n",
    "model = \"base\" #Neural Machine Translation\n",
    "\n",
    "result = translate_client.translate(\n",
    "    text, target_language=target, model=\"nmt\", format_='text')\n",
    "\n",
    "# print(u'Text: {} \\n'.format(result['input']))\n",
    "# print(u'Translation: {} \\n'.format(result['translatedText']))\n",
    "# print(u'Detected source language: {} \\n'.format(\n",
    "#     result['detectedSourceLanguage']))\n",
    "\n",
    "\n",
    "\n",
    "text = result['translatedText']\n",
    "target =  result['detectedSourceLanguage']\n",
    "# print(\"going back to {} \\n\".format(target))\n",
    "\n",
    "result = translate_client.translate(\n",
    "    text, target_language=target, model=\"nmt\", format_='text')\n",
    "\n",
    "# print(u'Text: {} \\n'.format(result['input']))\n",
    "# print('Back Translation: {} \\n'.format(result['translatedText']))\n",
    "# print(u'Detected source language: {} \\n'.format(\n",
    "#     result['detectedSourceLanguage']))\n"
   ]
  },
  {
   "cell_type": "code",
   "execution_count": 78,
   "metadata": {},
   "outputs": [],
   "source": [
    "from googletrans import Translator\n",
    "translator = Translator()\n",
    "\n",
    "\n",
    "def translate(original, language='ja'):\n",
    "    translator = Translator()\n",
    "    foreign = translator.translate(original, dest=language, src='en')\n",
    "    out = translator.translate(foreign.text, dest='en', src=language)\n",
    "    return out.text"
   ]
  },
  {
   "cell_type": "code",
   "execution_count": 79,
   "metadata": {},
   "outputs": [
    {
     "name": "stdout",
     "output_type": "stream",
     "text": [
      "Please sign up to as newsletters to get our new weekly column. We are looking for the strongest back, clever opinion, take the week from CNN and other outlets.\n"
     ]
    }
   ],
   "source": [
    "test = \"Sign up to get our new weekly column as a newsletter. We're looking back at the strongest, smartest opinion takes of the week from CNN and other outlets.\"\n",
    "print(translate(test))"
   ]
  },
  {
   "cell_type": "code",
   "execution_count": 80,
   "metadata": {},
   "outputs": [
    {
     "name": "stdout",
     "output_type": "stream",
     "text": [
      "                                                   text\n",
      "0     Washington (CNN) President Donald Trump said S...\n",
      "1     The exterior of Elmhurst Hospital in Queens on...\n",
      "2     (CNN) President Donald Trump acknowledged Sund...\n",
      "3     Sign up to get our new weekly column as a news...\n",
      "4     (CNN) The 2020 race, publicly at least, has la...\n",
      "...                                                 ...\n",
      "2310  In a city with few skyscrapers, the Baghdad To...\n",
      "2311  Esther García was walking toward a bus stop af...\n",
      "2312  The malaria drugs touted by President Trump as...\n",
      "2313  The phone rang in the prayer room at the hospi...\n",
      "2314  Jeff vonKaenel has weathered wildfires, recess...\n",
      "\n",
      "[2315 rows x 1 columns]\n",
      "0\n",
      "1\n",
      "2\n",
      "4\n"
     ]
    },
    {
     "ename": "JSONDecodeError",
     "evalue": "Expecting value: line 1 column 1 (char 0)",
     "output_type": "error",
     "traceback": [
      "\u001b[0;31m---------------------------------------------------------------------------\u001b[0m",
      "\u001b[0;31mJSONDecodeError\u001b[0m                           Traceback (most recent call last)",
      "\u001b[0;32m<ipython-input-80-cea438edbc78>\u001b[0m in \u001b[0;36m<module>\u001b[0;34m\u001b[0m\n\u001b[1;32m      8\u001b[0m     \u001b[0;32mif\u001b[0m \u001b[0mlen\u001b[0m\u001b[0;34m(\u001b[0m\u001b[0mog_text\u001b[0m\u001b[0;34m)\u001b[0m \u001b[0;34m<\u001b[0m \u001b[0;36m12100\u001b[0m\u001b[0;34m:\u001b[0m\u001b[0;34m\u001b[0m\u001b[0;34m\u001b[0m\u001b[0m\n\u001b[1;32m      9\u001b[0m         \u001b[0mprint\u001b[0m\u001b[0;34m(\u001b[0m\u001b[0mi\u001b[0m\u001b[0;34m)\u001b[0m\u001b[0;34m\u001b[0m\u001b[0;34m\u001b[0m\u001b[0m\n\u001b[0;32m---> 10\u001b[0;31m         \u001b[0mtranslated\u001b[0m \u001b[0;34m=\u001b[0m \u001b[0mtranslate\u001b[0m\u001b[0;34m(\u001b[0m\u001b[0mog_text\u001b[0m\u001b[0;34m)\u001b[0m\u001b[0;34m\u001b[0m\u001b[0;34m\u001b[0m\u001b[0m\n\u001b[0m\u001b[1;32m     11\u001b[0m         \u001b[0mdf_real\u001b[0m\u001b[0;34m.\u001b[0m\u001b[0mloc\u001b[0m\u001b[0;34m[\u001b[0m\u001b[0mdf_real\u001b[0m\u001b[0;34m.\u001b[0m\u001b[0mshape\u001b[0m\u001b[0;34m[\u001b[0m\u001b[0;36m0\u001b[0m\u001b[0;34m]\u001b[0m\u001b[0;34m]\u001b[0m \u001b[0;34m=\u001b[0m \u001b[0mtranslated\u001b[0m\u001b[0;34m\u001b[0m\u001b[0;34m\u001b[0m\u001b[0m\n\u001b[1;32m     12\u001b[0m \u001b[0;34m\u001b[0m\u001b[0m\n",
      "\u001b[0;32m<ipython-input-78-35942c4e3b11>\u001b[0m in \u001b[0;36mtranslate\u001b[0;34m(original, language)\u001b[0m\n\u001b[1;32m      6\u001b[0m     \u001b[0mtranslator\u001b[0m \u001b[0;34m=\u001b[0m \u001b[0mTranslator\u001b[0m\u001b[0;34m(\u001b[0m\u001b[0;34m)\u001b[0m\u001b[0;34m\u001b[0m\u001b[0;34m\u001b[0m\u001b[0m\n\u001b[1;32m      7\u001b[0m     \u001b[0mforeign\u001b[0m \u001b[0;34m=\u001b[0m \u001b[0mtranslator\u001b[0m\u001b[0;34m.\u001b[0m\u001b[0mtranslate\u001b[0m\u001b[0;34m(\u001b[0m\u001b[0moriginal\u001b[0m\u001b[0;34m,\u001b[0m \u001b[0mdest\u001b[0m\u001b[0;34m=\u001b[0m\u001b[0mlanguage\u001b[0m\u001b[0;34m,\u001b[0m \u001b[0msrc\u001b[0m\u001b[0;34m=\u001b[0m\u001b[0;34m'en'\u001b[0m\u001b[0;34m)\u001b[0m\u001b[0;34m\u001b[0m\u001b[0;34m\u001b[0m\u001b[0m\n\u001b[0;32m----> 8\u001b[0;31m     \u001b[0mout\u001b[0m \u001b[0;34m=\u001b[0m \u001b[0mtranslator\u001b[0m\u001b[0;34m.\u001b[0m\u001b[0mtranslate\u001b[0m\u001b[0;34m(\u001b[0m\u001b[0mforeign\u001b[0m\u001b[0;34m.\u001b[0m\u001b[0mtext\u001b[0m\u001b[0;34m,\u001b[0m \u001b[0mdest\u001b[0m\u001b[0;34m=\u001b[0m\u001b[0;34m'en'\u001b[0m\u001b[0;34m,\u001b[0m \u001b[0msrc\u001b[0m\u001b[0;34m=\u001b[0m\u001b[0mlanguage\u001b[0m\u001b[0;34m)\u001b[0m\u001b[0;34m\u001b[0m\u001b[0;34m\u001b[0m\u001b[0m\n\u001b[0m\u001b[1;32m      9\u001b[0m     \u001b[0;32mreturn\u001b[0m \u001b[0mout\u001b[0m\u001b[0;34m.\u001b[0m\u001b[0mtext\u001b[0m\u001b[0;34m\u001b[0m\u001b[0;34m\u001b[0m\u001b[0m\n",
      "\u001b[0;32m~/opt/anaconda3/lib/python3.7/site-packages/googletrans/client.py\u001b[0m in \u001b[0;36mtranslate\u001b[0;34m(self, text, dest, src)\u001b[0m\n\u001b[1;32m    170\u001b[0m \u001b[0;34m\u001b[0m\u001b[0m\n\u001b[1;32m    171\u001b[0m         \u001b[0morigin\u001b[0m \u001b[0;34m=\u001b[0m \u001b[0mtext\u001b[0m\u001b[0;34m\u001b[0m\u001b[0;34m\u001b[0m\u001b[0m\n\u001b[0;32m--> 172\u001b[0;31m         \u001b[0mdata\u001b[0m \u001b[0;34m=\u001b[0m \u001b[0mself\u001b[0m\u001b[0;34m.\u001b[0m\u001b[0m_translate\u001b[0m\u001b[0;34m(\u001b[0m\u001b[0mtext\u001b[0m\u001b[0;34m,\u001b[0m \u001b[0mdest\u001b[0m\u001b[0;34m,\u001b[0m \u001b[0msrc\u001b[0m\u001b[0;34m)\u001b[0m\u001b[0;34m\u001b[0m\u001b[0;34m\u001b[0m\u001b[0m\n\u001b[0m\u001b[1;32m    173\u001b[0m \u001b[0;34m\u001b[0m\u001b[0m\n\u001b[1;32m    174\u001b[0m         \u001b[0;31m# this code will be updated when the format is changed.\u001b[0m\u001b[0;34m\u001b[0m\u001b[0;34m\u001b[0m\u001b[0;34m\u001b[0m\u001b[0m\n",
      "\u001b[0;32m~/opt/anaconda3/lib/python3.7/site-packages/googletrans/client.py\u001b[0m in \u001b[0;36m_translate\u001b[0;34m(self, text, dest, src)\u001b[0m\n\u001b[1;32m     79\u001b[0m         \u001b[0mr\u001b[0m \u001b[0;34m=\u001b[0m \u001b[0mself\u001b[0m\u001b[0;34m.\u001b[0m\u001b[0msession\u001b[0m\u001b[0;34m.\u001b[0m\u001b[0mget\u001b[0m\u001b[0;34m(\u001b[0m\u001b[0murl\u001b[0m\u001b[0;34m,\u001b[0m \u001b[0mparams\u001b[0m\u001b[0;34m=\u001b[0m\u001b[0mparams\u001b[0m\u001b[0;34m)\u001b[0m\u001b[0;34m\u001b[0m\u001b[0;34m\u001b[0m\u001b[0m\n\u001b[1;32m     80\u001b[0m \u001b[0;34m\u001b[0m\u001b[0m\n\u001b[0;32m---> 81\u001b[0;31m         \u001b[0mdata\u001b[0m \u001b[0;34m=\u001b[0m \u001b[0mutils\u001b[0m\u001b[0;34m.\u001b[0m\u001b[0mformat_json\u001b[0m\u001b[0;34m(\u001b[0m\u001b[0mr\u001b[0m\u001b[0;34m.\u001b[0m\u001b[0mtext\u001b[0m\u001b[0;34m)\u001b[0m\u001b[0;34m\u001b[0m\u001b[0;34m\u001b[0m\u001b[0m\n\u001b[0m\u001b[1;32m     82\u001b[0m         \u001b[0;32mreturn\u001b[0m \u001b[0mdata\u001b[0m\u001b[0;34m\u001b[0m\u001b[0;34m\u001b[0m\u001b[0m\n\u001b[1;32m     83\u001b[0m \u001b[0;34m\u001b[0m\u001b[0m\n",
      "\u001b[0;32m~/opt/anaconda3/lib/python3.7/site-packages/googletrans/utils.py\u001b[0m in \u001b[0;36mformat_json\u001b[0;34m(original)\u001b[0m\n\u001b[1;32m     60\u001b[0m         \u001b[0mconverted\u001b[0m \u001b[0;34m=\u001b[0m \u001b[0mjson\u001b[0m\u001b[0;34m.\u001b[0m\u001b[0mloads\u001b[0m\u001b[0;34m(\u001b[0m\u001b[0moriginal\u001b[0m\u001b[0;34m)\u001b[0m\u001b[0;34m\u001b[0m\u001b[0;34m\u001b[0m\u001b[0m\n\u001b[1;32m     61\u001b[0m     \u001b[0;32mexcept\u001b[0m \u001b[0mValueError\u001b[0m\u001b[0;34m:\u001b[0m\u001b[0;34m\u001b[0m\u001b[0;34m\u001b[0m\u001b[0m\n\u001b[0;32m---> 62\u001b[0;31m         \u001b[0mconverted\u001b[0m \u001b[0;34m=\u001b[0m \u001b[0mlegacy_format_json\u001b[0m\u001b[0;34m(\u001b[0m\u001b[0moriginal\u001b[0m\u001b[0;34m)\u001b[0m\u001b[0;34m\u001b[0m\u001b[0;34m\u001b[0m\u001b[0m\n\u001b[0m\u001b[1;32m     63\u001b[0m \u001b[0;34m\u001b[0m\u001b[0m\n\u001b[1;32m     64\u001b[0m     \u001b[0;32mreturn\u001b[0m \u001b[0mconverted\u001b[0m\u001b[0;34m\u001b[0m\u001b[0;34m\u001b[0m\u001b[0m\n",
      "\u001b[0;32m~/opt/anaconda3/lib/python3.7/site-packages/googletrans/utils.py\u001b[0m in \u001b[0;36mlegacy_format_json\u001b[0;34m(original)\u001b[0m\n\u001b[1;32m     52\u001b[0m             \u001b[0mtext\u001b[0m \u001b[0;34m=\u001b[0m \u001b[0mtext\u001b[0m\u001b[0;34m[\u001b[0m\u001b[0;34m:\u001b[0m\u001b[0mp\u001b[0m\u001b[0;34m]\u001b[0m \u001b[0;34m+\u001b[0m \u001b[0mstates\u001b[0m\u001b[0;34m[\u001b[0m\u001b[0mj\u001b[0m\u001b[0;34m]\u001b[0m\u001b[0;34m[\u001b[0m\u001b[0;36m1\u001b[0m\u001b[0;34m]\u001b[0m \u001b[0;34m+\u001b[0m \u001b[0mtext\u001b[0m\u001b[0;34m[\u001b[0m\u001b[0mnxt\u001b[0m\u001b[0;34m:\u001b[0m\u001b[0;34m]\u001b[0m\u001b[0;34m\u001b[0m\u001b[0;34m\u001b[0m\u001b[0m\n\u001b[1;32m     53\u001b[0m \u001b[0;34m\u001b[0m\u001b[0m\n\u001b[0;32m---> 54\u001b[0;31m     \u001b[0mconverted\u001b[0m \u001b[0;34m=\u001b[0m \u001b[0mjson\u001b[0m\u001b[0;34m.\u001b[0m\u001b[0mloads\u001b[0m\u001b[0;34m(\u001b[0m\u001b[0mtext\u001b[0m\u001b[0;34m)\u001b[0m\u001b[0;34m\u001b[0m\u001b[0;34m\u001b[0m\u001b[0m\n\u001b[0m\u001b[1;32m     55\u001b[0m     \u001b[0;32mreturn\u001b[0m \u001b[0mconverted\u001b[0m\u001b[0;34m\u001b[0m\u001b[0;34m\u001b[0m\u001b[0m\n\u001b[1;32m     56\u001b[0m \u001b[0;34m\u001b[0m\u001b[0m\n",
      "\u001b[0;32m~/opt/anaconda3/lib/python3.7/json/__init__.py\u001b[0m in \u001b[0;36mloads\u001b[0;34m(s, encoding, cls, object_hook, parse_float, parse_int, parse_constant, object_pairs_hook, **kw)\u001b[0m\n\u001b[1;32m    346\u001b[0m             \u001b[0mparse_int\u001b[0m \u001b[0;32mis\u001b[0m \u001b[0;32mNone\u001b[0m \u001b[0;32mand\u001b[0m \u001b[0mparse_float\u001b[0m \u001b[0;32mis\u001b[0m \u001b[0;32mNone\u001b[0m \u001b[0;32mand\u001b[0m\u001b[0;34m\u001b[0m\u001b[0;34m\u001b[0m\u001b[0m\n\u001b[1;32m    347\u001b[0m             parse_constant is None and object_pairs_hook is None and not kw):\n\u001b[0;32m--> 348\u001b[0;31m         \u001b[0;32mreturn\u001b[0m \u001b[0m_default_decoder\u001b[0m\u001b[0;34m.\u001b[0m\u001b[0mdecode\u001b[0m\u001b[0;34m(\u001b[0m\u001b[0ms\u001b[0m\u001b[0;34m)\u001b[0m\u001b[0;34m\u001b[0m\u001b[0;34m\u001b[0m\u001b[0m\n\u001b[0m\u001b[1;32m    349\u001b[0m     \u001b[0;32mif\u001b[0m \u001b[0mcls\u001b[0m \u001b[0;32mis\u001b[0m \u001b[0;32mNone\u001b[0m\u001b[0;34m:\u001b[0m\u001b[0;34m\u001b[0m\u001b[0;34m\u001b[0m\u001b[0m\n\u001b[1;32m    350\u001b[0m         \u001b[0mcls\u001b[0m \u001b[0;34m=\u001b[0m \u001b[0mJSONDecoder\u001b[0m\u001b[0;34m\u001b[0m\u001b[0;34m\u001b[0m\u001b[0m\n",
      "\u001b[0;32m~/opt/anaconda3/lib/python3.7/json/decoder.py\u001b[0m in \u001b[0;36mdecode\u001b[0;34m(self, s, _w)\u001b[0m\n\u001b[1;32m    335\u001b[0m \u001b[0;34m\u001b[0m\u001b[0m\n\u001b[1;32m    336\u001b[0m         \"\"\"\n\u001b[0;32m--> 337\u001b[0;31m         \u001b[0mobj\u001b[0m\u001b[0;34m,\u001b[0m \u001b[0mend\u001b[0m \u001b[0;34m=\u001b[0m \u001b[0mself\u001b[0m\u001b[0;34m.\u001b[0m\u001b[0mraw_decode\u001b[0m\u001b[0;34m(\u001b[0m\u001b[0ms\u001b[0m\u001b[0;34m,\u001b[0m \u001b[0midx\u001b[0m\u001b[0;34m=\u001b[0m\u001b[0m_w\u001b[0m\u001b[0;34m(\u001b[0m\u001b[0ms\u001b[0m\u001b[0;34m,\u001b[0m \u001b[0;36m0\u001b[0m\u001b[0;34m)\u001b[0m\u001b[0;34m.\u001b[0m\u001b[0mend\u001b[0m\u001b[0;34m(\u001b[0m\u001b[0;34m)\u001b[0m\u001b[0;34m)\u001b[0m\u001b[0;34m\u001b[0m\u001b[0;34m\u001b[0m\u001b[0m\n\u001b[0m\u001b[1;32m    338\u001b[0m         \u001b[0mend\u001b[0m \u001b[0;34m=\u001b[0m \u001b[0m_w\u001b[0m\u001b[0;34m(\u001b[0m\u001b[0ms\u001b[0m\u001b[0;34m,\u001b[0m \u001b[0mend\u001b[0m\u001b[0;34m)\u001b[0m\u001b[0;34m.\u001b[0m\u001b[0mend\u001b[0m\u001b[0;34m(\u001b[0m\u001b[0;34m)\u001b[0m\u001b[0;34m\u001b[0m\u001b[0;34m\u001b[0m\u001b[0m\n\u001b[1;32m    339\u001b[0m         \u001b[0;32mif\u001b[0m \u001b[0mend\u001b[0m \u001b[0;34m!=\u001b[0m \u001b[0mlen\u001b[0m\u001b[0;34m(\u001b[0m\u001b[0ms\u001b[0m\u001b[0;34m)\u001b[0m\u001b[0;34m:\u001b[0m\u001b[0;34m\u001b[0m\u001b[0;34m\u001b[0m\u001b[0m\n",
      "\u001b[0;32m~/opt/anaconda3/lib/python3.7/json/decoder.py\u001b[0m in \u001b[0;36mraw_decode\u001b[0;34m(self, s, idx)\u001b[0m\n\u001b[1;32m    353\u001b[0m             \u001b[0mobj\u001b[0m\u001b[0;34m,\u001b[0m \u001b[0mend\u001b[0m \u001b[0;34m=\u001b[0m \u001b[0mself\u001b[0m\u001b[0;34m.\u001b[0m\u001b[0mscan_once\u001b[0m\u001b[0;34m(\u001b[0m\u001b[0ms\u001b[0m\u001b[0;34m,\u001b[0m \u001b[0midx\u001b[0m\u001b[0;34m)\u001b[0m\u001b[0;34m\u001b[0m\u001b[0;34m\u001b[0m\u001b[0m\n\u001b[1;32m    354\u001b[0m         \u001b[0;32mexcept\u001b[0m \u001b[0mStopIteration\u001b[0m \u001b[0;32mas\u001b[0m \u001b[0merr\u001b[0m\u001b[0;34m:\u001b[0m\u001b[0;34m\u001b[0m\u001b[0;34m\u001b[0m\u001b[0m\n\u001b[0;32m--> 355\u001b[0;31m             \u001b[0;32mraise\u001b[0m \u001b[0mJSONDecodeError\u001b[0m\u001b[0;34m(\u001b[0m\u001b[0;34m\"Expecting value\"\u001b[0m\u001b[0;34m,\u001b[0m \u001b[0ms\u001b[0m\u001b[0;34m,\u001b[0m \u001b[0merr\u001b[0m\u001b[0;34m.\u001b[0m\u001b[0mvalue\u001b[0m\u001b[0;34m)\u001b[0m \u001b[0;32mfrom\u001b[0m \u001b[0;32mNone\u001b[0m\u001b[0;34m\u001b[0m\u001b[0;34m\u001b[0m\u001b[0m\n\u001b[0m\u001b[1;32m    356\u001b[0m         \u001b[0;32mreturn\u001b[0m \u001b[0mobj\u001b[0m\u001b[0;34m,\u001b[0m \u001b[0mend\u001b[0m\u001b[0;34m\u001b[0m\u001b[0;34m\u001b[0m\u001b[0m\n",
      "\u001b[0;31mJSONDecodeError\u001b[0m: Expecting value: line 1 column 1 (char 0)"
     ]
    }
   ],
   "source": [
    "num = df_real.shape[0]\n",
    "print(df_real)\n",
    "start = time.time()\n",
    "count = 0\n",
    "\n",
    "for i in range(num):\n",
    "    og_text = df_real['text'].iloc[i]\n",
    "    if len(og_text) < 12100:\n",
    "        print(i)\n",
    "        print(len(og_text))\n",
    "        translated = translate(og_text)\n",
    "        df_real.loc[df_real.shape[0]] = translated\n",
    "\n",
    "    \n",
    "end = time.time()\n",
    "print(\"New size = {}\".format(df_real.shape))\n",
    "print(\"{} translations in {}\".format(df_real.shape[0]-num,end-start))"
   ]
  },
  {
   "cell_type": "code",
   "execution_count": 153,
   "metadata": {
    "scrolled": true
   },
   "outputs": [
    {
     "data": {
      "text/plain": [
       "'Sign up to get our new weekly column as a newsletter. We\\'re looking back at the strongest, smartest opinion takes of the week from CNN and other outlets.\\n\\n(CNN) When Donald Trump was growing up in the New York of the 1950s, Easter was a grand civic festival as well as a religious holiday. He was eight in 1955, when a balmy day brought out about two million people for the Easter Parade along and around Fifth Avenue. \"Hats were large, small, sensible, silly, be-flowered, tailored, and of virtually every hue ever conceived by nature or man,\" wrote Edith Evans Asbury in the New York Times.\\n\\nSo, maybe it was no surprise that the President talked Tuesday of reopening a country largely shuttered against the spread of coronavirus by Easter, which falls on April 12. \"For me, for a lot of our friends, that\\'s a very special day,\" Trump said. \"What a great timeline this would be.\" But by week\\'s end, the word out of the White House was that the Easter target for relaxing restrictions was \"aspirational.\" Public health officials stressed that America was in for a longer period of enforced isolation — with the streets of New York, the epicenter of the US outbreak, likely to remain jarringly empty for weeks.\\n\\nIn fact, the US this week became the nation with the highest number of confirmed cases of the virus.called it \"a grim watershed,\" as the US overtook Italy and China. \"Americans are suffering and dying because the Trump administration failed to act quickly and decisively to prevent the virus\\' spread,\" he wrote. \"China has broken the spread of the virus with a lockdown that first started in Wuhan on January 23 and is now being lifted in stages ...The US has not broken the epidemic.\"\\n\\nTrump\\'s relatively upbeat outlook on the crisis contrasted with the approach taken by New York Gov. Andrew Cuomo, whose daily briefings have become must-watch TV for many. \"Cuomo has, in his own thudding rhetorical style, consistently sounded the alarm about the virus\\' metastasizing toll, while also playing up the need for resolve,\" wrote. \"Trump, meanwhile? He bickers and fiddles and makes false claims even now , as the death toll mounts.\"\\n\\nnever thought she\\'d say it: \" Thank God for Andrew Cuomo ... In the face of a feckless, reckless president spreading disinformation by the day, Cuomo has stepped up, using his platform to share accurate public health information and demand action.\"\\n\\nJulian Zelizer. Americans will \" Other governors like Ohio\\'s Mike DeWine and California\\'s Gavin Newsom also have been forceful leaders in the crisis, wrote. Americans will \" depend on them to provide the sense of confidence and calm that every citizen is looking for to survive, recover and rebuild.\"\\n\\nNo good choices\\n\\nFrida Ghitis: \" Trump\\'s eagerness to get back to business is understandable but the timing is premature, wrote: \" The stakes are enormous , not just for him personally and politically — this is after all an election year — but for everyone in the country. Trump, rightly, is deeply concerned about what\\'s happening to the economy. He\\'s not alone ... The virus can be stopped by keeping it from spreading. That\\'s how we suffocate it. That\\'s how we reignite the economy.\"\\n\\nPeter Bergen. \"If the Trump administration really closed the whole country down for many weeks to suppress the virus, the resulting depression The President really has no good choices now, wrote. \"If the Trump administration really closed the whole country down for many weeks to suppress the virus, the resulting depression could rival the Great Depression.\\n\\nMarc Thiessen wrote, \"over time, as we get a handle on the outbreak, we need to start adjusting our decision-making In the Washington Post,wrote, \"over time, as we get a handle on the outbreak, we need to start adjusting our decision-making to balance risk with the massive toll the lockdown is taking on the American people. While journalists can telework, millions of Americans who can\\'t are losing their careers and the businesses they spent a lifetime building. A prolonged economic shutdown will lead to deaths as well, in the form of increased rates of depression, substance abuse and suicide.\"\\n\\nDaniel M. Gerstein and James Giordano.) (For thoughts on how to eventually reopen America, read this op-ed byand.)\\n\\nScott Jennings: \" In a crisis, Americans often rally around their President, and Trump is seeing some of that in the polls, wrote: \" People are giving the President some latitude here . Americans were caught off guard by this virus and don\\'t blame Trump for its arrival at our borders. And because it is such an unusual event, they are giving the federal government some room as it figures out how to handle it.\"\\n\\nFront line\\n\\nDr. Prateek Harne\\'s first encounter with a Covid-19 patient is something the Syracuse, New York-based physician will never forget.\\n\\n\"With a distinct heaviness in her breath, she told me how nice everyone has been to her in the hospital. I thanked her. After examining her, I told her that we would need to intubate — insert a tube into her airway — for her to breathe better, and she replied by telling me she was very scared. I held her hand and told her it takes courage to do what she was doing.\\n\\n\"She asked me to call her husband, who was being quarantined at home after testing positive, and tell him that she loved him a lot. I did what she asked, and he asked me if I could tell her the same.\\n\\n\"Four days later, she passed away due to severe respiratory failure despite maximal medical supportive therapy. I went from being anxious to scared and then eventually subdued.\"\\n\\nNew York\\'s hospitals were hit with a wave of patients suffering from coronavirus. At least 13 died in a 24-hour span at Elmhurst Hospital. Makeshift morgues were set up outside some hospitals and the Jacob K. Javits Convention Center in Manhattan was converted into a hospital.\\n\\nDean Obeidallah. \"This helps all Americans, not just New Yorkers.\" Cuomo said the state was desperately short of the number of ventilators it will likely require for the anticipated peak of patients who will need intensive care. If the federal government \"commits the resources needed to battle the virus in New York, it could create an effective and lifesaving road map for other cities and communities that face a major outbreak in the weeks that follow,\" wrote\\n\\nMarcelo Geisler, the 2019 Templeton Prize winner, wrote, \"We now face a global enemy, one that doesn\\'t identify its targets by religious, racial, gender or political choice; a virus doesn\\'t care about maps and boundaries. What matters is that we are all potential hosts, irrespective of who we are or where we live...\\n\\n\"We must respond not just as nations fighting an enemy, but as a species fighting for survival .\"\\n\\nJohn Avlon. How do we know that? \" We will get through this, wrote. How do we know that? \" Because we\\'ve been through far worse before. Just over 100 years ago, the world suffered through the Spanish influenza epidemic. Despite its name, most researchers believe it actually began at a Kansas army base in the spring of 1918. It killed between some 50 million worldwide — including members of my family — and over 675,000 people died here in the United States at a time when our population was one-third its current size. To put it in perspective, that\\'s more Americans than were killed in World War I, World War II, the Korean War and in Vietnam ... combined.\"\\n\\nOur society will survive, \"especially if we learn the lessons of history and listen to science,\" Avlon concluded.\\n\\nJake Tapper\\'s (Read\\'s interview with John Barry , author of the classic book on the 1918 influenza pandemic.)\\n\\nAllison Glock, isolated at home with her daughters, thought of the lives of her grandparents in a small West Virginia town. \"They cooked Sunday suppers, sang as they hand-washed the dishes, groused and gossiped and generally found contentment in the simplest of lives, one necessarily small because of poverty and lack of opportunity.... , isolated at home with her daughters, thought of the lives of her grandparents in a small West Virginia town. \"They cooked Sunday suppers, sang as they hand-washed the dishes, groused and gossiped and generally found contentment in the simplest of lives, one necessarily small because of poverty and lack of opportunity.... They\\'d seen death and futility and heroism and loss. They knew what mattered.\"\\n\\nMore views on Covid-19:\\n\\nJay Newton-Small: The epidemic seniors in America were facing already.\\n\\nDaniel Speckhard: What Africa can teach the world about beating the coronavirus.\\n\\nGayle Tzemach Lemmon: If COVID-19 spreads to this population, it could be catastrophic.\\n\\nVan Jones: Working Americans need more than a one-time cash payment.\\n\\nCecilia Menjívar, Jacob G. Foster and Jennie E. Brand: Don\\'t call it \\'social distancing.\\'\\n\\n$2 trillion rescue plan\\n\\nCongress passed and the President signed the largest economic rescue bill in American history, and many said it was only the beginning of what will be needed before the crisis ends.\\n\\nJulia Chatterley for the Perspectives section of CNN Business. \"It might seem ridiculous to describe a possible $2 trillion package as a half measure, but that may be exactly what it is: If you look at the commitments made by countries, such as the UK and Germany, as a percentage of GDP, the US package will fall short ,\" wrotefor the Perspectives section of CNN Business.\\n\\nRick Santorum wrote that he has opposed bailouts, but this is different. \"While this government action is expensive, it is still a better option than having to rebuild the entire economy from scratch with economically devastated employees and no market for products. It is crucial that we keep businesses solvent and workers prepared to go back to work. If we don\\'t act quickly, Former US Sen.wrote that he has opposed bailouts, but this is different. \"While this government action is expensive, it is still a better option than having to rebuild the entire economy from scratch with economically devastated employees and no market for products. It is crucial that we keep businesses solvent and workers prepared to go back to work. If we don\\'t act quickly, the financial cost will be even greater and the human cost incalculable.\\n\\nTim Breene, CEO of World Relief. They \" Most American adults will get $1,200 checks to help get them through the crisis, but undocumented immigrants who pay taxes will be excluded. That\\'s wrong, wrote, CEO of World Relief. They \" are among those most at risk of hunger or eviction from their homes in the current crisis. Given that many lack medical insurance, they are also least likely to seek and receive health care if they contract COVID-19.\"\\n\\nThe stimulus bill included lots of money to help Americans who\\'ve been laid off and others whose jobs may be at risk. But it also funded bailouts for businesses and non-profits and a tax break that could help real estate investors.\\n\\nMark Corallo. \"How about we first get money to hospitals, community health centers, doctors, nurses, manufacturers of masks, gloves, hospital beds, ventilators, Covid-19 tests, breakthrough treatments, and training so that more people can learn to safely assist the health professionals, many of whom are already overwhelmed — Congress couldn\\'t help resorting to its usual ways, wrote. \"How about we first get money to hospitals, community health centers, doctors, nurses, manufacturers of masks, gloves, hospital beds, ventilators, Covid-19 tests, breakthrough treatments, and training so that more people can learn to safely assist the health professionals, many of whom are already overwhelmed — and then deal with the bailouts for companies and non-profits later\\n\\nEdward J. McCaffery: \"While health care workers and local governments frantically race against the clock to keep up with the escalating medical caseloads while trying to keep themselves and their families safe, Also included in the bill was a real estate tax break for members of the 1%, notedWhile health care workers and local governments frantically race against the clock to keep up with the escalating medical caseloads while trying to keep themselves and their families safe, Congress was still able to find the time to give money away to rich people .\"\\n\\nDon\\'t miss:\\n\\nHolly Thomas: Prince Charles may help us keep calm and stay home\\n\\nHitendra Wadhwa: The greeting that could help get us through this\\n\\nDariush Mozaffarian, Dan Glickman and Simin Nikbin Meydani: How your diet can help flatten the curve.\\n\\nAND...\\n\\nWomen who led the way\\n\\nClarissa Harlowe \\'Clara\\' Barton\\n\\nAs Women\\'s History Month ends during an extraordinary health crisis, it\\'s worth remembering Clara Barton, who nursed the wounded on Civil War battlefields and founded the American Red Cross.\\n\\nFormer Secretary of State Madeleine Albright observed, \"Barton was more than a dreamer, she was a doer whose legacy embodies a principle that is at the core of what America is about: That every one of us counts, no matter who we are, where we come from, or what our race, gender, or creed happen to be. As we confront the challenge of the coronavirus, we must all recommit to this principle, for it is the central pillar upon which healthy and united communities are built.\"\\n\\nAlbright was one of a host of prominent American women whose views on history\\'s trailblazers were curated by Marianne Schnall in a special report for CNN Opinion, edited by Jane Greenway Carr. Read Jane Goodall on Rachel Carson, Sheryl Sandberg on Claudette Colvin, Kamala Harris and Barbara Lee on Shirley Chisholm, Kirsten Gillibrand on Hillary Clinton and Kay Bailey Hutchinson on Margaret Chase Smith — and more.\\n\\nPat Mitchell recalled attending an international peace conference convened by women in 1989. There the irrepressible Bella Abzug, a congresswoman from New York (who wore hats even when it wasn\\'t Easter), promised, \"In the next century, women will change the nature of power, rather than power changing the nature of women.\"'"
      ]
     },
     "execution_count": 153,
     "metadata": {},
     "output_type": "execute_result"
    }
   ],
   "source": [
    "df_real.iloc[3].text"
   ]
  },
  {
   "cell_type": "code",
   "execution_count": 85,
   "metadata": {},
   "outputs": [
    {
     "name": "stdout",
     "output_type": "stream",
     "text": [
      "1126\n",
      "140718\n"
     ]
    }
   ],
   "source": [
    "count = 0\n",
    "print(len(df_real['text'].iloc[0]))\n",
    "for i in range(41):\n",
    "    og_text = df_real['text'].iloc[i]\n",
    "    count += len(og_text)\n",
    "print(count)"
   ]
  },
  {
   "cell_type": "code",
   "execution_count": 59,
   "metadata": {},
   "outputs": [
    {
     "name": "stdout",
     "output_type": "stream",
     "text": [
      "Washington (CNN) President Donald Trump said Sunday he would extend nationwide social distancing guidelines for another 30 days, an abrupt back-down from his push to reopen the country as coronavirus continues to spread.\n",
      "\n",
      "The 15-day guidelines Trump announced two weeks ago were set to expire on Monday, and the President had suggested over the past week that he was looking to relax them, at least in some parts of the country. He even floated Easter, on April 12, as a potential date by which the country could return to normal.\n",
      "\n",
      "But on Sunday he said he'd decided to extend the guidelines -- which include suggested limits on large gatherings -- to April 30, a sign his earlier predictions were overly rosy.\n",
      "\n",
      "\"The better you do, the faster this whole nightmare will end,\" the President said Sunday at a White House news conference. He said he would be finalizing a new plan and strategy early this week and announcing the details on Tuesday.\n",
      "\n",
      "The announcement marked an abrupt turnaround from a week ago when Trump said he was convinced the distancing restrictions were causing irreparable damage to the economy.\n",
      "\n",
      "Read More\n"
     ]
    }
   ],
   "source": [
    "print(df_real['text'].iloc[0])"
   ]
  },
  {
   "cell_type": "code",
   "execution_count": 70,
   "metadata": {},
   "outputs": [
    {
     "name": "stdout",
     "output_type": "stream",
     "text": [
      "5463\n"
     ]
    }
   ],
   "source": [
    "print(len(df_real['text'].iloc[4]))"
   ]
  },
  {
   "cell_type": "code",
   "execution_count": 73,
   "metadata": {},
   "outputs": [
    {
     "name": "stdout",
     "output_type": "stream",
     "text": [
      "(CNN) The 2020 race, publicly at least has largely stopped as country battles the corona pandemic. Former Vice President Joe Biden and Vermont Senator Bernie Sanders are from the election campaign. As President Donald Trump, though his daily briefings corona Task Force has begun to resemble campaign events.\n",
      "\n",
      "given the state of the race, I Shrunk three only to observe the usual five storylines down - and made a bit more context available (and, I hope, value) in each.\n",
      "\n",
      "Stay safe. Stay at home.\n",
      "\n",
      "He has Democratic primaries effectively in the queue with up to at least the end of April (and possibly later), Sanders despite the extremely steep delegates completely content appears in the race remain hill to climb a chance of overtaking Biden for the nomination have.\n",
      "\n",
      "This is not an insignificant thing - or one without any consequences. Why? Since Biden takes the party to unite - especially liberals, Sanders or Massachusetts Senator Elizabeth Warren wanted and definitely did not want to Biden.\n",
      "\n",
      "The longer Sanders remains in the race - and given his fundraising ability, there is no compelling reason for him to get out - the more difficult the task of Biden is, and the faster he has to do before the general election.\n",
      "\n",
      "Biden, careful fans Sanders alienating the democratic socialist Vermont has plenty of room to give. Here is Biden earlier Sanders of \"Meet the Press\" today:\n",
      "\n",
      "\"Bernie Sanders has poured his heart and soul into this campaign. He has moved the ball with a series of questions, which are related government responsibilities to the. ... I think it is to make Bernie up to the judgment of whether to stay in the race or not to stay in the race. ... I think he has had a real impact, he has brought a lot of people in the process who were not previously in them. and so I think it's making a difficult decision for Bernie. \"\n",
      "\n",
      "Beautiful, is not it? For now. If Sanders stays in until the end is now pressed the first process, because corona shifts of votes due back, my guess Bidention team gets much less cordial.\n",
      "\n",
      "2. Biden takes the corona fight Trump: Grasping that President Trump benefits - generally speaking - by the way he is perceived, the corona crisis to deal with the former vice president campaign strikes back - hard.\n",
      "\n",
      "In a new web video Trump is shown to make it clear at a corona Task Force briefing last week that he was vice president Mike Pence did not say Democratic governors in Washington and Michigan to name because, what the administration done for the for them has sufficient were not grateful. Trump words are hard with the number of sick and dead in each state over. \"Cost lives His failure will\" appear on the screen at the end of the one-minute display.\n",
      "\n",
      "Itself is as Biden's campaign after Trump, is the candidate seeks his empathy with the President of the apparent lack to contrast it. While people have lost loved ones consolation corona in a town hall on CNN late last week, the former vice president choked.\n",
      "\n",
      "\"My message is that God loves you. You know, I've lost a couple of kids. I have a wife who lost. And it is incredibly hard to walk. And it is difficult to go through, if you do not had the opportunity to be with the person while they die. My mother, my father can be with them in bed with them and how they took their last breath. My son I was able to do that. My late wife I was not going to do in the location. I was to be there not able. And it makes a huge difference for people. \"\n",
      "\n",
      "The Biden team has to hope this dual-pronged attack - Post Trump highlight on his callousness and selfishness during Biden's own personal struggles (and the lessons he took from them) - will blunt the momentum gained the president during the corona pandemic Has.\n",
      "\n",
      "Considering that no one really knows how long asked this quarantined and will take social distancing, Biden and his team do their best to make sure he's still in the game when things return to some semblance of normalcy. Or if they do it.\n",
      "\n",
      "1. Trump poll surge: There is no question that President Trump in the middle of his best choice moment in the whole of his time in office now.\n",
      "\n",
      "Other polls by Gallup, Fox News and Monmouth University all confirm the post findings: Trump at or near historic highs job approval.\n",
      "\n",
      "The increase in Trump figures who had been immobile for much of his presidency is essentially due to the fact almost certainly generally positive reviews from his handling of the current pandemic corona coupled with a kind of rally-around-the-flag mentality that often courses through the country in moments of national crisis.\n",
      "\n",
      "The real question is not whether Trump numbers are in a better place than they were three months ago (it clearly is), but rather how long this increase is sufficient.\n",
      "\n",
      "While there is no direct equivalent of what we do with now in the modern history of the presidency of George W. Bush figures after September 11, 2001 terrorist attacks somewhat instructive.\n",
      "\n",
      "Bush met 90% approval in a Gallup poll 10 days after the attacks carried out - its high watermark. His job approval numbers not less than 50% dive back to May 2004 - two and a half years later.\n",
      "\n",
      "Of course, Trump is not 90% for approval. He's on 49 (ish)%. But the choice is now not three-plus years ago when it was when Bush met its high. It is a little more than 200 days away.\n"
     ]
    }
   ],
   "source": [
    "test = df_real['text'].iloc[4]\n",
    "from googletrans import Translator\n",
    "translator = Translator()\n",
    "foreign = translator.translate(test, dest='de', src='en')\n",
    "out = translator.translate(foreign.text, dest='en', src='de')\n",
    "print(out.text)\n",
    "\n",
    "# for i in range(4):\n",
    "#     print(len(df_real['text'].iloc[i]))\n"
   ]
  },
  {
   "cell_type": "code",
   "execution_count": 57,
   "metadata": {},
   "outputs": [],
   "source": [
    "from translate import Translator\n",
    "selected = 'de'\n",
    "j_trans = Translator(from_lang='en', to_lang=selected)\n",
    "e_trans = Translator(from_lang =selected, to_lang='en')"
   ]
  },
  {
   "cell_type": "code",
   "execution_count": 58,
   "metadata": {},
   "outputs": [],
   "source": [
    "test = df_real.iloc[0].text\n",
    "foreign = j_trans.translate(test)\n",
    "back = e_trans.translate(foreign)"
   ]
  },
  {
   "cell_type": "code",
   "execution_count": 59,
   "metadata": {},
   "outputs": [
    {
     "name": "stdout",
     "output_type": "stream",
     "text": [
      "QUERY LENGTH LIMIT EXCEDEED. MAX ALLOWED QUERY: 500 CHARS A week ago when Trump said he was convinced that the distance restrictions would do irreparable harm to the economy. Continue reading\n"
     ]
    }
   ],
   "source": [
    "print(back)"
   ]
  },
  {
   "cell_type": "code",
   "execution_count": 60,
   "metadata": {},
   "outputs": [
    {
     "name": "stdout",
     "output_type": "stream",
     "text": [
      "2244\n"
     ]
    }
   ],
   "source": [
    "num = df_real.shape[0]\n",
    "count = 0\n",
    "for i in range(num):\n",
    "    if len(df_real.iloc[i].text) < 12101:\n",
    "        count +=1\n",
    "print(count)"
   ]
  },
  {
   "cell_type": "code",
   "execution_count": 61,
   "metadata": {},
   "outputs": [
    {
     "name": "stdout",
     "output_type": "stream",
     "text": [
      "2315\n"
     ]
    }
   ],
   "source": [
    "print(num)"
   ]
  },
  {
   "cell_type": "code",
   "execution_count": null,
   "metadata": {},
   "outputs": [],
   "source": []
  }
 ],
 "metadata": {
  "kernelspec": {
   "display_name": "Python 3",
   "language": "python",
   "name": "python3"
  },
  "language_info": {
   "codemirror_mode": {
    "name": "ipython",
    "version": 3
   },
   "file_extension": ".py",
   "mimetype": "text/x-python",
   "name": "python",
   "nbconvert_exporter": "python",
   "pygments_lexer": "ipython3",
   "version": "3.7.4"
  }
 },
 "nbformat": 4,
 "nbformat_minor": 2
}
