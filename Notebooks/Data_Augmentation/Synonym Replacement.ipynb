{
 "cells": [
  {
   "cell_type": "code",
   "execution_count": 20,
   "metadata": {},
   "outputs": [],
   "source": [
    "import pandas as pd\n",
    "import random\n",
    "import csv\n",
    "from nltk.corpus import wordnet, stopwords\n"
   ]
  },
  {
   "cell_type": "code",
   "execution_count": 21,
   "metadata": {},
   "outputs": [],
   "source": [
    "stop_words = set(stopwords.words('english'))\n",
    "def synonym_replacement(words, n):\n",
    "    new_words = words.copy()\n",
    "    random_word_list = list(set([word for word in words if word not in stop_words]))\n",
    "    random.shuffle(random_word_list)\n",
    "    num_replaced = 0\n",
    "    for random_word in random_word_list:\n",
    "        synonyms = get_synonyms(random_word)\n",
    "        if len(synonyms) >= 1:\n",
    "            synonym = random.choice(list(synonyms))\n",
    "            new_words = [synonym if word == random_word else word for word in new_words]\n",
    "            #print(\"replaced\", random_word, \"with\", synonym)\n",
    "            num_replaced += 1\n",
    "        if num_replaced >= n: #only replace up to n words\n",
    "            break\n",
    "\n",
    "    #this is stupid but we need it, trust me\n",
    "    sentence = ' '.join(new_words)\n",
    "    new_words = sentence.split(' ')\n",
    "\n",
    "    return new_words\n",
    "\n",
    "def get_synonyms(word):\n",
    "    synonyms = set()\n",
    "    for syn in wordnet.synsets(word): \n",
    "        for l in syn.lemmas(): \n",
    "            synonym = l.name().replace(\"_\", \" \").replace(\"-\", \" \").lower()\n",
    "            synonym = \"\".join([char for char in synonym if char in ' qwertyuiopasdfghjklzxcvbnm'])\n",
    "            synonyms.add(synonym) \n",
    "    if word in synonyms:\n",
    "        synonyms.remove(word)\n",
    "    return list(synonyms)"
   ]
  },
  {
   "cell_type": "code",
   "execution_count": 22,
   "metadata": {},
   "outputs": [
    {
     "name": "stdout",
     "output_type": "stream",
     "text": [
      "['says', 'his', 'book,', 'the', 'Art', 'of', 'Deals,', 'is', 'the', '#', '1', 'selling', 'business', 'book', 'of', 'all', 'time.', 'candidate', 'biography,', 'professions', 'donald', 'trump', 'president', 'elected', 'new', 'york', 'republican']\n",
      "['pronounce', 'his', 'book,', 'the', 'Art', 'of', 'Deals,', 'is', 'the', '#', '1', 'selling', 'business', 'organisation', 'book', 'of', 'all', 'time.', 'nominee', 'biography,', 'professing', 'donald', 'cornet', 'president', 'elected', 'new', 'york', 'republican']\n"
     ]
    }
   ],
   "source": [
    "sent = \"says his book, the Art of Deals, is the # 1 selling business book of all time. candidate biography, professions donald trump president elected new york republican\"\n",
    "sent = sent.split(' ')\n",
    "sent = [s for s in sent if s is not '']\n",
    "print(sent)\n",
    "sr = synonym_replacement(sent,5)\n",
    "print(sr)"
   ]
  },
  {
   "cell_type": "code",
   "execution_count": 23,
   "metadata": {},
   "outputs": [
    {
     "name": "stdout",
     "output_type": "stream",
     "text": [
      "pronounce his book, the Art of Deals, is the # 1 selling business organisation book of all time. nominee biography, professing donald cornet president elected new york republican\n"
     ]
    }
   ],
   "source": [
    "print(' '.join(sr))"
   ]
  },
  {
   "cell_type": "code",
   "execution_count": 25,
   "metadata": {},
   "outputs": [
    {
     "name": "stdout",
     "output_type": "stream",
     "text": [
      "says his book, the Art of Deals, is the # 1 selling business book of all time. candidate biography, professions donald trump president elected new york republican\n"
     ]
    }
   ],
   "source": [
    "sent = \"says his book, the Art of Deals, is the # 1 selling business book of all time. candidate biography, professions donald trump president elected new york republican\"\n",
    "print(sent)"
   ]
  },
  {
   "cell_type": "code",
   "execution_count": null,
   "metadata": {},
   "outputs": [],
   "source": []
  }
 ],
 "metadata": {
  "kernelspec": {
   "display_name": "Python 3",
   "language": "python",
   "name": "python3"
  },
  "language_info": {
   "codemirror_mode": {
    "name": "ipython",
    "version": 3
   },
   "file_extension": ".py",
   "mimetype": "text/x-python",
   "name": "python",
   "nbconvert_exporter": "python",
   "pygments_lexer": "ipython3",
   "version": "3.7.4"
  }
 },
 "nbformat": 4,
 "nbformat_minor": 2
}
