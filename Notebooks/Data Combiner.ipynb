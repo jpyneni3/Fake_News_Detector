{
 "cells": [
  {
   "cell_type": "code",
   "execution_count": 17,
   "metadata": {},
   "outputs": [],
   "source": [
    "import pandas as pd\n",
    "import numpy as np\n",
    "import json\n",
    "import csv\n",
    "import os"
   ]
  },
  {
   "cell_type": "code",
   "execution_count": 18,
   "metadata": {},
   "outputs": [],
   "source": [
    "folder = \"../Cleaned Data\"\n",
    "\n",
    "dataframes = []\n",
    "file_names = []\n",
    "for file in os.listdir(folder):\n",
    "    if file != \"Neural_Fake_News.csv\":\n",
    "        filepath = folder+\"/{}\".format(file)\n",
    "        dataframes.append(pd.read_csv(filepath))\n",
    "        file_names.append(file)\n"
   ]
  },
  {
   "cell_type": "code",
   "execution_count": 19,
   "metadata": {},
   "outputs": [
    {
     "name": "stdout",
     "output_type": "stream",
     "text": [
      "Kaggle2_Mixed.csv\n",
      "(20761, 3)\n",
      "Real_News.csv\n",
      "(2347, 3)\n",
      "Human_Fake_News.csv\n",
      "(12273, 3)\n",
      "Kaggle3_Real.csv\n",
      "(24646, 3)\n",
      "LIAR.csv\n",
      "(12791, 4)\n",
      "72818\n"
     ]
    }
   ],
   "source": [
    "total = 0\n",
    "for i in range(len(dataframes)):\n",
    "    print(file_names[i])\n",
    "    print(dataframes[i].shape)\n",
    "    total += dataframes[i].shape[0]\n",
    "print(total)"
   ]
  },
  {
   "cell_type": "code",
   "execution_count": 20,
   "metadata": {},
   "outputs": [
    {
     "name": "stdout",
     "output_type": "stream",
     "text": [
      "['Unnamed: 0', 'label', 'clean_text']\n",
      "['Unnamed: 0', 'url', 'clean_text']\n",
      "['Unnamed: 0', 'site_url', 'clean_text']\n",
      "['Unnamed: 0', 'label', 'clean_text']\n",
      "['Unnamed: 0', 'label', 'text', 'clean_text']\n"
     ]
    }
   ],
   "source": [
    "for i in dataframes:\n",
    "    print(list(i))"
   ]
  },
  {
   "cell_type": "code",
   "execution_count": 32,
   "metadata": {},
   "outputs": [],
   "source": [
    "dataframes[1].drop(['url'], inplace=True, axis=1)\n",
    "dataframes[2].drop(['site_url'], inplace=True, axis=1)"
   ]
  },
  {
   "cell_type": "code",
   "execution_count": 33,
   "metadata": {},
   "outputs": [
    {
     "name": "stdout",
     "output_type": "stream",
     "text": [
      "['label', 'clean_text']\n",
      "['clean_text']\n",
      "['clean_text']\n",
      "['label', 'clean_text']\n",
      "['label', 'clean_text']\n"
     ]
    }
   ],
   "source": [
    "for i in dataframes:\n",
    "    print(list(i))"
   ]
  },
  {
   "cell_type": "code",
   "execution_count": 27,
   "metadata": {},
   "outputs": [
    {
     "data": {
      "text/html": [
       "<div>\n",
       "<style scoped>\n",
       "    .dataframe tbody tr th:only-of-type {\n",
       "        vertical-align: middle;\n",
       "    }\n",
       "\n",
       "    .dataframe tbody tr th {\n",
       "        vertical-align: top;\n",
       "    }\n",
       "\n",
       "    .dataframe thead th {\n",
       "        text-align: right;\n",
       "    }\n",
       "</style>\n",
       "<table border=\"1\" class=\"dataframe\">\n",
       "  <thead>\n",
       "    <tr style=\"text-align: right;\">\n",
       "      <th></th>\n",
       "      <th>clean_text</th>\n",
       "    </tr>\n",
       "    <tr>\n",
       "      <th>label</th>\n",
       "      <th></th>\n",
       "    </tr>\n",
       "  </thead>\n",
       "  <tbody>\n",
       "    <tr>\n",
       "      <td>Fake</td>\n",
       "      <td>10249</td>\n",
       "    </tr>\n",
       "    <tr>\n",
       "      <td>Real</td>\n",
       "      <td>10386</td>\n",
       "    </tr>\n",
       "  </tbody>\n",
       "</table>\n",
       "</div>"
      ],
      "text/plain": [
       "       clean_text\n",
       "label            \n",
       "Fake        10249\n",
       "Real        10386"
      ]
     },
     "execution_count": 27,
     "metadata": {},
     "output_type": "execute_result"
    }
   ],
   "source": [
    "dataframes[0].groupby('label').agg('count')"
   ]
  },
  {
   "cell_type": "code",
   "execution_count": 35,
   "metadata": {},
   "outputs": [
    {
     "name": "stdout",
     "output_type": "stream",
     "text": [
      "Real_News.csv\n"
     ]
    },
    {
     "data": {
      "text/html": [
       "<div>\n",
       "<style scoped>\n",
       "    .dataframe tbody tr th:only-of-type {\n",
       "        vertical-align: middle;\n",
       "    }\n",
       "\n",
       "    .dataframe tbody tr th {\n",
       "        vertical-align: top;\n",
       "    }\n",
       "\n",
       "    .dataframe thead th {\n",
       "        text-align: right;\n",
       "    }\n",
       "</style>\n",
       "<table border=\"1\" class=\"dataframe\">\n",
       "  <thead>\n",
       "    <tr style=\"text-align: right;\">\n",
       "      <th></th>\n",
       "      <th>clean_text</th>\n",
       "    </tr>\n",
       "    <tr>\n",
       "      <th>label</th>\n",
       "      <th></th>\n",
       "    </tr>\n",
       "  </thead>\n",
       "  <tbody>\n",
       "    <tr>\n",
       "      <td>Real</td>\n",
       "      <td>2347</td>\n",
       "    </tr>\n",
       "  </tbody>\n",
       "</table>\n",
       "</div>"
      ],
      "text/plain": [
       "       clean_text\n",
       "label            \n",
       "Real         2347"
      ]
     },
     "execution_count": 35,
     "metadata": {},
     "output_type": "execute_result"
    }
   ],
   "source": [
    "print(file_names[1])\n",
    "dataframes[1]['label'] = 'Real'\n",
    "dataframes[1].groupby('label').agg('count')"
   ]
  },
  {
   "cell_type": "code",
   "execution_count": 37,
   "metadata": {},
   "outputs": [
    {
     "name": "stdout",
     "output_type": "stream",
     "text": [
      "Human_Fake_News.csv\n"
     ]
    },
    {
     "data": {
      "text/html": [
       "<div>\n",
       "<style scoped>\n",
       "    .dataframe tbody tr th:only-of-type {\n",
       "        vertical-align: middle;\n",
       "    }\n",
       "\n",
       "    .dataframe tbody tr th {\n",
       "        vertical-align: top;\n",
       "    }\n",
       "\n",
       "    .dataframe thead th {\n",
       "        text-align: right;\n",
       "    }\n",
       "</style>\n",
       "<table border=\"1\" class=\"dataframe\">\n",
       "  <thead>\n",
       "    <tr style=\"text-align: right;\">\n",
       "      <th></th>\n",
       "      <th>clean_text</th>\n",
       "    </tr>\n",
       "    <tr>\n",
       "      <th>label</th>\n",
       "      <th></th>\n",
       "    </tr>\n",
       "  </thead>\n",
       "  <tbody>\n",
       "    <tr>\n",
       "      <td>Fake</td>\n",
       "      <td>12104</td>\n",
       "    </tr>\n",
       "  </tbody>\n",
       "</table>\n",
       "</div>"
      ],
      "text/plain": [
       "       clean_text\n",
       "label            \n",
       "Fake        12104"
      ]
     },
     "execution_count": 37,
     "metadata": {},
     "output_type": "execute_result"
    }
   ],
   "source": [
    "print(file_names[2])\n",
    "dataframes[2]['label'] = 'Fake'\n",
    "dataframes[2].groupby('label').agg('count')"
   ]
  },
  {
   "cell_type": "code",
   "execution_count": 38,
   "metadata": {},
   "outputs": [
    {
     "data": {
      "text/html": [
       "<div>\n",
       "<style scoped>\n",
       "    .dataframe tbody tr th:only-of-type {\n",
       "        vertical-align: middle;\n",
       "    }\n",
       "\n",
       "    .dataframe tbody tr th {\n",
       "        vertical-align: top;\n",
       "    }\n",
       "\n",
       "    .dataframe thead th {\n",
       "        text-align: right;\n",
       "    }\n",
       "</style>\n",
       "<table border=\"1\" class=\"dataframe\">\n",
       "  <thead>\n",
       "    <tr style=\"text-align: right;\">\n",
       "      <th></th>\n",
       "      <th>clean_text</th>\n",
       "    </tr>\n",
       "    <tr>\n",
       "      <th>label</th>\n",
       "      <th></th>\n",
       "    </tr>\n",
       "  </thead>\n",
       "  <tbody>\n",
       "    <tr>\n",
       "      <td>Real</td>\n",
       "      <td>24582</td>\n",
       "    </tr>\n",
       "  </tbody>\n",
       "</table>\n",
       "</div>"
      ],
      "text/plain": [
       "       clean_text\n",
       "label            \n",
       "Real        24582"
      ]
     },
     "execution_count": 38,
     "metadata": {},
     "output_type": "execute_result"
    }
   ],
   "source": [
    "dataframes[3].groupby('label').agg('count')"
   ]
  },
  {
   "cell_type": "code",
   "execution_count": 39,
   "metadata": {},
   "outputs": [
    {
     "data": {
      "text/html": [
       "<div>\n",
       "<style scoped>\n",
       "    .dataframe tbody tr th:only-of-type {\n",
       "        vertical-align: middle;\n",
       "    }\n",
       "\n",
       "    .dataframe tbody tr th {\n",
       "        vertical-align: top;\n",
       "    }\n",
       "\n",
       "    .dataframe thead th {\n",
       "        text-align: right;\n",
       "    }\n",
       "</style>\n",
       "<table border=\"1\" class=\"dataframe\">\n",
       "  <thead>\n",
       "    <tr style=\"text-align: right;\">\n",
       "      <th></th>\n",
       "      <th>clean_text</th>\n",
       "    </tr>\n",
       "    <tr>\n",
       "      <th>label</th>\n",
       "      <th></th>\n",
       "    </tr>\n",
       "  </thead>\n",
       "  <tbody>\n",
       "    <tr>\n",
       "      <td>Fake</td>\n",
       "      <td>5657</td>\n",
       "    </tr>\n",
       "    <tr>\n",
       "      <td>Real</td>\n",
       "      <td>7134</td>\n",
       "    </tr>\n",
       "  </tbody>\n",
       "</table>\n",
       "</div>"
      ],
      "text/plain": [
       "       clean_text\n",
       "label            \n",
       "Fake         5657\n",
       "Real         7134"
      ]
     },
     "execution_count": 39,
     "metadata": {},
     "output_type": "execute_result"
    }
   ],
   "source": [
    "\n",
    "dataframes[4].groupby('label').agg('count')"
   ]
  },
  {
   "cell_type": "code",
   "execution_count": 40,
   "metadata": {},
   "outputs": [
    {
     "name": "stdout",
     "output_type": "stream",
     "text": [
      "['label', 'clean_text']\n",
      "['clean_text', 'label']\n",
      "['clean_text', 'label']\n",
      "['label', 'clean_text']\n",
      "['label', 'clean_text']\n"
     ]
    }
   ],
   "source": [
    "for i in dataframes:\n",
    "    print(list(i))"
   ]
  },
  {
   "cell_type": "code",
   "execution_count": 41,
   "metadata": {},
   "outputs": [
    {
     "name": "stdout",
     "output_type": "stream",
     "text": [
      "['label', 'clean_text']\n",
      "['label', 'clean_text']\n",
      "['label', 'clean_text']\n",
      "['label', 'clean_text']\n",
      "['label', 'clean_text']\n"
     ]
    }
   ],
   "source": [
    "dataframes[1] = dataframes[1][['label', 'clean_text']]\n",
    "dataframes[2] = dataframes[2][['label', 'clean_text']]\n",
    "for i in dataframes:\n",
    "    print(list(i))"
   ]
  },
  {
   "cell_type": "code",
   "execution_count": 61,
   "metadata": {},
   "outputs": [],
   "source": [
    "for i in dataframes:\n",
    "    i.loc[(i.label == 'Real'), 'label'] = 1\n",
    "    i.loc[(i.label == 'Fake'), 'label'] = 0"
   ]
  },
  {
   "cell_type": "code",
   "execution_count": 62,
   "metadata": {},
   "outputs": [
    {
     "data": {
      "text/html": [
       "<div>\n",
       "<style scoped>\n",
       "    .dataframe tbody tr th:only-of-type {\n",
       "        vertical-align: middle;\n",
       "    }\n",
       "\n",
       "    .dataframe tbody tr th {\n",
       "        vertical-align: top;\n",
       "    }\n",
       "\n",
       "    .dataframe thead th {\n",
       "        text-align: right;\n",
       "    }\n",
       "</style>\n",
       "<table border=\"1\" class=\"dataframe\">\n",
       "  <thead>\n",
       "    <tr style=\"text-align: right;\">\n",
       "      <th></th>\n",
       "      <th>label</th>\n",
       "      <th>clean_text</th>\n",
       "    </tr>\n",
       "  </thead>\n",
       "  <tbody>\n",
       "    <tr>\n",
       "      <td>0</td>\n",
       "      <td>0</td>\n",
       "      <td>house dem aide didnt even see comeys letter ja...</td>\n",
       "    </tr>\n",
       "    <tr>\n",
       "      <td>1</td>\n",
       "      <td>1</td>\n",
       "      <td>ever get feeling life circles roundabout rathe...</td>\n",
       "    </tr>\n",
       "    <tr>\n",
       "      <td>2</td>\n",
       "      <td>0</td>\n",
       "      <td>truth might get fired october   tension intell...</td>\n",
       "    </tr>\n",
       "    <tr>\n",
       "      <td>3</td>\n",
       "      <td>0</td>\n",
       "      <td>videos  civilians killed single us airstrike i...</td>\n",
       "    </tr>\n",
       "    <tr>\n",
       "      <td>4</td>\n",
       "      <td>0</td>\n",
       "      <td>print iranian woman sentenced six years prison...</td>\n",
       "    </tr>\n",
       "  </tbody>\n",
       "</table>\n",
       "</div>"
      ],
      "text/plain": [
       "  label                                         clean_text\n",
       "0     0  house dem aide didnt even see comeys letter ja...\n",
       "1     1  ever get feeling life circles roundabout rathe...\n",
       "2     0  truth might get fired october   tension intell...\n",
       "3     0  videos  civilians killed single us airstrike i...\n",
       "4     0  print iranian woman sentenced six years prison..."
      ]
     },
     "execution_count": 62,
     "metadata": {},
     "output_type": "execute_result"
    }
   ],
   "source": [
    "combined = pd.concat(dataframes)\n",
    "combined.head()"
   ]
  },
  {
   "cell_type": "code",
   "execution_count": 63,
   "metadata": {},
   "outputs": [
    {
     "name": "stdout",
     "output_type": "stream",
     "text": [
      "(72818, 2)\n",
      "      label                                         clean_text\n",
      "12786     1  first time decade imports accounted less half ...\n",
      "12787     1  says donald trump bankrupted companies twice f...\n",
      "12788     1  john mccain george bush absolutely plan univer...\n",
      "12789     0  new poll shows  percent support presidents pla...\n",
      "12790     0  one claims report vindicating new jersey gov c...\n",
      "       clean_text\n",
      "label            \n",
      "0           28010\n",
      "1           44449\n"
     ]
    }
   ],
   "source": [
    "print(combined.shape)\n",
    "print(combined.tail())\n",
    "print(combined.groupby('label').agg('count'))\n"
   ]
  },
  {
   "cell_type": "code",
   "execution_count": 64,
   "metadata": {},
   "outputs": [
    {
     "data": {
      "text/html": [
       "<div>\n",
       "<style scoped>\n",
       "    .dataframe tbody tr th:only-of-type {\n",
       "        vertical-align: middle;\n",
       "    }\n",
       "\n",
       "    .dataframe tbody tr th {\n",
       "        vertical-align: top;\n",
       "    }\n",
       "\n",
       "    .dataframe thead th {\n",
       "        text-align: right;\n",
       "    }\n",
       "</style>\n",
       "<table border=\"1\" class=\"dataframe\">\n",
       "  <thead>\n",
       "    <tr style=\"text-align: right;\">\n",
       "      <th></th>\n",
       "      <th>index</th>\n",
       "      <th>label</th>\n",
       "      <th>clean_text</th>\n",
       "    </tr>\n",
       "  </thead>\n",
       "  <tbody>\n",
       "    <tr>\n",
       "      <td>72813</td>\n",
       "      <td>12786</td>\n",
       "      <td>1</td>\n",
       "      <td>first time decade imports accounted less half ...</td>\n",
       "    </tr>\n",
       "    <tr>\n",
       "      <td>72814</td>\n",
       "      <td>12787</td>\n",
       "      <td>1</td>\n",
       "      <td>says donald trump bankrupted companies twice f...</td>\n",
       "    </tr>\n",
       "    <tr>\n",
       "      <td>72815</td>\n",
       "      <td>12788</td>\n",
       "      <td>1</td>\n",
       "      <td>john mccain george bush absolutely plan univer...</td>\n",
       "    </tr>\n",
       "    <tr>\n",
       "      <td>72816</td>\n",
       "      <td>12789</td>\n",
       "      <td>0</td>\n",
       "      <td>new poll shows  percent support presidents pla...</td>\n",
       "    </tr>\n",
       "    <tr>\n",
       "      <td>72817</td>\n",
       "      <td>12790</td>\n",
       "      <td>0</td>\n",
       "      <td>one claims report vindicating new jersey gov c...</td>\n",
       "    </tr>\n",
       "  </tbody>\n",
       "</table>\n",
       "</div>"
      ],
      "text/plain": [
       "       index label                                         clean_text\n",
       "72813  12786     1  first time decade imports accounted less half ...\n",
       "72814  12787     1  says donald trump bankrupted companies twice f...\n",
       "72815  12788     1  john mccain george bush absolutely plan univer...\n",
       "72816  12789     0  new poll shows  percent support presidents pla...\n",
       "72817  12790     0  one claims report vindicating new jersey gov c..."
      ]
     },
     "execution_count": 64,
     "metadata": {},
     "output_type": "execute_result"
    }
   ],
   "source": [
    "combined.reset_index(inplace=True)\n",
    "combined.tail()"
   ]
  },
  {
   "cell_type": "code",
   "execution_count": 65,
   "metadata": {},
   "outputs": [],
   "source": [
    "combined.to_csv('../Cleaned Data/combined.csv')"
   ]
  },
  {
   "cell_type": "code",
   "execution_count": 66,
   "metadata": {},
   "outputs": [
    {
     "name": "stdout",
     "output_type": "stream",
     "text": [
      "   index label                                         clean_text\n",
      "0      0     0  house dem aide didnt even see comeys letter ja...\n",
      "1      1     1  ever get feeling life circles roundabout rathe...\n",
      "2      2     0  truth might get fired october   tension intell...\n",
      "3      3     0  videos  civilians killed single us airstrike i...\n",
      "4      4     0  print iranian woman sentenced six years prison...\n",
      "(23108, 3)\n",
      "       index label                                         clean_text\n",
      "23103   2342     1  south korea significantly improved legal frame...\n",
      "23104   2343     1  zak driouche stepped outside quattro formaggi ...\n",
      "23105   2344     1  throughout march even business manufacturing s...\n",
      "23106   2345     1  californias effort move homeless people hotel ...\n",
      "23107   2346     1  growing numbers protesters challenge coronavir...\n",
      "       index  clean_text\n",
      "label                   \n",
      "0      10374       10249\n",
      "1      12734       12733\n"
     ]
    }
   ],
   "source": [
    "combined2 = pd.concat(dataframes[0:2])\n",
    "combined2.reset_index(inplace=True)\n",
    "print(combined2.head())\n",
    "print(combined2.shape)\n",
    "print(combined2.tail())\n",
    "print(combined2.groupby('label').agg('count'))\n",
    "\n"
   ]
  },
  {
   "cell_type": "code",
   "execution_count": 67,
   "metadata": {},
   "outputs": [],
   "source": [
    "combined2.to_csv('../Cleaned Data/combined_1.csv')"
   ]
  },
  {
   "cell_type": "code",
   "execution_count": 68,
   "metadata": {},
   "outputs": [
    {
     "name": "stdout",
     "output_type": "stream",
     "text": [
      "   index label                                         clean_text\n",
      "0      0     0  print pay back money plus interest entire fami...\n",
      "1      1     0  attorney general loretta lynch plead fifth bar...\n",
      "2      2     0  red state  fox news sunday reported morning an...\n",
      "3      3     0  email kayla mueller prisoner tortured isis cha...\n",
      "4      4     0  email healthcare reform make america great sin...\n",
      "(25064, 3)\n",
      "       index label                                         clean_text\n",
      "25059  12786     1  first time decade imports accounted less half ...\n",
      "25060  12787     1  says donald trump bankrupted companies twice f...\n",
      "25061  12788     1  john mccain george bush absolutely plan univer...\n",
      "25062  12789     0  new poll shows  percent support presidents pla...\n",
      "25063  12790     0  one claims report vindicating new jersey gov c...\n",
      "       index  clean_text\n",
      "label                   \n",
      "0      17930       17761\n",
      "1       7134        7134\n"
     ]
    }
   ],
   "source": [
    "combined3 = pd.concat([dataframes[2],dataframes[4]])\n",
    "combined3.reset_index(inplace=True)\n",
    "print(combined3.head())\n",
    "print(combined3.shape)\n",
    "print(combined3.tail())\n",
    "print(combined3.groupby('label').agg('count'))\n",
    "\n",
    "\n"
   ]
  },
  {
   "cell_type": "code",
   "execution_count": 69,
   "metadata": {},
   "outputs": [],
   "source": [
    "combined3.to_csv('../Cleaned Data/combined_2.csv')"
   ]
  },
  {
   "cell_type": "code",
   "execution_count": 70,
   "metadata": {},
   "outputs": [
    {
     "name": "stdout",
     "output_type": "stream",
     "text": [
      "  label                                         clean_text\n",
      "0     1  final day  donald trump sent new years message...\n",
      "1     1  promotion fake news big problem sites like fac...\n",
      "2     1  russian hackers breached vermont electrical ut...\n",
      "3     1  beirut reuters united nations security council...\n",
      "4     1  retailers bracing fresh wave store closures st...\n",
      "(24646, 2)\n",
      "      label                                         clean_text\n",
      "24641     1  net long bets dollar fell last week first time...\n",
      "24642     1  wall streets rally could derailed renewed worr...\n",
      "24643     1  reuters breakingviews walt disney may looking ...\n",
      "24644     1  story refiled correct date paragraph    lisa r...\n",
      "24645     1  european capitals tightened security friday ah...\n",
      "       clean_text\n",
      "label            \n",
      "1           24582\n"
     ]
    }
   ],
   "source": [
    "combined4 = dataframes[3]\n",
    "combined3.reset_index(inplace=True)\n",
    "print(combined4.head())\n",
    "print(combined4.shape)\n",
    "print(combined4.tail())\n",
    "print(combined4.groupby('label').agg('count'))\n",
    "\n"
   ]
  },
  {
   "cell_type": "code",
   "execution_count": 71,
   "metadata": {},
   "outputs": [],
   "source": [
    "combined4.to_csv('../Cleaned Data/combined_3.csv')"
   ]
  },
  {
   "cell_type": "code",
   "execution_count": null,
   "metadata": {},
   "outputs": [],
   "source": []
  }
 ],
 "metadata": {
  "kernelspec": {
   "display_name": "Python 3",
   "language": "python",
   "name": "python3"
  },
  "language_info": {
   "codemirror_mode": {
    "name": "ipython",
    "version": 3
   },
   "file_extension": ".py",
   "mimetype": "text/x-python",
   "name": "python",
   "nbconvert_exporter": "python",
   "pygments_lexer": "ipython3",
   "version": "3.7.4"
  }
 },
 "nbformat": 4,
 "nbformat_minor": 2
}
