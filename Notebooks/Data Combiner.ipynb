{
 "cells": [
  {
   "cell_type": "code",
   "execution_count": 1,
   "metadata": {},
   "outputs": [],
   "source": [
    "import pandas as pd\n",
    "import numpy as np\n",
    "import json"
   ]
  },
  {
   "cell_type": "code",
   "execution_count": 2,
   "metadata": {},
   "outputs": [
    {
     "name": "stdout",
     "output_type": "stream",
     "text": [
      "(909, 3)\n"
     ]
    },
    {
     "data": {
      "text/html": [
       "<div>\n",
       "<style scoped>\n",
       "    .dataframe tbody tr th:only-of-type {\n",
       "        vertical-align: middle;\n",
       "    }\n",
       "\n",
       "    .dataframe tbody tr th {\n",
       "        vertical-align: top;\n",
       "    }\n",
       "\n",
       "    .dataframe thead th {\n",
       "        text-align: right;\n",
       "    }\n",
       "</style>\n",
       "<table border=\"1\" class=\"dataframe\">\n",
       "  <thead>\n",
       "    <tr style=\"text-align: right;\">\n",
       "      <th></th>\n",
       "      <th>url</th>\n",
       "      <th>title</th>\n",
       "      <th>text</th>\n",
       "    </tr>\n",
       "  </thead>\n",
       "  <tbody>\n",
       "    <tr>\n",
       "      <td>0</td>\n",
       "      <td>https://www.cnn.com/2020/03/29/politics/trump-...</td>\n",
       "      <td>Trump extends federal social distancing guidel...</td>\n",
       "      <td>Washington (CNN) President Donald Trump said S...</td>\n",
       "    </tr>\n",
       "    <tr>\n",
       "      <td>1</td>\n",
       "      <td>https://www.cnn.com/world/live-news/coronaviru...</td>\n",
       "      <td>Coronavirus live updates: Global pandemic kill...</td>\n",
       "      <td>The exterior of Elmhurst Hospital in Queens on...</td>\n",
       "    </tr>\n",
       "    <tr>\n",
       "      <td>2</td>\n",
       "      <td>https://www.cnn.com/2020/03/29/politics/trump-...</td>\n",
       "      <td>Trump concedes US coronavirus death toll could...</td>\n",
       "      <td>(CNN) President Donald Trump acknowledged Sund...</td>\n",
       "    </tr>\n",
       "    <tr>\n",
       "      <td>3</td>\n",
       "      <td>https://www.cnn.com/interactive/2020/health/co...</td>\n",
       "      <td>Tracking Covid-19 cases in the US</td>\n",
       "      <td>NaN</td>\n",
       "    </tr>\n",
       "    <tr>\n",
       "      <td>4</td>\n",
       "      <td>https://www.cnn.com/2020/03/29/opinions/donald...</td>\n",
       "      <td>Donald Trump's special day</td>\n",
       "      <td>Sign up to get our new weekly column as a news...</td>\n",
       "    </tr>\n",
       "  </tbody>\n",
       "</table>\n",
       "</div>"
      ],
      "text/plain": [
       "                                                 url  \\\n",
       "0  https://www.cnn.com/2020/03/29/politics/trump-...   \n",
       "1  https://www.cnn.com/world/live-news/coronaviru...   \n",
       "2  https://www.cnn.com/2020/03/29/politics/trump-...   \n",
       "3  https://www.cnn.com/interactive/2020/health/co...   \n",
       "4  https://www.cnn.com/2020/03/29/opinions/donald...   \n",
       "\n",
       "                                               title  \\\n",
       "0  Trump extends federal social distancing guidel...   \n",
       "1  Coronavirus live updates: Global pandemic kill...   \n",
       "2  Trump concedes US coronavirus death toll could...   \n",
       "3                  Tracking Covid-19 cases in the US   \n",
       "4                         Donald Trump's special day   \n",
       "\n",
       "                                                text  \n",
       "0  Washington (CNN) President Donald Trump said S...  \n",
       "1  The exterior of Elmhurst Hospital in Queens on...  \n",
       "2  (CNN) President Donald Trump acknowledged Sund...  \n",
       "3                                                NaN  \n",
       "4  Sign up to get our new weekly column as a news...  "
      ]
     },
     "execution_count": 2,
     "metadata": {},
     "output_type": "execute_result"
    }
   ],
   "source": [
    "df_real = pd.read_csv('../Uncleaned Data/Real_Scrapped.csv')\n",
    "print(df_real.shape)\n",
    "df_real.head()\n",
    "\n"
   ]
  },
  {
   "cell_type": "code",
   "execution_count": 3,
   "metadata": {},
   "outputs": [
    {
     "name": "stdout",
     "output_type": "stream",
     "text": [
      "(905, 4)\n"
     ]
    },
    {
     "data": {
      "text/html": [
       "<div>\n",
       "<style scoped>\n",
       "    .dataframe tbody tr th:only-of-type {\n",
       "        vertical-align: middle;\n",
       "    }\n",
       "\n",
       "    .dataframe tbody tr th {\n",
       "        vertical-align: top;\n",
       "    }\n",
       "\n",
       "    .dataframe thead th {\n",
       "        text-align: right;\n",
       "    }\n",
       "</style>\n",
       "<table border=\"1\" class=\"dataframe\">\n",
       "  <thead>\n",
       "    <tr style=\"text-align: right;\">\n",
       "      <th></th>\n",
       "      <th>title</th>\n",
       "      <th>text</th>\n",
       "      <th>label</th>\n",
       "    </tr>\n",
       "  </thead>\n",
       "  <tbody>\n",
       "    <tr>\n",
       "      <td>0</td>\n",
       "      <td>Trump extends federal social distancing guidel...</td>\n",
       "      <td>Washington (CNN) President Donald Trump said S...</td>\n",
       "      <td>1</td>\n",
       "    </tr>\n",
       "    <tr>\n",
       "      <td>1</td>\n",
       "      <td>Coronavirus live updates: Global pandemic kill...</td>\n",
       "      <td>The exterior of Elmhurst Hospital in Queens on...</td>\n",
       "      <td>1</td>\n",
       "    </tr>\n",
       "    <tr>\n",
       "      <td>2</td>\n",
       "      <td>Trump concedes US coronavirus death toll could...</td>\n",
       "      <td>(CNN) President Donald Trump acknowledged Sund...</td>\n",
       "      <td>1</td>\n",
       "    </tr>\n",
       "    <tr>\n",
       "      <td>4</td>\n",
       "      <td>Donald Trump's special day</td>\n",
       "      <td>Sign up to get our new weekly column as a news...</td>\n",
       "      <td>1</td>\n",
       "    </tr>\n",
       "    <tr>\n",
       "      <td>5</td>\n",
       "      <td>How long will Trump's poll surge last?</td>\n",
       "      <td>(CNN) The 2020 race, publicly at least, has la...</td>\n",
       "      <td>1</td>\n",
       "    </tr>\n",
       "  </tbody>\n",
       "</table>\n",
       "</div>"
      ],
      "text/plain": [
       "                                               title  \\\n",
       "0  Trump extends federal social distancing guidel...   \n",
       "1  Coronavirus live updates: Global pandemic kill...   \n",
       "2  Trump concedes US coronavirus death toll could...   \n",
       "4                         Donald Trump's special day   \n",
       "5             How long will Trump's poll surge last?   \n",
       "\n",
       "                                                text  label  \n",
       "0  Washington (CNN) President Donald Trump said S...      1  \n",
       "1  The exterior of Elmhurst Hospital in Queens on...      1  \n",
       "2  (CNN) President Donald Trump acknowledged Sund...      1  \n",
       "4  Sign up to get our new weekly column as a news...      1  \n",
       "5  (CNN) The 2020 race, publicly at least, has la...      1  "
      ]
     },
     "execution_count": 3,
     "metadata": {},
     "output_type": "execute_result"
    }
   ],
   "source": [
    "df_real['label'] = 1\n",
    "df_real.dropna(inplace=True)\n",
    "print(df_real.shape)\n",
    "df_real.drop(['url'],axis=1,inplace=True)\n",
    "df_real.head()"
   ]
  },
  {
   "cell_type": "code",
   "execution_count": 4,
   "metadata": {},
   "outputs": [],
   "source": [
    "df_fake = pd.read_csv('../Uncleaned Data/fake.csv')"
   ]
  },
  {
   "cell_type": "code",
   "execution_count": 5,
   "metadata": {},
   "outputs": [
    {
     "name": "stdout",
     "output_type": "stream",
     "text": [
      "(12999, 20)\n"
     ]
    },
    {
     "data": {
      "text/html": [
       "<div>\n",
       "<style scoped>\n",
       "    .dataframe tbody tr th:only-of-type {\n",
       "        vertical-align: middle;\n",
       "    }\n",
       "\n",
       "    .dataframe tbody tr th {\n",
       "        vertical-align: top;\n",
       "    }\n",
       "\n",
       "    .dataframe thead th {\n",
       "        text-align: right;\n",
       "    }\n",
       "</style>\n",
       "<table border=\"1\" class=\"dataframe\">\n",
       "  <thead>\n",
       "    <tr style=\"text-align: right;\">\n",
       "      <th></th>\n",
       "      <th>uuid</th>\n",
       "      <th>ord_in_thread</th>\n",
       "      <th>author</th>\n",
       "      <th>published</th>\n",
       "      <th>title</th>\n",
       "      <th>text</th>\n",
       "      <th>language</th>\n",
       "      <th>crawled</th>\n",
       "      <th>site_url</th>\n",
       "      <th>country</th>\n",
       "      <th>domain_rank</th>\n",
       "      <th>thread_title</th>\n",
       "      <th>spam_score</th>\n",
       "      <th>main_img_url</th>\n",
       "      <th>replies_count</th>\n",
       "      <th>participants_count</th>\n",
       "      <th>likes</th>\n",
       "      <th>comments</th>\n",
       "      <th>shares</th>\n",
       "      <th>type</th>\n",
       "    </tr>\n",
       "  </thead>\n",
       "  <tbody>\n",
       "    <tr>\n",
       "      <td>0</td>\n",
       "      <td>6a175f46bcd24d39b3e962ad0f29936721db70db</td>\n",
       "      <td>0</td>\n",
       "      <td>Barracuda Brigade</td>\n",
       "      <td>2016-10-26T21:41:00.000+03:00</td>\n",
       "      <td>Muslims BUSTED: They Stole Millions In Gov’t B...</td>\n",
       "      <td>Print They should pay all the back all the mon...</td>\n",
       "      <td>english</td>\n",
       "      <td>2016-10-27T01:49:27.168+03:00</td>\n",
       "      <td>100percentfedup.com</td>\n",
       "      <td>US</td>\n",
       "      <td>25689.0</td>\n",
       "      <td>Muslims BUSTED: They Stole Millions In Gov’t B...</td>\n",
       "      <td>0.000</td>\n",
       "      <td>http://bb4sp.com/wp-content/uploads/2016/10/Fu...</td>\n",
       "      <td>0</td>\n",
       "      <td>1</td>\n",
       "      <td>0</td>\n",
       "      <td>0</td>\n",
       "      <td>0</td>\n",
       "      <td>bias</td>\n",
       "    </tr>\n",
       "    <tr>\n",
       "      <td>1</td>\n",
       "      <td>2bdc29d12605ef9cf3f09f9875040a7113be5d5b</td>\n",
       "      <td>0</td>\n",
       "      <td>reasoning with facts</td>\n",
       "      <td>2016-10-29T08:47:11.259+03:00</td>\n",
       "      <td>Re: Why Did Attorney General Loretta Lynch Ple...</td>\n",
       "      <td>Why Did Attorney General Loretta Lynch Plead T...</td>\n",
       "      <td>english</td>\n",
       "      <td>2016-10-29T08:47:11.259+03:00</td>\n",
       "      <td>100percentfedup.com</td>\n",
       "      <td>US</td>\n",
       "      <td>25689.0</td>\n",
       "      <td>Re: Why Did Attorney General Loretta Lynch Ple...</td>\n",
       "      <td>0.000</td>\n",
       "      <td>http://bb4sp.com/wp-content/uploads/2016/10/Fu...</td>\n",
       "      <td>0</td>\n",
       "      <td>1</td>\n",
       "      <td>0</td>\n",
       "      <td>0</td>\n",
       "      <td>0</td>\n",
       "      <td>bias</td>\n",
       "    </tr>\n",
       "    <tr>\n",
       "      <td>2</td>\n",
       "      <td>c70e149fdd53de5e61c29281100b9de0ed268bc3</td>\n",
       "      <td>0</td>\n",
       "      <td>Barracuda Brigade</td>\n",
       "      <td>2016-10-31T01:41:49.479+02:00</td>\n",
       "      <td>BREAKING: Weiner Cooperating With FBI On Hilla...</td>\n",
       "      <td>Red State : \\nFox News Sunday reported this mo...</td>\n",
       "      <td>english</td>\n",
       "      <td>2016-10-31T01:41:49.479+02:00</td>\n",
       "      <td>100percentfedup.com</td>\n",
       "      <td>US</td>\n",
       "      <td>25689.0</td>\n",
       "      <td>BREAKING: Weiner Cooperating With FBI On Hilla...</td>\n",
       "      <td>0.000</td>\n",
       "      <td>http://bb4sp.com/wp-content/uploads/2016/10/Fu...</td>\n",
       "      <td>0</td>\n",
       "      <td>1</td>\n",
       "      <td>0</td>\n",
       "      <td>0</td>\n",
       "      <td>0</td>\n",
       "      <td>bias</td>\n",
       "    </tr>\n",
       "    <tr>\n",
       "      <td>3</td>\n",
       "      <td>7cf7c15731ac2a116dd7f629bd57ea468ed70284</td>\n",
       "      <td>0</td>\n",
       "      <td>Fed Up</td>\n",
       "      <td>2016-11-01T05:22:00.000+02:00</td>\n",
       "      <td>PIN DROP SPEECH BY FATHER OF DAUGHTER Kidnappe...</td>\n",
       "      <td>Email Kayla Mueller was a prisoner and torture...</td>\n",
       "      <td>english</td>\n",
       "      <td>2016-11-01T15:46:26.304+02:00</td>\n",
       "      <td>100percentfedup.com</td>\n",
       "      <td>US</td>\n",
       "      <td>25689.0</td>\n",
       "      <td>PIN DROP SPEECH BY FATHER OF DAUGHTER Kidnappe...</td>\n",
       "      <td>0.068</td>\n",
       "      <td>http://100percentfedup.com/wp-content/uploads/...</td>\n",
       "      <td>0</td>\n",
       "      <td>0</td>\n",
       "      <td>0</td>\n",
       "      <td>0</td>\n",
       "      <td>0</td>\n",
       "      <td>bias</td>\n",
       "    </tr>\n",
       "    <tr>\n",
       "      <td>4</td>\n",
       "      <td>0206b54719c7e241ffe0ad4315b808290dbe6c0f</td>\n",
       "      <td>0</td>\n",
       "      <td>Fed Up</td>\n",
       "      <td>2016-11-01T21:56:00.000+02:00</td>\n",
       "      <td>FANTASTIC! TRUMP'S 7 POINT PLAN To Reform Heal...</td>\n",
       "      <td>Email HEALTHCARE REFORM TO MAKE AMERICA GREAT ...</td>\n",
       "      <td>english</td>\n",
       "      <td>2016-11-01T23:59:42.266+02:00</td>\n",
       "      <td>100percentfedup.com</td>\n",
       "      <td>US</td>\n",
       "      <td>25689.0</td>\n",
       "      <td>FANTASTIC! TRUMP'S 7 POINT PLAN To Reform Heal...</td>\n",
       "      <td>0.865</td>\n",
       "      <td>http://100percentfedup.com/wp-content/uploads/...</td>\n",
       "      <td>0</td>\n",
       "      <td>0</td>\n",
       "      <td>0</td>\n",
       "      <td>0</td>\n",
       "      <td>0</td>\n",
       "      <td>bias</td>\n",
       "    </tr>\n",
       "  </tbody>\n",
       "</table>\n",
       "</div>"
      ],
      "text/plain": [
       "                                       uuid  ord_in_thread  \\\n",
       "0  6a175f46bcd24d39b3e962ad0f29936721db70db              0   \n",
       "1  2bdc29d12605ef9cf3f09f9875040a7113be5d5b              0   \n",
       "2  c70e149fdd53de5e61c29281100b9de0ed268bc3              0   \n",
       "3  7cf7c15731ac2a116dd7f629bd57ea468ed70284              0   \n",
       "4  0206b54719c7e241ffe0ad4315b808290dbe6c0f              0   \n",
       "\n",
       "                 author                      published  \\\n",
       "0     Barracuda Brigade  2016-10-26T21:41:00.000+03:00   \n",
       "1  reasoning with facts  2016-10-29T08:47:11.259+03:00   \n",
       "2     Barracuda Brigade  2016-10-31T01:41:49.479+02:00   \n",
       "3                Fed Up  2016-11-01T05:22:00.000+02:00   \n",
       "4                Fed Up  2016-11-01T21:56:00.000+02:00   \n",
       "\n",
       "                                               title  \\\n",
       "0  Muslims BUSTED: They Stole Millions In Gov’t B...   \n",
       "1  Re: Why Did Attorney General Loretta Lynch Ple...   \n",
       "2  BREAKING: Weiner Cooperating With FBI On Hilla...   \n",
       "3  PIN DROP SPEECH BY FATHER OF DAUGHTER Kidnappe...   \n",
       "4  FANTASTIC! TRUMP'S 7 POINT PLAN To Reform Heal...   \n",
       "\n",
       "                                                text language  \\\n",
       "0  Print They should pay all the back all the mon...  english   \n",
       "1  Why Did Attorney General Loretta Lynch Plead T...  english   \n",
       "2  Red State : \\nFox News Sunday reported this mo...  english   \n",
       "3  Email Kayla Mueller was a prisoner and torture...  english   \n",
       "4  Email HEALTHCARE REFORM TO MAKE AMERICA GREAT ...  english   \n",
       "\n",
       "                         crawled             site_url country  domain_rank  \\\n",
       "0  2016-10-27T01:49:27.168+03:00  100percentfedup.com      US      25689.0   \n",
       "1  2016-10-29T08:47:11.259+03:00  100percentfedup.com      US      25689.0   \n",
       "2  2016-10-31T01:41:49.479+02:00  100percentfedup.com      US      25689.0   \n",
       "3  2016-11-01T15:46:26.304+02:00  100percentfedup.com      US      25689.0   \n",
       "4  2016-11-01T23:59:42.266+02:00  100percentfedup.com      US      25689.0   \n",
       "\n",
       "                                        thread_title  spam_score  \\\n",
       "0  Muslims BUSTED: They Stole Millions In Gov’t B...       0.000   \n",
       "1  Re: Why Did Attorney General Loretta Lynch Ple...       0.000   \n",
       "2  BREAKING: Weiner Cooperating With FBI On Hilla...       0.000   \n",
       "3  PIN DROP SPEECH BY FATHER OF DAUGHTER Kidnappe...       0.068   \n",
       "4  FANTASTIC! TRUMP'S 7 POINT PLAN To Reform Heal...       0.865   \n",
       "\n",
       "                                        main_img_url  replies_count  \\\n",
       "0  http://bb4sp.com/wp-content/uploads/2016/10/Fu...              0   \n",
       "1  http://bb4sp.com/wp-content/uploads/2016/10/Fu...              0   \n",
       "2  http://bb4sp.com/wp-content/uploads/2016/10/Fu...              0   \n",
       "3  http://100percentfedup.com/wp-content/uploads/...              0   \n",
       "4  http://100percentfedup.com/wp-content/uploads/...              0   \n",
       "\n",
       "   participants_count  likes  comments  shares  type  \n",
       "0                   1      0         0       0  bias  \n",
       "1                   1      0         0       0  bias  \n",
       "2                   1      0         0       0  bias  \n",
       "3                   0      0         0       0  bias  \n",
       "4                   0      0         0       0  bias  "
      ]
     },
     "execution_count": 5,
     "metadata": {},
     "output_type": "execute_result"
    }
   ],
   "source": [
    "print(df_fake.shape)\n",
    "df_fake.head()"
   ]
  },
  {
   "cell_type": "code",
   "execution_count": 6,
   "metadata": {},
   "outputs": [],
   "source": [
    "df_fake = df_fake[['site_url','title','text']]\n",
    "df_fake.dropna(inplace=True)\n",
    "df_fake.rename(columns={\"site_url\": \"url\"}, inplace=True)\n",
    "chosen_idx = np.random.choice(df_fake.shape[0], replace=False, size=df_real.shape[0])\n",
    "df_fake_trim = df_fake.iloc[chosen_idx]"
   ]
  },
  {
   "cell_type": "code",
   "execution_count": 7,
   "metadata": {},
   "outputs": [
    {
     "name": "stdout",
     "output_type": "stream",
     "text": [
      "(905, 4)\n"
     ]
    },
    {
     "name": "stderr",
     "output_type": "stream",
     "text": [
      "/Users/jpyneni/opt/anaconda3/lib/python3.7/site-packages/ipykernel_launcher.py:1: SettingWithCopyWarning: \n",
      "A value is trying to be set on a copy of a slice from a DataFrame.\n",
      "Try using .loc[row_indexer,col_indexer] = value instead\n",
      "\n",
      "See the caveats in the documentation: http://pandas.pydata.org/pandas-docs/stable/user_guide/indexing.html#returning-a-view-versus-a-copy\n",
      "  \"\"\"Entry point for launching an IPython kernel.\n",
      "/Users/jpyneni/opt/anaconda3/lib/python3.7/site-packages/pandas/core/frame.py:4102: SettingWithCopyWarning: \n",
      "A value is trying to be set on a copy of a slice from a DataFrame\n",
      "\n",
      "See the caveats in the documentation: http://pandas.pydata.org/pandas-docs/stable/user_guide/indexing.html#returning-a-view-versus-a-copy\n",
      "  errors=errors,\n"
     ]
    },
    {
     "data": {
      "text/html": [
       "<div>\n",
       "<style scoped>\n",
       "    .dataframe tbody tr th:only-of-type {\n",
       "        vertical-align: middle;\n",
       "    }\n",
       "\n",
       "    .dataframe tbody tr th {\n",
       "        vertical-align: top;\n",
       "    }\n",
       "\n",
       "    .dataframe thead th {\n",
       "        text-align: right;\n",
       "    }\n",
       "</style>\n",
       "<table border=\"1\" class=\"dataframe\">\n",
       "  <thead>\n",
       "    <tr style=\"text-align: right;\">\n",
       "      <th></th>\n",
       "      <th>title</th>\n",
       "      <th>text</th>\n",
       "      <th>label</th>\n",
       "    </tr>\n",
       "  </thead>\n",
       "  <tbody>\n",
       "    <tr>\n",
       "      <td>2117</td>\n",
       "      <td>The Daily Traditionalist: Speaking of Independ...</td>\n",
       "      <td>Radio Aryan October 26, 2016 \\nDr Matthew Raph...</td>\n",
       "      <td>0</td>\n",
       "    </tr>\n",
       "    <tr>\n",
       "      <td>10748</td>\n",
       "      <td>Leaked Email: Hillary Admits That Clinton Dono...</td>\n",
       "      <td>In a leaked email between the Democratic Candi...</td>\n",
       "      <td>0</td>\n",
       "    </tr>\n",
       "    <tr>\n",
       "      <td>3512</td>\n",
       "      <td>Wikileaks: Bill Clinton BOASTS of Hillary’s ‘W...</td>\n",
       "      <td>Print \\nThe bombshells about this criminal are...</td>\n",
       "      <td>0</td>\n",
       "    </tr>\n",
       "    <tr>\n",
       "      <td>11154</td>\n",
       "      <td>Keiser Report: Observations on US elections (E...</td>\n",
       "      <td>17 mins ago 1 Views 0 Comments 0 Likes Drone f...</td>\n",
       "      <td>0</td>\n",
       "    </tr>\n",
       "    <tr>\n",
       "      <td>11539</td>\n",
       "      <td>Nasty Women</td>\n",
       "      <td>Recipient Email =&gt; \\nDonald Trump grabbed a ...</td>\n",
       "      <td>0</td>\n",
       "    </tr>\n",
       "  </tbody>\n",
       "</table>\n",
       "</div>"
      ],
      "text/plain": [
       "                                                   title  \\\n",
       "2117   The Daily Traditionalist: Speaking of Independ...   \n",
       "10748  Leaked Email: Hillary Admits That Clinton Dono...   \n",
       "3512   Wikileaks: Bill Clinton BOASTS of Hillary’s ‘W...   \n",
       "11154  Keiser Report: Observations on US elections (E...   \n",
       "11539                                        Nasty Women   \n",
       "\n",
       "                                                    text  label  \n",
       "2117   Radio Aryan October 26, 2016 \\nDr Matthew Raph...      0  \n",
       "10748  In a leaked email between the Democratic Candi...      0  \n",
       "3512   Print \\nThe bombshells about this criminal are...      0  \n",
       "11154  17 mins ago 1 Views 0 Comments 0 Likes Drone f...      0  \n",
       "11539    Recipient Email => \\nDonald Trump grabbed a ...      0  "
      ]
     },
     "execution_count": 7,
     "metadata": {},
     "output_type": "execute_result"
    }
   ],
   "source": [
    "df_fake_trim['label'] = 0\n",
    "print(df_fake_trim.shape)\n",
    "df_fake_trim.drop(['url'], axis=1, inplace= True)\n",
    "df_fake_trim.head()\n"
   ]
  },
  {
   "cell_type": "code",
   "execution_count": 8,
   "metadata": {},
   "outputs": [
    {
     "name": "stdout",
     "output_type": "stream",
     "text": [
      "(909, 3)\n",
      "(908, 3)\n"
     ]
    },
    {
     "data": {
      "text/html": [
       "<div>\n",
       "<style scoped>\n",
       "    .dataframe tbody tr th:only-of-type {\n",
       "        vertical-align: middle;\n",
       "    }\n",
       "\n",
       "    .dataframe tbody tr th {\n",
       "        vertical-align: top;\n",
       "    }\n",
       "\n",
       "    .dataframe thead th {\n",
       "        text-align: right;\n",
       "    }\n",
       "</style>\n",
       "<table border=\"1\" class=\"dataframe\">\n",
       "  <thead>\n",
       "    <tr style=\"text-align: right;\">\n",
       "      <th></th>\n",
       "      <th>title</th>\n",
       "      <th>text</th>\n",
       "      <th>label</th>\n",
       "    </tr>\n",
       "  </thead>\n",
       "  <tbody>\n",
       "    <tr>\n",
       "      <td>0</td>\n",
       "      <td>Trump extends federal social distancing guidel...</td>\n",
       "      <td>President Donald Trump, on his first official ...</td>\n",
       "      <td>2</td>\n",
       "    </tr>\n",
       "    <tr>\n",
       "      <td>1</td>\n",
       "      <td>Coronavirus live updates: Global pandemic kill...</td>\n",
       "      <td>By Dylan Welch\\nApril 1, 2015. (Bloomberg) -- ...</td>\n",
       "      <td>2</td>\n",
       "    </tr>\n",
       "    <tr>\n",
       "      <td>2</td>\n",
       "      <td>Trump concedes US coronavirus death toll could...</td>\n",
       "      <td>Donald Trump won his home state of California ...</td>\n",
       "      <td>2</td>\n",
       "    </tr>\n",
       "    <tr>\n",
       "      <td>3</td>\n",
       "      <td>Tracking Covid-19 cases in the US</td>\n",
       "      <td>Editor’s note: Readers and visitors in the New...</td>\n",
       "      <td>2</td>\n",
       "    </tr>\n",
       "    <tr>\n",
       "      <td>4</td>\n",
       "      <td>Donald Trump's special day</td>\n",
       "      <td>The wish of many in the press was for the morn...</td>\n",
       "      <td>2</td>\n",
       "    </tr>\n",
       "  </tbody>\n",
       "</table>\n",
       "</div>"
      ],
      "text/plain": [
       "                                               title  \\\n",
       "0  Trump extends federal social distancing guidel...   \n",
       "1  Coronavirus live updates: Global pandemic kill...   \n",
       "2  Trump concedes US coronavirus death toll could...   \n",
       "3                  Tracking Covid-19 cases in the US   \n",
       "4                         Donald Trump's special day   \n",
       "\n",
       "                                                text  label  \n",
       "0  President Donald Trump, on his first official ...      2  \n",
       "1  By Dylan Welch\\nApril 1, 2015. (Bloomberg) -- ...      2  \n",
       "2  Donald Trump won his home state of California ...      2  \n",
       "3  Editor’s note: Readers and visitors in the New...      2  \n",
       "4  The wish of many in the press was for the morn...      2  "
      ]
     },
     "execution_count": 8,
     "metadata": {},
     "output_type": "execute_result"
    }
   ],
   "source": [
    "df_grover = pd.read_csv('../Uncleaned Data/Neural_Fake_News.csv')\n",
    "print(df_grover.shape)\n",
    "df_grover.dropna(inplace=True)\n",
    "print(df_grover.shape)\n",
    "df_grover.drop(['Unnamed: 0'], axis=1, inplace= True)\n",
    "df_grover.head()\n",
    "df_grover['label'] = 2\n",
    "df_grover.head()"
   ]
  },
  {
   "cell_type": "markdown",
   "metadata": {},
   "source": [
    "# Experiment Number 1\n",
    "## Naive Bayes, Real Human News and Fake Human News\n",
    "905 instances of each \n",
    "\n",
    "Class: Label\n",
    "\n",
    "Real: 0\n",
    "\n",
    "Fake: 1"
   ]
  },
  {
   "cell_type": "code",
   "execution_count": 9,
   "metadata": {},
   "outputs": [],
   "source": [
    "#combine both the real and trimmed fake news into one df\n",
    "combined = pd.concat([df_real,df_fake_trim],ignore_index=True)"
   ]
  },
  {
   "cell_type": "code",
   "execution_count": 10,
   "metadata": {},
   "outputs": [
    {
     "name": "stdout",
     "output_type": "stream",
     "text": [
      "                                               title  \\\n",
      "0  Trump extends federal social distancing guidel...   \n",
      "1  Coronavirus live updates: Global pandemic kill...   \n",
      "2  Trump concedes US coronavirus death toll could...   \n",
      "3                         Donald Trump's special day   \n",
      "4             How long will Trump's poll surge last?   \n",
      "\n",
      "                                                text  label  \n",
      "0  Washington (CNN) President Donald Trump said S...      1  \n",
      "1  The exterior of Elmhurst Hospital in Queens on...      1  \n",
      "2  (CNN) President Donald Trump acknowledged Sund...      1  \n",
      "3  Sign up to get our new weekly column as a news...      1  \n",
      "4  (CNN) The 2020 race, publicly at least, has la...      1  \n"
     ]
    },
    {
     "data": {
      "text/html": [
       "<div>\n",
       "<style scoped>\n",
       "    .dataframe tbody tr th:only-of-type {\n",
       "        vertical-align: middle;\n",
       "    }\n",
       "\n",
       "    .dataframe tbody tr th {\n",
       "        vertical-align: top;\n",
       "    }\n",
       "\n",
       "    .dataframe thead th {\n",
       "        text-align: right;\n",
       "    }\n",
       "</style>\n",
       "<table border=\"1\" class=\"dataframe\">\n",
       "  <thead>\n",
       "    <tr style=\"text-align: right;\">\n",
       "      <th></th>\n",
       "      <th>title</th>\n",
       "      <th>text</th>\n",
       "      <th>label</th>\n",
       "    </tr>\n",
       "  </thead>\n",
       "  <tbody>\n",
       "    <tr>\n",
       "      <td>1805</td>\n",
       "      <td>Scientists Say Universe Is Part Of 4th Dimensi...</td>\n",
       "      <td>A new scientific theory claims our universe wa...</td>\n",
       "      <td>0</td>\n",
       "    </tr>\n",
       "    <tr>\n",
       "      <td>1806</td>\n",
       "      <td>Saturn’s Baffling Hexagon — The Raging Storm F...</td>\n",
       "      <td>NASA’s Cassini spacecraft discovered a static ...</td>\n",
       "      <td>0</td>\n",
       "    </tr>\n",
       "    <tr>\n",
       "      <td>1807</td>\n",
       "      <td>The Spiritual Alchemy of Every Day Stuff</td>\n",
       "      <td>The Spiritual Alchemy of Every Day Stuff Nov 2...</td>\n",
       "      <td>0</td>\n",
       "    </tr>\n",
       "    <tr>\n",
       "      <td>1808</td>\n",
       "      <td>Severe Allergies to Peanuts, Eggs and Dairy Di...</td>\n",
       "      <td>. Severe Allergies to Peanuts, Eggs and Dairy ...</td>\n",
       "      <td>0</td>\n",
       "    </tr>\n",
       "    <tr>\n",
       "      <td>1809</td>\n",
       "      <td>Cartoon of the Day: What lurks in the swamp Tr...</td>\n",
       "      <td>Clinton aide’s for-profit firm illegally raise...</td>\n",
       "      <td>0</td>\n",
       "    </tr>\n",
       "  </tbody>\n",
       "</table>\n",
       "</div>"
      ],
      "text/plain": [
       "                                                  title  \\\n",
       "1805  Scientists Say Universe Is Part Of 4th Dimensi...   \n",
       "1806  Saturn’s Baffling Hexagon — The Raging Storm F...   \n",
       "1807           The Spiritual Alchemy of Every Day Stuff   \n",
       "1808  Severe Allergies to Peanuts, Eggs and Dairy Di...   \n",
       "1809  Cartoon of the Day: What lurks in the swamp Tr...   \n",
       "\n",
       "                                                   text  label  \n",
       "1805  A new scientific theory claims our universe wa...      0  \n",
       "1806  NASA’s Cassini spacecraft discovered a static ...      0  \n",
       "1807  The Spiritual Alchemy of Every Day Stuff Nov 2...      0  \n",
       "1808  . Severe Allergies to Peanuts, Eggs and Dairy ...      0  \n",
       "1809  Clinton aide’s for-profit firm illegally raise...      0  "
      ]
     },
     "execution_count": 10,
     "metadata": {},
     "output_type": "execute_result"
    }
   ],
   "source": [
    "print(combined.head())\n",
    "combined.tail()"
   ]
  },
  {
   "cell_type": "code",
   "execution_count": 11,
   "metadata": {},
   "outputs": [],
   "source": [
    "import nltk\n",
    "from wordcloud import WordCloud\n",
    "from sklearn.feature_extraction.text import TfidfVectorizer\n",
    "from sklearn.model_selection import train_test_split\n",
    "from sklearn.metrics import f1_score, accuracy_score, recall_score, precision_score"
   ]
  },
  {
   "cell_type": "code",
   "execution_count": 12,
   "metadata": {},
   "outputs": [
    {
     "data": {
      "text/html": [
       "<div>\n",
       "<style scoped>\n",
       "    .dataframe tbody tr th:only-of-type {\n",
       "        vertical-align: middle;\n",
       "    }\n",
       "\n",
       "    .dataframe tbody tr th {\n",
       "        vertical-align: top;\n",
       "    }\n",
       "\n",
       "    .dataframe thead th {\n",
       "        text-align: right;\n",
       "    }\n",
       "</style>\n",
       "<table border=\"1\" class=\"dataframe\">\n",
       "  <thead>\n",
       "    <tr style=\"text-align: right;\">\n",
       "      <th></th>\n",
       "      <th>title</th>\n",
       "      <th>text</th>\n",
       "    </tr>\n",
       "    <tr>\n",
       "      <th>label</th>\n",
       "      <th></th>\n",
       "      <th></th>\n",
       "    </tr>\n",
       "  </thead>\n",
       "  <tbody>\n",
       "    <tr>\n",
       "      <td>0</td>\n",
       "      <td>905</td>\n",
       "      <td>905</td>\n",
       "    </tr>\n",
       "    <tr>\n",
       "      <td>1</td>\n",
       "      <td>905</td>\n",
       "      <td>905</td>\n",
       "    </tr>\n",
       "  </tbody>\n",
       "</table>\n",
       "</div>"
      ],
      "text/plain": [
       "       title  text\n",
       "label             \n",
       "0        905   905\n",
       "1        905   905"
      ]
     },
     "execution_count": 12,
     "metadata": {},
     "output_type": "execute_result"
    }
   ],
   "source": [
    "combined_text = combined['text'].values\n",
    "X_title =combined['title'].values\n",
    "labels = combined['label'].values\n",
    "combined.groupby('label').agg('count')"
   ]
  },
  {
   "cell_type": "code",
   "execution_count": 13,
   "metadata": {},
   "outputs": [],
   "source": [
    "tfidf = TfidfVectorizer(ngram_range=(1,2), max_df= 0.85, min_df= 0.01)"
   ]
  },
  {
   "cell_type": "code",
   "execution_count": 14,
   "metadata": {},
   "outputs": [],
   "source": [
    "combined_text = tfidf.fit_transform(combined_text)\n",
    "# combined['title'] = tfidf.fit_transform (combined['title'])"
   ]
  },
  {
   "cell_type": "code",
   "execution_count": 15,
   "metadata": {},
   "outputs": [
    {
     "name": "stdout",
     "output_type": "stream",
     "text": [
      "<class 'scipy.sparse.csr.csr_matrix'>\n",
      "tf idf vectorized text shape: (1810, 10045)\n",
      "original text shape: (1810,)\n"
     ]
    }
   ],
   "source": [
    "print(type(combined_text))\n",
    "print(\"tf idf vectorized text shape: {}\".format(combined_text.shape))\n",
    "print(\"original text shape: {}\".format(combined['text'].shape))\n"
   ]
  },
  {
   "cell_type": "code",
   "execution_count": 16,
   "metadata": {},
   "outputs": [],
   "source": [
    "train_text, test_text, train_labels, test_labels  = train_test_split(combined_text, labels, test_size=0.2)\n"
   ]
  },
  {
   "cell_type": "code",
   "execution_count": 17,
   "metadata": {},
   "outputs": [
    {
     "name": "stdout",
     "output_type": "stream",
     "text": [
      "<class 'scipy.sparse.csr.csr_matrix'>\n",
      "size of train_text: (1448, 10045)\n",
      "<class 'numpy.ndarray'>\n",
      "size of train_labels: (1448,)\n"
     ]
    }
   ],
   "source": [
    "# print(train_text)\n",
    "print(type(train_text))\n",
    "print(\"size of train_text: {}\".format(train_text.shape))\n",
    "\n",
    "# print(train_labels)\n",
    "print(type(train_labels))\n",
    "print(\"size of train_labels: {}\".format(train_labels.shape))\n"
   ]
  },
  {
   "cell_type": "code",
   "execution_count": 18,
   "metadata": {},
   "outputs": [
    {
     "name": "stdout",
     "output_type": "stream",
     "text": [
      "<class 'scipy.sparse.csr.csr_matrix'>\n",
      "size of test_text: (362, 10045)\n",
      "<class 'numpy.ndarray'>\n",
      "size of test_labels: (362,)\n"
     ]
    }
   ],
   "source": [
    "# print(test_text)\n",
    "print(type(test_text))\n",
    "print(\"size of test_text: {}\".format(test_text.shape))\n",
    "\n",
    "# print(test_labels)\n",
    "print(type(test_labels))\n",
    "print(\"size of test_labels: {}\".format(test_labels.shape))\n",
    "\n"
   ]
  },
  {
   "cell_type": "code",
   "execution_count": 19,
   "metadata": {},
   "outputs": [],
   "source": [
    "from sklearn.naive_bayes import MultinomialNB\n",
    "nb = MultinomialNB()\n"
   ]
  },
  {
   "cell_type": "code",
   "execution_count": 20,
   "metadata": {},
   "outputs": [
    {
     "data": {
      "text/plain": [
       "MultinomialNB(alpha=1.0, class_prior=None, fit_prior=True)"
      ]
     },
     "execution_count": 20,
     "metadata": {},
     "output_type": "execute_result"
    }
   ],
   "source": [
    "nb.fit(train_text,train_labels)"
   ]
  },
  {
   "cell_type": "code",
   "execution_count": 21,
   "metadata": {},
   "outputs": [],
   "source": [
    "train_pred = nb.predict(train_text)"
   ]
  },
  {
   "cell_type": "code",
   "execution_count": 22,
   "metadata": {},
   "outputs": [
    {
     "name": "stdout",
     "output_type": "stream",
     "text": [
      "Naive Bayes In Sample F1 and Accuracy Scores:\n",
      "F1 score 96.89%\n",
      "Accuracy score 96.89%\n"
     ]
    }
   ],
   "source": [
    "print('Naive Bayes In Sample F1 and Accuracy Scores:')\n",
    "print('F1 score {:.4}%'.format(f1_score(train_labels, train_pred, average='macro')*100 ))\n",
    "print ('Accuracy score {:.4}%'.format(accuracy_score(train_labels, train_pred)*100))"
   ]
  },
  {
   "cell_type": "code",
   "execution_count": 23,
   "metadata": {},
   "outputs": [
    {
     "data": {
      "text/html": [
       "<div>\n",
       "<style scoped>\n",
       "    .dataframe tbody tr th:only-of-type {\n",
       "        vertical-align: middle;\n",
       "    }\n",
       "\n",
       "    .dataframe tbody tr th {\n",
       "        vertical-align: top;\n",
       "    }\n",
       "\n",
       "    .dataframe thead th {\n",
       "        text-align: right;\n",
       "    }\n",
       "</style>\n",
       "<table border=\"1\" class=\"dataframe\">\n",
       "  <thead>\n",
       "    <tr style=\"text-align: right;\">\n",
       "      <th></th>\n",
       "      <th>title</th>\n",
       "      <th>text</th>\n",
       "    </tr>\n",
       "    <tr>\n",
       "      <th>label</th>\n",
       "      <th></th>\n",
       "      <th></th>\n",
       "    </tr>\n",
       "  </thead>\n",
       "  <tbody>\n",
       "    <tr>\n",
       "      <td>0</td>\n",
       "      <td>18</td>\n",
       "      <td>18</td>\n",
       "    </tr>\n",
       "    <tr>\n",
       "      <td>1</td>\n",
       "      <td>27</td>\n",
       "      <td>27</td>\n",
       "    </tr>\n",
       "  </tbody>\n",
       "</table>\n",
       "</div>"
      ],
      "text/plain": [
       "       title  text\n",
       "label             \n",
       "0         18    18\n",
       "1         27    27"
      ]
     },
     "execution_count": 23,
     "metadata": {},
     "output_type": "execute_result"
    }
   ],
   "source": [
    "combined.loc[np.where(train_labels != train_pred)[0].tolist()].groupby('label').agg('count')"
   ]
  },
  {
   "cell_type": "code",
   "execution_count": 24,
   "metadata": {},
   "outputs": [
    {
     "name": "stdout",
     "output_type": "stream",
     "text": [
      "Naive Bayes Out of Sample F1 and Accuracy Scores:\n",
      "F1 score 94.47%\n",
      "Accuracy score 94.48%\n"
     ]
    }
   ],
   "source": [
    "test_pred = nb.predict(test_text)\n",
    "print('Naive Bayes Out of Sample F1 and Accuracy Scores:')\n",
    "print('F1 score {:.4}%'.format(f1_score(test_labels, test_pred, average='macro')*100 ))\n",
    "print ('Accuracy score {:.4}%'.format(accuracy_score(test_labels, test_pred)*100))"
   ]
  },
  {
   "cell_type": "code",
   "execution_count": 25,
   "metadata": {},
   "outputs": [
    {
     "data": {
      "text/html": [
       "<div>\n",
       "<style scoped>\n",
       "    .dataframe tbody tr th:only-of-type {\n",
       "        vertical-align: middle;\n",
       "    }\n",
       "\n",
       "    .dataframe tbody tr th {\n",
       "        vertical-align: top;\n",
       "    }\n",
       "\n",
       "    .dataframe thead th {\n",
       "        text-align: right;\n",
       "    }\n",
       "</style>\n",
       "<table border=\"1\" class=\"dataframe\">\n",
       "  <thead>\n",
       "    <tr style=\"text-align: right;\">\n",
       "      <th></th>\n",
       "      <th>title</th>\n",
       "      <th>text</th>\n",
       "    </tr>\n",
       "    <tr>\n",
       "      <th>label</th>\n",
       "      <th></th>\n",
       "      <th></th>\n",
       "    </tr>\n",
       "  </thead>\n",
       "  <tbody>\n",
       "    <tr>\n",
       "      <td>1</td>\n",
       "      <td>20</td>\n",
       "      <td>20</td>\n",
       "    </tr>\n",
       "  </tbody>\n",
       "</table>\n",
       "</div>"
      ],
      "text/plain": [
       "       title  text\n",
       "label             \n",
       "1         20    20"
      ]
     },
     "execution_count": 25,
     "metadata": {},
     "output_type": "execute_result"
    }
   ],
   "source": [
    "combined.loc[np.where(test_labels != test_pred)[0].tolist()].groupby('label').agg('count')"
   ]
  },
  {
   "cell_type": "markdown",
   "metadata": {},
   "source": [
    "# Experiment 2\n",
    "## Augmenting with Neural Fake News\n",
    "\n",
    "905 Real News, 905 Fake (neural and human combined)\n",
    "\n",
    "80% Train = 1448\n",
    "20% Test = 362 (1/2 Real, 1/2 Human Fake)\n",
    "\n",
    "Train on (1/2 real news, 1/2 fake news (1/4 human fake + 1/4 neural fake))\n",
    "\n",
    "Human Fake = 543 (362 for train, 181 for test)\n",
    "\n",
    "Neural Fake = 362 for train"
   ]
  },
  {
   "cell_type": "code",
   "execution_count": 49,
   "metadata": {},
   "outputs": [
    {
     "name": "stdout",
     "output_type": "stream",
     "text": [
      "(908, 3)\n",
      "(905, 3)\n",
      "(12273, 3)\n"
     ]
    }
   ],
   "source": [
    "print(df_grover.shape)\n",
    "print(df_real.shape)\n",
    "print(df_fake.shape)"
   ]
  },
  {
   "cell_type": "code",
   "execution_count": 50,
   "metadata": {},
   "outputs": [
    {
     "name": "stdout",
     "output_type": "stream",
     "text": [
      "(543, 4)\n"
     ]
    },
    {
     "name": "stderr",
     "output_type": "stream",
     "text": [
      "/Users/jpyneni/opt/anaconda3/lib/python3.7/site-packages/ipykernel_launcher.py:4: SettingWithCopyWarning: \n",
      "A value is trying to be set on a copy of a slice from a DataFrame.\n",
      "Try using .loc[row_indexer,col_indexer] = value instead\n",
      "\n",
      "See the caveats in the documentation: http://pandas.pydata.org/pandas-docs/stable/user_guide/indexing.html#returning-a-view-versus-a-copy\n",
      "  after removing the cwd from sys.path.\n"
     ]
    },
    {
     "data": {
      "text/html": [
       "<div>\n",
       "<style scoped>\n",
       "    .dataframe tbody tr th:only-of-type {\n",
       "        vertical-align: middle;\n",
       "    }\n",
       "\n",
       "    .dataframe tbody tr th {\n",
       "        vertical-align: top;\n",
       "    }\n",
       "\n",
       "    .dataframe thead th {\n",
       "        text-align: right;\n",
       "    }\n",
       "</style>\n",
       "<table border=\"1\" class=\"dataframe\">\n",
       "  <thead>\n",
       "    <tr style=\"text-align: right;\">\n",
       "      <th></th>\n",
       "      <th>title</th>\n",
       "      <th>text</th>\n",
       "      <th>label</th>\n",
       "    </tr>\n",
       "  </thead>\n",
       "  <tbody>\n",
       "    <tr>\n",
       "      <td>4461</td>\n",
       "      <td>Biggest Winners and Losers of the 2016 U.S. Pr...</td>\n",
       "      <td>. Biggest Winners and Losers of the 2016 U.S. ...</td>\n",
       "      <td>0</td>\n",
       "    </tr>\n",
       "    <tr>\n",
       "      <td>12585</td>\n",
       "      <td>She Died And Came Back To Life With This Incre...</td>\n",
       "      <td>Share on Facebook Doctors had given Anita Moor...</td>\n",
       "      <td>0</td>\n",
       "    </tr>\n",
       "    <tr>\n",
       "      <td>1911</td>\n",
       "      <td>Beyond the Anti-Trump Protests</td>\n",
       "      <td>Beyond the Anti-Trump Protests November 17, 20...</td>\n",
       "      <td>0</td>\n",
       "    </tr>\n",
       "    <tr>\n",
       "      <td>11361</td>\n",
       "      <td>BREAKING : TED CRUZ CALLS FOR SPECIAL PROSECUT...</td>\n",
       "      <td>BREAKING : TED CRUZ CALLS FOR SPECIAL PROSECUT...</td>\n",
       "      <td>0</td>\n",
       "    </tr>\n",
       "    <tr>\n",
       "      <td>6555</td>\n",
       "      <td>Heseltine regrets not strangling mad bitch. Mo...</td>\n",
       "      <td>Midfield Diamond   Midfield Diamond   0 Nove...</td>\n",
       "      <td>0</td>\n",
       "    </tr>\n",
       "  </tbody>\n",
       "</table>\n",
       "</div>"
      ],
      "text/plain": [
       "                                                   title  \\\n",
       "4461   Biggest Winners and Losers of the 2016 U.S. Pr...   \n",
       "12585  She Died And Came Back To Life With This Incre...   \n",
       "1911                      Beyond the Anti-Trump Protests   \n",
       "11361  BREAKING : TED CRUZ CALLS FOR SPECIAL PROSECUT...   \n",
       "6555   Heseltine regrets not strangling mad bitch. Mo...   \n",
       "\n",
       "                                                    text  label  \n",
       "4461   . Biggest Winners and Losers of the 2016 U.S. ...      0  \n",
       "12585  Share on Facebook Doctors had given Anita Moor...      0  \n",
       "1911   Beyond the Anti-Trump Protests November 17, 20...      0  \n",
       "11361  BREAKING : TED CRUZ CALLS FOR SPECIAL PROSECUT...      0  \n",
       "6555     Midfield Diamond   Midfield Diamond   0 Nove...      0  "
      ]
     },
     "execution_count": 50,
     "metadata": {},
     "output_type": "execute_result"
    }
   ],
   "source": [
    "trim_size = int(df_real.shape[0] * 0.6)\n",
    "chosen_idx = np.random.choice(df_fake.shape[0], replace=False, size=trim_size)\n",
    "df_fake_trim_2 = df_fake.iloc[chosen_idx]\n",
    "df_fake_trim_2['label'] = 0\n",
    "print(df_fake_trim_2.shape)\n",
    "df_fake_trim_2.drop(['url'], axis=1, inplace= True)\n",
    "df_fake_trim_2.head()"
   ]
  },
  {
   "cell_type": "code",
   "execution_count": 51,
   "metadata": {},
   "outputs": [
    {
     "name": "stdout",
     "output_type": "stream",
     "text": [
      "(362, 3)\n"
     ]
    },
    {
     "name": "stderr",
     "output_type": "stream",
     "text": [
      "/Users/jpyneni/opt/anaconda3/lib/python3.7/site-packages/ipykernel_launcher.py:4: SettingWithCopyWarning: \n",
      "A value is trying to be set on a copy of a slice from a DataFrame.\n",
      "Try using .loc[row_indexer,col_indexer] = value instead\n",
      "\n",
      "See the caveats in the documentation: http://pandas.pydata.org/pandas-docs/stable/user_guide/indexing.html#returning-a-view-versus-a-copy\n",
      "  after removing the cwd from sys.path.\n"
     ]
    },
    {
     "data": {
      "text/html": [
       "<div>\n",
       "<style scoped>\n",
       "    .dataframe tbody tr th:only-of-type {\n",
       "        vertical-align: middle;\n",
       "    }\n",
       "\n",
       "    .dataframe tbody tr th {\n",
       "        vertical-align: top;\n",
       "    }\n",
       "\n",
       "    .dataframe thead th {\n",
       "        text-align: right;\n",
       "    }\n",
       "</style>\n",
       "<table border=\"1\" class=\"dataframe\">\n",
       "  <thead>\n",
       "    <tr style=\"text-align: right;\">\n",
       "      <th></th>\n",
       "      <th>title</th>\n",
       "      <th>text</th>\n",
       "      <th>label</th>\n",
       "    </tr>\n",
       "  </thead>\n",
       "  <tbody>\n",
       "    <tr>\n",
       "      <td>1</td>\n",
       "      <td>Coronavirus live updates: Global pandemic kill...</td>\n",
       "      <td>By Dylan Welch\\nApril 1, 2015. (Bloomberg) -- ...</td>\n",
       "      <td>0</td>\n",
       "    </tr>\n",
       "    <tr>\n",
       "      <td>210</td>\n",
       "      <td>FEMA Says at Least 7 People at the Disaster Ag...</td>\n",
       "      <td>FEMA and other federal agencies have alerted n...</td>\n",
       "      <td>0</td>\n",
       "    </tr>\n",
       "    <tr>\n",
       "      <td>598</td>\n",
       "      <td>How Republicans' tax overhaul could make a rec...</td>\n",
       "      <td>By Bill Winters and Nancy Tartaglione\\nWASHING...</td>\n",
       "      <td>0</td>\n",
       "    </tr>\n",
       "    <tr>\n",
       "      <td>179</td>\n",
       "      <td>Coronavirus, France, Lockdown: Your Friday Bri...</td>\n",
       "      <td>Does the world need to resort to more than one...</td>\n",
       "      <td>0</td>\n",
       "    </tr>\n",
       "    <tr>\n",
       "      <td>708</td>\n",
       "      <td>NFL veteran Donald Penn puts Encino home in play</td>\n",
       "      <td>The NFL never gets free, and Pro Football Hall...</td>\n",
       "      <td>0</td>\n",
       "    </tr>\n",
       "  </tbody>\n",
       "</table>\n",
       "</div>"
      ],
      "text/plain": [
       "                                                 title  \\\n",
       "1    Coronavirus live updates: Global pandemic kill...   \n",
       "210  FEMA Says at Least 7 People at the Disaster Ag...   \n",
       "598  How Republicans' tax overhaul could make a rec...   \n",
       "179  Coronavirus, France, Lockdown: Your Friday Bri...   \n",
       "708   NFL veteran Donald Penn puts Encino home in play   \n",
       "\n",
       "                                                  text  label  \n",
       "1    By Dylan Welch\\nApril 1, 2015. (Bloomberg) -- ...      0  \n",
       "210  FEMA and other federal agencies have alerted n...      0  \n",
       "598  By Bill Winters and Nancy Tartaglione\\nWASHING...      0  \n",
       "179  Does the world need to resort to more than one...      0  \n",
       "708  The NFL never gets free, and Pro Football Hall...      0  "
      ]
     },
     "execution_count": 51,
     "metadata": {},
     "output_type": "execute_result"
    }
   ],
   "source": [
    "trim_size = int(df_real.shape[0]*0.4)\n",
    "chosen_idx = np.random.choice(df_grover.shape[0], replace=False, size=trim_size)\n",
    "df_grover_trim = df_grover.iloc[chosen_idx]\n",
    "df_grover_trim['label'] = 0\n",
    "print(df_grover_trim.shape)\n",
    "df_grover_trim.head()"
   ]
  },
  {
   "cell_type": "code",
   "execution_count": 52,
   "metadata": {},
   "outputs": [
    {
     "name": "stdout",
     "output_type": "stream",
     "text": [
      "(905, 3)\n"
     ]
    },
    {
     "data": {
      "text/html": [
       "<div>\n",
       "<style scoped>\n",
       "    .dataframe tbody tr th:only-of-type {\n",
       "        vertical-align: middle;\n",
       "    }\n",
       "\n",
       "    .dataframe tbody tr th {\n",
       "        vertical-align: top;\n",
       "    }\n",
       "\n",
       "    .dataframe thead th {\n",
       "        text-align: right;\n",
       "    }\n",
       "</style>\n",
       "<table border=\"1\" class=\"dataframe\">\n",
       "  <thead>\n",
       "    <tr style=\"text-align: right;\">\n",
       "      <th></th>\n",
       "      <th>title</th>\n",
       "      <th>text</th>\n",
       "      <th>label</th>\n",
       "    </tr>\n",
       "  </thead>\n",
       "  <tbody>\n",
       "    <tr>\n",
       "      <td>0</td>\n",
       "      <td>Trump extends federal social distancing guidel...</td>\n",
       "      <td>Washington (CNN) President Donald Trump said S...</td>\n",
       "      <td>1</td>\n",
       "    </tr>\n",
       "    <tr>\n",
       "      <td>1</td>\n",
       "      <td>Coronavirus live updates: Global pandemic kill...</td>\n",
       "      <td>The exterior of Elmhurst Hospital in Queens on...</td>\n",
       "      <td>1</td>\n",
       "    </tr>\n",
       "    <tr>\n",
       "      <td>2</td>\n",
       "      <td>Trump concedes US coronavirus death toll could...</td>\n",
       "      <td>(CNN) President Donald Trump acknowledged Sund...</td>\n",
       "      <td>1</td>\n",
       "    </tr>\n",
       "    <tr>\n",
       "      <td>4</td>\n",
       "      <td>Donald Trump's special day</td>\n",
       "      <td>Sign up to get our new weekly column as a news...</td>\n",
       "      <td>1</td>\n",
       "    </tr>\n",
       "    <tr>\n",
       "      <td>5</td>\n",
       "      <td>How long will Trump's poll surge last?</td>\n",
       "      <td>(CNN) The 2020 race, publicly at least, has la...</td>\n",
       "      <td>1</td>\n",
       "    </tr>\n",
       "  </tbody>\n",
       "</table>\n",
       "</div>"
      ],
      "text/plain": [
       "                                               title  \\\n",
       "0  Trump extends federal social distancing guidel...   \n",
       "1  Coronavirus live updates: Global pandemic kill...   \n",
       "2  Trump concedes US coronavirus death toll could...   \n",
       "4                         Donald Trump's special day   \n",
       "5             How long will Trump's poll surge last?   \n",
       "\n",
       "                                                text  label  \n",
       "0  Washington (CNN) President Donald Trump said S...      1  \n",
       "1  The exterior of Elmhurst Hospital in Queens on...      1  \n",
       "2  (CNN) President Donald Trump acknowledged Sund...      1  \n",
       "4  Sign up to get our new weekly column as a news...      1  \n",
       "5  (CNN) The 2020 race, publicly at least, has la...      1  "
      ]
     },
     "execution_count": 52,
     "metadata": {},
     "output_type": "execute_result"
    }
   ],
   "source": [
    "print(df_real.shape)\n",
    "df_real.head()"
   ]
  },
  {
   "cell_type": "code",
   "execution_count": 63,
   "metadata": {},
   "outputs": [
    {
     "name": "stdout",
     "output_type": "stream",
     "text": [
      "(181, 3)\n",
      "(724, 3)\n"
     ]
    }
   ],
   "source": [
    "#Create Test Set first from trimmed\n",
    "trim_size = int(df_real.shape[0]*.2)\n",
    "mask =  np.random.choice(df_real.shape[0], trim_size, replace=False) \n",
    "neg_mask = [i for i in range(0, df_real.shape[0]) if i not in mask]\n",
    "df_real_test = df_real.iloc[mask]\n",
    "df_real_train = df_real.iloc[neg_mask]\n",
    "print(df_real_test.shape)\n",
    "print(df_real_train.shape)"
   ]
  },
  {
   "cell_type": "code",
   "execution_count": 68,
   "metadata": {},
   "outputs": [
    {
     "name": "stdout",
     "output_type": "stream",
     "text": [
      "(543, 3)\n",
      "(181, 3)\n",
      "(362, 3)\n"
     ]
    }
   ],
   "source": [
    "#Create Test Set first from trimmed\n",
    "print(df_fake_trim_2.shape)\n",
    "trim_size = int(df_fake_trim_2.shape[0]*(1/3))\n",
    "mask =  np.random.choice(df_fake_trim_2.shape[0], trim_size, replace=False) \n",
    "neg_mask = [i for i in range(0, df_fake_trim_2.shape[0]) if i not in mask]\n",
    "df_fake_trim_2_test = df_fake_trim_2.iloc[mask]\n",
    "df_fake_trim_2_train = df_fake_trim_2.iloc[neg_mask]\n",
    "print(df_fake_trim_2_test.shape)\n",
    "print(df_fake_trim_2_train.shape)"
   ]
  },
  {
   "cell_type": "code",
   "execution_count": 69,
   "metadata": {},
   "outputs": [],
   "source": [
    "#combine both the real and trimmed fake news into one df\n",
    "combined_train = pd.concat([df_real_train,df_fake_trim_2_train,df_grover_trim],ignore_index=True)\n",
    "combined_test = pd.concat([df_real_test,df_fake_trim_2_test],ignore_index=True)"
   ]
  },
  {
   "cell_type": "code",
   "execution_count": 72,
   "metadata": {},
   "outputs": [
    {
     "name": "stdout",
     "output_type": "stream",
     "text": [
      "(1448, 3)\n",
      "                                               title  \\\n",
      "0  Trump extends federal social distancing guidel...   \n",
      "1  Coronavirus live updates: Global pandemic kill...   \n",
      "2  Trump concedes US coronavirus death toll could...   \n",
      "3                         Donald Trump's special day   \n",
      "4             How long will Trump's poll surge last?   \n",
      "\n",
      "                                                text  label  \n",
      "0  Washington (CNN) President Donald Trump said S...      1  \n",
      "1  The exterior of Elmhurst Hospital in Queens on...      1  \n",
      "2  (CNN) President Donald Trump acknowledged Sund...      1  \n",
      "3  Sign up to get our new weekly column as a news...      1  \n",
      "4  (CNN) The 2020 race, publicly at least, has la...      1  \n"
     ]
    },
    {
     "data": {
      "text/html": [
       "<div>\n",
       "<style scoped>\n",
       "    .dataframe tbody tr th:only-of-type {\n",
       "        vertical-align: middle;\n",
       "    }\n",
       "\n",
       "    .dataframe tbody tr th {\n",
       "        vertical-align: top;\n",
       "    }\n",
       "\n",
       "    .dataframe thead th {\n",
       "        text-align: right;\n",
       "    }\n",
       "</style>\n",
       "<table border=\"1\" class=\"dataframe\">\n",
       "  <thead>\n",
       "    <tr style=\"text-align: right;\">\n",
       "      <th></th>\n",
       "      <th>title</th>\n",
       "      <th>text</th>\n",
       "      <th>label</th>\n",
       "    </tr>\n",
       "  </thead>\n",
       "  <tbody>\n",
       "    <tr>\n",
       "      <td>1443</td>\n",
       "      <td>‘Sanctuary’ laws are latest immigration battle...</td>\n",
       "      <td>A case may have answered a part of the questio...</td>\n",
       "      <td>0</td>\n",
       "    </tr>\n",
       "    <tr>\n",
       "      <td>1444</td>\n",
       "      <td>Tornado rips through Arkansas city, injuring 2...</td>\n",
       "      <td>KANSAS CITY, Mo. — A tornado rips through Arka...</td>\n",
       "      <td>0</td>\n",
       "    </tr>\n",
       "    <tr>\n",
       "      <td>1445</td>\n",
       "      <td>Trump’s refusal to use wartime powers to direc...</td>\n",
       "      <td>WASHINGTON — Trump’s refusal to rely on wartim...</td>\n",
       "      <td>0</td>\n",
       "    </tr>\n",
       "    <tr>\n",
       "      <td>1446</td>\n",
       "      <td>NASA, Air Force conduct telework test on Frida...</td>\n",
       "      <td>Humans can learn how to quickly respond to a d...</td>\n",
       "      <td>0</td>\n",
       "    </tr>\n",
       "    <tr>\n",
       "      <td>1447</td>\n",
       "      <td>Here’s who qualifies for coronavirus paid sick...</td>\n",
       "      <td>A new federal law in place this year will make...</td>\n",
       "      <td>0</td>\n",
       "    </tr>\n",
       "  </tbody>\n",
       "</table>\n",
       "</div>"
      ],
      "text/plain": [
       "                                                  title  \\\n",
       "1443  ‘Sanctuary’ laws are latest immigration battle...   \n",
       "1444  Tornado rips through Arkansas city, injuring 2...   \n",
       "1445  Trump’s refusal to use wartime powers to direc...   \n",
       "1446  NASA, Air Force conduct telework test on Frida...   \n",
       "1447  Here’s who qualifies for coronavirus paid sick...   \n",
       "\n",
       "                                                   text  label  \n",
       "1443  A case may have answered a part of the questio...      0  \n",
       "1444  KANSAS CITY, Mo. — A tornado rips through Arka...      0  \n",
       "1445  WASHINGTON — Trump’s refusal to rely on wartim...      0  \n",
       "1446  Humans can learn how to quickly respond to a d...      0  \n",
       "1447  A new federal law in place this year will make...      0  "
      ]
     },
     "execution_count": 72,
     "metadata": {},
     "output_type": "execute_result"
    }
   ],
   "source": [
    "print(combined_train.shape)\n",
    "print(combined_train.head())\n",
    "combined_train.tail()"
   ]
  },
  {
   "cell_type": "code",
   "execution_count": 73,
   "metadata": {},
   "outputs": [
    {
     "name": "stdout",
     "output_type": "stream",
     "text": [
      "(362, 3)\n",
      "                                               title  \\\n",
      "0  Tornado rips through Arkansas city, injuring 2...   \n",
      "1  Coronavirus Threatens to Overwhelm Cities’ Soc...   \n",
      "2  Krzysztof Penderecki, Polish Composer With Cin...   \n",
      "3  ‘America’s governors’: Andrew Cuomo and Gavin ...   \n",
      "4  8 Killed After Philippine Plane Bursts Into Fl...   \n",
      "\n",
      "                                                text  label  \n",
      "0  (CNN) A tornado ripped through Jonesboro, Arka...      1  \n",
      "1  The economic shutdown caused by the coronaviru...      1  \n",
      "2  But then, opera had been his most troublesome ...      1  \n",
      "3  New York Gov. Andrew Cuomo adopted the role of...      1  \n",
      "4  MANILA — A plane used as an air ambulance by t...      1  \n"
     ]
    },
    {
     "data": {
      "text/html": [
       "<div>\n",
       "<style scoped>\n",
       "    .dataframe tbody tr th:only-of-type {\n",
       "        vertical-align: middle;\n",
       "    }\n",
       "\n",
       "    .dataframe tbody tr th {\n",
       "        vertical-align: top;\n",
       "    }\n",
       "\n",
       "    .dataframe thead th {\n",
       "        text-align: right;\n",
       "    }\n",
       "</style>\n",
       "<table border=\"1\" class=\"dataframe\">\n",
       "  <thead>\n",
       "    <tr style=\"text-align: right;\">\n",
       "      <th></th>\n",
       "      <th>title</th>\n",
       "      <th>text</th>\n",
       "      <th>label</th>\n",
       "    </tr>\n",
       "  </thead>\n",
       "  <tbody>\n",
       "    <tr>\n",
       "      <td>357</td>\n",
       "      <td>Americans Preparing for Strong Possibility of ...</td>\n",
       "      <td>By Vic Bishop With the U.S. presidential elect...</td>\n",
       "      <td>0</td>\n",
       "    </tr>\n",
       "    <tr>\n",
       "      <td>358</td>\n",
       "      <td>Hillary Wants Aggressively Interventionist For...</td>\n",
       "      <td>10-27-1 6 The first Bill and Hillary Clinton c...</td>\n",
       "      <td>0</td>\n",
       "    </tr>\n",
       "    <tr>\n",
       "      <td>359</td>\n",
       "      <td>Former NATO Chief: We Need US as ‘World’s Poli...</td>\n",
       "      <td>Complains Obama Isn't Hawkish Enough   \\nIn a ...</td>\n",
       "      <td>0</td>\n",
       "    </tr>\n",
       "    <tr>\n",
       "      <td>360</td>\n",
       "      <td>Comment on Professor who tweeted against PC cu...</td>\n",
       "      <td>Posted on October 31, 2016 by DCG | 11 Comment...</td>\n",
       "      <td>0</td>\n",
       "    </tr>\n",
       "    <tr>\n",
       "      <td>361</td>\n",
       "      <td>“Gaslighting”: One of The Most Dangerous Forms...</td>\n",
       "      <td>posted by Eddie The universe can be a funny pl...</td>\n",
       "      <td>0</td>\n",
       "    </tr>\n",
       "  </tbody>\n",
       "</table>\n",
       "</div>"
      ],
      "text/plain": [
       "                                                 title  \\\n",
       "357  Americans Preparing for Strong Possibility of ...   \n",
       "358  Hillary Wants Aggressively Interventionist For...   \n",
       "359  Former NATO Chief: We Need US as ‘World’s Poli...   \n",
       "360  Comment on Professor who tweeted against PC cu...   \n",
       "361  “Gaslighting”: One of The Most Dangerous Forms...   \n",
       "\n",
       "                                                  text  label  \n",
       "357  By Vic Bishop With the U.S. presidential elect...      0  \n",
       "358  10-27-1 6 The first Bill and Hillary Clinton c...      0  \n",
       "359  Complains Obama Isn't Hawkish Enough   \\nIn a ...      0  \n",
       "360  Posted on October 31, 2016 by DCG | 11 Comment...      0  \n",
       "361  posted by Eddie The universe can be a funny pl...      0  "
      ]
     },
     "execution_count": 73,
     "metadata": {},
     "output_type": "execute_result"
    }
   ],
   "source": [
    "print(combined_test.shape)\n",
    "print(combined_test.head())\n",
    "combined_test.tail()"
   ]
  },
  {
   "cell_type": "code",
   "execution_count": 80,
   "metadata": {},
   "outputs": [],
   "source": [
    "train_text = combined_train['text'].values\n",
    "test_text = combined_test['text'].values\n",
    "train_labels = combined_train['label'].values\n",
    "test_labels = combined_test['label'].values"
   ]
  },
  {
   "cell_type": "code",
   "execution_count": 88,
   "metadata": {},
   "outputs": [
    {
     "name": "stdout",
     "output_type": "stream",
     "text": [
      "(1448,)\n",
      "(362,)\n",
      "(1810,)\n"
     ]
    }
   ],
   "source": [
    "type(train_text)\n",
    "print(train_text.shape)\n",
    "print(test_text.shape)\n",
    "fit_text = np.concatenate((train_text, test_text))\n",
    "print(fit_text.shape)"
   ]
  },
  {
   "cell_type": "code",
   "execution_count": 89,
   "metadata": {},
   "outputs": [
    {
     "name": "stdout",
     "output_type": "stream",
     "text": [
      "<class 'scipy.sparse.csr.csr_matrix'>\n",
      "tf idf vectorized text shape: (1448, 9819)\n",
      "original text shape: (1448,)\n",
      "<class 'scipy.sparse.csr.csr_matrix'>\n",
      "tf idf vectorized text shape: (362, 9819)\n",
      "original text shape: (362,)\n"
     ]
    }
   ],
   "source": [
    "tfidf_2 = TfidfVectorizer(ngram_range=(1,2), max_df= 0.85, min_df= 0.01)\n",
    "tfidf_2.fit(fit_text)\n",
    "train_text = tfidf_2.transform(train_text)\n",
    "print(type(train_text))\n",
    "print(\"tf idf vectorized text shape: {}\".format(train_text.shape))\n",
    "print(\"original text shape: {}\".format(combined_train['text'].shape))\n",
    "\n",
    "test_text = tfidf_2.transform(test_text)\n",
    "print(type(test_text))\n",
    "print(\"tf idf vectorized text shape: {}\".format(test_text.shape))\n",
    "print(\"original text shape: {}\".format(combined_test['text'].shape))"
   ]
  },
  {
   "cell_type": "code",
   "execution_count": 90,
   "metadata": {},
   "outputs": [],
   "source": [
    "nb_2 = MultinomialNB()\n",
    "nb_2.fit(train_text,train_labels)\n",
    "train_pred = nb_2.predict(train_text)"
   ]
  },
  {
   "cell_type": "code",
   "execution_count": 91,
   "metadata": {},
   "outputs": [
    {
     "name": "stdout",
     "output_type": "stream",
     "text": [
      "Naive Bayes In Sample F1 and Accuracy Scores:\n",
      "F1 score 91.85%\n",
      "Accuracy score 91.85%\n"
     ]
    }
   ],
   "source": [
    "print('Naive Bayes In Sample F1 and Accuracy Scores:')\n",
    "print('F1 score {:.4}%'.format(f1_score(train_labels, train_pred, average='macro')*100 ))\n",
    "print ('Accuracy score {:.4}%'.format(accuracy_score(train_labels, train_pred)*100))"
   ]
  },
  {
   "cell_type": "code",
   "execution_count": 92,
   "metadata": {},
   "outputs": [
    {
     "data": {
      "text/html": [
       "<div>\n",
       "<style scoped>\n",
       "    .dataframe tbody tr th:only-of-type {\n",
       "        vertical-align: middle;\n",
       "    }\n",
       "\n",
       "    .dataframe tbody tr th {\n",
       "        vertical-align: top;\n",
       "    }\n",
       "\n",
       "    .dataframe thead th {\n",
       "        text-align: right;\n",
       "    }\n",
       "</style>\n",
       "<table border=\"1\" class=\"dataframe\">\n",
       "  <thead>\n",
       "    <tr style=\"text-align: right;\">\n",
       "      <th></th>\n",
       "      <th>title</th>\n",
       "      <th>text</th>\n",
       "    </tr>\n",
       "    <tr>\n",
       "      <th>label</th>\n",
       "      <th></th>\n",
       "      <th></th>\n",
       "    </tr>\n",
       "  </thead>\n",
       "  <tbody>\n",
       "    <tr>\n",
       "      <td>0</td>\n",
       "      <td>63</td>\n",
       "      <td>63</td>\n",
       "    </tr>\n",
       "    <tr>\n",
       "      <td>1</td>\n",
       "      <td>55</td>\n",
       "      <td>55</td>\n",
       "    </tr>\n",
       "  </tbody>\n",
       "</table>\n",
       "</div>"
      ],
      "text/plain": [
       "       title  text\n",
       "label             \n",
       "0         63    63\n",
       "1         55    55"
      ]
     },
     "execution_count": 92,
     "metadata": {},
     "output_type": "execute_result"
    }
   ],
   "source": [
    "combined.loc[np.where(train_labels != train_pred)[0].tolist()].groupby('label').agg('count')"
   ]
  },
  {
   "cell_type": "code",
   "execution_count": 93,
   "metadata": {},
   "outputs": [
    {
     "name": "stdout",
     "output_type": "stream",
     "text": [
      "Naive Bayes Out of Sample F1 and Accuracy Scores:\n",
      "F1 score 91.68%\n",
      "Accuracy score 91.71%\n"
     ]
    }
   ],
   "source": [
    "test_pred = nb_2.predict(test_text)\n",
    "print('Naive Bayes Out of Sample F1 and Accuracy Scores:')\n",
    "print('F1 score {:.4}%'.format(f1_score(test_labels, test_pred, average='macro')*100 ))\n",
    "print ('Accuracy score {:.4}%'.format(accuracy_score(test_labels, test_pred)*100))"
   ]
  },
  {
   "cell_type": "code",
   "execution_count": 94,
   "metadata": {},
   "outputs": [
    {
     "data": {
      "text/html": [
       "<div>\n",
       "<style scoped>\n",
       "    .dataframe tbody tr th:only-of-type {\n",
       "        vertical-align: middle;\n",
       "    }\n",
       "\n",
       "    .dataframe tbody tr th {\n",
       "        vertical-align: top;\n",
       "    }\n",
       "\n",
       "    .dataframe thead th {\n",
       "        text-align: right;\n",
       "    }\n",
       "</style>\n",
       "<table border=\"1\" class=\"dataframe\">\n",
       "  <thead>\n",
       "    <tr style=\"text-align: right;\">\n",
       "      <th></th>\n",
       "      <th>title</th>\n",
       "      <th>text</th>\n",
       "    </tr>\n",
       "    <tr>\n",
       "      <th>label</th>\n",
       "      <th></th>\n",
       "      <th></th>\n",
       "    </tr>\n",
       "  </thead>\n",
       "  <tbody>\n",
       "    <tr>\n",
       "      <td>1</td>\n",
       "      <td>30</td>\n",
       "      <td>30</td>\n",
       "    </tr>\n",
       "  </tbody>\n",
       "</table>\n",
       "</div>"
      ],
      "text/plain": [
       "       title  text\n",
       "label             \n",
       "1         30    30"
      ]
     },
     "execution_count": 94,
     "metadata": {},
     "output_type": "execute_result"
    }
   ],
   "source": [
    "combined.loc[np.where(test_labels != test_pred)[0].tolist()].groupby('label').agg('count')"
   ]
  },
  {
   "cell_type": "code",
   "execution_count": null,
   "metadata": {},
   "outputs": [],
   "source": []
  }
 ],
 "metadata": {
  "kernelspec": {
   "display_name": "Python 3",
   "language": "python",
   "name": "python3"
  },
  "language_info": {
   "codemirror_mode": {
    "name": "ipython",
    "version": 3
   },
   "file_extension": ".py",
   "mimetype": "text/x-python",
   "name": "python",
   "nbconvert_exporter": "python",
   "pygments_lexer": "ipython3",
   "version": "3.7.4"
  }
 },
 "nbformat": 4,
 "nbformat_minor": 2
}
