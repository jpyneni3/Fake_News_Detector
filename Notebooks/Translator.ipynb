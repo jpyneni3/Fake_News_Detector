{
 "cells": [
  {
   "cell_type": "code",
   "execution_count": 65,
   "metadata": {},
   "outputs": [],
   "source": [
    "import os\n",
    "import pandas as pd\n",
    "import time\n",
    "from textblob import TextBlob\n"
   ]
  },
  {
   "cell_type": "code",
   "execution_count": 66,
   "metadata": {},
   "outputs": [],
   "source": [
    "# folder = '../Augmentation Data/semi_cleaned'\n",
    "# dataframes = []\n",
    "# file_names = []\n",
    "# for file in os.listdir(folder):\n",
    "#     filepath = folder+\"/{}\".format(file)\n",
    "#     dataframes.append(pd.read_csv(filepath))\n",
    "#     file_names.append(file)\n",
    "\n",
    "# total = 0\n",
    "# for i in range(len(dataframes)):\n",
    "#     print(file_names[i])\n",
    "#     print(dataframes[i].shape)\n",
    "#     total += dataframes[i].shape[0]\n",
    "# print(total)"
   ]
  },
  {
   "cell_type": "code",
   "execution_count": 67,
   "metadata": {},
   "outputs": [],
   "source": [
    "file =  '../Augmentation Data/semi_cleaned/LIAR.csv'\n",
    "df_input = pd.read_csv(file)\n",
    "df_input.drop(['Unnamed: 0'], inplace=True,axis=1)"
   ]
  },
  {
   "cell_type": "code",
   "execution_count": 68,
   "metadata": {},
   "outputs": [
    {
     "data": {
      "text/html": [
       "<div>\n",
       "<style scoped>\n",
       "    .dataframe tbody tr th:only-of-type {\n",
       "        vertical-align: middle;\n",
       "    }\n",
       "\n",
       "    .dataframe tbody tr th {\n",
       "        vertical-align: top;\n",
       "    }\n",
       "\n",
       "    .dataframe thead th {\n",
       "        text-align: right;\n",
       "    }\n",
       "</style>\n",
       "<table border=\"1\" class=\"dataframe\">\n",
       "  <thead>\n",
       "    <tr style=\"text-align: right;\">\n",
       "      <th></th>\n",
       "      <th>clean_text</th>\n",
       "      <th>clean_title</th>\n",
       "      <th>label</th>\n",
       "    </tr>\n",
       "  </thead>\n",
       "  <tbody>\n",
       "    <tr>\n",
       "      <td>0</td>\n",
       "      <td>says the annies list political group supports ...</td>\n",
       "      <td>says the annies list political group supports ...</td>\n",
       "      <td>0</td>\n",
       "    </tr>\n",
       "    <tr>\n",
       "      <td>1</td>\n",
       "      <td>when did the decline of coal start? it started...</td>\n",
       "      <td>when did the decline of coal start? it started...</td>\n",
       "      <td>1</td>\n",
       "    </tr>\n",
       "    <tr>\n",
       "      <td>2</td>\n",
       "      <td>hillary clinton agrees with john mccain \"by vo...</td>\n",
       "      <td>hillary clinton agrees with john mccain \"by vo...</td>\n",
       "      <td>1</td>\n",
       "    </tr>\n",
       "    <tr>\n",
       "      <td>3</td>\n",
       "      <td>health care reform legislation is likely to ma...</td>\n",
       "      <td>health care reform legislation is likely to ma...</td>\n",
       "      <td>0</td>\n",
       "    </tr>\n",
       "    <tr>\n",
       "      <td>4</td>\n",
       "      <td>the economic turnaround started at the end of ...</td>\n",
       "      <td>the economic turnaround started at the end of ...</td>\n",
       "      <td>1</td>\n",
       "    </tr>\n",
       "  </tbody>\n",
       "</table>\n",
       "</div>"
      ],
      "text/plain": [
       "                                          clean_text  \\\n",
       "0  says the annies list political group supports ...   \n",
       "1  when did the decline of coal start? it started...   \n",
       "2  hillary clinton agrees with john mccain \"by vo...   \n",
       "3  health care reform legislation is likely to ma...   \n",
       "4  the economic turnaround started at the end of ...   \n",
       "\n",
       "                                         clean_title  label  \n",
       "0  says the annies list political group supports ...      0  \n",
       "1  when did the decline of coal start? it started...      1  \n",
       "2  hillary clinton agrees with john mccain \"by vo...      1  \n",
       "3  health care reform legislation is likely to ma...      0  \n",
       "4  the economic turnaround started at the end of ...      1  "
      ]
     },
     "execution_count": 68,
     "metadata": {},
     "output_type": "execute_result"
    }
   ],
   "source": [
    "df_input.head()"
   ]
  },
  {
   "cell_type": "code",
   "execution_count": 69,
   "metadata": {},
   "outputs": [
    {
     "name": "stdout",
     "output_type": "stream",
     "text": [
      "                                          clean_text  \\\n",
      "0  says the annies list political group supports ...   \n",
      "1  when did the decline of coal start? it started...   \n",
      "2  hillary clinton agrees with john mccain \"by vo...   \n",
      "3  health care reform legislation is likely to ma...   \n",
      "4  the economic turnaround started at the end of ...   \n",
      "\n",
      "                                         clean_title  label  \n",
      "0  says the annies list political group supports ...      0  \n",
      "1  when did the decline of coal start? it started...      1  \n",
      "2  hillary clinton agrees with john mccain \"by vo...      1  \n",
      "3  health care reform legislation is likely to ma...      0  \n",
      "4  the economic turnaround started at the end of ...      1  \n",
      "                                              clean_text  \\\n",
      "12786  for the first time in more than a decade, impo...   \n",
      "12787  says donald trump has bankrupted his companies...   \n",
      "12788  john mccain and george bush have \"absolutely n...   \n",
      "12789  a new poll shows 62 percent support the presid...   \n",
      "12790  no one claims the report vindicating new jerse...   \n",
      "\n",
      "                                             clean_title  label  \n",
      "12786  for the first time in more than a decade, impo...      1  \n",
      "12787  says donald trump has bankrupted his companies...      1  \n",
      "12788  john mccain and george bush have \"absolutely n...      1  \n",
      "12789  a new poll shows 62 percent support the presid...      0  \n",
      "12790  no one claims the report vindicating new jerse...      0  \n"
     ]
    }
   ],
   "source": [
    "# df_input = pd.concat(dataframes)\n",
    "df_input.reset_index(inplace=True,drop=True)\n",
    "print(df_input.head())\n",
    "print(df_input.tail())\n",
    "df_output = df_input.copy()"
   ]
  },
  {
   "cell_type": "code",
   "execution_count": 70,
   "metadata": {},
   "outputs": [],
   "source": [
    "spaces = []\n",
    "space_text = []\n",
    "for i in range(5):\n",
    "    s = \" \"*(i+1)\n",
    "    spaces.append(s)\n",
    "for i in range(len(df_input['clean_text'])):\n",
    "    try:\n",
    "        if df_input['clean_text'].iloc[i] in spaces:\n",
    "            space_text.append(i)\n",
    "    except TypeError:\n",
    "        print(\"TYPE ERROR\")\n",
    "        print(i)"
   ]
  },
  {
   "cell_type": "code",
   "execution_count": 71,
   "metadata": {},
   "outputs": [
    {
     "name": "stdout",
     "output_type": "stream",
     "text": [
      "[]\n"
     ]
    }
   ],
   "source": [
    "print(space_text)"
   ]
  },
  {
   "cell_type": "code",
   "execution_count": 72,
   "metadata": {},
   "outputs": [
    {
     "name": "stdout",
     "output_type": "stream",
     "text": [
      "[]\n"
     ]
    }
   ],
   "source": [
    "print(space_text)"
   ]
  },
  {
   "cell_type": "code",
   "execution_count": 73,
   "metadata": {},
   "outputs": [
    {
     "name": "stdout",
     "output_type": "stream",
     "text": [
      "これは処理できる量を確認するテストですこれは処理できる量を確認するテストですこれは処理できる量を確認するテストですこれは処理できる量を確認するテストですこれは確認するテストですこれが処理できる量これは処理できる量を確認するテストですこれは処理できる量を確認するテストですこれは処理できる量を確認するテストですこれは処理できる量を確認するテストです\n",
      "<class 'str'>\n",
      "This is a test to check how much can be processed This is a test to check how much can be processed This is a test to check how much can be processed This is a test to check how much can be processed This is a test to check This is a test that can be processed This is a test to check how much can be processed This is a test to check how much can be processed This is a test to check how much can be processed This is a test to check how much can be processed\n"
     ]
    }
   ],
   "source": [
    "text = \"This is a test to see how much this can handle This is a test to see how much this can handle This is a test to see how much this can handle This is a test to see how much this can handle This is a test to see how much this can handle This is a test to see how much this can handle This is a test to see how much this can handle This is a test to see how much this can handle This is a test to see how much this can handle   \"\n",
    "\n",
    "\n",
    "blob1 = TextBlob(text)\n",
    "foreign = blob1.translate(to='ja')\n",
    "out = foreign.translate(to='en')\n",
    "print(foreign)\n",
    "out = str(out)\n",
    "print(type(out))\n",
    "print(out)\n",
    "\n",
    "def translate(original, language='de'):\n",
    "    input_text = TextBlob(original)\n",
    "    foreign = input_text.translate(to=language)\n",
    "    time.sleep(0.25)\n",
    "    out = foreign.translate(to='en')\n",
    "    time.sleep(0.25)\n",
    "    return str(out)"
   ]
  },
  {
   "cell_type": "code",
   "execution_count": 87,
   "metadata": {},
   "outputs": [
    {
     "name": "stdout",
     "output_type": "stream",
     "text": [
      "server Kicked\n",
      "server Kicked\n",
      "server Kicked\n",
      "server Kicked\n",
      "server Kicked\n",
      "server Kicked\n",
      "server Kicked\n"
     ]
    },
    {
     "ename": "KeyboardInterrupt",
     "evalue": "",
     "output_type": "error",
     "traceback": [
      "\u001b[0;31m---------------------------------------------------------------------------\u001b[0m",
      "\u001b[0;31mKeyboardInterrupt\u001b[0m                         Traceback (most recent call last)",
      "\u001b[0;32m<ipython-input-87-d15bfe0f33f0>\u001b[0m in \u001b[0;36m<module>\u001b[0;34m\u001b[0m\n\u001b[1;32m      8\u001b[0m     \u001b[0;32mif\u001b[0m \u001b[0mog_text\u001b[0m\u001b[0;34m:\u001b[0m\u001b[0;34m\u001b[0m\u001b[0;34m\u001b[0m\u001b[0m\n\u001b[1;32m      9\u001b[0m         \u001b[0;32mtry\u001b[0m\u001b[0;34m:\u001b[0m\u001b[0;34m\u001b[0m\u001b[0;34m\u001b[0m\u001b[0m\n\u001b[0;32m---> 10\u001b[0;31m             \u001b[0mtranslated\u001b[0m \u001b[0;34m=\u001b[0m \u001b[0mtranslate\u001b[0m\u001b[0;34m(\u001b[0m\u001b[0mog_text\u001b[0m\u001b[0;34m)\u001b[0m\u001b[0;34m\u001b[0m\u001b[0;34m\u001b[0m\u001b[0m\n\u001b[0m\u001b[1;32m     11\u001b[0m             \u001b[0mdf_output\u001b[0m\u001b[0;34m.\u001b[0m\u001b[0mloc\u001b[0m\u001b[0;34m[\u001b[0m\u001b[0mi\u001b[0m\u001b[0;34m]\u001b[0m \u001b[0;34m=\u001b[0m \u001b[0;34m[\u001b[0m\u001b[0mtranslated\u001b[0m\u001b[0;34m,\u001b[0m\u001b[0mdf_input\u001b[0m\u001b[0;34m.\u001b[0m\u001b[0mclean_title\u001b[0m\u001b[0;34m[\u001b[0m\u001b[0mi\u001b[0m\u001b[0;34m]\u001b[0m\u001b[0;34m,\u001b[0m\u001b[0mdf_input\u001b[0m\u001b[0;34m.\u001b[0m\u001b[0mlabel\u001b[0m\u001b[0;34m[\u001b[0m\u001b[0mi\u001b[0m\u001b[0;34m]\u001b[0m\u001b[0;34m]\u001b[0m\u001b[0;34m\u001b[0m\u001b[0;34m\u001b[0m\u001b[0m\n\u001b[1;32m     12\u001b[0m         \u001b[0;32mexcept\u001b[0m \u001b[0mException\u001b[0m \u001b[0;32mas\u001b[0m \u001b[0me\u001b[0m\u001b[0;34m:\u001b[0m\u001b[0;34m\u001b[0m\u001b[0;34m\u001b[0m\u001b[0m\n",
      "\u001b[0;32m<ipython-input-73-a2046f7f9a34>\u001b[0m in \u001b[0;36mtranslate\u001b[0;34m(original, language)\u001b[0m\n\u001b[1;32m     12\u001b[0m \u001b[0;32mdef\u001b[0m \u001b[0mtranslate\u001b[0m\u001b[0;34m(\u001b[0m\u001b[0moriginal\u001b[0m\u001b[0;34m,\u001b[0m \u001b[0mlanguage\u001b[0m\u001b[0;34m=\u001b[0m\u001b[0;34m'de'\u001b[0m\u001b[0;34m)\u001b[0m\u001b[0;34m:\u001b[0m\u001b[0;34m\u001b[0m\u001b[0;34m\u001b[0m\u001b[0m\n\u001b[1;32m     13\u001b[0m     \u001b[0minput_text\u001b[0m \u001b[0;34m=\u001b[0m \u001b[0mTextBlob\u001b[0m\u001b[0;34m(\u001b[0m\u001b[0moriginal\u001b[0m\u001b[0;34m)\u001b[0m\u001b[0;34m\u001b[0m\u001b[0;34m\u001b[0m\u001b[0m\n\u001b[0;32m---> 14\u001b[0;31m     \u001b[0mforeign\u001b[0m \u001b[0;34m=\u001b[0m \u001b[0minput_text\u001b[0m\u001b[0;34m.\u001b[0m\u001b[0mtranslate\u001b[0m\u001b[0;34m(\u001b[0m\u001b[0mto\u001b[0m\u001b[0;34m=\u001b[0m\u001b[0mlanguage\u001b[0m\u001b[0;34m)\u001b[0m\u001b[0;34m\u001b[0m\u001b[0;34m\u001b[0m\u001b[0m\n\u001b[0m\u001b[1;32m     15\u001b[0m     \u001b[0mtime\u001b[0m\u001b[0;34m.\u001b[0m\u001b[0msleep\u001b[0m\u001b[0;34m(\u001b[0m\u001b[0;36m0.2\u001b[0m\u001b[0;34m)\u001b[0m\u001b[0;34m\u001b[0m\u001b[0;34m\u001b[0m\u001b[0m\n\u001b[1;32m     16\u001b[0m     \u001b[0mout\u001b[0m \u001b[0;34m=\u001b[0m \u001b[0mforeign\u001b[0m\u001b[0;34m.\u001b[0m\u001b[0mtranslate\u001b[0m\u001b[0;34m(\u001b[0m\u001b[0mto\u001b[0m\u001b[0;34m=\u001b[0m\u001b[0;34m'en'\u001b[0m\u001b[0;34m)\u001b[0m\u001b[0;34m\u001b[0m\u001b[0;34m\u001b[0m\u001b[0m\n",
      "\u001b[0;32m~/opt/anaconda3/lib/python3.7/site-packages/textblob/blob.py\u001b[0m in \u001b[0;36mtranslate\u001b[0;34m(self, from_lang, to)\u001b[0m\n\u001b[1;32m    545\u001b[0m         \"\"\"\n\u001b[1;32m    546\u001b[0m         return self.__class__(self.translator.translate(self.raw,\n\u001b[0;32m--> 547\u001b[0;31m                               from_lang=from_lang, to_lang=to))\n\u001b[0m\u001b[1;32m    548\u001b[0m \u001b[0;34m\u001b[0m\u001b[0m\n\u001b[1;32m    549\u001b[0m     \u001b[0;32mdef\u001b[0m \u001b[0mdetect_language\u001b[0m\u001b[0;34m(\u001b[0m\u001b[0mself\u001b[0m\u001b[0;34m)\u001b[0m\u001b[0;34m:\u001b[0m\u001b[0;34m\u001b[0m\u001b[0;34m\u001b[0m\u001b[0m\n",
      "\u001b[0;32m~/opt/anaconda3/lib/python3.7/site-packages/textblob/translate.py\u001b[0m in \u001b[0;36mtranslate\u001b[0;34m(self, source, from_lang, to_lang, host, type_)\u001b[0m\n\u001b[1;32m     52\u001b[0m             \u001b[0mtk\u001b[0m\u001b[0;34m=\u001b[0m\u001b[0m_calculate_tk\u001b[0m\u001b[0;34m(\u001b[0m\u001b[0msource\u001b[0m\u001b[0;34m)\u001b[0m\u001b[0;34m,\u001b[0m\u001b[0;34m\u001b[0m\u001b[0;34m\u001b[0m\u001b[0m\n\u001b[1;32m     53\u001b[0m         )\n\u001b[0;32m---> 54\u001b[0;31m         \u001b[0mresponse\u001b[0m \u001b[0;34m=\u001b[0m \u001b[0mself\u001b[0m\u001b[0;34m.\u001b[0m\u001b[0m_request\u001b[0m\u001b[0;34m(\u001b[0m\u001b[0murl\u001b[0m\u001b[0;34m,\u001b[0m \u001b[0mhost\u001b[0m\u001b[0;34m=\u001b[0m\u001b[0mhost\u001b[0m\u001b[0;34m,\u001b[0m \u001b[0mtype_\u001b[0m\u001b[0;34m=\u001b[0m\u001b[0mtype_\u001b[0m\u001b[0;34m,\u001b[0m \u001b[0mdata\u001b[0m\u001b[0;34m=\u001b[0m\u001b[0mdata\u001b[0m\u001b[0;34m)\u001b[0m\u001b[0;34m\u001b[0m\u001b[0;34m\u001b[0m\u001b[0m\n\u001b[0m\u001b[1;32m     55\u001b[0m         \u001b[0mresult\u001b[0m \u001b[0;34m=\u001b[0m \u001b[0mjson\u001b[0m\u001b[0;34m.\u001b[0m\u001b[0mloads\u001b[0m\u001b[0;34m(\u001b[0m\u001b[0mresponse\u001b[0m\u001b[0;34m)\u001b[0m\u001b[0;34m\u001b[0m\u001b[0;34m\u001b[0m\u001b[0m\n\u001b[1;32m     56\u001b[0m         \u001b[0;32mif\u001b[0m \u001b[0misinstance\u001b[0m\u001b[0;34m(\u001b[0m\u001b[0mresult\u001b[0m\u001b[0;34m,\u001b[0m \u001b[0mlist\u001b[0m\u001b[0;34m)\u001b[0m\u001b[0;34m:\u001b[0m\u001b[0;34m\u001b[0m\u001b[0;34m\u001b[0m\u001b[0m\n",
      "\u001b[0;32m~/opt/anaconda3/lib/python3.7/site-packages/textblob/translate.py\u001b[0m in \u001b[0;36m_request\u001b[0;34m(self, url, host, type_, data)\u001b[0m\n\u001b[1;32m     90\u001b[0m         \u001b[0;32mif\u001b[0m \u001b[0mhost\u001b[0m \u001b[0;32mor\u001b[0m \u001b[0mtype_\u001b[0m\u001b[0;34m:\u001b[0m\u001b[0;34m\u001b[0m\u001b[0;34m\u001b[0m\u001b[0m\n\u001b[1;32m     91\u001b[0m             \u001b[0mreq\u001b[0m\u001b[0;34m.\u001b[0m\u001b[0mset_proxy\u001b[0m\u001b[0;34m(\u001b[0m\u001b[0mhost\u001b[0m\u001b[0;34m=\u001b[0m\u001b[0mhost\u001b[0m\u001b[0;34m,\u001b[0m \u001b[0mtype\u001b[0m\u001b[0;34m=\u001b[0m\u001b[0mtype_\u001b[0m\u001b[0;34m)\u001b[0m\u001b[0;34m\u001b[0m\u001b[0;34m\u001b[0m\u001b[0m\n\u001b[0;32m---> 92\u001b[0;31m         \u001b[0mresp\u001b[0m \u001b[0;34m=\u001b[0m \u001b[0mrequest\u001b[0m\u001b[0;34m.\u001b[0m\u001b[0murlopen\u001b[0m\u001b[0;34m(\u001b[0m\u001b[0mreq\u001b[0m\u001b[0;34m)\u001b[0m\u001b[0;34m\u001b[0m\u001b[0;34m\u001b[0m\u001b[0m\n\u001b[0m\u001b[1;32m     93\u001b[0m         \u001b[0mcontent\u001b[0m \u001b[0;34m=\u001b[0m \u001b[0mresp\u001b[0m\u001b[0;34m.\u001b[0m\u001b[0mread\u001b[0m\u001b[0;34m(\u001b[0m\u001b[0;34m)\u001b[0m\u001b[0;34m\u001b[0m\u001b[0;34m\u001b[0m\u001b[0m\n\u001b[1;32m     94\u001b[0m         \u001b[0;32mreturn\u001b[0m \u001b[0mcontent\u001b[0m\u001b[0;34m.\u001b[0m\u001b[0mdecode\u001b[0m\u001b[0;34m(\u001b[0m\u001b[0;34m'utf-8'\u001b[0m\u001b[0;34m)\u001b[0m\u001b[0;34m\u001b[0m\u001b[0;34m\u001b[0m\u001b[0m\n",
      "\u001b[0;32m~/opt/anaconda3/lib/python3.7/urllib/request.py\u001b[0m in \u001b[0;36murlopen\u001b[0;34m(url, data, timeout, cafile, capath, cadefault, context)\u001b[0m\n\u001b[1;32m    220\u001b[0m     \u001b[0;32melse\u001b[0m\u001b[0;34m:\u001b[0m\u001b[0;34m\u001b[0m\u001b[0;34m\u001b[0m\u001b[0m\n\u001b[1;32m    221\u001b[0m         \u001b[0mopener\u001b[0m \u001b[0;34m=\u001b[0m \u001b[0m_opener\u001b[0m\u001b[0;34m\u001b[0m\u001b[0;34m\u001b[0m\u001b[0m\n\u001b[0;32m--> 222\u001b[0;31m     \u001b[0;32mreturn\u001b[0m \u001b[0mopener\u001b[0m\u001b[0;34m.\u001b[0m\u001b[0mopen\u001b[0m\u001b[0;34m(\u001b[0m\u001b[0murl\u001b[0m\u001b[0;34m,\u001b[0m \u001b[0mdata\u001b[0m\u001b[0;34m,\u001b[0m \u001b[0mtimeout\u001b[0m\u001b[0;34m)\u001b[0m\u001b[0;34m\u001b[0m\u001b[0;34m\u001b[0m\u001b[0m\n\u001b[0m\u001b[1;32m    223\u001b[0m \u001b[0;34m\u001b[0m\u001b[0m\n\u001b[1;32m    224\u001b[0m \u001b[0;32mdef\u001b[0m \u001b[0minstall_opener\u001b[0m\u001b[0;34m(\u001b[0m\u001b[0mopener\u001b[0m\u001b[0;34m)\u001b[0m\u001b[0;34m:\u001b[0m\u001b[0;34m\u001b[0m\u001b[0;34m\u001b[0m\u001b[0m\n",
      "\u001b[0;32m~/opt/anaconda3/lib/python3.7/urllib/request.py\u001b[0m in \u001b[0;36mopen\u001b[0;34m(self, fullurl, data, timeout)\u001b[0m\n\u001b[1;32m    523\u001b[0m             \u001b[0mreq\u001b[0m \u001b[0;34m=\u001b[0m \u001b[0mmeth\u001b[0m\u001b[0;34m(\u001b[0m\u001b[0mreq\u001b[0m\u001b[0;34m)\u001b[0m\u001b[0;34m\u001b[0m\u001b[0;34m\u001b[0m\u001b[0m\n\u001b[1;32m    524\u001b[0m \u001b[0;34m\u001b[0m\u001b[0m\n\u001b[0;32m--> 525\u001b[0;31m         \u001b[0mresponse\u001b[0m \u001b[0;34m=\u001b[0m \u001b[0mself\u001b[0m\u001b[0;34m.\u001b[0m\u001b[0m_open\u001b[0m\u001b[0;34m(\u001b[0m\u001b[0mreq\u001b[0m\u001b[0;34m,\u001b[0m \u001b[0mdata\u001b[0m\u001b[0;34m)\u001b[0m\u001b[0;34m\u001b[0m\u001b[0;34m\u001b[0m\u001b[0m\n\u001b[0m\u001b[1;32m    526\u001b[0m \u001b[0;34m\u001b[0m\u001b[0m\n\u001b[1;32m    527\u001b[0m         \u001b[0;31m# post-process response\u001b[0m\u001b[0;34m\u001b[0m\u001b[0;34m\u001b[0m\u001b[0;34m\u001b[0m\u001b[0m\n",
      "\u001b[0;32m~/opt/anaconda3/lib/python3.7/urllib/request.py\u001b[0m in \u001b[0;36m_open\u001b[0;34m(self, req, data)\u001b[0m\n\u001b[1;32m    541\u001b[0m         \u001b[0mprotocol\u001b[0m \u001b[0;34m=\u001b[0m \u001b[0mreq\u001b[0m\u001b[0;34m.\u001b[0m\u001b[0mtype\u001b[0m\u001b[0;34m\u001b[0m\u001b[0;34m\u001b[0m\u001b[0m\n\u001b[1;32m    542\u001b[0m         result = self._call_chain(self.handle_open, protocol, protocol +\n\u001b[0;32m--> 543\u001b[0;31m                                   '_open', req)\n\u001b[0m\u001b[1;32m    544\u001b[0m         \u001b[0;32mif\u001b[0m \u001b[0mresult\u001b[0m\u001b[0;34m:\u001b[0m\u001b[0;34m\u001b[0m\u001b[0;34m\u001b[0m\u001b[0m\n\u001b[1;32m    545\u001b[0m             \u001b[0;32mreturn\u001b[0m \u001b[0mresult\u001b[0m\u001b[0;34m\u001b[0m\u001b[0;34m\u001b[0m\u001b[0m\n",
      "\u001b[0;32m~/opt/anaconda3/lib/python3.7/urllib/request.py\u001b[0m in \u001b[0;36m_call_chain\u001b[0;34m(self, chain, kind, meth_name, *args)\u001b[0m\n\u001b[1;32m    501\u001b[0m         \u001b[0;32mfor\u001b[0m \u001b[0mhandler\u001b[0m \u001b[0;32min\u001b[0m \u001b[0mhandlers\u001b[0m\u001b[0;34m:\u001b[0m\u001b[0;34m\u001b[0m\u001b[0;34m\u001b[0m\u001b[0m\n\u001b[1;32m    502\u001b[0m             \u001b[0mfunc\u001b[0m \u001b[0;34m=\u001b[0m \u001b[0mgetattr\u001b[0m\u001b[0;34m(\u001b[0m\u001b[0mhandler\u001b[0m\u001b[0;34m,\u001b[0m \u001b[0mmeth_name\u001b[0m\u001b[0;34m)\u001b[0m\u001b[0;34m\u001b[0m\u001b[0;34m\u001b[0m\u001b[0m\n\u001b[0;32m--> 503\u001b[0;31m             \u001b[0mresult\u001b[0m \u001b[0;34m=\u001b[0m \u001b[0mfunc\u001b[0m\u001b[0;34m(\u001b[0m\u001b[0;34m*\u001b[0m\u001b[0margs\u001b[0m\u001b[0;34m)\u001b[0m\u001b[0;34m\u001b[0m\u001b[0;34m\u001b[0m\u001b[0m\n\u001b[0m\u001b[1;32m    504\u001b[0m             \u001b[0;32mif\u001b[0m \u001b[0mresult\u001b[0m \u001b[0;32mis\u001b[0m \u001b[0;32mnot\u001b[0m \u001b[0;32mNone\u001b[0m\u001b[0;34m:\u001b[0m\u001b[0;34m\u001b[0m\u001b[0;34m\u001b[0m\u001b[0m\n\u001b[1;32m    505\u001b[0m                 \u001b[0;32mreturn\u001b[0m \u001b[0mresult\u001b[0m\u001b[0;34m\u001b[0m\u001b[0;34m\u001b[0m\u001b[0m\n",
      "\u001b[0;32m~/opt/anaconda3/lib/python3.7/urllib/request.py\u001b[0m in \u001b[0;36mhttp_open\u001b[0;34m(self, req)\u001b[0m\n\u001b[1;32m   1343\u001b[0m \u001b[0;34m\u001b[0m\u001b[0m\n\u001b[1;32m   1344\u001b[0m     \u001b[0;32mdef\u001b[0m \u001b[0mhttp_open\u001b[0m\u001b[0;34m(\u001b[0m\u001b[0mself\u001b[0m\u001b[0;34m,\u001b[0m \u001b[0mreq\u001b[0m\u001b[0;34m)\u001b[0m\u001b[0;34m:\u001b[0m\u001b[0;34m\u001b[0m\u001b[0;34m\u001b[0m\u001b[0m\n\u001b[0;32m-> 1345\u001b[0;31m         \u001b[0;32mreturn\u001b[0m \u001b[0mself\u001b[0m\u001b[0;34m.\u001b[0m\u001b[0mdo_open\u001b[0m\u001b[0;34m(\u001b[0m\u001b[0mhttp\u001b[0m\u001b[0;34m.\u001b[0m\u001b[0mclient\u001b[0m\u001b[0;34m.\u001b[0m\u001b[0mHTTPConnection\u001b[0m\u001b[0;34m,\u001b[0m \u001b[0mreq\u001b[0m\u001b[0;34m)\u001b[0m\u001b[0;34m\u001b[0m\u001b[0;34m\u001b[0m\u001b[0m\n\u001b[0m\u001b[1;32m   1346\u001b[0m \u001b[0;34m\u001b[0m\u001b[0m\n\u001b[1;32m   1347\u001b[0m     \u001b[0mhttp_request\u001b[0m \u001b[0;34m=\u001b[0m \u001b[0mAbstractHTTPHandler\u001b[0m\u001b[0;34m.\u001b[0m\u001b[0mdo_request_\u001b[0m\u001b[0;34m\u001b[0m\u001b[0;34m\u001b[0m\u001b[0m\n",
      "\u001b[0;32m~/opt/anaconda3/lib/python3.7/urllib/request.py\u001b[0m in \u001b[0;36mdo_open\u001b[0;34m(self, http_class, req, **http_conn_args)\u001b[0m\n\u001b[1;32m   1318\u001b[0m             \u001b[0;32mexcept\u001b[0m \u001b[0mOSError\u001b[0m \u001b[0;32mas\u001b[0m \u001b[0merr\u001b[0m\u001b[0;34m:\u001b[0m \u001b[0;31m# timeout error\u001b[0m\u001b[0;34m\u001b[0m\u001b[0;34m\u001b[0m\u001b[0m\n\u001b[1;32m   1319\u001b[0m                 \u001b[0;32mraise\u001b[0m \u001b[0mURLError\u001b[0m\u001b[0;34m(\u001b[0m\u001b[0merr\u001b[0m\u001b[0;34m)\u001b[0m\u001b[0;34m\u001b[0m\u001b[0;34m\u001b[0m\u001b[0m\n\u001b[0;32m-> 1320\u001b[0;31m             \u001b[0mr\u001b[0m \u001b[0;34m=\u001b[0m \u001b[0mh\u001b[0m\u001b[0;34m.\u001b[0m\u001b[0mgetresponse\u001b[0m\u001b[0;34m(\u001b[0m\u001b[0;34m)\u001b[0m\u001b[0;34m\u001b[0m\u001b[0;34m\u001b[0m\u001b[0m\n\u001b[0m\u001b[1;32m   1321\u001b[0m         \u001b[0;32mexcept\u001b[0m\u001b[0;34m:\u001b[0m\u001b[0;34m\u001b[0m\u001b[0;34m\u001b[0m\u001b[0m\n\u001b[1;32m   1322\u001b[0m             \u001b[0mh\u001b[0m\u001b[0;34m.\u001b[0m\u001b[0mclose\u001b[0m\u001b[0;34m(\u001b[0m\u001b[0;34m)\u001b[0m\u001b[0;34m\u001b[0m\u001b[0;34m\u001b[0m\u001b[0m\n",
      "\u001b[0;32m~/opt/anaconda3/lib/python3.7/http/client.py\u001b[0m in \u001b[0;36mgetresponse\u001b[0;34m(self)\u001b[0m\n\u001b[1;32m   1334\u001b[0m         \u001b[0;32mtry\u001b[0m\u001b[0;34m:\u001b[0m\u001b[0;34m\u001b[0m\u001b[0;34m\u001b[0m\u001b[0m\n\u001b[1;32m   1335\u001b[0m             \u001b[0;32mtry\u001b[0m\u001b[0;34m:\u001b[0m\u001b[0;34m\u001b[0m\u001b[0;34m\u001b[0m\u001b[0m\n\u001b[0;32m-> 1336\u001b[0;31m                 \u001b[0mresponse\u001b[0m\u001b[0;34m.\u001b[0m\u001b[0mbegin\u001b[0m\u001b[0;34m(\u001b[0m\u001b[0;34m)\u001b[0m\u001b[0;34m\u001b[0m\u001b[0;34m\u001b[0m\u001b[0m\n\u001b[0m\u001b[1;32m   1337\u001b[0m             \u001b[0;32mexcept\u001b[0m \u001b[0mConnectionError\u001b[0m\u001b[0;34m:\u001b[0m\u001b[0;34m\u001b[0m\u001b[0;34m\u001b[0m\u001b[0m\n\u001b[1;32m   1338\u001b[0m                 \u001b[0mself\u001b[0m\u001b[0;34m.\u001b[0m\u001b[0mclose\u001b[0m\u001b[0;34m(\u001b[0m\u001b[0;34m)\u001b[0m\u001b[0;34m\u001b[0m\u001b[0;34m\u001b[0m\u001b[0m\n",
      "\u001b[0;32m~/opt/anaconda3/lib/python3.7/http/client.py\u001b[0m in \u001b[0;36mbegin\u001b[0;34m(self)\u001b[0m\n\u001b[1;32m    304\u001b[0m         \u001b[0;31m# read until we get a non-100 response\u001b[0m\u001b[0;34m\u001b[0m\u001b[0;34m\u001b[0m\u001b[0;34m\u001b[0m\u001b[0m\n\u001b[1;32m    305\u001b[0m         \u001b[0;32mwhile\u001b[0m \u001b[0;32mTrue\u001b[0m\u001b[0;34m:\u001b[0m\u001b[0;34m\u001b[0m\u001b[0;34m\u001b[0m\u001b[0m\n\u001b[0;32m--> 306\u001b[0;31m             \u001b[0mversion\u001b[0m\u001b[0;34m,\u001b[0m \u001b[0mstatus\u001b[0m\u001b[0;34m,\u001b[0m \u001b[0mreason\u001b[0m \u001b[0;34m=\u001b[0m \u001b[0mself\u001b[0m\u001b[0;34m.\u001b[0m\u001b[0m_read_status\u001b[0m\u001b[0;34m(\u001b[0m\u001b[0;34m)\u001b[0m\u001b[0;34m\u001b[0m\u001b[0;34m\u001b[0m\u001b[0m\n\u001b[0m\u001b[1;32m    307\u001b[0m             \u001b[0;32mif\u001b[0m \u001b[0mstatus\u001b[0m \u001b[0;34m!=\u001b[0m \u001b[0mCONTINUE\u001b[0m\u001b[0;34m:\u001b[0m\u001b[0;34m\u001b[0m\u001b[0;34m\u001b[0m\u001b[0m\n\u001b[1;32m    308\u001b[0m                 \u001b[0;32mbreak\u001b[0m\u001b[0;34m\u001b[0m\u001b[0;34m\u001b[0m\u001b[0m\n",
      "\u001b[0;32m~/opt/anaconda3/lib/python3.7/http/client.py\u001b[0m in \u001b[0;36m_read_status\u001b[0;34m(self)\u001b[0m\n\u001b[1;32m    265\u001b[0m \u001b[0;34m\u001b[0m\u001b[0m\n\u001b[1;32m    266\u001b[0m     \u001b[0;32mdef\u001b[0m \u001b[0m_read_status\u001b[0m\u001b[0;34m(\u001b[0m\u001b[0mself\u001b[0m\u001b[0;34m)\u001b[0m\u001b[0;34m:\u001b[0m\u001b[0;34m\u001b[0m\u001b[0;34m\u001b[0m\u001b[0m\n\u001b[0;32m--> 267\u001b[0;31m         \u001b[0mline\u001b[0m \u001b[0;34m=\u001b[0m \u001b[0mstr\u001b[0m\u001b[0;34m(\u001b[0m\u001b[0mself\u001b[0m\u001b[0;34m.\u001b[0m\u001b[0mfp\u001b[0m\u001b[0;34m.\u001b[0m\u001b[0mreadline\u001b[0m\u001b[0;34m(\u001b[0m\u001b[0m_MAXLINE\u001b[0m \u001b[0;34m+\u001b[0m \u001b[0;36m1\u001b[0m\u001b[0;34m)\u001b[0m\u001b[0;34m,\u001b[0m \u001b[0;34m\"iso-8859-1\"\u001b[0m\u001b[0;34m)\u001b[0m\u001b[0;34m\u001b[0m\u001b[0;34m\u001b[0m\u001b[0m\n\u001b[0m\u001b[1;32m    268\u001b[0m         \u001b[0;32mif\u001b[0m \u001b[0mlen\u001b[0m\u001b[0;34m(\u001b[0m\u001b[0mline\u001b[0m\u001b[0;34m)\u001b[0m \u001b[0;34m>\u001b[0m \u001b[0m_MAXLINE\u001b[0m\u001b[0;34m:\u001b[0m\u001b[0;34m\u001b[0m\u001b[0;34m\u001b[0m\u001b[0m\n\u001b[1;32m    269\u001b[0m             \u001b[0;32mraise\u001b[0m \u001b[0mLineTooLong\u001b[0m\u001b[0;34m(\u001b[0m\u001b[0;34m\"status line\"\u001b[0m\u001b[0;34m)\u001b[0m\u001b[0;34m\u001b[0m\u001b[0;34m\u001b[0m\u001b[0m\n",
      "\u001b[0;32m~/opt/anaconda3/lib/python3.7/socket.py\u001b[0m in \u001b[0;36mreadinto\u001b[0;34m(self, b)\u001b[0m\n\u001b[1;32m    587\u001b[0m         \u001b[0;32mwhile\u001b[0m \u001b[0;32mTrue\u001b[0m\u001b[0;34m:\u001b[0m\u001b[0;34m\u001b[0m\u001b[0;34m\u001b[0m\u001b[0m\n\u001b[1;32m    588\u001b[0m             \u001b[0;32mtry\u001b[0m\u001b[0;34m:\u001b[0m\u001b[0;34m\u001b[0m\u001b[0;34m\u001b[0m\u001b[0m\n\u001b[0;32m--> 589\u001b[0;31m                 \u001b[0;32mreturn\u001b[0m \u001b[0mself\u001b[0m\u001b[0;34m.\u001b[0m\u001b[0m_sock\u001b[0m\u001b[0;34m.\u001b[0m\u001b[0mrecv_into\u001b[0m\u001b[0;34m(\u001b[0m\u001b[0mb\u001b[0m\u001b[0;34m)\u001b[0m\u001b[0;34m\u001b[0m\u001b[0;34m\u001b[0m\u001b[0m\n\u001b[0m\u001b[1;32m    590\u001b[0m             \u001b[0;32mexcept\u001b[0m \u001b[0mtimeout\u001b[0m\u001b[0;34m:\u001b[0m\u001b[0;34m\u001b[0m\u001b[0;34m\u001b[0m\u001b[0m\n\u001b[1;32m    591\u001b[0m                 \u001b[0mself\u001b[0m\u001b[0;34m.\u001b[0m\u001b[0m_timeout_occurred\u001b[0m \u001b[0;34m=\u001b[0m \u001b[0;32mTrue\u001b[0m\u001b[0;34m\u001b[0m\u001b[0;34m\u001b[0m\u001b[0m\n",
      "\u001b[0;31mKeyboardInterrupt\u001b[0m: "
     ]
    }
   ],
   "source": [
    "num = df_input.shape[0]\n",
    "start = time.time()\n",
    "issues = {}\n",
    "no_change = []\n",
    "nan_vals = []\n",
    "for i in range(num):\n",
    "    og_text = df_input['clean_text'].iloc[i]\n",
    "    if og_text:\n",
    "        try:\n",
    "            translated = translate(og_text)\n",
    "            df_output.loc[i] = [translated,df_input.clean_title[i],df_input.label[i]]\n",
    "        except Exception as e:\n",
    "        #     issues[i] = e\n",
    "            e = str(e)\n",
    "            if e == \"Translation API returned the input string unchanged.\":\n",
    "                print(\"no change found\")\n",
    "                df_output.loc[i] = [og_text,df_input.clean_title[i],df_input.label[i]]\n",
    "                no_change.append(i)\n",
    "            elif e == \"HTTP Error 429: Too Many Requests\":\n",
    "                print(\"server Kicked\")\n",
    "            else:\n",
    "                issues[i] = e\n",
    "                print(\"uncaught issue\")\n",
    "                df_output.loc[i] = [og_text,df_input.clean_title[i],df_input.label[i]]\n",
    "            pass\n",
    "    else:\n",
    "        df_output.loc[i] = [og_text,df_input.clean_title[i],df_input.label[i]]\n",
    "        nan_vals.append(i)\n",
    "    \n",
    "end = time.time()\n",
    "print(\"New size = {}\".format(df_real.shape))\n",
    "print(\"{} translations in {}\".format(df_real.shape[0]-num,end-start))"
   ]
  },
  {
   "cell_type": "code",
   "execution_count": 79,
   "metadata": {},
   "outputs": [
    {
     "name": "stdout",
     "output_type": "stream",
     "text": [
      "{236: 'HTTP Error 429: Too Many Requests', 237: 'HTTP Error 429: Too Many Requests', 238: 'HTTP Error 429: Too Many Requests', 239: 'HTTP Error 429: Too Many Requests', 240: 'HTTP Error 429: Too Many Requests', 241: 'HTTP Error 429: Too Many Requests', 242: 'HTTP Error 429: Too Many Requests', 243: 'HTTP Error 429: Too Many Requests', 244: 'HTTP Error 429: Too Many Requests', 245: 'HTTP Error 429: Too Many Requests', 246: 'HTTP Error 429: Too Many Requests', 247: 'HTTP Error 429: Too Many Requests', 248: 'HTTP Error 429: Too Many Requests', 249: 'HTTP Error 429: Too Many Requests', 250: 'HTTP Error 429: Too Many Requests', 251: 'HTTP Error 429: Too Many Requests', 252: 'HTTP Error 429: Too Many Requests', 253: 'HTTP Error 429: Too Many Requests', 254: 'HTTP Error 429: Too Many Requests', 255: 'HTTP Error 429: Too Many Requests', 256: 'HTTP Error 429: Too Many Requests', 257: 'HTTP Error 429: Too Many Requests', 258: 'HTTP Error 429: Too Many Requests', 259: 'HTTP Error 429: Too Many Requests', 260: 'HTTP Error 429: Too Many Requests', 261: 'HTTP Error 429: Too Many Requests', 262: 'HTTP Error 429: Too Many Requests', 263: 'HTTP Error 429: Too Many Requests', 264: 'HTTP Error 429: Too Many Requests', 265: 'HTTP Error 429: Too Many Requests', 266: 'HTTP Error 429: Too Many Requests', 267: 'HTTP Error 429: Too Many Requests', 268: 'HTTP Error 429: Too Many Requests', 269: 'HTTP Error 429: Too Many Requests', 270: 'HTTP Error 429: Too Many Requests', 271: 'HTTP Error 429: Too Many Requests', 272: 'HTTP Error 429: Too Many Requests', 273: 'HTTP Error 429: Too Many Requests', 274: 'HTTP Error 429: Too Many Requests', 275: 'HTTP Error 429: Too Many Requests', 276: 'HTTP Error 429: Too Many Requests', 277: 'HTTP Error 429: Too Many Requests', 278: 'HTTP Error 429: Too Many Requests', 279: 'HTTP Error 429: Too Many Requests', 280: 'HTTP Error 429: Too Many Requests', 281: 'HTTP Error 429: Too Many Requests', 282: 'HTTP Error 429: Too Many Requests', 283: 'HTTP Error 429: Too Many Requests', 284: 'HTTP Error 429: Too Many Requests', 285: 'HTTP Error 429: Too Many Requests', 286: 'HTTP Error 429: Too Many Requests', 287: 'HTTP Error 429: Too Many Requests', 288: 'HTTP Error 429: Too Many Requests', 289: 'HTTP Error 429: Too Many Requests', 290: 'HTTP Error 429: Too Many Requests', 291: 'HTTP Error 429: Too Many Requests', 292: 'HTTP Error 429: Too Many Requests', 293: 'HTTP Error 429: Too Many Requests', 294: 'HTTP Error 429: Too Many Requests', 295: 'HTTP Error 429: Too Many Requests', 296: 'HTTP Error 429: Too Many Requests', 297: 'HTTP Error 429: Too Many Requests', 298: 'HTTP Error 429: Too Many Requests', 299: 'HTTP Error 429: Too Many Requests', 300: 'HTTP Error 429: Too Many Requests', 301: 'HTTP Error 429: Too Many Requests', 302: 'HTTP Error 429: Too Many Requests', 303: 'HTTP Error 429: Too Many Requests', 304: 'HTTP Error 429: Too Many Requests', 305: 'HTTP Error 429: Too Many Requests', 306: 'HTTP Error 429: Too Many Requests', 307: 'HTTP Error 429: Too Many Requests', 308: 'HTTP Error 429: Too Many Requests', 309: 'HTTP Error 429: Too Many Requests', 310: 'HTTP Error 429: Too Many Requests', 311: 'HTTP Error 429: Too Many Requests', 312: 'HTTP Error 429: Too Many Requests', 313: 'HTTP Error 429: Too Many Requests', 314: 'HTTP Error 429: Too Many Requests', 315: 'HTTP Error 429: Too Many Requests', 316: 'HTTP Error 429: Too Many Requests', 317: 'HTTP Error 429: Too Many Requests', 318: 'HTTP Error 429: Too Many Requests', 319: 'HTTP Error 429: Too Many Requests', 320: 'HTTP Error 429: Too Many Requests', 321: 'HTTP Error 429: Too Many Requests', 322: 'HTTP Error 429: Too Many Requests', 323: 'HTTP Error 429: Too Many Requests', 324: 'HTTP Error 429: Too Many Requests', 325: 'HTTP Error 429: Too Many Requests', 326: 'HTTP Error 429: Too Many Requests', 327: 'HTTP Error 429: Too Many Requests', 328: 'HTTP Error 429: Too Many Requests', 329: 'HTTP Error 429: Too Many Requests', 330: 'HTTP Error 429: Too Many Requests', 331: 'HTTP Error 429: Too Many Requests', 332: 'HTTP Error 429: Too Many Requests', 333: 'HTTP Error 429: Too Many Requests', 334: 'HTTP Error 429: Too Many Requests', 335: 'HTTP Error 429: Too Many Requests', 336: 'HTTP Error 429: Too Many Requests', 337: 'HTTP Error 429: Too Many Requests', 338: 'HTTP Error 429: Too Many Requests', 339: 'HTTP Error 429: Too Many Requests', 340: 'HTTP Error 429: Too Many Requests', 341: 'HTTP Error 429: Too Many Requests', 342: 'HTTP Error 429: Too Many Requests', 343: 'HTTP Error 429: Too Many Requests', 344: 'HTTP Error 429: Too Many Requests', 345: 'HTTP Error 429: Too Many Requests', 346: 'HTTP Error 429: Too Many Requests', 347: 'HTTP Error 429: Too Many Requests', 348: 'HTTP Error 429: Too Many Requests', 349: 'HTTP Error 429: Too Many Requests', 350: 'HTTP Error 429: Too Many Requests', 351: 'HTTP Error 429: Too Many Requests', 352: 'HTTP Error 429: Too Many Requests', 353: 'HTTP Error 429: Too Many Requests', 354: 'HTTP Error 429: Too Many Requests', 355: 'HTTP Error 429: Too Many Requests', 356: 'HTTP Error 429: Too Many Requests', 357: 'HTTP Error 429: Too Many Requests', 358: 'HTTP Error 429: Too Many Requests', 359: 'HTTP Error 429: Too Many Requests', 360: 'HTTP Error 429: Too Many Requests', 361: 'HTTP Error 429: Too Many Requests', 362: 'HTTP Error 429: Too Many Requests', 363: 'HTTP Error 429: Too Many Requests', 364: 'HTTP Error 429: Too Many Requests', 365: 'HTTP Error 429: Too Many Requests', 366: 'HTTP Error 429: Too Many Requests', 367: 'HTTP Error 429: Too Many Requests', 368: 'HTTP Error 429: Too Many Requests', 369: 'HTTP Error 429: Too Many Requests', 370: 'HTTP Error 429: Too Many Requests', 371: 'HTTP Error 429: Too Many Requests', 372: 'HTTP Error 429: Too Many Requests', 373: 'HTTP Error 429: Too Many Requests', 374: 'HTTP Error 429: Too Many Requests', 375: 'HTTP Error 429: Too Many Requests', 376: 'HTTP Error 429: Too Many Requests', 377: 'HTTP Error 429: Too Many Requests', 378: 'HTTP Error 429: Too Many Requests', 379: 'HTTP Error 429: Too Many Requests', 380: 'HTTP Error 429: Too Many Requests', 381: 'HTTP Error 429: Too Many Requests', 382: 'HTTP Error 429: Too Many Requests', 383: 'HTTP Error 429: Too Many Requests', 384: 'HTTP Error 429: Too Many Requests', 385: 'HTTP Error 429: Too Many Requests', 386: 'HTTP Error 429: Too Many Requests', 387: 'HTTP Error 429: Too Many Requests', 388: 'HTTP Error 429: Too Many Requests', 389: 'HTTP Error 429: Too Many Requests', 390: 'HTTP Error 429: Too Many Requests', 391: 'HTTP Error 429: Too Many Requests', 392: 'HTTP Error 429: Too Many Requests', 393: 'HTTP Error 429: Too Many Requests', 394: 'HTTP Error 429: Too Many Requests', 395: 'HTTP Error 429: Too Many Requests', 396: 'HTTP Error 429: Too Many Requests', 397: 'HTTP Error 429: Too Many Requests', 398: 'HTTP Error 429: Too Many Requests', 399: 'HTTP Error 429: Too Many Requests', 400: 'HTTP Error 429: Too Many Requests', 401: 'HTTP Error 429: Too Many Requests', 402: 'HTTP Error 429: Too Many Requests', 403: 'HTTP Error 429: Too Many Requests', 404: 'HTTP Error 429: Too Many Requests', 405: 'HTTP Error 429: Too Many Requests', 406: 'HTTP Error 429: Too Many Requests', 407: 'HTTP Error 429: Too Many Requests', 408: 'HTTP Error 429: Too Many Requests', 409: 'HTTP Error 429: Too Many Requests', 410: 'HTTP Error 429: Too Many Requests', 411: 'HTTP Error 429: Too Many Requests', 412: 'HTTP Error 429: Too Many Requests', 413: 'HTTP Error 429: Too Many Requests', 414: 'HTTP Error 429: Too Many Requests', 415: 'HTTP Error 429: Too Many Requests', 416: 'HTTP Error 429: Too Many Requests', 417: 'HTTP Error 429: Too Many Requests', 418: 'HTTP Error 429: Too Many Requests', 419: 'HTTP Error 429: Too Many Requests', 420: 'HTTP Error 429: Too Many Requests', 421: 'HTTP Error 429: Too Many Requests', 422: 'HTTP Error 429: Too Many Requests', 423: 'HTTP Error 429: Too Many Requests', 424: 'HTTP Error 429: Too Many Requests', 425: 'HTTP Error 429: Too Many Requests', 426: 'HTTP Error 429: Too Many Requests', 427: 'HTTP Error 429: Too Many Requests', 428: 'HTTP Error 429: Too Many Requests', 429: 'HTTP Error 429: Too Many Requests', 430: 'HTTP Error 429: Too Many Requests', 431: 'HTTP Error 429: Too Many Requests', 432: 'HTTP Error 429: Too Many Requests', 433: 'HTTP Error 429: Too Many Requests', 434: 'HTTP Error 429: Too Many Requests', 435: 'HTTP Error 429: Too Many Requests', 436: 'HTTP Error 429: Too Many Requests', 437: 'HTTP Error 429: Too Many Requests', 438: 'HTTP Error 429: Too Many Requests', 439: 'HTTP Error 429: Too Many Requests', 440: 'HTTP Error 429: Too Many Requests', 441: 'HTTP Error 429: Too Many Requests', 442: 'HTTP Error 429: Too Many Requests', 443: 'HTTP Error 429: Too Many Requests', 444: 'HTTP Error 429: Too Many Requests', 445: 'HTTP Error 429: Too Many Requests', 446: 'HTTP Error 429: Too Many Requests', 447: 'HTTP Error 429: Too Many Requests', 448: 'HTTP Error 429: Too Many Requests', 449: 'HTTP Error 429: Too Many Requests', 450: 'HTTP Error 429: Too Many Requests', 451: 'HTTP Error 429: Too Many Requests', 452: 'HTTP Error 429: Too Many Requests', 453: 'HTTP Error 429: Too Many Requests', 454: 'HTTP Error 429: Too Many Requests', 455: 'HTTP Error 429: Too Many Requests', 456: 'HTTP Error 429: Too Many Requests', 457: 'HTTP Error 429: Too Many Requests', 458: 'HTTP Error 429: Too Many Requests', 459: 'HTTP Error 429: Too Many Requests', 460: 'HTTP Error 429: Too Many Requests', 461: 'HTTP Error 429: Too Many Requests', 462: 'HTTP Error 429: Too Many Requests', 463: 'HTTP Error 429: Too Many Requests', 464: 'HTTP Error 429: Too Many Requests', 465: 'HTTP Error 429: Too Many Requests', 466: 'HTTP Error 429: Too Many Requests', 467: 'HTTP Error 429: Too Many Requests', 468: 'HTTP Error 429: Too Many Requests', 469: 'HTTP Error 429: Too Many Requests', 470: 'HTTP Error 429: Too Many Requests', 471: 'HTTP Error 429: Too Many Requests', 472: 'HTTP Error 429: Too Many Requests', 473: 'HTTP Error 429: Too Many Requests', 474: 'HTTP Error 429: Too Many Requests', 475: 'HTTP Error 429: Too Many Requests', 476: 'HTTP Error 429: Too Many Requests', 477: 'HTTP Error 429: Too Many Requests', 478: 'HTTP Error 429: Too Many Requests', 479: 'HTTP Error 429: Too Many Requests', 480: 'HTTP Error 429: Too Many Requests', 481: 'HTTP Error 429: Too Many Requests', 482: 'HTTP Error 429: Too Many Requests', 483: 'HTTP Error 429: Too Many Requests', 484: 'HTTP Error 429: Too Many Requests', 485: 'HTTP Error 429: Too Many Requests', 486: 'HTTP Error 429: Too Many Requests', 487: 'HTTP Error 429: Too Many Requests', 488: 'HTTP Error 429: Too Many Requests', 489: 'HTTP Error 429: Too Many Requests', 490: 'HTTP Error 429: Too Many Requests', 491: 'HTTP Error 429: Too Many Requests', 492: 'HTTP Error 429: Too Many Requests', 493: 'HTTP Error 429: Too Many Requests', 494: 'HTTP Error 429: Too Many Requests', 495: 'HTTP Error 429: Too Many Requests', 496: 'HTTP Error 429: Too Many Requests', 497: 'HTTP Error 429: Too Many Requests', 498: 'HTTP Error 429: Too Many Requests', 499: 'HTTP Error 429: Too Many Requests', 500: 'HTTP Error 429: Too Many Requests', 501: 'HTTP Error 429: Too Many Requests', 502: 'HTTP Error 429: Too Many Requests', 503: 'HTTP Error 429: Too Many Requests', 504: 'HTTP Error 429: Too Many Requests', 505: 'HTTP Error 429: Too Many Requests', 506: 'HTTP Error 429: Too Many Requests', 507: 'HTTP Error 429: Too Many Requests', 508: 'HTTP Error 429: Too Many Requests', 509: 'HTTP Error 429: Too Many Requests', 510: 'HTTP Error 429: Too Many Requests', 511: 'HTTP Error 429: Too Many Requests', 512: 'HTTP Error 429: Too Many Requests', 513: 'HTTP Error 429: Too Many Requests', 514: 'HTTP Error 429: Too Many Requests', 515: 'HTTP Error 429: Too Many Requests', 516: 'HTTP Error 429: Too Many Requests', 517: 'HTTP Error 429: Too Many Requests', 518: 'HTTP Error 429: Too Many Requests', 519: 'HTTP Error 429: Too Many Requests', 520: 'HTTP Error 429: Too Many Requests', 521: 'HTTP Error 429: Too Many Requests', 522: 'HTTP Error 429: Too Many Requests', 523: 'HTTP Error 429: Too Many Requests', 524: 'HTTP Error 429: Too Many Requests', 525: 'HTTP Error 429: Too Many Requests', 526: 'HTTP Error 429: Too Many Requests', 527: 'HTTP Error 429: Too Many Requests', 528: 'HTTP Error 429: Too Many Requests', 529: 'HTTP Error 429: Too Many Requests', 530: 'HTTP Error 429: Too Many Requests', 531: 'HTTP Error 429: Too Many Requests', 532: 'HTTP Error 429: Too Many Requests', 533: 'HTTP Error 429: Too Many Requests', 534: 'HTTP Error 429: Too Many Requests', 535: 'HTTP Error 429: Too Many Requests', 536: 'HTTP Error 429: Too Many Requests', 537: 'HTTP Error 429: Too Many Requests', 538: 'HTTP Error 429: Too Many Requests', 539: 'HTTP Error 429: Too Many Requests', 540: 'HTTP Error 429: Too Many Requests', 541: 'HTTP Error 429: Too Many Requests', 542: 'HTTP Error 429: Too Many Requests', 543: 'HTTP Error 429: Too Many Requests', 544: 'HTTP Error 429: Too Many Requests', 545: 'HTTP Error 429: Too Many Requests', 546: 'HTTP Error 429: Too Many Requests', 547: 'HTTP Error 429: Too Many Requests', 548: 'HTTP Error 429: Too Many Requests', 549: 'HTTP Error 429: Too Many Requests', 550: 'HTTP Error 429: Too Many Requests', 551: 'HTTP Error 429: Too Many Requests', 552: 'HTTP Error 429: Too Many Requests', 553: 'HTTP Error 429: Too Many Requests', 554: 'HTTP Error 429: Too Many Requests', 555: 'HTTP Error 429: Too Many Requests', 556: 'HTTP Error 429: Too Many Requests', 557: 'HTTP Error 429: Too Many Requests', 558: 'HTTP Error 429: Too Many Requests', 559: 'HTTP Error 429: Too Many Requests', 560: 'HTTP Error 429: Too Many Requests', 561: 'HTTP Error 429: Too Many Requests', 562: 'HTTP Error 429: Too Many Requests', 563: 'HTTP Error 429: Too Many Requests', 564: 'HTTP Error 429: Too Many Requests', 565: 'HTTP Error 429: Too Many Requests', 566: 'HTTP Error 429: Too Many Requests', 567: 'HTTP Error 429: Too Many Requests', 568: 'HTTP Error 429: Too Many Requests', 569: 'HTTP Error 429: Too Many Requests', 570: 'HTTP Error 429: Too Many Requests', 571: 'HTTP Error 429: Too Many Requests', 572: 'HTTP Error 429: Too Many Requests', 573: 'HTTP Error 429: Too Many Requests', 574: 'HTTP Error 429: Too Many Requests', 575: 'HTTP Error 429: Too Many Requests', 576: 'HTTP Error 429: Too Many Requests', 577: 'HTTP Error 429: Too Many Requests', 578: 'HTTP Error 429: Too Many Requests', 579: 'HTTP Error 429: Too Many Requests', 580: 'HTTP Error 429: Too Many Requests', 581: 'HTTP Error 429: Too Many Requests', 582: 'HTTP Error 429: Too Many Requests', 583: 'HTTP Error 429: Too Many Requests', 584: 'HTTP Error 429: Too Many Requests', 585: 'HTTP Error 429: Too Many Requests', 586: 'HTTP Error 429: Too Many Requests', 587: 'HTTP Error 429: Too Many Requests', 588: 'HTTP Error 429: Too Many Requests', 589: 'HTTP Error 429: Too Many Requests', 590: 'HTTP Error 429: Too Many Requests', 591: 'HTTP Error 429: Too Many Requests', 592: 'HTTP Error 429: Too Many Requests', 593: 'HTTP Error 429: Too Many Requests', 594: 'HTTP Error 429: Too Many Requests', 595: 'HTTP Error 429: Too Many Requests', 596: 'HTTP Error 429: Too Many Requests', 597: 'HTTP Error 429: Too Many Requests', 598: 'HTTP Error 429: Too Many Requests', 599: 'HTTP Error 429: Too Many Requests', 600: 'HTTP Error 429: Too Many Requests', 601: 'HTTP Error 429: Too Many Requests', 602: 'HTTP Error 429: Too Many Requests', 603: 'HTTP Error 429: Too Many Requests', 604: 'HTTP Error 429: Too Many Requests', 605: 'HTTP Error 429: Too Many Requests', 606: 'HTTP Error 429: Too Many Requests', 607: 'HTTP Error 429: Too Many Requests', 608: 'HTTP Error 429: Too Many Requests', 609: 'HTTP Error 429: Too Many Requests', 610: 'HTTP Error 429: Too Many Requests', 611: 'HTTP Error 429: Too Many Requests', 612: 'HTTP Error 429: Too Many Requests', 613: 'HTTP Error 429: Too Many Requests', 614: 'HTTP Error 429: Too Many Requests', 615: 'HTTP Error 429: Too Many Requests', 616: 'HTTP Error 429: Too Many Requests', 617: 'HTTP Error 429: Too Many Requests', 618: 'HTTP Error 429: Too Many Requests', 619: 'HTTP Error 429: Too Many Requests', 620: 'HTTP Error 429: Too Many Requests', 621: 'HTTP Error 429: Too Many Requests', 622: 'HTTP Error 429: Too Many Requests', 623: 'HTTP Error 429: Too Many Requests', 624: 'HTTP Error 429: Too Many Requests', 625: 'HTTP Error 429: Too Many Requests', 626: 'HTTP Error 429: Too Many Requests', 627: 'HTTP Error 429: Too Many Requests', 628: 'HTTP Error 429: Too Many Requests', 629: 'HTTP Error 429: Too Many Requests', 630: 'HTTP Error 429: Too Many Requests', 631: 'HTTP Error 429: Too Many Requests', 632: 'HTTP Error 429: Too Many Requests', 633: 'HTTP Error 429: Too Many Requests', 634: 'HTTP Error 429: Too Many Requests', 635: 'HTTP Error 429: Too Many Requests', 636: 'HTTP Error 429: Too Many Requests', 637: 'HTTP Error 429: Too Many Requests', 638: 'HTTP Error 429: Too Many Requests', 639: 'HTTP Error 429: Too Many Requests', 640: 'HTTP Error 429: Too Many Requests', 641: 'HTTP Error 429: Too Many Requests', 642: 'HTTP Error 429: Too Many Requests', 643: 'HTTP Error 429: Too Many Requests', 644: 'HTTP Error 429: Too Many Requests', 645: 'HTTP Error 429: Too Many Requests', 646: 'HTTP Error 429: Too Many Requests', 647: 'HTTP Error 429: Too Many Requests', 648: 'HTTP Error 429: Too Many Requests', 649: 'HTTP Error 429: Too Many Requests', 650: 'HTTP Error 429: Too Many Requests', 651: 'HTTP Error 429: Too Many Requests', 652: 'HTTP Error 429: Too Many Requests', 653: 'HTTP Error 429: Too Many Requests', 654: 'HTTP Error 429: Too Many Requests', 655: 'HTTP Error 429: Too Many Requests', 656: 'HTTP Error 429: Too Many Requests', 657: 'HTTP Error 429: Too Many Requests', 658: 'HTTP Error 429: Too Many Requests', 659: 'HTTP Error 429: Too Many Requests', 660: 'HTTP Error 429: Too Many Requests', 661: 'HTTP Error 429: Too Many Requests', 662: 'HTTP Error 429: Too Many Requests', 663: 'HTTP Error 429: Too Many Requests', 664: 'HTTP Error 429: Too Many Requests', 665: 'HTTP Error 429: Too Many Requests', 666: 'HTTP Error 429: Too Many Requests', 667: 'HTTP Error 429: Too Many Requests', 668: 'HTTP Error 429: Too Many Requests', 669: 'HTTP Error 429: Too Many Requests', 670: 'HTTP Error 429: Too Many Requests', 671: 'HTTP Error 429: Too Many Requests', 672: 'HTTP Error 429: Too Many Requests', 673: 'HTTP Error 429: Too Many Requests', 674: 'HTTP Error 429: Too Many Requests', 675: 'HTTP Error 429: Too Many Requests', 676: 'HTTP Error 429: Too Many Requests', 677: 'HTTP Error 429: Too Many Requests', 678: 'HTTP Error 429: Too Many Requests', 679: 'HTTP Error 429: Too Many Requests', 680: 'HTTP Error 429: Too Many Requests', 681: 'HTTP Error 429: Too Many Requests', 682: 'HTTP Error 429: Too Many Requests', 683: 'HTTP Error 429: Too Many Requests', 684: 'HTTP Error 429: Too Many Requests', 685: 'HTTP Error 429: Too Many Requests', 686: 'HTTP Error 429: Too Many Requests', 687: 'HTTP Error 429: Too Many Requests', 688: 'HTTP Error 429: Too Many Requests', 689: 'HTTP Error 429: Too Many Requests', 690: 'HTTP Error 429: Too Many Requests', 691: 'HTTP Error 429: Too Many Requests', 692: 'HTTP Error 429: Too Many Requests', 693: 'HTTP Error 429: Too Many Requests', 694: 'HTTP Error 429: Too Many Requests', 695: 'HTTP Error 429: Too Many Requests', 696: 'HTTP Error 429: Too Many Requests', 697: 'HTTP Error 429: Too Many Requests', 698: 'HTTP Error 429: Too Many Requests', 699: 'HTTP Error 429: Too Many Requests', 700: 'HTTP Error 429: Too Many Requests', 701: 'HTTP Error 429: Too Many Requests', 702: 'HTTP Error 429: Too Many Requests', 703: 'HTTP Error 429: Too Many Requests', 704: 'HTTP Error 429: Too Many Requests', 705: 'HTTP Error 429: Too Many Requests', 706: 'HTTP Error 429: Too Many Requests', 707: 'HTTP Error 429: Too Many Requests', 708: 'HTTP Error 429: Too Many Requests', 709: 'HTTP Error 429: Too Many Requests', 710: 'HTTP Error 429: Too Many Requests', 711: 'HTTP Error 429: Too Many Requests', 712: 'HTTP Error 429: Too Many Requests', 713: 'HTTP Error 429: Too Many Requests', 714: 'HTTP Error 429: Too Many Requests', 715: 'HTTP Error 429: Too Many Requests', 716: 'HTTP Error 429: Too Many Requests', 717: 'HTTP Error 429: Too Many Requests', 718: 'HTTP Error 429: Too Many Requests', 719: 'HTTP Error 429: Too Many Requests', 720: 'HTTP Error 429: Too Many Requests', 721: 'HTTP Error 429: Too Many Requests', 722: 'HTTP Error 429: Too Many Requests', 723: 'HTTP Error 429: Too Many Requests', 724: 'HTTP Error 429: Too Many Requests', 725: 'HTTP Error 429: Too Many Requests', 726: 'HTTP Error 429: Too Many Requests', 727: 'HTTP Error 429: Too Many Requests', 728: 'HTTP Error 429: Too Many Requests', 729: 'HTTP Error 429: Too Many Requests', 730: 'HTTP Error 429: Too Many Requests', 731: 'HTTP Error 429: Too Many Requests', 732: 'HTTP Error 429: Too Many Requests', 733: 'HTTP Error 429: Too Many Requests', 734: 'HTTP Error 429: Too Many Requests', 735: 'HTTP Error 429: Too Many Requests', 736: 'HTTP Error 429: Too Many Requests', 737: 'HTTP Error 429: Too Many Requests', 738: 'HTTP Error 429: Too Many Requests', 739: 'HTTP Error 429: Too Many Requests', 740: 'HTTP Error 429: Too Many Requests', 741: 'HTTP Error 429: Too Many Requests', 742: 'HTTP Error 429: Too Many Requests', 743: 'HTTP Error 429: Too Many Requests', 744: 'HTTP Error 429: Too Many Requests', 745: 'HTTP Error 429: Too Many Requests', 746: 'HTTP Error 429: Too Many Requests', 747: 'HTTP Error 429: Too Many Requests', 748: 'HTTP Error 429: Too Many Requests', 749: 'HTTP Error 429: Too Many Requests', 750: 'HTTP Error 429: Too Many Requests', 751: 'HTTP Error 429: Too Many Requests', 752: 'HTTP Error 429: Too Many Requests', 753: 'HTTP Error 429: Too Many Requests', 754: 'HTTP Error 429: Too Many Requests', 755: 'HTTP Error 429: Too Many Requests', 756: 'HTTP Error 429: Too Many Requests', 757: 'HTTP Error 429: Too Many Requests', 758: 'HTTP Error 429: Too Many Requests', 759: 'HTTP Error 429: Too Many Requests', 760: 'HTTP Error 429: Too Many Requests', 761: 'HTTP Error 429: Too Many Requests', 762: 'HTTP Error 429: Too Many Requests', 763: 'HTTP Error 429: Too Many Requests', 764: 'HTTP Error 429: Too Many Requests', 765: 'HTTP Error 429: Too Many Requests', 766: 'HTTP Error 429: Too Many Requests', 767: 'HTTP Error 429: Too Many Requests', 768: 'HTTP Error 429: Too Many Requests', 769: 'HTTP Error 429: Too Many Requests', 770: 'HTTP Error 429: Too Many Requests', 771: 'HTTP Error 429: Too Many Requests', 772: 'HTTP Error 429: Too Many Requests', 773: 'HTTP Error 429: Too Many Requests', 774: 'HTTP Error 429: Too Many Requests', 775: 'HTTP Error 429: Too Many Requests', 776: 'HTTP Error 429: Too Many Requests', 777: 'HTTP Error 429: Too Many Requests', 778: 'HTTP Error 429: Too Many Requests', 779: 'HTTP Error 429: Too Many Requests', 780: 'HTTP Error 429: Too Many Requests', 781: 'HTTP Error 429: Too Many Requests', 782: 'HTTP Error 429: Too Many Requests', 783: 'HTTP Error 429: Too Many Requests', 784: 'HTTP Error 429: Too Many Requests', 785: 'HTTP Error 429: Too Many Requests', 786: 'HTTP Error 429: Too Many Requests', 787: 'HTTP Error 429: Too Many Requests', 788: 'HTTP Error 429: Too Many Requests', 789: 'HTTP Error 429: Too Many Requests', 790: 'HTTP Error 429: Too Many Requests', 791: 'HTTP Error 429: Too Many Requests', 792: 'HTTP Error 429: Too Many Requests', 793: 'HTTP Error 429: Too Many Requests', 794: 'HTTP Error 429: Too Many Requests', 795: 'HTTP Error 429: Too Many Requests', 796: 'HTTP Error 429: Too Many Requests', 797: 'HTTP Error 429: Too Many Requests', 798: 'HTTP Error 429: Too Many Requests', 799: 'HTTP Error 429: Too Many Requests', 800: 'HTTP Error 429: Too Many Requests', 801: 'HTTP Error 429: Too Many Requests', 802: 'HTTP Error 429: Too Many Requests', 803: 'HTTP Error 429: Too Many Requests', 804: 'HTTP Error 429: Too Many Requests', 805: 'HTTP Error 429: Too Many Requests', 806: 'HTTP Error 429: Too Many Requests', 807: 'HTTP Error 429: Too Many Requests', 808: 'HTTP Error 429: Too Many Requests', 809: 'HTTP Error 429: Too Many Requests', 810: 'HTTP Error 429: Too Many Requests', 811: 'HTTP Error 429: Too Many Requests', 812: 'HTTP Error 429: Too Many Requests', 813: 'HTTP Error 429: Too Many Requests', 814: 'HTTP Error 429: Too Many Requests', 815: 'HTTP Error 429: Too Many Requests', 816: 'HTTP Error 429: Too Many Requests', 817: 'HTTP Error 429: Too Many Requests', 818: 'HTTP Error 429: Too Many Requests', 819: 'HTTP Error 429: Too Many Requests', 820: 'HTTP Error 429: Too Many Requests', 821: 'HTTP Error 429: Too Many Requests', 822: 'HTTP Error 429: Too Many Requests', 823: 'HTTP Error 429: Too Many Requests', 824: 'HTTP Error 429: Too Many Requests', 825: 'HTTP Error 429: Too Many Requests', 826: 'HTTP Error 429: Too Many Requests', 827: 'HTTP Error 429: Too Many Requests', 828: 'HTTP Error 429: Too Many Requests', 829: 'HTTP Error 429: Too Many Requests', 830: 'HTTP Error 429: Too Many Requests', 831: 'HTTP Error 429: Too Many Requests', 832: 'HTTP Error 429: Too Many Requests', 833: 'HTTP Error 429: Too Many Requests', 834: 'HTTP Error 429: Too Many Requests', 835: 'HTTP Error 429: Too Many Requests', 836: 'HTTP Error 429: Too Many Requests', 837: 'HTTP Error 429: Too Many Requests', 838: 'HTTP Error 429: Too Many Requests', 839: 'HTTP Error 429: Too Many Requests', 840: 'HTTP Error 429: Too Many Requests', 841: 'HTTP Error 429: Too Many Requests', 842: 'HTTP Error 429: Too Many Requests', 843: 'HTTP Error 429: Too Many Requests', 844: 'HTTP Error 429: Too Many Requests', 845: 'HTTP Error 429: Too Many Requests', 846: 'HTTP Error 429: Too Many Requests', 847: 'HTTP Error 429: Too Many Requests', 848: 'HTTP Error 429: Too Many Requests', 849: 'HTTP Error 429: Too Many Requests', 850: 'HTTP Error 429: Too Many Requests', 851: 'HTTP Error 429: Too Many Requests', 852: 'HTTP Error 429: Too Many Requests', 853: 'HTTP Error 429: Too Many Requests', 854: 'HTTP Error 429: Too Many Requests', 855: 'HTTP Error 429: Too Many Requests', 856: 'HTTP Error 429: Too Many Requests', 857: 'HTTP Error 429: Too Many Requests', 858: 'HTTP Error 429: Too Many Requests', 859: 'HTTP Error 429: Too Many Requests', 860: 'HTTP Error 429: Too Many Requests', 861: 'HTTP Error 429: Too Many Requests', 862: 'HTTP Error 429: Too Many Requests', 863: 'HTTP Error 429: Too Many Requests', 864: 'HTTP Error 429: Too Many Requests', 865: 'HTTP Error 429: Too Many Requests', 866: 'HTTP Error 429: Too Many Requests', 867: 'HTTP Error 429: Too Many Requests', 868: 'HTTP Error 429: Too Many Requests', 869: 'HTTP Error 429: Too Many Requests', 870: 'HTTP Error 429: Too Many Requests', 871: 'HTTP Error 429: Too Many Requests', 872: 'HTTP Error 429: Too Many Requests', 873: 'HTTP Error 429: Too Many Requests', 874: 'HTTP Error 429: Too Many Requests', 875: 'HTTP Error 429: Too Many Requests', 876: 'HTTP Error 429: Too Many Requests', 877: 'HTTP Error 429: Too Many Requests', 878: 'HTTP Error 429: Too Many Requests', 879: 'HTTP Error 429: Too Many Requests', 880: 'HTTP Error 429: Too Many Requests', 881: 'HTTP Error 429: Too Many Requests', 882: 'HTTP Error 429: Too Many Requests', 883: 'HTTP Error 429: Too Many Requests', 884: 'HTTP Error 429: Too Many Requests', 885: 'HTTP Error 429: Too Many Requests', 886: 'HTTP Error 429: Too Many Requests', 887: 'HTTP Error 429: Too Many Requests', 888: 'HTTP Error 429: Too Many Requests', 889: 'HTTP Error 429: Too Many Requests', 890: 'HTTP Error 429: Too Many Requests', 891: 'HTTP Error 429: Too Many Requests', 892: 'HTTP Error 429: Too Many Requests', 893: 'HTTP Error 429: Too Many Requests', 894: 'HTTP Error 429: Too Many Requests', 895: 'HTTP Error 429: Too Many Requests', 896: 'HTTP Error 429: Too Many Requests', 897: 'HTTP Error 429: Too Many Requests', 898: 'HTTP Error 429: Too Many Requests', 899: 'HTTP Error 429: Too Many Requests', 900: 'HTTP Error 429: Too Many Requests', 901: 'HTTP Error 429: Too Many Requests', 902: 'HTTP Error 429: Too Many Requests', 903: 'HTTP Error 429: Too Many Requests', 904: 'HTTP Error 429: Too Many Requests', 905: 'HTTP Error 429: Too Many Requests', 906: 'HTTP Error 429: Too Many Requests', 907: 'HTTP Error 429: Too Many Requests', 908: 'HTTP Error 429: Too Many Requests', 909: 'HTTP Error 429: Too Many Requests', 910: 'HTTP Error 429: Too Many Requests', 911: 'HTTP Error 429: Too Many Requests', 912: 'HTTP Error 429: Too Many Requests', 913: 'HTTP Error 429: Too Many Requests', 914: 'HTTP Error 429: Too Many Requests', 915: 'HTTP Error 429: Too Many Requests', 916: 'HTTP Error 429: Too Many Requests', 917: 'HTTP Error 429: Too Many Requests', 918: 'HTTP Error 429: Too Many Requests', 919: 'HTTP Error 429: Too Many Requests', 920: 'HTTP Error 429: Too Many Requests', 921: 'HTTP Error 429: Too Many Requests', 922: 'HTTP Error 429: Too Many Requests', 923: 'HTTP Error 429: Too Many Requests', 924: 'HTTP Error 429: Too Many Requests', 925: 'HTTP Error 429: Too Many Requests', 926: 'HTTP Error 429: Too Many Requests', 927: 'HTTP Error 429: Too Many Requests', 928: 'HTTP Error 429: Too Many Requests', 929: 'HTTP Error 429: Too Many Requests', 930: 'HTTP Error 429: Too Many Requests', 931: 'HTTP Error 429: Too Many Requests', 932: 'HTTP Error 429: Too Many Requests', 933: 'HTTP Error 429: Too Many Requests', 934: 'HTTP Error 429: Too Many Requests', 935: 'HTTP Error 429: Too Many Requests', 936: 'HTTP Error 429: Too Many Requests', 937: 'HTTP Error 429: Too Many Requests', 938: 'HTTP Error 429: Too Many Requests', 939: 'HTTP Error 429: Too Many Requests', 940: 'HTTP Error 429: Too Many Requests', 941: 'HTTP Error 429: Too Many Requests', 942: 'HTTP Error 429: Too Many Requests', 943: 'HTTP Error 429: Too Many Requests', 944: 'HTTP Error 429: Too Many Requests', 945: 'HTTP Error 429: Too Many Requests', 946: 'HTTP Error 429: Too Many Requests', 947: 'HTTP Error 429: Too Many Requests', 948: 'HTTP Error 429: Too Many Requests', 949: 'HTTP Error 429: Too Many Requests', 950: 'HTTP Error 429: Too Many Requests', 951: 'HTTP Error 429: Too Many Requests', 952: 'HTTP Error 429: Too Many Requests', 953: 'HTTP Error 429: Too Many Requests', 954: 'HTTP Error 429: Too Many Requests', 955: 'HTTP Error 429: Too Many Requests', 956: 'HTTP Error 429: Too Many Requests', 957: 'HTTP Error 429: Too Many Requests', 958: 'HTTP Error 429: Too Many Requests', 959: 'HTTP Error 429: Too Many Requests', 960: 'HTTP Error 429: Too Many Requests', 961: 'HTTP Error 429: Too Many Requests', 962: 'HTTP Error 429: Too Many Requests', 963: 'HTTP Error 429: Too Many Requests', 964: 'HTTP Error 429: Too Many Requests', 965: 'HTTP Error 429: Too Many Requests', 966: 'HTTP Error 429: Too Many Requests', 967: 'HTTP Error 429: Too Many Requests', 968: 'HTTP Error 429: Too Many Requests', 969: 'HTTP Error 429: Too Many Requests', 970: 'HTTP Error 429: Too Many Requests', 971: 'HTTP Error 429: Too Many Requests', 972: 'HTTP Error 429: Too Many Requests', 973: 'HTTP Error 429: Too Many Requests', 974: 'HTTP Error 429: Too Many Requests', 975: 'HTTP Error 429: Too Many Requests', 976: 'HTTP Error 429: Too Many Requests', 977: 'HTTP Error 429: Too Many Requests', 978: 'HTTP Error 429: Too Many Requests', 979: 'HTTP Error 429: Too Many Requests', 980: 'HTTP Error 429: Too Many Requests', 981: 'HTTP Error 429: Too Many Requests', 982: 'HTTP Error 429: Too Many Requests', 983: 'HTTP Error 429: Too Many Requests', 984: 'HTTP Error 429: Too Many Requests', 985: 'HTTP Error 429: Too Many Requests', 986: 'HTTP Error 429: Too Many Requests', 987: 'HTTP Error 429: Too Many Requests', 988: 'HTTP Error 429: Too Many Requests', 989: 'HTTP Error 429: Too Many Requests', 990: 'HTTP Error 429: Too Many Requests', 991: 'HTTP Error 429: Too Many Requests', 992: 'HTTP Error 429: Too Many Requests', 993: 'HTTP Error 429: Too Many Requests', 994: 'HTTP Error 429: Too Many Requests', 995: 'HTTP Error 429: Too Many Requests', 996: 'HTTP Error 429: Too Many Requests', 997: 'HTTP Error 429: Too Many Requests', 998: 'HTTP Error 429: Too Many Requests', 999: 'HTTP Error 429: Too Many Requests', 1000: 'HTTP Error 429: Too Many Requests', 1001: 'HTTP Error 429: Too Many Requests', 1002: 'HTTP Error 429: Too Many Requests', 1003: 'HTTP Error 429: Too Many Requests', 1004: 'HTTP Error 429: Too Many Requests', 1005: 'HTTP Error 429: Too Many Requests', 1006: 'HTTP Error 429: Too Many Requests', 1007: 'HTTP Error 429: Too Many Requests', 1008: 'HTTP Error 429: Too Many Requests', 1009: 'HTTP Error 429: Too Many Requests', 1010: 'HTTP Error 429: Too Many Requests', 1011: 'HTTP Error 429: Too Many Requests', 1012: 'HTTP Error 429: Too Many Requests', 1013: 'HTTP Error 429: Too Many Requests', 1014: 'HTTP Error 429: Too Many Requests', 1015: 'HTTP Error 429: Too Many Requests', 1016: 'HTTP Error 429: Too Many Requests', 1017: 'HTTP Error 429: Too Many Requests', 1018: 'HTTP Error 429: Too Many Requests', 1019: 'HTTP Error 429: Too Many Requests', 1020: 'HTTP Error 429: Too Many Requests', 1021: 'HTTP Error 429: Too Many Requests', 1022: 'HTTP Error 429: Too Many Requests', 1023: 'HTTP Error 429: Too Many Requests', 1024: 'HTTP Error 429: Too Many Requests', 1025: 'HTTP Error 429: Too Many Requests', 1026: 'HTTP Error 429: Too Many Requests', 1027: 'HTTP Error 429: Too Many Requests', 1028: 'HTTP Error 429: Too Many Requests', 1029: 'HTTP Error 429: Too Many Requests', 1030: 'HTTP Error 429: Too Many Requests', 1031: 'HTTP Error 429: Too Many Requests', 1032: 'HTTP Error 429: Too Many Requests', 1033: 'HTTP Error 429: Too Many Requests', 1034: 'HTTP Error 429: Too Many Requests', 1035: 'HTTP Error 429: Too Many Requests', 1036: 'HTTP Error 429: Too Many Requests', 1037: 'HTTP Error 429: Too Many Requests', 1038: 'HTTP Error 429: Too Many Requests', 1039: 'HTTP Error 429: Too Many Requests', 1040: 'HTTP Error 429: Too Many Requests', 1041: 'HTTP Error 429: Too Many Requests', 1042: 'HTTP Error 429: Too Many Requests', 1043: 'HTTP Error 429: Too Many Requests', 1044: 'HTTP Error 429: Too Many Requests', 1045: 'HTTP Error 429: Too Many Requests', 1046: 'HTTP Error 429: Too Many Requests', 1047: 'HTTP Error 429: Too Many Requests', 1048: 'HTTP Error 429: Too Many Requests', 1049: 'HTTP Error 429: Too Many Requests', 1050: 'HTTP Error 429: Too Many Requests', 1051: 'HTTP Error 429: Too Many Requests', 1052: 'HTTP Error 429: Too Many Requests', 1053: 'HTTP Error 429: Too Many Requests', 1054: 'HTTP Error 429: Too Many Requests', 1055: 'HTTP Error 429: Too Many Requests', 1056: 'HTTP Error 429: Too Many Requests', 1057: 'HTTP Error 429: Too Many Requests', 1058: 'HTTP Error 429: Too Many Requests', 1059: 'HTTP Error 429: Too Many Requests', 1060: 'HTTP Error 429: Too Many Requests', 1061: 'HTTP Error 429: Too Many Requests', 1062: 'HTTP Error 429: Too Many Requests', 1063: 'HTTP Error 429: Too Many Requests', 1064: 'HTTP Error 429: Too Many Requests', 1065: 'HTTP Error 429: Too Many Requests', 1066: 'HTTP Error 429: Too Many Requests', 1067: 'HTTP Error 429: Too Many Requests', 1068: 'HTTP Error 429: Too Many Requests', 1069: 'HTTP Error 429: Too Many Requests', 1070: 'HTTP Error 429: Too Many Requests', 1071: 'HTTP Error 429: Too Many Requests', 1072: 'HTTP Error 429: Too Many Requests', 1073: 'HTTP Error 429: Too Many Requests', 1074: 'HTTP Error 429: Too Many Requests', 1075: 'HTTP Error 429: Too Many Requests', 1076: 'HTTP Error 429: Too Many Requests', 1077: 'HTTP Error 429: Too Many Requests', 1078: 'HTTP Error 429: Too Many Requests', 1079: 'HTTP Error 429: Too Many Requests', 1080: 'HTTP Error 429: Too Many Requests', 1081: 'HTTP Error 429: Too Many Requests', 1082: 'HTTP Error 429: Too Many Requests', 1083: 'HTTP Error 429: Too Many Requests', 1084: 'HTTP Error 429: Too Many Requests', 1085: 'HTTP Error 429: Too Many Requests', 1086: 'HTTP Error 429: Too Many Requests', 1087: 'HTTP Error 429: Too Many Requests', 1088: 'HTTP Error 429: Too Many Requests', 1089: 'HTTP Error 429: Too Many Requests', 1090: 'HTTP Error 429: Too Many Requests', 1091: 'HTTP Error 429: Too Many Requests', 1092: 'HTTP Error 429: Too Many Requests', 1093: 'HTTP Error 429: Too Many Requests', 1094: 'HTTP Error 429: Too Many Requests', 1095: 'HTTP Error 429: Too Many Requests', 1096: 'HTTP Error 429: Too Many Requests', 1097: 'HTTP Error 429: Too Many Requests', 1098: 'HTTP Error 429: Too Many Requests', 1099: 'HTTP Error 429: Too Many Requests', 1100: 'HTTP Error 429: Too Many Requests', 1101: 'HTTP Error 429: Too Many Requests', 1102: 'HTTP Error 429: Too Many Requests', 1103: 'HTTP Error 429: Too Many Requests', 1104: 'HTTP Error 429: Too Many Requests', 1105: 'HTTP Error 429: Too Many Requests', 1106: 'HTTP Error 429: Too Many Requests', 1107: 'HTTP Error 429: Too Many Requests', 1108: 'HTTP Error 429: Too Many Requests', 1109: 'HTTP Error 429: Too Many Requests', 1110: 'HTTP Error 429: Too Many Requests', 1111: 'HTTP Error 429: Too Many Requests', 1112: 'HTTP Error 429: Too Many Requests', 1113: 'HTTP Error 429: Too Many Requests', 1114: 'HTTP Error 429: Too Many Requests', 1115: 'HTTP Error 429: Too Many Requests', 1116: 'HTTP Error 429: Too Many Requests', 1117: 'HTTP Error 429: Too Many Requests', 1118: 'HTTP Error 429: Too Many Requests', 1119: 'HTTP Error 429: Too Many Requests', 1120: 'HTTP Error 429: Too Many Requests', 1121: 'HTTP Error 429: Too Many Requests', 1122: 'HTTP Error 429: Too Many Requests', 1123: 'HTTP Error 429: Too Many Requests', 1124: 'HTTP Error 429: Too Many Requests', 1125: 'HTTP Error 429: Too Many Requests', 1126: 'HTTP Error 429: Too Many Requests', 1127: 'HTTP Error 429: Too Many Requests', 1128: 'HTTP Error 429: Too Many Requests', 1129: 'HTTP Error 429: Too Many Requests', 1130: 'HTTP Error 429: Too Many Requests', 1131: 'HTTP Error 429: Too Many Requests', 1132: 'HTTP Error 429: Too Many Requests', 1133: 'HTTP Error 429: Too Many Requests', 1134: 'HTTP Error 429: Too Many Requests', 1135: 'HTTP Error 429: Too Many Requests', 1136: 'HTTP Error 429: Too Many Requests', 1137: 'HTTP Error 429: Too Many Requests', 1138: 'HTTP Error 429: Too Many Requests', 1139: 'HTTP Error 429: Too Many Requests', 1140: 'HTTP Error 429: Too Many Requests', 1141: 'HTTP Error 429: Too Many Requests', 1142: 'HTTP Error 429: Too Many Requests', 1143: 'HTTP Error 429: Too Many Requests', 1144: 'HTTP Error 429: Too Many Requests', 1145: 'HTTP Error 429: Too Many Requests', 1146: 'HTTP Error 429: Too Many Requests', 1147: 'HTTP Error 429: Too Many Requests', 1148: 'HTTP Error 429: Too Many Requests', 1149: 'HTTP Error 429: Too Many Requests', 1150: 'HTTP Error 429: Too Many Requests', 1151: 'HTTP Error 429: Too Many Requests', 1152: 'HTTP Error 429: Too Many Requests', 1153: 'HTTP Error 429: Too Many Requests', 1154: 'HTTP Error 429: Too Many Requests', 1155: 'HTTP Error 429: Too Many Requests', 1156: 'HTTP Error 429: Too Many Requests', 1157: 'HTTP Error 429: Too Many Requests', 1158: 'HTTP Error 429: Too Many Requests', 1159: 'HTTP Error 429: Too Many Requests', 1160: 'HTTP Error 429: Too Many Requests', 1161: 'HTTP Error 429: Too Many Requests', 1162: 'HTTP Error 429: Too Many Requests', 1163: 'HTTP Error 429: Too Many Requests', 1164: 'HTTP Error 429: Too Many Requests', 1165: 'HTTP Error 429: Too Many Requests', 1166: 'HTTP Error 429: Too Many Requests', 1167: 'HTTP Error 429: Too Many Requests', 1168: 'HTTP Error 429: Too Many Requests', 1169: 'HTTP Error 429: Too Many Requests', 1170: 'HTTP Error 429: Too Many Requests', 1171: 'HTTP Error 429: Too Many Requests', 1172: 'HTTP Error 429: Too Many Requests', 1173: 'HTTP Error 429: Too Many Requests', 1174: 'HTTP Error 429: Too Many Requests', 1175: 'HTTP Error 429: Too Many Requests', 1176: 'HTTP Error 429: Too Many Requests', 1177: 'HTTP Error 429: Too Many Requests', 1178: 'HTTP Error 429: Too Many Requests', 1179: 'HTTP Error 429: Too Many Requests', 1180: 'HTTP Error 429: Too Many Requests', 1181: 'HTTP Error 429: Too Many Requests', 1182: 'HTTP Error 429: Too Many Requests', 1183: 'HTTP Error 429: Too Many Requests', 1184: 'HTTP Error 429: Too Many Requests', 1185: 'HTTP Error 429: Too Many Requests', 1186: 'HTTP Error 429: Too Many Requests', 1187: 'HTTP Error 429: Too Many Requests', 1188: 'HTTP Error 429: Too Many Requests', 1189: 'HTTP Error 429: Too Many Requests', 1190: 'HTTP Error 429: Too Many Requests', 1191: 'HTTP Error 429: Too Many Requests', 1192: 'HTTP Error 429: Too Many Requests', 1193: 'HTTP Error 429: Too Many Requests', 1194: 'HTTP Error 429: Too Many Requests', 1195: 'HTTP Error 429: Too Many Requests', 1196: 'HTTP Error 429: Too Many Requests', 1197: 'HTTP Error 429: Too Many Requests', 1198: 'HTTP Error 429: Too Many Requests', 1199: 'HTTP Error 429: Too Many Requests', 1200: 'HTTP Error 429: Too Many Requests', 1201: 'HTTP Error 429: Too Many Requests', 1202: 'HTTP Error 429: Too Many Requests', 1203: 'HTTP Error 429: Too Many Requests', 1204: 'HTTP Error 429: Too Many Requests', 1205: 'HTTP Error 429: Too Many Requests', 1206: 'HTTP Error 429: Too Many Requests', 1207: 'HTTP Error 429: Too Many Requests', 1208: 'HTTP Error 429: Too Many Requests', 1209: 'HTTP Error 429: Too Many Requests', 1210: 'HTTP Error 429: Too Many Requests', 1211: 'HTTP Error 429: Too Many Requests', 1212: 'HTTP Error 429: Too Many Requests', 1213: 'HTTP Error 429: Too Many Requests', 1214: 'HTTP Error 429: Too Many Requests', 1215: 'HTTP Error 429: Too Many Requests', 1216: 'HTTP Error 429: Too Many Requests', 1217: 'HTTP Error 429: Too Many Requests', 1218: 'HTTP Error 429: Too Many Requests', 1219: 'HTTP Error 429: Too Many Requests', 1220: 'HTTP Error 429: Too Many Requests', 1221: 'HTTP Error 429: Too Many Requests', 1222: 'HTTP Error 429: Too Many Requests', 1223: 'HTTP Error 429: Too Many Requests', 1224: 'HTTP Error 429: Too Many Requests', 1225: 'HTTP Error 429: Too Many Requests', 1226: 'HTTP Error 429: Too Many Requests', 1227: 'HTTP Error 429: Too Many Requests', 1228: 'HTTP Error 429: Too Many Requests', 1229: 'HTTP Error 429: Too Many Requests', 1230: 'HTTP Error 429: Too Many Requests', 1231: 'HTTP Error 429: Too Many Requests', 1232: 'HTTP Error 429: Too Many Requests', 1233: 'HTTP Error 429: Too Many Requests', 1234: 'HTTP Error 429: Too Many Requests', 1235: 'HTTP Error 429: Too Many Requests', 1236: 'HTTP Error 429: Too Many Requests', 1237: 'HTTP Error 429: Too Many Requests', 1238: 'HTTP Error 429: Too Many Requests', 1239: 'HTTP Error 429: Too Many Requests', 1240: 'HTTP Error 429: Too Many Requests', 1241: 'HTTP Error 429: Too Many Requests', 1242: 'HTTP Error 429: Too Many Requests', 1243: 'HTTP Error 429: Too Many Requests', 1244: 'HTTP Error 429: Too Many Requests', 1245: 'HTTP Error 429: Too Many Requests', 1246: 'HTTP Error 429: Too Many Requests', 1247: 'HTTP Error 429: Too Many Requests', 1248: 'HTTP Error 429: Too Many Requests', 1249: 'HTTP Error 429: Too Many Requests', 1250: 'HTTP Error 429: Too Many Requests', 1251: 'HTTP Error 429: Too Many Requests', 1252: 'HTTP Error 429: Too Many Requests', 1253: 'HTTP Error 429: Too Many Requests', 1254: 'HTTP Error 429: Too Many Requests', 1255: 'HTTP Error 429: Too Many Requests', 1256: 'HTTP Error 429: Too Many Requests', 1257: 'HTTP Error 429: Too Many Requests', 1258: 'HTTP Error 429: Too Many Requests', 1259: 'HTTP Error 429: Too Many Requests', 1260: 'HTTP Error 429: Too Many Requests', 1261: 'HTTP Error 429: Too Many Requests', 1262: 'HTTP Error 429: Too Many Requests', 1263: 'HTTP Error 429: Too Many Requests', 1264: 'HTTP Error 429: Too Many Requests', 1265: 'HTTP Error 429: Too Many Requests', 1266: 'HTTP Error 429: Too Many Requests', 1267: 'HTTP Error 429: Too Many Requests', 1268: 'HTTP Error 429: Too Many Requests', 1269: 'HTTP Error 429: Too Many Requests', 1270: 'HTTP Error 429: Too Many Requests', 1271: 'HTTP Error 429: Too Many Requests', 1272: 'HTTP Error 429: Too Many Requests', 1273: 'HTTP Error 429: Too Many Requests', 1274: 'HTTP Error 429: Too Many Requests', 1275: 'HTTP Error 429: Too Many Requests', 1276: 'HTTP Error 429: Too Many Requests', 1277: 'HTTP Error 429: Too Many Requests', 1278: 'HTTP Error 429: Too Many Requests', 1279: 'HTTP Error 429: Too Many Requests', 1280: 'HTTP Error 429: Too Many Requests', 1281: 'HTTP Error 429: Too Many Requests', 1282: 'HTTP Error 429: Too Many Requests', 1283: 'HTTP Error 429: Too Many Requests', 1284: 'HTTP Error 429: Too Many Requests', 1285: 'HTTP Error 429: Too Many Requests', 1286: 'HTTP Error 429: Too Many Requests', 1287: 'HTTP Error 429: Too Many Requests', 1288: 'HTTP Error 429: Too Many Requests', 1289: 'HTTP Error 429: Too Many Requests', 1290: 'HTTP Error 429: Too Many Requests', 1291: 'HTTP Error 429: Too Many Requests', 1292: 'HTTP Error 429: Too Many Requests', 1293: 'HTTP Error 429: Too Many Requests', 1294: 'HTTP Error 429: Too Many Requests', 1295: 'HTTP Error 429: Too Many Requests', 1296: 'HTTP Error 429: Too Many Requests', 1297: 'HTTP Error 429: Too Many Requests', 1298: 'HTTP Error 429: Too Many Requests', 1299: 'HTTP Error 429: Too Many Requests', 1300: 'HTTP Error 429: Too Many Requests', 1301: 'HTTP Error 429: Too Many Requests', 1302: 'HTTP Error 429: Too Many Requests', 1303: 'HTTP Error 429: Too Many Requests', 1304: 'HTTP Error 429: Too Many Requests', 1305: 'HTTP Error 429: Too Many Requests', 1306: 'HTTP Error 429: Too Many Requests', 1307: 'HTTP Error 429: Too Many Requests', 1308: 'HTTP Error 429: Too Many Requests', 1309: 'HTTP Error 429: Too Many Requests', 1310: 'HTTP Error 429: Too Many Requests', 1311: 'HTTP Error 429: Too Many Requests', 1312: 'HTTP Error 429: Too Many Requests', 1313: 'HTTP Error 429: Too Many Requests', 1314: 'HTTP Error 429: Too Many Requests', 1315: 'HTTP Error 429: Too Many Requests', 1316: 'HTTP Error 429: Too Many Requests', 1317: 'HTTP Error 429: Too Many Requests', 1318: 'HTTP Error 429: Too Many Requests', 1319: 'HTTP Error 429: Too Many Requests', 1320: 'HTTP Error 429: Too Many Requests', 1321: 'HTTP Error 429: Too Many Requests', 1322: 'HTTP Error 429: Too Many Requests', 1323: 'HTTP Error 429: Too Many Requests', 1324: 'HTTP Error 429: Too Many Requests', 1325: 'HTTP Error 429: Too Many Requests', 1326: 'HTTP Error 429: Too Many Requests', 1327: 'HTTP Error 429: Too Many Requests', 1328: 'HTTP Error 429: Too Many Requests', 1329: 'HTTP Error 429: Too Many Requests', 1330: 'HTTP Error 429: Too Many Requests', 1331: 'HTTP Error 429: Too Many Requests', 1332: 'HTTP Error 429: Too Many Requests', 1333: 'HTTP Error 429: Too Many Requests', 1334: 'HTTP Error 429: Too Many Requests', 1335: 'HTTP Error 429: Too Many Requests', 1336: 'HTTP Error 429: Too Many Requests', 1337: 'HTTP Error 429: Too Many Requests', 1338: 'HTTP Error 429: Too Many Requests', 1339: 'HTTP Error 429: Too Many Requests', 1340: 'HTTP Error 429: Too Many Requests', 1341: 'HTTP Error 429: Too Many Requests', 1342: 'HTTP Error 429: Too Many Requests', 1343: 'HTTP Error 429: Too Many Requests', 1344: 'HTTP Error 429: Too Many Requests', 1345: 'HTTP Error 429: Too Many Requests', 1346: 'HTTP Error 429: Too Many Requests', 1347: 'HTTP Error 429: Too Many Requests', 1348: 'HTTP Error 429: Too Many Requests', 1349: 'HTTP Error 429: Too Many Requests', 1350: 'HTTP Error 429: Too Many Requests', 1351: 'HTTP Error 429: Too Many Requests', 1352: 'HTTP Error 429: Too Many Requests', 1353: 'HTTP Error 429: Too Many Requests', 1354: 'HTTP Error 429: Too Many Requests', 1355: 'HTTP Error 429: Too Many Requests', 1356: 'HTTP Error 429: Too Many Requests', 1357: 'HTTP Error 429: Too Many Requests', 1358: 'HTTP Error 429: Too Many Requests', 1359: 'HTTP Error 429: Too Many Requests', 1360: 'HTTP Error 429: Too Many Requests', 1361: 'HTTP Error 429: Too Many Requests', 1362: 'HTTP Error 429: Too Many Requests', 1363: 'HTTP Error 429: Too Many Requests', 1364: 'HTTP Error 429: Too Many Requests', 1365: 'HTTP Error 429: Too Many Requests', 1366: 'HTTP Error 429: Too Many Requests', 1367: 'HTTP Error 429: Too Many Requests', 1368: 'HTTP Error 429: Too Many Requests', 1369: 'HTTP Error 429: Too Many Requests', 1370: 'HTTP Error 429: Too Many Requests', 1371: 'HTTP Error 429: Too Many Requests', 1372: 'HTTP Error 429: Too Many Requests', 1373: 'HTTP Error 429: Too Many Requests', 1374: 'HTTP Error 429: Too Many Requests', 1375: 'HTTP Error 429: Too Many Requests', 1376: 'HTTP Error 429: Too Many Requests', 1377: 'HTTP Error 429: Too Many Requests', 1378: 'HTTP Error 429: Too Many Requests', 1379: 'HTTP Error 429: Too Many Requests', 1380: 'HTTP Error 429: Too Many Requests', 1381: 'HTTP Error 429: Too Many Requests', 1382: 'HTTP Error 429: Too Many Requests', 1383: 'HTTP Error 429: Too Many Requests', 1384: 'HTTP Error 429: Too Many Requests', 1385: 'HTTP Error 429: Too Many Requests', 1386: 'HTTP Error 429: Too Many Requests', 1387: 'HTTP Error 429: Too Many Requests', 1388: 'HTTP Error 429: Too Many Requests', 1389: 'HTTP Error 429: Too Many Requests', 1390: 'HTTP Error 429: Too Many Requests', 1391: 'HTTP Error 429: Too Many Requests', 1392: 'HTTP Error 429: Too Many Requests', 1393: 'HTTP Error 429: Too Many Requests', 1394: 'HTTP Error 429: Too Many Requests', 1395: 'HTTP Error 429: Too Many Requests', 1396: 'HTTP Error 429: Too Many Requests', 1397: 'HTTP Error 429: Too Many Requests', 1398: 'HTTP Error 429: Too Many Requests', 1399: 'HTTP Error 429: Too Many Requests', 1400: 'HTTP Error 429: Too Many Requests', 1401: 'HTTP Error 429: Too Many Requests', 1402: 'HTTP Error 429: Too Many Requests', 1403: 'HTTP Error 429: Too Many Requests', 1404: 'HTTP Error 429: Too Many Requests', 1405: 'HTTP Error 429: Too Many Requests', 1406: 'HTTP Error 429: Too Many Requests', 1407: 'HTTP Error 429: Too Many Requests', 1408: 'HTTP Error 429: Too Many Requests', 1409: 'HTTP Error 429: Too Many Requests', 1410: 'HTTP Error 429: Too Many Requests', 1411: 'HTTP Error 429: Too Many Requests', 1412: 'HTTP Error 429: Too Many Requests', 1413: 'HTTP Error 429: Too Many Requests', 1414: 'HTTP Error 429: Too Many Requests', 1415: 'HTTP Error 429: Too Many Requests', 1416: 'HTTP Error 429: Too Many Requests', 1417: 'HTTP Error 429: Too Many Requests', 1418: 'HTTP Error 429: Too Many Requests', 1419: 'HTTP Error 429: Too Many Requests', 1420: 'HTTP Error 429: Too Many Requests', 1421: 'HTTP Error 429: Too Many Requests', 1422: 'HTTP Error 429: Too Many Requests', 1423: 'HTTP Error 429: Too Many Requests', 1424: 'HTTP Error 429: Too Many Requests', 1425: 'HTTP Error 429: Too Many Requests', 1426: 'HTTP Error 429: Too Many Requests', 1427: 'HTTP Error 429: Too Many Requests', 1428: 'HTTP Error 429: Too Many Requests', 1429: 'HTTP Error 429: Too Many Requests', 1430: 'HTTP Error 429: Too Many Requests', 1431: 'HTTP Error 429: Too Many Requests', 1432: 'HTTP Error 429: Too Many Requests', 1433: 'HTTP Error 429: Too Many Requests', 1434: 'HTTP Error 429: Too Many Requests', 1435: 'HTTP Error 429: Too Many Requests', 1436: 'HTTP Error 429: Too Many Requests', 1437: 'HTTP Error 429: Too Many Requests', 1438: 'HTTP Error 429: Too Many Requests', 1439: 'HTTP Error 429: Too Many Requests', 1440: 'HTTP Error 429: Too Many Requests', 1441: 'HTTP Error 429: Too Many Requests', 1442: 'HTTP Error 429: Too Many Requests', 1443: 'HTTP Error 429: Too Many Requests', 1444: 'HTTP Error 429: Too Many Requests', 1445: 'HTTP Error 429: Too Many Requests', 1446: 'HTTP Error 429: Too Many Requests', 1447: 'HTTP Error 429: Too Many Requests', 1448: 'HTTP Error 429: Too Many Requests', 1449: 'HTTP Error 429: Too Many Requests', 1450: 'HTTP Error 429: Too Many Requests', 1451: 'HTTP Error 429: Too Many Requests', 1452: 'HTTP Error 429: Too Many Requests', 1453: 'HTTP Error 429: Too Many Requests', 1454: 'HTTP Error 429: Too Many Requests', 1455: 'HTTP Error 429: Too Many Requests', 1456: 'HTTP Error 429: Too Many Requests', 1457: 'HTTP Error 429: Too Many Requests', 1458: 'HTTP Error 429: Too Many Requests', 1459: 'HTTP Error 429: Too Many Requests', 1460: 'HTTP Error 429: Too Many Requests', 1461: 'HTTP Error 429: Too Many Requests', 1462: 'HTTP Error 429: Too Many Requests', 1463: 'HTTP Error 429: Too Many Requests', 1464: 'HTTP Error 429: Too Many Requests', 1465: 'HTTP Error 429: Too Many Requests', 1466: 'HTTP Error 429: Too Many Requests', 1467: 'HTTP Error 429: Too Many Requests', 1468: 'HTTP Error 429: Too Many Requests', 1469: 'HTTP Error 429: Too Many Requests', 1470: 'HTTP Error 429: Too Many Requests', 1471: 'HTTP Error 429: Too Many Requests', 1472: 'HTTP Error 429: Too Many Requests', 1473: 'HTTP Error 429: Too Many Requests', 1474: 'HTTP Error 429: Too Many Requests', 1475: 'HTTP Error 429: Too Many Requests', 1476: 'HTTP Error 429: Too Many Requests', 1477: 'HTTP Error 429: Too Many Requests', 1478: 'HTTP Error 429: Too Many Requests', 1479: 'HTTP Error 429: Too Many Requests', 1480: 'HTTP Error 429: Too Many Requests', 1481: 'HTTP Error 429: Too Many Requests', 1482: 'HTTP Error 429: Too Many Requests', 1483: 'HTTP Error 429: Too Many Requests', 1484: 'HTTP Error 429: Too Many Requests', 1485: 'HTTP Error 429: Too Many Requests', 1486: 'HTTP Error 429: Too Many Requests', 1487: 'HTTP Error 429: Too Many Requests', 1488: 'HTTP Error 429: Too Many Requests', 1489: 'HTTP Error 429: Too Many Requests', 1490: 'HTTP Error 429: Too Many Requests', 1491: 'HTTP Error 429: Too Many Requests', 1492: 'HTTP Error 429: Too Many Requests', 1493: 'HTTP Error 429: Too Many Requests', 1494: 'HTTP Error 429: Too Many Requests', 1495: 'HTTP Error 429: Too Many Requests', 1496: 'HTTP Error 429: Too Many Requests', 1497: 'HTTP Error 429: Too Many Requests', 1498: 'HTTP Error 429: Too Many Requests', 1499: 'HTTP Error 429: Too Many Requests', 1500: 'HTTP Error 429: Too Many Requests', 1501: 'HTTP Error 429: Too Many Requests', 1502: 'HTTP Error 429: Too Many Requests', 1503: 'HTTP Error 429: Too Many Requests', 1504: 'HTTP Error 429: Too Many Requests', 1505: 'HTTP Error 429: Too Many Requests', 1506: 'HTTP Error 429: Too Many Requests', 1507: 'HTTP Error 429: Too Many Requests', 1508: 'HTTP Error 429: Too Many Requests', 1509: 'HTTP Error 429: Too Many Requests', 1510: 'HTTP Error 429: Too Many Requests', 1511: 'HTTP Error 429: Too Many Requests', 1512: 'HTTP Error 429: Too Many Requests', 1513: 'HTTP Error 429: Too Many Requests', 1514: 'HTTP Error 429: Too Many Requests', 1515: 'HTTP Error 429: Too Many Requests', 1516: 'HTTP Error 429: Too Many Requests', 1517: 'HTTP Error 429: Too Many Requests', 1518: 'HTTP Error 429: Too Many Requests', 1519: 'HTTP Error 429: Too Many Requests', 1520: 'HTTP Error 429: Too Many Requests', 1521: 'HTTP Error 429: Too Many Requests', 1522: 'HTTP Error 429: Too Many Requests', 1523: 'HTTP Error 429: Too Many Requests', 1524: 'HTTP Error 429: Too Many Requests', 1525: 'HTTP Error 429: Too Many Requests', 1526: 'HTTP Error 429: Too Many Requests', 1527: 'HTTP Error 429: Too Many Requests', 1528: 'HTTP Error 429: Too Many Requests', 1529: 'HTTP Error 429: Too Many Requests', 1530: 'HTTP Error 429: Too Many Requests', 1531: 'HTTP Error 429: Too Many Requests', 1532: 'HTTP Error 429: Too Many Requests', 1533: 'HTTP Error 429: Too Many Requests', 1534: 'HTTP Error 429: Too Many Requests', 1535: 'HTTP Error 429: Too Many Requests', 1536: 'HTTP Error 429: Too Many Requests', 1537: 'HTTP Error 429: Too Many Requests', 1538: 'HTTP Error 429: Too Many Requests', 1539: 'HTTP Error 429: Too Many Requests', 1540: 'HTTP Error 429: Too Many Requests', 1541: 'HTTP Error 429: Too Many Requests', 1542: 'HTTP Error 429: Too Many Requests', 1543: 'HTTP Error 429: Too Many Requests', 1544: 'HTTP Error 429: Too Many Requests', 1545: 'HTTP Error 429: Too Many Requests', 1546: 'HTTP Error 429: Too Many Requests', 1547: 'HTTP Error 429: Too Many Requests', 1548: 'HTTP Error 429: Too Many Requests', 1549: 'HTTP Error 429: Too Many Requests', 1550: 'HTTP Error 429: Too Many Requests', 1551: 'HTTP Error 429: Too Many Requests', 1552: 'HTTP Error 429: Too Many Requests', 1553: 'HTTP Error 429: Too Many Requests', 1554: 'HTTP Error 429: Too Many Requests', 1555: 'HTTP Error 429: Too Many Requests', 1556: 'HTTP Error 429: Too Many Requests', 1557: 'HTTP Error 429: Too Many Requests', 1558: 'HTTP Error 429: Too Many Requests', 1559: 'HTTP Error 429: Too Many Requests', 1560: 'HTTP Error 429: Too Many Requests', 1561: 'HTTP Error 429: Too Many Requests', 1562: 'HTTP Error 429: Too Many Requests', 1563: 'HTTP Error 429: Too Many Requests', 1564: 'HTTP Error 429: Too Many Requests', 1565: 'HTTP Error 429: Too Many Requests', 1566: 'HTTP Error 429: Too Many Requests', 1567: 'HTTP Error 429: Too Many Requests', 1568: 'HTTP Error 429: Too Many Requests', 1569: 'HTTP Error 429: Too Many Requests', 1570: 'HTTP Error 429: Too Many Requests', 1571: 'HTTP Error 429: Too Many Requests', 1572: 'HTTP Error 429: Too Many Requests', 1573: 'HTTP Error 429: Too Many Requests', 1574: 'HTTP Error 429: Too Many Requests', 1575: 'HTTP Error 429: Too Many Requests', 1576: 'HTTP Error 429: Too Many Requests', 1577: 'HTTP Error 429: Too Many Requests', 1578: 'HTTP Error 429: Too Many Requests', 1579: 'HTTP Error 429: Too Many Requests', 1580: 'HTTP Error 429: Too Many Requests', 1581: 'HTTP Error 429: Too Many Requests', 1582: 'HTTP Error 429: Too Many Requests', 1583: 'HTTP Error 429: Too Many Requests', 1584: 'HTTP Error 429: Too Many Requests', 1585: 'HTTP Error 429: Too Many Requests', 1586: 'HTTP Error 429: Too Many Requests', 1587: 'HTTP Error 429: Too Many Requests', 1588: 'HTTP Error 429: Too Many Requests', 1589: 'HTTP Error 429: Too Many Requests', 1590: 'HTTP Error 429: Too Many Requests', 1591: 'HTTP Error 429: Too Many Requests', 1592: 'HTTP Error 429: Too Many Requests', 1593: 'HTTP Error 429: Too Many Requests', 1594: 'HTTP Error 429: Too Many Requests', 1595: 'HTTP Error 429: Too Many Requests', 1596: 'HTTP Error 429: Too Many Requests', 1597: 'HTTP Error 429: Too Many Requests', 1598: 'HTTP Error 429: Too Many Requests', 1599: 'HTTP Error 429: Too Many Requests', 1600: 'HTTP Error 429: Too Many Requests', 1601: 'HTTP Error 429: Too Many Requests', 1602: 'HTTP Error 429: Too Many Requests', 1603: 'HTTP Error 429: Too Many Requests', 1604: 'HTTP Error 429: Too Many Requests', 1605: 'HTTP Error 429: Too Many Requests', 1606: 'HTTP Error 429: Too Many Requests', 1607: 'HTTP Error 429: Too Many Requests', 1608: 'HTTP Error 429: Too Many Requests', 1609: 'HTTP Error 429: Too Many Requests', 1610: 'HTTP Error 429: Too Many Requests', 1611: 'HTTP Error 429: Too Many Requests', 1612: 'HTTP Error 429: Too Many Requests', 1613: 'HTTP Error 429: Too Many Requests', 1614: 'HTTP Error 429: Too Many Requests', 1615: 'HTTP Error 429: Too Many Requests', 1616: 'HTTP Error 429: Too Many Requests', 1617: 'HTTP Error 429: Too Many Requests', 1618: 'HTTP Error 429: Too Many Requests', 1619: 'HTTP Error 429: Too Many Requests', 1620: 'HTTP Error 429: Too Many Requests', 1621: 'HTTP Error 429: Too Many Requests', 1622: 'HTTP Error 429: Too Many Requests', 1623: 'HTTP Error 429: Too Many Requests', 1624: 'HTTP Error 429: Too Many Requests', 1625: 'HTTP Error 429: Too Many Requests', 1626: 'HTTP Error 429: Too Many Requests', 1627: 'HTTP Error 429: Too Many Requests', 1628: 'HTTP Error 429: Too Many Requests', 1629: 'HTTP Error 429: Too Many Requests', 1630: 'HTTP Error 429: Too Many Requests', 1631: 'HTTP Error 429: Too Many Requests', 1632: 'HTTP Error 429: Too Many Requests', 1633: 'HTTP Error 429: Too Many Requests', 1634: 'HTTP Error 429: Too Many Requests', 1635: 'HTTP Error 429: Too Many Requests', 1636: 'HTTP Error 429: Too Many Requests', 1637: 'HTTP Error 429: Too Many Requests', 1638: 'HTTP Error 429: Too Many Requests', 1639: 'HTTP Error 429: Too Many Requests', 1640: 'HTTP Error 429: Too Many Requests', 1641: 'HTTP Error 429: Too Many Requests', 1642: 'HTTP Error 429: Too Many Requests', 1643: 'HTTP Error 429: Too Many Requests', 1644: 'HTTP Error 429: Too Many Requests', 1645: 'HTTP Error 429: Too Many Requests', 1646: 'HTTP Error 429: Too Many Requests', 1647: 'HTTP Error 429: Too Many Requests', 1648: 'HTTP Error 429: Too Many Requests', 1649: 'HTTP Error 429: Too Many Requests', 1650: 'HTTP Error 429: Too Many Requests', 1651: 'HTTP Error 429: Too Many Requests', 1652: 'HTTP Error 429: Too Many Requests', 1653: 'HTTP Error 429: Too Many Requests', 1654: 'HTTP Error 429: Too Many Requests', 1655: 'HTTP Error 429: Too Many Requests', 1656: 'HTTP Error 429: Too Many Requests', 1657: 'HTTP Error 429: Too Many Requests', 1658: 'HTTP Error 429: Too Many Requests', 1659: 'HTTP Error 429: Too Many Requests', 1660: 'HTTP Error 429: Too Many Requests', 1661: 'HTTP Error 429: Too Many Requests', 1662: 'HTTP Error 429: Too Many Requests', 1663: 'HTTP Error 429: Too Many Requests', 1664: 'HTTP Error 429: Too Many Requests', 1665: 'HTTP Error 429: Too Many Requests', 1666: 'HTTP Error 429: Too Many Requests', 1667: 'HTTP Error 429: Too Many Requests', 1668: 'HTTP Error 429: Too Many Requests', 1669: 'HTTP Error 429: Too Many Requests', 1670: 'HTTP Error 429: Too Many Requests', 1671: 'HTTP Error 429: Too Many Requests', 1672: 'HTTP Error 429: Too Many Requests', 1673: 'HTTP Error 429: Too Many Requests', 1674: 'HTTP Error 429: Too Many Requests', 1675: 'HTTP Error 429: Too Many Requests', 1676: 'HTTP Error 429: Too Many Requests', 1677: 'HTTP Error 429: Too Many Requests', 1678: 'HTTP Error 429: Too Many Requests', 1679: 'HTTP Error 429: Too Many Requests', 1680: 'HTTP Error 429: Too Many Requests', 1681: 'HTTP Error 429: Too Many Requests', 1682: 'HTTP Error 429: Too Many Requests', 1683: 'HTTP Error 429: Too Many Requests', 1684: 'HTTP Error 429: Too Many Requests', 1685: 'HTTP Error 429: Too Many Requests', 1686: 'HTTP Error 429: Too Many Requests', 1687: 'HTTP Error 429: Too Many Requests', 1688: 'HTTP Error 429: Too Many Requests', 1689: 'HTTP Error 429: Too Many Requests', 1690: 'HTTP Error 429: Too Many Requests', 1691: 'HTTP Error 429: Too Many Requests', 1692: 'HTTP Error 429: Too Many Requests', 1693: 'HTTP Error 429: Too Many Requests', 1694: 'HTTP Error 429: Too Many Requests', 1695: 'HTTP Error 429: Too Many Requests', 1696: 'HTTP Error 429: Too Many Requests', 1697: 'HTTP Error 429: Too Many Requests', 1698: 'HTTP Error 429: Too Many Requests', 1699: 'HTTP Error 429: Too Many Requests', 1700: 'HTTP Error 429: Too Many Requests', 1701: 'HTTP Error 429: Too Many Requests', 1702: 'HTTP Error 429: Too Many Requests', 1703: 'HTTP Error 429: Too Many Requests', 1704: 'HTTP Error 429: Too Many Requests', 1705: 'HTTP Error 429: Too Many Requests', 1706: 'HTTP Error 429: Too Many Requests', 1707: 'HTTP Error 429: Too Many Requests', 1708: 'HTTP Error 429: Too Many Requests', 1709: 'HTTP Error 429: Too Many Requests', 1710: 'HTTP Error 429: Too Many Requests', 1711: 'HTTP Error 429: Too Many Requests', 1712: 'HTTP Error 429: Too Many Requests', 1713: 'HTTP Error 429: Too Many Requests', 1714: 'HTTP Error 429: Too Many Requests', 1715: 'HTTP Error 429: Too Many Requests', 1716: 'HTTP Error 429: Too Many Requests', 1717: 'HTTP Error 429: Too Many Requests', 1718: 'HTTP Error 429: Too Many Requests', 1719: 'HTTP Error 429: Too Many Requests', 1720: 'HTTP Error 429: Too Many Requests', 1721: 'HTTP Error 429: Too Many Requests', 1722: 'HTTP Error 429: Too Many Requests', 1723: 'HTTP Error 429: Too Many Requests', 1724: 'HTTP Error 429: Too Many Requests', 1725: 'HTTP Error 429: Too Many Requests', 1726: 'HTTP Error 429: Too Many Requests', 1727: 'HTTP Error 429: Too Many Requests', 1728: 'HTTP Error 429: Too Many Requests', 1729: 'HTTP Error 429: Too Many Requests', 1730: 'HTTP Error 429: Too Many Requests', 1731: 'HTTP Error 429: Too Many Requests', 1732: 'HTTP Error 429: Too Many Requests', 1733: 'HTTP Error 429: Too Many Requests', 1734: 'HTTP Error 429: Too Many Requests', 1735: 'HTTP Error 429: Too Many Requests', 1736: 'HTTP Error 429: Too Many Requests', 1737: 'HTTP Error 429: Too Many Requests', 1738: 'HTTP Error 429: Too Many Requests', 1739: 'HTTP Error 429: Too Many Requests', 1740: 'HTTP Error 429: Too Many Requests', 1741: 'HTTP Error 429: Too Many Requests', 1742: 'HTTP Error 429: Too Many Requests', 1743: 'HTTP Error 429: Too Many Requests', 1744: 'HTTP Error 429: Too Many Requests', 1745: 'HTTP Error 429: Too Many Requests', 1746: 'HTTP Error 429: Too Many Requests', 1747: 'HTTP Error 429: Too Many Requests', 1748: 'HTTP Error 429: Too Many Requests', 1749: 'HTTP Error 429: Too Many Requests', 1750: 'HTTP Error 429: Too Many Requests', 1751: 'HTTP Error 429: Too Many Requests', 1752: 'HTTP Error 429: Too Many Requests', 1753: 'HTTP Error 429: Too Many Requests', 1754: 'HTTP Error 429: Too Many Requests', 1755: 'HTTP Error 429: Too Many Requests', 1756: 'HTTP Error 429: Too Many Requests', 1757: 'HTTP Error 429: Too Many Requests', 1758: 'HTTP Error 429: Too Many Requests', 1759: 'HTTP Error 429: Too Many Requests', 1760: 'HTTP Error 429: Too Many Requests', 1761: 'HTTP Error 429: Too Many Requests', 1762: 'HTTP Error 429: Too Many Requests', 1763: 'HTTP Error 429: Too Many Requests', 1764: 'HTTP Error 429: Too Many Requests', 1765: 'HTTP Error 429: Too Many Requests', 1766: 'HTTP Error 429: Too Many Requests', 1767: 'HTTP Error 429: Too Many Requests', 1768: 'HTTP Error 429: Too Many Requests', 1769: 'HTTP Error 429: Too Many Requests', 1770: 'HTTP Error 429: Too Many Requests', 1771: 'HTTP Error 429: Too Many Requests', 1772: 'HTTP Error 429: Too Many Requests', 1773: 'HTTP Error 429: Too Many Requests', 1774: 'HTTP Error 429: Too Many Requests', 1775: 'HTTP Error 429: Too Many Requests', 1776: 'HTTP Error 429: Too Many Requests', 1777: 'HTTP Error 429: Too Many Requests', 1778: 'HTTP Error 429: Too Many Requests', 1779: 'HTTP Error 429: Too Many Requests', 1780: 'HTTP Error 429: Too Many Requests', 1781: 'HTTP Error 429: Too Many Requests', 1782: 'HTTP Error 429: Too Many Requests', 1783: 'HTTP Error 429: Too Many Requests', 1784: 'HTTP Error 429: Too Many Requests', 1785: 'HTTP Error 429: Too Many Requests', 1786: 'HTTP Error 429: Too Many Requests', 1787: 'HTTP Error 429: Too Many Requests', 1788: 'HTTP Error 429: Too Many Requests', 1789: 'HTTP Error 429: Too Many Requests', 1790: 'HTTP Error 429: Too Many Requests', 1791: 'HTTP Error 429: Too Many Requests', 1792: 'HTTP Error 429: Too Many Requests', 1793: 'HTTP Error 429: Too Many Requests', 1794: 'HTTP Error 429: Too Many Requests', 1795: 'HTTP Error 429: Too Many Requests', 1796: 'HTTP Error 429: Too Many Requests', 1797: 'HTTP Error 429: Too Many Requests', 1798: 'HTTP Error 429: Too Many Requests', 1799: 'HTTP Error 429: Too Many Requests', 1800: 'HTTP Error 429: Too Many Requests', 1801: 'HTTP Error 429: Too Many Requests', 1802: 'HTTP Error 429: Too Many Requests', 1803: 'HTTP Error 429: Too Many Requests', 1804: 'HTTP Error 429: Too Many Requests', 1805: 'HTTP Error 429: Too Many Requests', 1806: 'HTTP Error 429: Too Many Requests', 1807: 'HTTP Error 429: Too Many Requests', 1808: 'HTTP Error 429: Too Many Requests', 1809: 'HTTP Error 429: Too Many Requests', 1810: 'HTTP Error 429: Too Many Requests', 1811: 'HTTP Error 429: Too Many Requests', 1812: 'HTTP Error 429: Too Many Requests', 1813: 'HTTP Error 429: Too Many Requests', 1814: 'HTTP Error 429: Too Many Requests', 1815: 'HTTP Error 429: Too Many Requests', 1816: 'HTTP Error 429: Too Many Requests', 1817: 'HTTP Error 429: Too Many Requests', 1818: 'HTTP Error 429: Too Many Requests', 1819: 'HTTP Error 429: Too Many Requests', 1820: 'HTTP Error 429: Too Many Requests', 1821: 'HTTP Error 429: Too Many Requests', 1822: 'HTTP Error 429: Too Many Requests', 1823: 'HTTP Error 429: Too Many Requests', 1824: 'HTTP Error 429: Too Many Requests', 1825: 'HTTP Error 429: Too Many Requests', 1826: 'HTTP Error 429: Too Many Requests', 1827: 'HTTP Error 429: Too Many Requests', 1828: 'HTTP Error 429: Too Many Requests', 1829: 'HTTP Error 429: Too Many Requests', 1830: 'HTTP Error 429: Too Many Requests', 1831: 'HTTP Error 429: Too Many Requests', 1832: 'HTTP Error 429: Too Many Requests', 1833: 'HTTP Error 429: Too Many Requests', 1834: 'HTTP Error 429: Too Many Requests', 1835: 'HTTP Error 429: Too Many Requests', 1836: 'HTTP Error 429: Too Many Requests', 1837: 'HTTP Error 429: Too Many Requests', 1838: 'HTTP Error 429: Too Many Requests', 1839: 'HTTP Error 429: Too Many Requests', 1840: 'HTTP Error 429: Too Many Requests', 1841: 'HTTP Error 429: Too Many Requests', 1842: 'HTTP Error 429: Too Many Requests', 1843: 'HTTP Error 429: Too Many Requests', 1844: 'HTTP Error 429: Too Many Requests', 1845: 'HTTP Error 429: Too Many Requests', 1846: 'HTTP Error 429: Too Many Requests', 1847: 'HTTP Error 429: Too Many Requests', 1848: 'HTTP Error 429: Too Many Requests', 1849: 'HTTP Error 429: Too Many Requests', 1850: 'HTTP Error 429: Too Many Requests', 1851: 'HTTP Error 429: Too Many Requests', 1852: 'HTTP Error 429: Too Many Requests', 1853: 'HTTP Error 429: Too Many Requests', 1854: 'HTTP Error 429: Too Many Requests', 1855: 'HTTP Error 429: Too Many Requests', 1856: 'HTTP Error 429: Too Many Requests', 1857: 'HTTP Error 429: Too Many Requests', 1858: 'HTTP Error 429: Too Many Requests', 1859: 'HTTP Error 429: Too Many Requests', 1860: 'HTTP Error 429: Too Many Requests', 1861: 'HTTP Error 429: Too Many Requests', 1862: 'HTTP Error 429: Too Many Requests', 1863: 'HTTP Error 429: Too Many Requests', 1864: 'HTTP Error 429: Too Many Requests', 1865: 'HTTP Error 429: Too Many Requests', 1866: 'HTTP Error 429: Too Many Requests', 1867: 'HTTP Error 429: Too Many Requests', 1868: 'HTTP Error 429: Too Many Requests', 1869: 'HTTP Error 429: Too Many Requests', 1870: 'HTTP Error 429: Too Many Requests', 1871: 'HTTP Error 429: Too Many Requests', 1872: 'HTTP Error 429: Too Many Requests', 1873: 'HTTP Error 429: Too Many Requests', 1874: 'HTTP Error 429: Too Many Requests', 1875: 'HTTP Error 429: Too Many Requests', 1876: 'HTTP Error 429: Too Many Requests', 1877: 'HTTP Error 429: Too Many Requests', 1878: 'HTTP Error 429: Too Many Requests', 1879: 'HTTP Error 429: Too Many Requests', 1880: 'HTTP Error 429: Too Many Requests', 1881: 'HTTP Error 429: Too Many Requests', 1882: 'HTTP Error 429: Too Many Requests', 1883: 'HTTP Error 429: Too Many Requests', 1884: 'HTTP Error 429: Too Many Requests', 1885: 'HTTP Error 429: Too Many Requests', 1886: 'HTTP Error 429: Too Many Requests', 1887: 'HTTP Error 429: Too Many Requests', 1888: 'HTTP Error 429: Too Many Requests', 1889: 'HTTP Error 429: Too Many Requests', 1890: 'HTTP Error 429: Too Many Requests', 1891: 'HTTP Error 429: Too Many Requests', 1892: 'HTTP Error 429: Too Many Requests', 1893: 'HTTP Error 429: Too Many Requests', 1894: 'HTTP Error 429: Too Many Requests', 1895: 'HTTP Error 429: Too Many Requests', 1896: 'HTTP Error 429: Too Many Requests', 1897: 'HTTP Error 429: Too Many Requests', 1898: 'HTTP Error 429: Too Many Requests', 1899: 'HTTP Error 429: Too Many Requests', 1900: 'HTTP Error 429: Too Many Requests', 1901: 'HTTP Error 429: Too Many Requests', 1902: 'HTTP Error 429: Too Many Requests', 1903: 'HTTP Error 429: Too Many Requests', 1904: 'HTTP Error 429: Too Many Requests', 1905: 'HTTP Error 429: Too Many Requests', 1906: 'HTTP Error 429: Too Many Requests', 1907: 'HTTP Error 429: Too Many Requests', 1908: 'HTTP Error 429: Too Many Requests', 1909: 'HTTP Error 429: Too Many Requests', 1910: 'HTTP Error 429: Too Many Requests', 1911: 'HTTP Error 429: Too Many Requests', 1912: 'HTTP Error 429: Too Many Requests', 1913: 'HTTP Error 429: Too Many Requests', 1914: 'HTTP Error 429: Too Many Requests', 1915: 'HTTP Error 429: Too Many Requests', 1916: 'HTTP Error 429: Too Many Requests', 1917: 'HTTP Error 429: Too Many Requests', 1918: 'HTTP Error 429: Too Many Requests', 1919: 'HTTP Error 429: Too Many Requests', 1920: 'HTTP Error 429: Too Many Requests', 1921: 'HTTP Error 429: Too Many Requests', 1922: 'HTTP Error 429: Too Many Requests', 1923: 'HTTP Error 429: Too Many Requests', 1924: 'HTTP Error 429: Too Many Requests', 1925: 'HTTP Error 429: Too Many Requests', 1926: 'HTTP Error 429: Too Many Requests', 1927: 'HTTP Error 429: Too Many Requests', 1928: 'HTTP Error 429: Too Many Requests', 1929: 'HTTP Error 429: Too Many Requests', 1930: 'HTTP Error 429: Too Many Requests', 1931: 'HTTP Error 429: Too Many Requests', 1932: 'HTTP Error 429: Too Many Requests', 1933: 'HTTP Error 429: Too Many Requests', 1934: 'HTTP Error 429: Too Many Requests', 1935: 'HTTP Error 429: Too Many Requests', 1936: 'HTTP Error 429: Too Many Requests', 1937: 'HTTP Error 429: Too Many Requests', 1938: 'HTTP Error 429: Too Many Requests', 1939: 'HTTP Error 429: Too Many Requests', 1940: 'HTTP Error 429: Too Many Requests', 1941: 'HTTP Error 429: Too Many Requests', 1942: 'HTTP Error 429: Too Many Requests', 1943: 'HTTP Error 429: Too Many Requests', 1944: 'HTTP Error 429: Too Many Requests', 1945: 'HTTP Error 429: Too Many Requests', 1946: 'HTTP Error 429: Too Many Requests', 1947: 'HTTP Error 429: Too Many Requests', 1948: 'HTTP Error 429: Too Many Requests', 1949: 'HTTP Error 429: Too Many Requests', 1950: 'HTTP Error 429: Too Many Requests', 1951: 'HTTP Error 429: Too Many Requests', 1952: 'HTTP Error 429: Too Many Requests', 1953: 'HTTP Error 429: Too Many Requests', 1954: 'HTTP Error 429: Too Many Requests', 1955: 'HTTP Error 429: Too Many Requests', 1956: 'HTTP Error 429: Too Many Requests', 1957: 'HTTP Error 429: Too Many Requests', 1958: 'HTTP Error 429: Too Many Requests', 1959: 'HTTP Error 429: Too Many Requests', 1960: 'HTTP Error 429: Too Many Requests', 1961: 'HTTP Error 429: Too Many Requests', 1962: 'HTTP Error 429: Too Many Requests', 1963: 'HTTP Error 429: Too Many Requests', 1964: 'HTTP Error 429: Too Many Requests', 1965: 'HTTP Error 429: Too Many Requests', 1966: 'HTTP Error 429: Too Many Requests', 1967: 'HTTP Error 429: Too Many Requests', 1968: 'HTTP Error 429: Too Many Requests', 1969: 'HTTP Error 429: Too Many Requests', 1970: 'HTTP Error 429: Too Many Requests', 1971: 'HTTP Error 429: Too Many Requests', 1972: 'HTTP Error 429: Too Many Requests', 1973: 'HTTP Error 429: Too Many Requests', 1974: 'HTTP Error 429: Too Many Requests', 1975: 'HTTP Error 429: Too Many Requests', 1976: 'HTTP Error 429: Too Many Requests', 1977: 'HTTP Error 429: Too Many Requests', 1978: 'HTTP Error 429: Too Many Requests', 1979: 'HTTP Error 429: Too Many Requests', 1980: 'HTTP Error 429: Too Many Requests', 1981: 'HTTP Error 429: Too Many Requests', 1982: 'HTTP Error 429: Too Many Requests', 1983: 'HTTP Error 429: Too Many Requests', 1984: 'HTTP Error 429: Too Many Requests', 1985: 'HTTP Error 429: Too Many Requests', 1986: 'HTTP Error 429: Too Many Requests', 1987: 'HTTP Error 429: Too Many Requests', 1988: 'HTTP Error 429: Too Many Requests', 1989: 'HTTP Error 429: Too Many Requests', 1990: 'HTTP Error 429: Too Many Requests', 1991: 'HTTP Error 429: Too Many Requests', 1992: 'HTTP Error 429: Too Many Requests', 1993: 'HTTP Error 429: Too Many Requests', 1994: 'HTTP Error 429: Too Many Requests', 1995: 'HTTP Error 429: Too Many Requests', 1996: 'HTTP Error 429: Too Many Requests', 1997: 'HTTP Error 429: Too Many Requests', 1998: 'HTTP Error 429: Too Many Requests', 1999: 'HTTP Error 429: Too Many Requests', 2000: 'HTTP Error 429: Too Many Requests', 2001: 'HTTP Error 429: Too Many Requests', 2002: 'HTTP Error 429: Too Many Requests', 2003: 'HTTP Error 429: Too Many Requests', 2004: 'HTTP Error 429: Too Many Requests', 2005: 'HTTP Error 429: Too Many Requests', 2006: 'HTTP Error 429: Too Many Requests', 2007: 'HTTP Error 429: Too Many Requests'}\n"
     ]
    }
   ],
   "source": [
    "print(issues)"
   ]
  },
  {
   "cell_type": "code",
   "execution_count": null,
   "metadata": {},
   "outputs": [],
   "source": [
    "df_output.to_csv('../Augmentation Data/LIAR_aug.csv')"
   ]
  },
  {
   "cell_type": "code",
   "execution_count": 86,
   "metadata": {},
   "outputs": [
    {
     "name": "stdout",
     "output_type": "stream",
     "text": [
      "caught\n",
      "0.6633121967315674\n",
      "0\n"
     ]
    }
   ],
   "source": [
    "z = 0\n",
    "start = time.time()\n",
    "try:\n",
    "    z = translate(df_input['clean_text'].iloc[1279])\n",
    "                  \n",
    "except Exception as e:\n",
    "    e = str(e)\n",
    "    if e == \"HTTP Error 429: Too Many Requests\":\n",
    "        print(\"caught\")\n",
    "    \n",
    "end = time.time()\n",
    "print(end-start)\n",
    "print(z)"
   ]
  },
  {
   "cell_type": "code",
   "execution_count": 47,
   "metadata": {
    "scrolled": true
   },
   "outputs": [
    {
     "name": "stdout",
     "output_type": "stream",
     "text": [
      "{409: NotTranslated('Translation API returned the input string unchanged.'), 410: NotTranslated('Translation API returned the input string unchanged.'), 412: NotTranslated('Translation API returned the input string unchanged.'), 413: NotTranslated('Translation API returned the input string unchanged.'), 905: NotTranslated('Translation API returned the input string unchanged.'), 1553: NotTranslated('Translation API returned the input string unchanged.'), 1790: NotTranslated('Translation API returned the input string unchanged.'), 1988: NotTranslated('Translation API returned the input string unchanged.'), 2167: NotTranslated('Translation API returned the input string unchanged.'), 2315: NotTranslated('Translation API returned the input string unchanged.')}\n"
     ]
    }
   ],
   "source": [
    "print(issues)"
   ]
  },
  {
   "cell_type": "code",
   "execution_count": 74,
   "metadata": {},
   "outputs": [],
   "source": [
    "d = {}\n",
    "lens=[]\n",
    "for i in range(df_input.shape[0]):\n",
    "    text = df_input['clean_text'].iloc[i]\n",
    "#     print(text)\n",
    "#     break\n",
    "    if not text:\n",
    "        print(i)\n",
    "        break\n",
    "    try:\n",
    "        key = len(text)\n",
    "        if key in d:\n",
    "            d[key].append(i)\n",
    "        else:\n",
    "            d[key] = [i]\n",
    "        lens.append(len(text))\n",
    "    except TypeError:\n",
    "        print(i)\n",
    "lens = sorted(lens, reverse=True)"
   ]
  },
  {
   "cell_type": "code",
   "execution_count": 75,
   "metadata": {},
   "outputs": [
    {
     "name": "stdout",
     "output_type": "stream",
     "text": [
      "[3192, 2941, 2099, 1592, 1380, 538, 395, 391, 370, 370]\n"
     ]
    }
   ],
   "source": [
    "print(lens[:10])"
   ]
  },
  {
   "cell_type": "code",
   "execution_count": 76,
   "metadata": {},
   "outputs": [
    {
     "name": "stdout",
     "output_type": "stream",
     "text": [
      "[6119]\n"
     ]
    }
   ],
   "source": [
    "print(d[1592])"
   ]
  },
  {
   "cell_type": "code",
   "execution_count": 77,
   "metadata": {},
   "outputs": [
    {
     "name": "stdout",
     "output_type": "stream",
     "text": [
      "og: \n",
      " georgia has the most restrictive ballot access laws in the country.\telections\tmary-n\t\t\tindependent\t0\t0\t0\t0\t0\ta television interview\n",
      "3666.json\tfalse\ton whether the federal debt limit should be raised\tfederal-budget\tbarack-obama\tpresident\tillinois\tdemocrat\t70\t71\t160\t163\t9\tan interview with george stephanopoulos\n",
      "4608.json\thalf-true\twhen george w. bush was governor of texas, the percentage uninsured went down. under his successor, rick perry, its gone up.\tchildren,health-care,new-hampshire-2012\tmitt-romney\tformer governor\tmassachusetts\trepublican\t34\t32\t58\t33\t19\ta republicam debate in hanover, n.h.\n",
      "11023.json\tfalse\tsays his book,the art of the deal,is the no. 1 selling business book of all time.\tcandidates-biography,job-accomplishments\tdonald-trump\tpresident-elect\tnew york\trepublican\t63\t114\t51\t37\t61\tremarks on cnn.\n",
      "2096.json\thalf-true\tdemocrats in the 1930s wanted president franklin roosevelt to be more conservative.\thistory,pundits,abc-news-week\tgeorge-will\tcolumnist\tmaryland\tcolumnist\t7\t6\t3\t5\t1\ta roundtable discussion on abc's this week\n",
      "12853.json\ttrue\tsays danny tarkanian wants to defund planned parenthood and would outlaw a womans right to choose, even in cases of rape or incest.\tabortion\tjacky-rosen\t\tnevada\tdemocrat\t0\t0\t0\t0\t0\ta press release.\n",
      "12670.json\tpants-fire\tcondemning violence against the police and urging support for the police is markedly absent from president barack obamas public remarks.\tcriminal-justice\twilliam-johnson\t\t\torganization\t0\t0\t0\t0\t1\tan interview on fox news\n",
      "1508.json\thalf-true\tflorida leads the nation in elected officials charged with crimes.\"\n",
      "new\n",
      "0.51385498046875\n",
      "Georgia has the most restrictive laws on access to ballot papers in the country. Elections mary-n independent 0 0 0 0 0 a television interview\n",
      "3666.json wrong about raising the federal debt ceiling Federal Budget Barack Obama President Illinois Democrat 70 71 160 163 9 an interview with George Stephanopoulos\n",
      "4608.json half true if george w. Bush was governor of Texas, and the percentage of uninsured fell. it has risen under his successor Rick Perry. Children, healthcare, new hampshire 2012 mitt-romney former governor massachusetts republican 34 32 58 33 19 a republican debate in hanover, n.h.\n",
      "11023.json false says his book, the Art of Deals, is the # 1 selling business book of all time. candidate biography, professions donald trump president elected new york republican 63 114 51 37 61 notes on cnn.\n",
      "2096.json semi-true Democrats in the 1930s wanted President Franklin Roosevelt to become more conservative. History, Experts, ABC News Week George Will Columnist Maryland Columnist 7 6 3 5 1 A discussion group about ABCs this week\n",
      "12853.json true says Danny Tarkanian wants to abolish planned parenthood and would ban a woman's right to vote, even if she is raped or incested. Abortion Jacky-Rosen Nevada Democrat 0 0 0 0 0 a press release.\n",
      "12670.json Troop fire, which condemns violence against the police and calls for police support, is clearly missing from President Barack Obama's public statements. Criminal Justice William Johnson Organization 0 0 0 0 1 an interview on Fox News\n",
      "1508.json semi-true Florida leads the nation in elected officials charged with crimes. \"\n"
     ]
    }
   ],
   "source": [
    "print(\"og: \\n {}\".format(df_input['clean_text'].iloc[6119]))\n",
    "start = time.time()\n",
    "print(\"new\")\n",
    "z = translate(df_input['clean_text'].iloc[6119])\n",
    "end = time.time()\n",
    "print(end-start)\n",
    "print(z)"
   ]
  },
  {
   "cell_type": "code",
   "execution_count": 134,
   "metadata": {},
   "outputs": [
    {
     "name": "stdout",
     "output_type": "stream",
     "text": [
      "[2158, 2546, 4280, 6188, 7195, 7449, 8371, 8458, 9548, 10243, 11126, 12479, 13038, 15191, 18500, 18625, 21386, 24543, 25473, 27578, 28444, 28473, 28474, 28476, 28497, 28499, 28512, 28513, 28518, 30354, 32959, 32960, 32965, 32978, 32980, 32996, 33002, 38518, 38637, 38655, 38675, 38706, 46637, 59505, 59642, 59826, 60128, 62337, 62397, 63814, 67296, 67302, 68011, 68416, 69435, 70409]\n"
     ]
    }
   ],
   "source": [
    "print(d[200])"
   ]
  },
  {
   "cell_type": "code",
   "execution_count": 135,
   "metadata": {},
   "outputs": [
    {
     "data": {
      "text/plain": [
       "'think you have witnessed enough amazing inventions in the world? these unusual gadgets will probably change your mind. here are the strangest and most unbelievable japanese inventions you have not... '"
      ]
     },
     "execution_count": 135,
     "metadata": {},
     "output_type": "execute_result"
    }
   ],
   "source": [
    "df_input['clean_text'].iloc[2158]"
   ]
  },
  {
   "cell_type": "code",
   "execution_count": null,
   "metadata": {},
   "outputs": [],
   "source": []
  }
 ],
 "metadata": {
  "kernelspec": {
   "display_name": "Python 3",
   "language": "python",
   "name": "python3"
  },
  "language_info": {
   "codemirror_mode": {
    "name": "ipython",
    "version": 3
   },
   "file_extension": ".py",
   "mimetype": "text/x-python",
   "name": "python",
   "nbconvert_exporter": "python",
   "pygments_lexer": "ipython3",
   "version": "3.7.4"
  }
 },
 "nbformat": 4,
 "nbformat_minor": 2
}
