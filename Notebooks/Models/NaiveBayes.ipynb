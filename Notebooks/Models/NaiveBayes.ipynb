{
  "nbformat": 4,
  "nbformat_minor": 0,
  "metadata": {
    "kernelspec": {
      "display_name": "Python 3",
      "language": "python",
      "name": "python3"
    },
    "language_info": {
      "codemirror_mode": {
        "name": "ipython",
        "version": 3
      },
      "file_extension": ".py",
      "mimetype": "text/x-python",
      "name": "python",
      "nbconvert_exporter": "python",
      "pygments_lexer": "ipython3",
      "version": "3.7.4"
    },
    "colab": {
      "name": "NaiveBayes.ipynb",
      "provenance": [],
      "collapsed_sections": [],
      "toc_visible": true
    }
  },
  "cells": [
    {
      "cell_type": "markdown",
      "metadata": {
        "id": "NVBBm7K2agG8",
        "colab_type": "text"
      },
      "source": [
        "# Naive Bayes Experiment (No Augmentation)\n",
        "## Real News and Fake News (~60k total)\n",
        "\n",
        "\n",
        "Class: Label\n",
        "\n",
        "Real: 1\n",
        "\n",
        "Fake: 0"
      ]
    },
    {
      "cell_type": "code",
      "metadata": {
        "id": "jmYhRgsXagGb",
        "colab_type": "code",
        "colab": {}
      },
      "source": [
        "import pandas as pd\n",
        "import numpy as np\n",
        "import json"
      ],
      "execution_count": 0,
      "outputs": []
    },
    {
      "cell_type": "code",
      "metadata": {
        "id": "Q88GYQTXagGg",
        "colab_type": "code",
        "colab": {
          "base_uri": "https://localhost:8080/",
          "height": 410
        },
        "outputId": "ac7b85d4-361d-4a01-f365-c0c57a21e6e2"
      },
      "source": [
        "file = \"combined_{}.csv\"\n",
        "dfs = []\n",
        "for i in range(3):\n",
        "    fp = file.format(i+1)\n",
        "    read = pd.read_csv(fp)\n",
        "    read = read[['label', 'clean_text']]\n",
        "    dfs.append(read)\n",
        "\n",
        "dfs[2] = dfs[2][:-13000]\n",
        "\n",
        "data = pd.concat(dfs)\n",
        "data.tail()\n",
        "data.reset_index(inplace=True, drop=True)\n",
        "print(data.shape)\n",
        "print(data[data.label == 1].shape[0], \"Real\")\n",
        "print(data[data.label == 0].shape[0], \"Fake\")\n",
        "\n",
        "data.dropna(inplace=True)\n",
        "data.head(10)"
      ],
      "execution_count": 2,
      "outputs": [
        {
          "output_type": "stream",
          "text": [
            "(59818, 2)\n",
            "31514 Real\n",
            "28304 Fake\n"
          ],
          "name": "stdout"
        },
        {
          "output_type": "execute_result",
          "data": {
            "text/html": [
              "<div>\n",
              "<style scoped>\n",
              "    .dataframe tbody tr th:only-of-type {\n",
              "        vertical-align: middle;\n",
              "    }\n",
              "\n",
              "    .dataframe tbody tr th {\n",
              "        vertical-align: top;\n",
              "    }\n",
              "\n",
              "    .dataframe thead th {\n",
              "        text-align: right;\n",
              "    }\n",
              "</style>\n",
              "<table border=\"1\" class=\"dataframe\">\n",
              "  <thead>\n",
              "    <tr style=\"text-align: right;\">\n",
              "      <th></th>\n",
              "      <th>label</th>\n",
              "      <th>clean_text</th>\n",
              "    </tr>\n",
              "  </thead>\n",
              "  <tbody>\n",
              "    <tr>\n",
              "      <th>0</th>\n",
              "      <td>0</td>\n",
              "      <td>house dem aide didnt even see comeys letter ja...</td>\n",
              "    </tr>\n",
              "    <tr>\n",
              "      <th>1</th>\n",
              "      <td>1</td>\n",
              "      <td>ever get feeling life circles roundabout rathe...</td>\n",
              "    </tr>\n",
              "    <tr>\n",
              "      <th>2</th>\n",
              "      <td>0</td>\n",
              "      <td>truth might get fired october   tension intell...</td>\n",
              "    </tr>\n",
              "    <tr>\n",
              "      <th>3</th>\n",
              "      <td>0</td>\n",
              "      <td>videos  civilians killed single us airstrike i...</td>\n",
              "    </tr>\n",
              "    <tr>\n",
              "      <th>4</th>\n",
              "      <td>0</td>\n",
              "      <td>print iranian woman sentenced six years prison...</td>\n",
              "    </tr>\n",
              "    <tr>\n",
              "      <th>5</th>\n",
              "      <td>1</td>\n",
              "      <td>trying times jackie mason voice reason weeks e...</td>\n",
              "    </tr>\n",
              "    <tr>\n",
              "      <th>6</th>\n",
              "      <td>0</td>\n",
              "      <td>ever wonder britains iconic pop pianist gets l...</td>\n",
              "    </tr>\n",
              "    <tr>\n",
              "      <th>7</th>\n",
              "      <td>1</td>\n",
              "      <td>paris france chose idealistic traditional cand...</td>\n",
              "    </tr>\n",
              "    <tr>\n",
              "      <th>8</th>\n",
              "      <td>1</td>\n",
              "      <td>donald trump scheduled make highly anticipated...</td>\n",
              "    </tr>\n",
              "    <tr>\n",
              "      <th>9</th>\n",
              "      <td>1</td>\n",
              "      <td>week michael flynn resigned national security ...</td>\n",
              "    </tr>\n",
              "  </tbody>\n",
              "</table>\n",
              "</div>"
            ],
            "text/plain": [
              "   label                                         clean_text\n",
              "0      0  house dem aide didnt even see comeys letter ja...\n",
              "1      1  ever get feeling life circles roundabout rathe...\n",
              "2      0  truth might get fired october   tension intell...\n",
              "3      0  videos  civilians killed single us airstrike i...\n",
              "4      0  print iranian woman sentenced six years prison...\n",
              "5      1  trying times jackie mason voice reason weeks e...\n",
              "6      0  ever wonder britains iconic pop pianist gets l...\n",
              "7      1  paris france chose idealistic traditional cand...\n",
              "8      1  donald trump scheduled make highly anticipated...\n",
              "9      1  week michael flynn resigned national security ..."
            ]
          },
          "metadata": {
            "tags": []
          },
          "execution_count": 2
        }
      ]
    },
    {
      "cell_type": "code",
      "metadata": {
        "id": "rHm8-2BlagHB",
        "colab_type": "code",
        "colab": {}
      },
      "source": [
        "import nltk\n",
        "from wordcloud import WordCloud\n",
        "from sklearn.feature_extraction.text import TfidfVectorizer\n",
        "from sklearn.model_selection import train_test_split\n",
        "from sklearn.metrics import f1_score, accuracy_score, recall_score, precision_score"
      ],
      "execution_count": 0,
      "outputs": []
    },
    {
      "cell_type": "code",
      "metadata": {
        "id": "dWUKE8WcagHF",
        "colab_type": "code",
        "colab": {
          "base_uri": "https://localhost:8080/",
          "height": 142
        },
        "outputId": "7ab9f84a-c6fc-44de-a881-d253d619eaa1"
      },
      "source": [
        "combined_text = data['clean_text'].values\n",
        "labels = data['label'].values\n",
        "data.groupby('label').agg('count')"
      ],
      "execution_count": 4,
      "outputs": [
        {
          "output_type": "execute_result",
          "data": {
            "text/html": [
              "<div>\n",
              "<style scoped>\n",
              "    .dataframe tbody tr th:only-of-type {\n",
              "        vertical-align: middle;\n",
              "    }\n",
              "\n",
              "    .dataframe tbody tr th {\n",
              "        vertical-align: top;\n",
              "    }\n",
              "\n",
              "    .dataframe thead th {\n",
              "        text-align: right;\n",
              "    }\n",
              "</style>\n",
              "<table border=\"1\" class=\"dataframe\">\n",
              "  <thead>\n",
              "    <tr style=\"text-align: right;\">\n",
              "      <th></th>\n",
              "      <th>clean_text</th>\n",
              "    </tr>\n",
              "    <tr>\n",
              "      <th>label</th>\n",
              "      <th></th>\n",
              "    </tr>\n",
              "  </thead>\n",
              "  <tbody>\n",
              "    <tr>\n",
              "      <th>0</th>\n",
              "      <td>28010</td>\n",
              "    </tr>\n",
              "    <tr>\n",
              "      <th>1</th>\n",
              "      <td>31449</td>\n",
              "    </tr>\n",
              "  </tbody>\n",
              "</table>\n",
              "</div>"
            ],
            "text/plain": [
              "       clean_text\n",
              "label            \n",
              "0           28010\n",
              "1           31449"
            ]
          },
          "metadata": {
            "tags": []
          },
          "execution_count": 4
        }
      ]
    },
    {
      "cell_type": "code",
      "metadata": {
        "id": "JJa9_OKGagHJ",
        "colab_type": "code",
        "colab": {}
      },
      "source": [
        "tfidf = TfidfVectorizer(ngram_range=(1,2), max_df= 0.85, min_df= 0.01)"
      ],
      "execution_count": 0,
      "outputs": []
    },
    {
      "cell_type": "code",
      "metadata": {
        "id": "iKHARhSSagHL",
        "colab_type": "code",
        "colab": {}
      },
      "source": [
        "combined_text = tfidf.fit_transform(combined_text)"
      ],
      "execution_count": 0,
      "outputs": []
    },
    {
      "cell_type": "code",
      "metadata": {
        "id": "0D11v_MbagHN",
        "colab_type": "code",
        "colab": {
          "base_uri": "https://localhost:8080/",
          "height": 51
        },
        "outputId": "7b597f70-7ad8-43cc-de59-0cb1fc274cfc"
      },
      "source": [
        "print(\"tf idf vectorized text shape: {}\".format(combined_text.shape))\n",
        "print(\"original text shape: {}\".format(data['clean_text'].shape))\n"
      ],
      "execution_count": 7,
      "outputs": [
        {
          "output_type": "stream",
          "text": [
            "tf idf vectorized text shape: (59459, 4252)\n",
            "original text shape: (59459,)\n"
          ],
          "name": "stdout"
        }
      ]
    },
    {
      "cell_type": "code",
      "metadata": {
        "id": "_tsR2VlnagHQ",
        "colab_type": "code",
        "colab": {}
      },
      "source": [
        "train_text, test_text, train_labels, test_labels  = train_test_split(combined_text, labels, test_size=0.2)\n"
      ],
      "execution_count": 0,
      "outputs": []
    },
    {
      "cell_type": "code",
      "metadata": {
        "id": "d509WiVVagHS",
        "colab_type": "code",
        "colab": {
          "base_uri": "https://localhost:8080/",
          "height": 68
        },
        "outputId": "6054c951-5b7a-4794-dcf8-b3fdb101b89c"
      },
      "source": [
        "import collections\n",
        "\n",
        "print(\"size of train_text: {}\".format(train_text.shape))\n",
        "\n",
        "print(\"size of train_labels: {}\".format(train_labels.shape))\n",
        "collections.Counter(train_labels)\n"
      ],
      "execution_count": 9,
      "outputs": [
        {
          "output_type": "stream",
          "text": [
            "size of train_text: (47567, 4252)\n",
            "size of train_labels: (47567,)\n"
          ],
          "name": "stdout"
        },
        {
          "output_type": "execute_result",
          "data": {
            "text/plain": [
              "Counter({0: 22430, 1: 25137})"
            ]
          },
          "metadata": {
            "tags": []
          },
          "execution_count": 9
        }
      ]
    },
    {
      "cell_type": "code",
      "metadata": {
        "id": "-28ge-HuagHX",
        "colab_type": "code",
        "colab": {
          "base_uri": "https://localhost:8080/",
          "height": 68
        },
        "outputId": "6df7b293-7719-4bdb-fcae-6fd7b3d09ad6"
      },
      "source": [
        "print(\"size of test_text: {}\".format(test_text.shape))\n",
        "\n",
        "print(\"size of test_labels: {}\".format(test_labels.shape))\n",
        "collections.Counter(test_labels)\n",
        "\n"
      ],
      "execution_count": 10,
      "outputs": [
        {
          "output_type": "stream",
          "text": [
            "size of test_text: (11892, 4252)\n",
            "size of test_labels: (11892,)\n"
          ],
          "name": "stdout"
        },
        {
          "output_type": "execute_result",
          "data": {
            "text/plain": [
              "Counter({0: 5580, 1: 6312})"
            ]
          },
          "metadata": {
            "tags": []
          },
          "execution_count": 10
        }
      ]
    },
    {
      "cell_type": "code",
      "metadata": {
        "id": "90Y40_YnagHb",
        "colab_type": "code",
        "colab": {}
      },
      "source": [
        "from sklearn.naive_bayes import MultinomialNB\n",
        "nb = MultinomialNB()\n"
      ],
      "execution_count": 0,
      "outputs": []
    },
    {
      "cell_type": "code",
      "metadata": {
        "id": "ZzDzG_mTagHd",
        "colab_type": "code",
        "colab": {
          "base_uri": "https://localhost:8080/",
          "height": 34
        },
        "outputId": "e9b16956-b4c5-482f-b0a5-594165228d42"
      },
      "source": [
        "nb.fit(train_text,train_labels)"
      ],
      "execution_count": 12,
      "outputs": [
        {
          "output_type": "execute_result",
          "data": {
            "text/plain": [
              "MultinomialNB(alpha=1.0, class_prior=None, fit_prior=True)"
            ]
          },
          "metadata": {
            "tags": []
          },
          "execution_count": 12
        }
      ]
    },
    {
      "cell_type": "code",
      "metadata": {
        "id": "uNlehLeLagHf",
        "colab_type": "code",
        "colab": {}
      },
      "source": [
        "train_pred = nb.predict(train_text)"
      ],
      "execution_count": 0,
      "outputs": []
    },
    {
      "cell_type": "code",
      "metadata": {
        "id": "PP0NQWOsagHg",
        "colab_type": "code",
        "colab": {
          "base_uri": "https://localhost:8080/",
          "height": 68
        },
        "outputId": "c2267c1c-5427-403f-e6e9-cfeac1b467f2"
      },
      "source": [
        "print('Naive Bayes In Sample F1 and Accuracy Scores:')\n",
        "print('F1 score {:.4}%'.format(f1_score(train_labels, train_pred, average='macro')*100 ))\n",
        "print ('Accuracy score {:.4}%'.format(accuracy_score(train_labels, train_pred)*100))"
      ],
      "execution_count": 14,
      "outputs": [
        {
          "output_type": "stream",
          "text": [
            "Naive Bayes In Sample F1 and Accuracy Scores:\n",
            "F1 score 79.98%\n",
            "Accuracy score 80.31%\n"
          ],
          "name": "stdout"
        }
      ]
    },
    {
      "cell_type": "code",
      "metadata": {
        "id": "jORXq325agHl",
        "colab_type": "code",
        "colab": {
          "base_uri": "https://localhost:8080/",
          "height": 68
        },
        "outputId": "2609a765-758d-4c04-ccdf-878d11fb8f64"
      },
      "source": [
        "test_pred = nb.predict(test_text)\n",
        "print('Naive Bayes Out of Sample F1 and Accuracy Scores:')\n",
        "print('F1 score {:.4}%'.format(f1_score(test_labels, test_pred, average='macro')*100 ))\n",
        "print ('Accuracy score {:.4}%'.format(accuracy_score(test_labels, test_pred)*100))"
      ],
      "execution_count": 16,
      "outputs": [
        {
          "output_type": "stream",
          "text": [
            "Naive Bayes Out of Sample F1 and Accuracy Scores:\n",
            "F1 score 78.67%\n",
            "Accuracy score 79.05%\n"
          ],
          "name": "stdout"
        }
      ]
    }
  ]
}