{
 "cells": [
  {
   "cell_type": "code",
   "execution_count": 2,
   "metadata": {},
   "outputs": [],
   "source": [
    "import pandas as pd\n",
    "import numpy as np\n",
    "import json"
   ]
  },
  {
   "cell_type": "code",
   "execution_count": 6,
   "metadata": {},
   "outputs": [
    {
     "name": "stdout",
     "output_type": "stream",
     "text": [
      "(2347, 2)\n",
      "(12791, 2)\n",
      "(20761, 2)\n",
      "(12273, 2)\n",
      "(24646, 2)\n"
     ]
    }
   ],
   "source": [
    "files = [\"Real_News.csv\", \"LIAR.csv\", \"Kaggle2_Mixed.csv\", \"Human_Fake_News.csv\", \"Kaggle3_Real.csv\"]\n",
    "frames = []\n",
    "for i in range(len(files)):\n",
    "    df = pd.read_csv(\"../../Cleaned Data/{}\".format(files[i]))\n",
    "    if i == 0:\n",
    "        df['label'] = 1\n",
    "    elif i == 3:\n",
    "        df['label'] = 0\n",
    "    df = df[['clean_text', 'label']]\n",
    "    frames.append(df)\n",
    "    print(df.shape)\n"
   ]
  },
  {
   "cell_type": "code",
   "execution_count": 31,
   "metadata": {},
   "outputs": [
    {
     "name": "stdout",
     "output_type": "stream",
     "text": [
      "Analyzing Real_News.csv\n",
      "Number of articles = 2347\n",
      "Average article Length = 377 words\n",
      "\n",
      "Analyzing LIAR.csv\n",
      "Number of articles = 12791\n",
      "Average article Length = 10 words\n",
      "\n",
      "Analyzing Kaggle2_Mixed.csv\n",
      "Number of articles = 20761\n",
      "Average article Length = 419 words\n",
      "\n",
      "Analyzing Human_Fake_News.csv\n",
      "Number of articles = 12273\n",
      "Average article Length = 373 words\n",
      "\n",
      "Analyzing Kaggle3_Real.csv\n",
      "Number of articles = 24646\n",
      "Average article Length = 441 words\n",
      "\n"
     ]
    }
   ],
   "source": [
    "for i in range(5):\n",
    "    print(\"Analyzing {}\".format(files[i]))\n",
    "    df_real = frames[i]\n",
    "    articles = 0\n",
    "    words = 0\n",
    "    for i in range(0, df_real.shape[0]):\n",
    "        text = df_real['clean_text'].iloc[i]\n",
    "        if isinstance(text,str):\n",
    "                articles += 1\n",
    "                words += len(text.split())\n",
    "\n",
    "    print(\"Number of articles = {}\".format(df_real.shape[0]))\n",
    "    print(\"Average article Length = {} words\".format(int(words/articles)))\n",
    "    print()"
   ]
  },
  {
   "cell_type": "code",
   "execution_count": null,
   "metadata": {},
   "outputs": [],
   "source": []
  }
 ],
 "metadata": {
  "kernelspec": {
   "display_name": "Python 3",
   "language": "python",
   "name": "python3"
  },
  "language_info": {
   "codemirror_mode": {
    "name": "ipython",
    "version": 3
   },
   "file_extension": ".py",
   "mimetype": "text/x-python",
   "name": "python",
   "nbconvert_exporter": "python",
   "pygments_lexer": "ipython3",
   "version": "3.7.4"
  }
 },
 "nbformat": 4,
 "nbformat_minor": 2
}
