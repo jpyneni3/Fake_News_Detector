{
 "cells": [
  {
   "cell_type": "code",
   "execution_count": 0,
   "metadata": {
    "colab": {},
    "colab_type": "code",
    "id": "-rIG9vRdjqzx"
   },
   "outputs": [],
   "source": [
    "!git clone https://github.com/rowanz/grover.git\n",
    "%cd grover\n",
    "!pip install -r requirements-gpu.txt\n",
    "!python download_model.py base"
   ]
  },
  {
   "cell_type": "code",
   "execution_count": 0,
   "metadata": {
    "colab": {},
    "colab_type": "code",
    "id": "Lrr3RSyEgGD6"
   },
   "outputs": [],
   "source": [
    "import pandas as pd\n",
    "import json\n",
    "\n",
    "real_news = pd.read_csv('Real_Scrapped.csv')\n",
    "data = []\n",
    "\n",
    "for index, row in real_news.iterrows():\n",
    "  real_news_metadata = {\n",
    "    \"url\": \"\",\n",
    "    \"url_used\": \"\", \n",
    "    \"summary\": None,\n",
    "    \"authors\": [],\n",
    "    \"publish_date\": \"04-01-2020\",\n",
    "    \"domain\": \"\",\n",
    "    \"warc_date\": \"20190424064330\",\n",
    "    \"status\": None,\n",
    "    \"split\": \"gen\",\n",
    "    \"inst_index\": index\n",
    "  }\n",
    "    \n",
    "  real_news_metadata['title'] = str(row['title'])\n",
    "  real_news_metadata['text'] = str(row['text'])\n",
    "  data.append(real_news_metadata)\n",
    "\n",
    "with open('sample/metadata.jsonl', 'w') as f:\n",
    "  for d in data:\n",
    "    f.write(json.dumps(d) + '\\n')"
   ]
  },
  {
   "cell_type": "code",
   "execution_count": 0,
   "metadata": {
    "colab": {},
    "colab_type": "code",
    "id": "uJKhEp78k7Av"
   },
   "outputs": [],
   "source": [
    "from google.colab import files \n",
    "\n",
    "!PYTHONPATH=$(pwd) python sample/contextual_generate.py -model_config_fn lm/configs/base.json -model_ckpt models/base/model.ckpt -metadata_fn sample/metadata.jsonl -out_fn fake_out.jsonl\n",
    "files.download('fake_out.jsonl')"
   ]
  },
  {
   "cell_type": "code",
   "execution_count": 0,
   "metadata": {
    "colab": {},
    "colab_type": "code",
    "id": "GW6hDAsLUMAC"
   },
   "outputs": [],
   "source": [
    "lines = None\n",
    "data = {'title': [], 'text': []}\n",
    "with open('fake_out.jsonl', 'r') as f:\n",
    "  lines = f.readlines()\n",
    "\n",
    "for line in lines:\n",
    "  data['title'].append(json.loads(line)['title'])\n",
    "  data['text'].append(json.loads(line)['gens_article'])\n",
    "df = pd.DataFrame(data)\n",
    "df[['title', 'text']].to_csv('Neural_Fake_News.csv')"
   ]
  },
  {
   "cell_type": "markdown",
   "metadata": {
    "colab_type": "text",
    "id": "5LU-Hc8BsEcO"
   },
   "source": [
    "# New Section"
   ]
  }
 ],
 "metadata": {
  "accelerator": "GPU",
  "colab": {
   "authorship_tag": "ABX9TyPHORAPNyKSIAVCENcQ0Syi",
   "collapsed_sections": [],
   "name": "GroverGeneration.ipynb",
   "provenance": []
  },
  "kernelspec": {
   "display_name": "Python 3",
   "language": "python",
   "name": "python3"
  },
  "language_info": {
   "codemirror_mode": {
    "name": "ipython",
    "version": 3
   },
   "file_extension": ".py",
   "mimetype": "text/x-python",
   "name": "python",
   "nbconvert_exporter": "python",
   "pygments_lexer": "ipython3",
   "version": "3.7.4"
  }
 },
 "nbformat": 4,
 "nbformat_minor": 1
}
