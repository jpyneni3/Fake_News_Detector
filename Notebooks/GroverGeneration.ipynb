{
  "nbformat": 4,
  "nbformat_minor": 0,
  "metadata": {
    "colab": {
      "name": "GroverGeneration.ipynb",
      "provenance": [],
      "collapsed_sections": [],
      "toc_visible": true
    },
    "kernelspec": {
      "name": "python3",
      "display_name": "Python 3"
    },
    "accelerator": "GPU"
  },
  "cells": [
    {
      "cell_type": "code",
      "metadata": {
        "id": "-rIG9vRdjqzx",
        "colab_type": "code",
        "outputId": "2ae7c429-4e77-4653-be7d-4b159ead6b58",
        "colab": {
          "base_uri": "https://localhost:8080/",
          "height": 615
        }
      },
      "source": [
        "!git clone https://github.com/rowanz/grover.git\n",
        "%cd grover\n",
        "!pip install -r requirements-gpu.txt\n",
        "!python download_model.py base"
      ],
      "execution_count": 0,
      "outputs": [
        {
          "output_type": "stream",
          "text": [
            "fatal: destination path 'grover' already exists and is not an empty directory.\n",
            "/content/grover\n",
            "Requirement already satisfied: pandas==0.24.2 in /usr/local/lib/python3.6/dist-packages (from -r requirements-gpu.txt (line 1)) (0.24.2)\n",
            "Requirement already satisfied: regex==2019.4.14 in /usr/local/lib/python3.6/dist-packages (from -r requirements-gpu.txt (line 2)) (2019.4.14)\n",
            "Requirement already satisfied: h5py==2.9.0 in /usr/local/lib/python3.6/dist-packages (from -r requirements-gpu.txt (line 3)) (2.9.0)\n",
            "Requirement already satisfied: numpy==1.16.2 in /usr/local/lib/python3.6/dist-packages (from -r requirements-gpu.txt (line 4)) (1.16.2)\n",
            "Requirement already satisfied: tensorboard==1.13.1 in /usr/local/lib/python3.6/dist-packages (from -r requirements-gpu.txt (line 5)) (1.13.1)\n",
            "Requirement already satisfied: tensorflow-gpu==1.13.1 in /usr/local/lib/python3.6/dist-packages (from -r requirements-gpu.txt (line 6)) (1.13.1)\n",
            "Requirement already satisfied: tqdm==4.31.1 in /usr/local/lib/python3.6/dist-packages (from -r requirements-gpu.txt (line 7)) (4.31.1)\n",
            "Requirement already satisfied: requests==2.22.0 in /usr/local/lib/python3.6/dist-packages (from -r requirements-gpu.txt (line 8)) (2.22.0)\n",
            "Requirement already satisfied: pytz>=2011k in /usr/local/lib/python3.6/dist-packages (from pandas==0.24.2->-r requirements-gpu.txt (line 1)) (2018.9)\n",
            "Requirement already satisfied: python-dateutil>=2.5.0 in /usr/local/lib/python3.6/dist-packages (from pandas==0.24.2->-r requirements-gpu.txt (line 1)) (2.8.1)\n",
            "Requirement already satisfied: six in /usr/local/lib/python3.6/dist-packages (from h5py==2.9.0->-r requirements-gpu.txt (line 3)) (1.12.0)\n",
            "Requirement already satisfied: wheel>=0.26; python_version >= \"3\" in /usr/local/lib/python3.6/dist-packages (from tensorboard==1.13.1->-r requirements-gpu.txt (line 5)) (0.34.2)\n",
            "Requirement already satisfied: markdown>=2.6.8 in /usr/local/lib/python3.6/dist-packages (from tensorboard==1.13.1->-r requirements-gpu.txt (line 5)) (3.2.1)\n",
            "Requirement already satisfied: grpcio>=1.6.3 in /usr/local/lib/python3.6/dist-packages (from tensorboard==1.13.1->-r requirements-gpu.txt (line 5)) (1.28.1)\n",
            "Requirement already satisfied: werkzeug>=0.11.15 in /usr/local/lib/python3.6/dist-packages (from tensorboard==1.13.1->-r requirements-gpu.txt (line 5)) (1.0.1)\n",
            "Requirement already satisfied: absl-py>=0.4 in /usr/local/lib/python3.6/dist-packages (from tensorboard==1.13.1->-r requirements-gpu.txt (line 5)) (0.9.0)\n",
            "Requirement already satisfied: protobuf>=3.6.0 in /usr/local/lib/python3.6/dist-packages (from tensorboard==1.13.1->-r requirements-gpu.txt (line 5)) (3.10.0)\n",
            "Requirement already satisfied: keras-applications>=1.0.6 in /usr/local/lib/python3.6/dist-packages (from tensorflow-gpu==1.13.1->-r requirements-gpu.txt (line 6)) (1.0.8)\n",
            "Requirement already satisfied: tensorflow-estimator<1.14.0rc0,>=1.13.0 in /usr/local/lib/python3.6/dist-packages (from tensorflow-gpu==1.13.1->-r requirements-gpu.txt (line 6)) (1.13.0)\n",
            "Requirement already satisfied: termcolor>=1.1.0 in /usr/local/lib/python3.6/dist-packages (from tensorflow-gpu==1.13.1->-r requirements-gpu.txt (line 6)) (1.1.0)\n",
            "Requirement already satisfied: gast>=0.2.0 in /usr/local/lib/python3.6/dist-packages (from tensorflow-gpu==1.13.1->-r requirements-gpu.txt (line 6)) (0.3.3)\n",
            "Requirement already satisfied: astor>=0.6.0 in /usr/local/lib/python3.6/dist-packages (from tensorflow-gpu==1.13.1->-r requirements-gpu.txt (line 6)) (0.8.1)\n",
            "Requirement already satisfied: keras-preprocessing>=1.0.5 in /usr/local/lib/python3.6/dist-packages (from tensorflow-gpu==1.13.1->-r requirements-gpu.txt (line 6)) (1.1.0)\n",
            "Requirement already satisfied: chardet<3.1.0,>=3.0.2 in /usr/local/lib/python3.6/dist-packages (from requests==2.22.0->-r requirements-gpu.txt (line 8)) (3.0.4)\n",
            "Requirement already satisfied: urllib3!=1.25.0,!=1.25.1,<1.26,>=1.21.1 in /usr/local/lib/python3.6/dist-packages (from requests==2.22.0->-r requirements-gpu.txt (line 8)) (1.24.3)\n",
            "Requirement already satisfied: idna<2.9,>=2.5 in /usr/local/lib/python3.6/dist-packages (from requests==2.22.0->-r requirements-gpu.txt (line 8)) (2.8)\n",
            "Requirement already satisfied: certifi>=2017.4.17 in /usr/local/lib/python3.6/dist-packages (from requests==2.22.0->-r requirements-gpu.txt (line 8)) (2020.4.5.1)\n",
            "Requirement already satisfied: setuptools>=36 in /usr/local/lib/python3.6/dist-packages (from markdown>=2.6.8->tensorboard==1.13.1->-r requirements-gpu.txt (line 5)) (46.1.3)\n",
            "Requirement already satisfied: mock>=2.0.0 in /usr/local/lib/python3.6/dist-packages (from tensorflow-estimator<1.14.0rc0,>=1.13.0->tensorflow-gpu==1.13.1->-r requirements-gpu.txt (line 6)) (4.0.2)\n",
            "Just downloaded base/model.ckpt.data-00000-of-00001!\n",
            "Just downloaded base/model.ckpt.index!\n",
            "Just downloaded base/model.ckpt.meta!\n"
          ],
          "name": "stdout"
        }
      ]
    },
    {
      "cell_type": "code",
      "metadata": {
        "id": "Lrr3RSyEgGD6",
        "colab_type": "code",
        "colab": {}
      },
      "source": [
        "import pandas as pd\n",
        "import json\n",
        "from google.colab import files \n",
        "\n",
        "dataset = pd.read_csv('sample/LIAR.csv')\n",
        "d1 = dataset[0:3000]\n",
        "d2 = dataset[3000:6000]\n",
        "d3 = dataset[6000:9000]\n",
        "d4 = dataset[9000:]\n",
        "\n",
        "def create_metadata(dataset, iteration):\n",
        "  data = []\n",
        "  for index, row in dataset.iterrows():\n",
        "    dataset_metadata = {\n",
        "      \"url\": \"\",\n",
        "      \"url_used\": \"\", \n",
        "      \"summary\": None,\n",
        "      \"authors\": [],\n",
        "      \"publish_date\": \"04-01-2020\",\n",
        "      \"domain\": \"\",\n",
        "      \"warc_date\": \"20190424064330\",\n",
        "      \"status\": None,\n",
        "      \"split\": \"gen\",\n",
        "      \"inst_index\": index,\n",
        "      \"text\": \"\"\n",
        "    }\n",
        "      \n",
        "    dataset_metadata['title'] = str(row['clean_title'])\n",
        "    # real_news_metadata['text'] = str(row['clean_text'])\n",
        "    data.append(dataset_metadata)\n",
        "\n",
        "  with open('sample/metadata_' + iteration + '.jsonl', 'w') as f:\n",
        "    for d in data:\n",
        "      f.write(json.dumps(d) + '\\n')\n",
        "\n",
        "create_metadata(d1, '1')\n",
        "create_metadata(d2, '2')\n",
        "create_metadata(d3, '3')\n",
        "create_metadata(d4, '4')"
      ],
      "execution_count": 0,
      "outputs": []
    },
    {
      "cell_type": "code",
      "metadata": {
        "id": "nSyrsxB74gtJ",
        "colab_type": "code",
        "colab": {}
      },
      "source": [
        "def create_csv(iteration): \n",
        "  lines = None\n",
        "  data = {'label': [], 'text': []}\n",
        "  with open('fake_out_' + iteration + '.jsonl', 'r') as f:\n",
        "    lines = f.readlines()\n",
        "\n",
        "  for line in lines:\n",
        "    data['label'].append(0)\n",
        "    data['text'].append(str(json.loads(line)['gens_article'][0]))\n",
        "  df = pd.DataFrame(data)\n",
        "  df[['label', 'text']].to_csv('Grover_Augmented_' + iteration + '.csv')\n",
        "\n",
        "  files.download('Grover_Augmented_' + iteration + '.csv')"
      ],
      "execution_count": 0,
      "outputs": []
    },
    {
      "cell_type": "code",
      "metadata": {
        "id": "uJKhEp78k7Av",
        "colab_type": "code",
        "outputId": "e109e795-48c8-4544-d9b9-c4b3ed5a5680",
        "colab": {
          "base_uri": "https://localhost:8080/",
          "height": 218
        }
      },
      "source": [
        "!PYTHONPATH=$(pwd) python sample/contextual_generate.py -model_config_fn lm/configs/base.json -model_ckpt models/base/model.ckpt -metadata_fn sample/metadata_1.jsonl -out_fn fake_out_1.jsonl\n",
        "create_csv('1')"
      ],
      "execution_count": 0,
      "outputs": [
        {
          "output_type": "stream",
          "text": [
            "python3: can't open file 'sample/contextual_generate.py': [Errno 2] No such file or directory\n"
          ],
          "name": "stdout"
        },
        {
          "output_type": "error",
          "ename": "NameError",
          "evalue": "ignored",
          "traceback": [
            "\u001b[0;31m---------------------------------------------------------------------------\u001b[0m",
            "\u001b[0;31mNameError\u001b[0m                                 Traceback (most recent call last)",
            "\u001b[0;32m<ipython-input-1-030f78f72c71>\u001b[0m in \u001b[0;36m<module>\u001b[0;34m()\u001b[0m\n\u001b[1;32m      1\u001b[0m \u001b[0mget_ipython\u001b[0m\u001b[0;34m(\u001b[0m\u001b[0;34m)\u001b[0m\u001b[0;34m.\u001b[0m\u001b[0msystem\u001b[0m\u001b[0;34m(\u001b[0m\u001b[0;34m'PYTHONPATH=$(pwd) python sample/contextual_generate.py -model_config_fn lm/configs/base.json -model_ckpt models/base/model.ckpt -metadata_fn sample/metadata_1.jsonl -out_fn fake_out_1.jsonl'\u001b[0m\u001b[0;34m)\u001b[0m\u001b[0;34m\u001b[0m\u001b[0;34m\u001b[0m\u001b[0m\n\u001b[0;32m----> 2\u001b[0;31m \u001b[0mcreate_csv\u001b[0m\u001b[0;34m(\u001b[0m\u001b[0;34m'1'\u001b[0m\u001b[0;34m)\u001b[0m\u001b[0;34m\u001b[0m\u001b[0;34m\u001b[0m\u001b[0m\n\u001b[0m",
            "\u001b[0;31mNameError\u001b[0m: name 'create_csv' is not defined"
          ]
        }
      ]
    },
    {
      "cell_type": "markdown",
      "metadata": {
        "id": "5LU-Hc8BsEcO",
        "colab_type": "text"
      },
      "source": [
        "# New Section"
      ]
    }
  ]
}