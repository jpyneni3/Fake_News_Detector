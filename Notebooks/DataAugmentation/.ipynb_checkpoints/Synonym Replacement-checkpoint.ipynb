{
 "cells": [
  {
   "cell_type": "code",
   "execution_count": 1,
   "metadata": {},
   "outputs": [],
   "source": [
    "import pandas as pd\n",
    "import random\n",
    "import csv\n",
    "from nltk.corpus import wordnet, stopwords\n",
    "import time\n"
   ]
  },
  {
   "cell_type": "code",
   "execution_count": 121,
   "metadata": {},
   "outputs": [],
   "source": [
    "stop_words = set(stopwords.words('english'))\n",
    "\n",
    "def sr_method(input_sent, change_percent):\n",
    "    words = input_sent.split(' ')\n",
    "    change_size = int(len(words)*change_percent)\n",
    "    new_words = words.copy()\n",
    "    idx_non_sw = [i for i in range(len(words)) if words[i] not in stop_words]\n",
    "    chosen_idx = random.sample(idx_non_sw, change_size)\n",
    "    for i in chosen_idx:\n",
    "        chosen_word = words[i]\n",
    "        synonym = get_synonym(chosen_word)\n",
    "        if synonym:\n",
    "            words[i] = synonym\n",
    "\n",
    "    new_sentence = ' '.join(words)\n",
    "    \n",
    "\n",
    "    return new_sentence\n",
    "\n",
    "def get_syn(word):\n",
    "    syns = wordnet.synsets(word)\n",
    "    if syns:\n",
    "        idx = random.randint(0, len(syns)-1)\n",
    "        syn = syns[idx]\n",
    "        lemmas = syn.lemmas()\n",
    "        l_idx = random.randint(0, len(lemmas)-1)\n",
    "        syn = lemmas[l_idx]\n",
    "        syn = syn.name().replace(\"_\", \" \").replace(\"-\", \" \").lower()\n",
    "        syn = \"\".join([char for char in syn if char in ' qwertyuiopasdfghjklzxcvbnm'])\n",
    "    else:\n",
    "        return word\n",
    "    return syn"
   ]
  },
  {
   "cell_type": "code",
   "execution_count": 28,
   "metadata": {},
   "outputs": [],
   "source": [
    "def calculate_stats(beginning, reset, now, i, trans_count, unchanged, num):\n",
    "    per = (now-beginning)/(i+1)\n",
    "    mega_time = (per)*(num - i)\n",
    "    print(\"Stats every 100 items\")\n",
    "    print(\"Total translated = {}\".format(trans_count))\n",
    "    print(\"Total unchanged = {}\".format(unchanged))  \n",
    "    print(\"Overall time elapsed = {} seconds\".format(now - beginning))\n",
    "    print(\"Overall time since last calc = {} seconds\".format(now-reset))\n",
    "    print(\"estimated time left = {} seconds\".format(mega_time))\n",
    "    print()"
   ]
  },
  {
   "cell_type": "code",
   "execution_count": null,
   "metadata": {},
   "outputs": [],
   "source": [
    "from_files = ['LIAR.csv', 'Kaggle2_Mixed_a.csv','Kaggle2_Mixed_b.csv']\n",
    "to_files = ['LIAR_SR.csv', 'Kaggle2_Mixed_a_SR.csv','Kaggle2_Mixed_b_SR.csv']\n",
    "cp = .3 #what percent of a given text to change\n",
    "\n",
    "for i in range(len(from_files)):\n",
    "    file_path = \"../../Augmentation Data/semi_cleaned/{}\".format(from_files[i])\n",
    "    df_input = pd.read_csv(file_path)\n",
    "    df_input.drop(['Unnamed: 0'], inplace=True,axis=1)\n",
    "    df_input.head()\n",
    "    df_output = df_input.copy()\n",
    "    num = df_input.shape[0]\n",
    "    unchanged = 0\n",
    "    sr_count = 0\n",
    "\n",
    "    beginning = time.time()\n",
    "    reset = beginning \n",
    "    for i in range(num):\n",
    "        og_text = df_input['clean_text'].iloc[i]\n",
    "        try:\n",
    "            sr = sr_method(og_text,cp)\n",
    "            df_output.loc[i] = [sr,df_input.clean_title[i],df_input.label[i]]\n",
    "            sr_count += 1\n",
    "        except:\n",
    "            unchanged += 1\n",
    "            pass\n",
    "        if (i+1) % 500 == 0: #calculate stats every 500 \n",
    "            calculate_stats(beginning, reset, time.time(), i, sr_count, unchanged, num)\n",
    "            reset = time.time()\n",
    "\n",
    "    end = time.time()\n",
    "    output_path = \"../../Augmentation Data/{}\".format(to_files[i])"
   ]
  },
  {
   "cell_type": "code",
   "execution_count": null,
   "metadata": {},
   "outputs": [],
   "source": []
  }
 ],
 "metadata": {
  "kernelspec": {
   "display_name": "Python 3",
   "language": "python",
   "name": "python3"
  },
  "language_info": {
   "codemirror_mode": {
    "name": "ipython",
    "version": 3
   },
   "file_extension": ".py",
   "mimetype": "text/x-python",
   "name": "python",
   "nbconvert_exporter": "python",
   "pygments_lexer": "ipython3",
   "version": "3.7.4"
  }
 },
 "nbformat": 4,
 "nbformat_minor": 2
}
