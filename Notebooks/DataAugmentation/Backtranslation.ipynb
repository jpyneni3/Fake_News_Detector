{
  "nbformat": 4,
  "nbformat_minor": 0,
  "metadata": {
    "colab": {
      "name": "fairseq_translate_paraphrase.ipynb",
      "provenance": [],
      "collapsed_sections": [],
      "machine_shape": "hm"
    },
    "kernelspec": {
      "name": "python3",
      "display_name": "Python 3"
    },
    "accelerator": "GPU"
  },
  "cells": [
    {
      "cell_type": "code",
      "metadata": {
        "id": "erLa4QdgHC44",
        "colab_type": "code",
        "outputId": "eea96d94-5c64-4832-9d39-4fcf1a47ece5",
        "colab": {
          "base_uri": "https://localhost:8080/",
          "height": 34
        }
      },
      "source": [
        "from google.colab import drive\n",
        "drive.mount('/content/drive')"
      ],
      "execution_count": 0,
      "outputs": [
        {
          "output_type": "stream",
          "text": [
            "Drive already mounted at /content/drive; to attempt to forcibly remount, call drive.mount(\"/content/drive\", force_remount=True).\n"
          ],
          "name": "stdout"
        }
      ]
    },
    {
      "cell_type": "code",
      "metadata": {
        "id": "QrOp2caIHaI-",
        "colab_type": "code",
        "outputId": "266fa65d-2f09-4cae-b5a0-5a4991f88ad6",
        "colab": {
          "base_uri": "https://localhost:8080/",
          "height": 136
        }
      },
      "source": [
        "!pip install fastBPE sacremoses"
      ],
      "execution_count": 0,
      "outputs": [
        {
          "output_type": "stream",
          "text": [
            "Requirement already satisfied: fastBPE in /usr/local/lib/python3.6/dist-packages (0.1.0)\n",
            "Requirement already satisfied: sacremoses in /usr/local/lib/python3.6/dist-packages (0.0.41)\n",
            "Requirement already satisfied: regex in /usr/local/lib/python3.6/dist-packages (from sacremoses) (2019.12.20)\n",
            "Requirement already satisfied: six in /usr/local/lib/python3.6/dist-packages (from sacremoses) (1.12.0)\n",
            "Requirement already satisfied: click in /usr/local/lib/python3.6/dist-packages (from sacremoses) (7.1.1)\n",
            "Requirement already satisfied: tqdm in /usr/local/lib/python3.6/dist-packages (from sacremoses) (4.38.0)\n",
            "Requirement already satisfied: joblib in /usr/local/lib/python3.6/dist-packages (from sacremoses) (0.14.1)\n"
          ],
          "name": "stdout"
        }
      ]
    },
    {
      "cell_type": "code",
      "metadata": {
        "id": "NT_E3CV4HhDJ",
        "colab_type": "code",
        "outputId": "e3083026-e64e-408e-afaf-2c9c3ed6fca2",
        "colab": {
          "base_uri": "https://localhost:8080/",
          "height": 51
        }
      },
      "source": [
        "import torch\n",
        "# English to German translation\n",
        "en2de = torch.hub.load('pytorch/fairseq', 'transformer.wmt19.en-de.single_model', tokenizer='moses', bpe='fastbpe')\n",
        "en2de.cuda()\n",
        "en2de.translate(\"Machine learning is great!\")  # 'Maschinelles Lernen ist großartig!'\n",
        "\n",
        "\n"
      ],
      "execution_count": 0,
      "outputs": [
        {
          "output_type": "stream",
          "text": [
            "Using cache found in /root/.cache/torch/hub/pytorch_fairseq_master\n"
          ],
          "name": "stderr"
        },
        {
          "output_type": "execute_result",
          "data": {
            "text/plain": [
              "'Maschinelles Lernen ist großartig!'"
            ]
          },
          "metadata": {
            "tags": []
          },
          "execution_count": 15
        }
      ]
    },
    {
      "cell_type": "code",
      "metadata": {
        "id": "OEccEdaoHxtZ",
        "colab_type": "code",
        "outputId": "1fbfc33d-cdb0-49fe-bba5-48ae1d3320ac",
        "colab": {
          "base_uri": "https://localhost:8080/",
          "height": 51
        }
      },
      "source": [
        "de2en = torch.hub.load('pytorch/fairseq', 'transformer.wmt19.de-en.single_model', tokenizer='moses', bpe='fastbpe')\n",
        "de2en.cuda()\n",
        "de2en.translate(\"Maschinelles Lernen ist großartig!\")"
      ],
      "execution_count": 0,
      "outputs": [
        {
          "output_type": "stream",
          "text": [
            "Using cache found in /root/.cache/torch/hub/pytorch_fairseq_master\n"
          ],
          "name": "stderr"
        },
        {
          "output_type": "execute_result",
          "data": {
            "text/plain": [
              "'Machine learning is great!'"
            ]
          },
          "metadata": {
            "tags": []
          },
          "execution_count": 16
        }
      ]
    },
    {
      "cell_type": "code",
      "metadata": {
        "id": "iUHoR2-DH0i7",
        "colab_type": "code",
        "outputId": "9075164e-3c24-4f5d-ee5b-f329df45c8a1",
        "colab": {
          "base_uri": "https://localhost:8080/",
          "height": 51
        }
      },
      "source": [
        "import time\n",
        "start = time.time()\n",
        "out = de2en.translate(en2de.translate(\"I am testing a randomly large sentence. I am testing a randomly large sentence. I am testing a randomly large sentence. I am testing a randomly large sentence.\")) # 'Maschinelles Lernen ist großartig!'\n",
        "end = time.time()\n",
        "print(out)\n",
        "print(end-start)"
      ],
      "execution_count": 0,
      "outputs": [
        {
          "output_type": "stream",
          "text": [
            "I tested a randomly large set. I tested a randomly large set. I tested a randomly large set. I tested a randomly large set.\n",
            "1.7691311836242676\n"
          ],
          "name": "stdout"
        }
      ]
    },
    {
      "cell_type": "code",
      "metadata": {
        "id": "Ga4zNrviH3D6",
        "colab_type": "code",
        "outputId": "a3e97127-dc63-49d6-8941-e6232b572f4e",
        "colab": {
          "base_uri": "https://localhost:8080/",
          "height": 221
        }
      },
      "source": [
        "import pandas as pd\n",
        "import os\n",
        "import time \n",
        "file =  'Kaggle2_Mixed_a.csv'\n",
        "df_input = pd.read_csv(file)\n",
        "df_input.drop(['Unnamed: 0'], inplace=True,axis=1)\n",
        "print(df_input.shape)\n",
        "df_input.head()"
      ],
      "execution_count": 0,
      "outputs": [
        {
          "output_type": "stream",
          "text": [
            "(2535, 3)\n"
          ],
          "name": "stdout"
        },
        {
          "output_type": "execute_result",
          "data": {
            "text/html": [
              "<div>\n",
              "<style scoped>\n",
              "    .dataframe tbody tr th:only-of-type {\n",
              "        vertical-align: middle;\n",
              "    }\n",
              "\n",
              "    .dataframe tbody tr th {\n",
              "        vertical-align: top;\n",
              "    }\n",
              "\n",
              "    .dataframe thead th {\n",
              "        text-align: right;\n",
              "    }\n",
              "</style>\n",
              "<table border=\"1\" class=\"dataframe\">\n",
              "  <thead>\n",
              "    <tr style=\"text-align: right;\">\n",
              "      <th></th>\n",
              "      <th>clean_text</th>\n",
              "      <th>clean_title</th>\n",
              "      <th>label</th>\n",
              "    </tr>\n",
              "  </thead>\n",
              "  <tbody>\n",
              "    <tr>\n",
              "      <th>0</th>\n",
              "      <td>videos 15 civilians killed in single us airstr...</td>\n",
              "      <td>15 civilians killed in single us airstrike hav...</td>\n",
              "      <td>0</td>\n",
              "    </tr>\n",
              "    <tr>\n",
              "      <th>1</th>\n",
              "      <td>print \\nan iranian woman has been sentenced to...</td>\n",
              "      <td>iranian woman jailed for fictional unpublished...</td>\n",
              "      <td>0</td>\n",
              "    </tr>\n",
              "    <tr>\n",
              "      <th>2</th>\n",
              "      <td>in these trying times, jackie mason is the voi...</td>\n",
              "      <td>jackie mason: hollywood would love trump if he...</td>\n",
              "      <td>1</td>\n",
              "    </tr>\n",
              "    <tr>\n",
              "      <th>3</th>\n",
              "      <td>ever wonder how britains most iconic pop piani...</td>\n",
              "      <td>life: life of luxury: elton johns 6 favorite s...</td>\n",
              "      <td>0</td>\n",
              "    </tr>\n",
              "    <tr>\n",
              "      <th>4</th>\n",
              "      <td>the bbc produced spoof on the real housewives ...</td>\n",
              "      <td>bbc comedy sketch \"real housewives of isis\" ca...</td>\n",
              "      <td>1</td>\n",
              "    </tr>\n",
              "  </tbody>\n",
              "</table>\n",
              "</div>"
            ],
            "text/plain": [
              "                                          clean_text  ... label\n",
              "0  videos 15 civilians killed in single us airstr...  ...     0\n",
              "1  print \\nan iranian woman has been sentenced to...  ...     0\n",
              "2  in these trying times, jackie mason is the voi...  ...     1\n",
              "3  ever wonder how britains most iconic pop piani...  ...     0\n",
              "4  the bbc produced spoof on the real housewives ...  ...     1\n",
              "\n",
              "[5 rows x 3 columns]"
            ]
          },
          "metadata": {
            "tags": []
          },
          "execution_count": 18
        }
      ]
    },
    {
      "cell_type": "code",
      "metadata": {
        "id": "GdnS_M0EICMd",
        "colab_type": "code",
        "colab": {}
      },
      "source": [
        "def paraphrase(input):\n",
        "  return de2en.translate(en2de.translate(input))\n",
        "\n",
        "def calculate_stats(beginning, reset, now, i, trans_count, unchanged, num):\n",
        "  per = (now-beginning)/(i+1)\n",
        "  mega_time = (per)*(num - i)\n",
        "  print(\"Stats every 100 items\")\n",
        "  print(\"Total translated = {}\".format(trans_count))\n",
        "  print(\"Total unchanged = {}\".format(unchanged))  \n",
        "  print(\"Overall time elapsed = {} seconds\".format(now - beginning))\n",
        "  print(\"Overall time since last calc = {} seconds\".format(now-reset))\n",
        "  print(\"estimated time left = {} seconds\".format(mega_time))\n",
        "  print()\n"
      ],
      "execution_count": 0,
      "outputs": []
    },
    {
      "cell_type": "code",
      "metadata": {
        "id": "lmfaLfe9bGDL",
        "colab_type": "code",
        "outputId": "7299554d-0d9a-4542-cad4-01bcc3a4417b",
        "colab": {
          "base_uri": "https://localhost:8080/",
          "height": 105
        }
      },
      "source": [
        "text = df_input['clean_text'].iloc[2]\n",
        "print(\"Original\")\n",
        "print(text)\n",
        "print('--------')\n",
        "print(\"Back translated\")\n",
        "print(paraphrase(text))\n",
        "print(df_input['label'].iloc[2])"
      ],
      "execution_count": 0,
      "outputs": [
        {
          "output_type": "stream",
          "text": [
            "Original\n",
            "in these trying times, jackie mason is the voice of reason. [in this weeks exclusive clip for breitbart news, jackie discusses the looming threat of north korea, and explains how president donald trump could win the support of the hollywood left if the u. s. needs to strike first.  if he decides to bomb them, the whole country will be behind him, because everybody will realize he had no choice and that was the only thing to do, jackie says. except the hollywood left. theyll get nauseous.  [trump] could win the left over, theyll fall in love with him in a minute. if he bombed them for a better reason, jackie explains. like if they have no transgender toilets.  jackie also says its no surprise that hollywood celebrities didnt support trumps strike on a syrian airfield this month. they were infuriated, he says. because it might only save lives. that doesnt mean anything to them. if it only saved the environment, or climate change! theyd be the happiest people in the world.  still, jackie says hes got nothing against hollywood celebs. theyve got a tough life in this country. watch jackies latest clip above.   follow daniel nussbaum on twitter: @dznussbaum\n",
            "--------\n",
            "Back translated\n"
          ],
          "name": "stdout"
        }
      ]
    },
    {
      "cell_type": "code",
      "metadata": {
        "id": "LBZgPP_FIE4l",
        "colab_type": "code",
        "outputId": "e75c2571-d099-42ac-fd40-665bcfc3b628",
        "colab": {
          "base_uri": "https://localhost:8080/",
          "height": 1000
        }
      },
      "source": [
        "df_output = df_input.copy()\n",
        "num = df_input.shape[0]\n",
        "unchanged = 0\n",
        "trans_count = 0\n",
        "drop = []\n",
        "\n",
        "beginning = time.time()\n",
        "reset = beginning \n",
        "for i in range(num):\n",
        "  og_text = df_input['clean_text'].iloc[i]\n",
        "  if len(og_text) < 3501:\n",
        "    try:\n",
        "      translated = paraphrase(og_text)\n",
        "      df_output.loc[i] = [translated,df_input.clean_title[i],df_input.label[i]]\n",
        "      trans_count += 1\n",
        "    except:\n",
        "      unchanged += 1\n",
        "      drop.append(i)\n",
        "  else:\n",
        "    unchanged += 1\n",
        "    drop.append(i)\n",
        "  if (i+1) % 50 == 0: #calculate stats every 50 \n",
        "    calculate_stats(beginning, reset, time.time(), i, trans_count, unchanged, num)\n",
        "    reset = time.time()\n",
        "\n",
        "\n",
        "end = time.time()"
      ],
      "execution_count": 0,
      "outputs": [
        {
          "output_type": "stream",
          "text": [
            "Stats every 100 items\n",
            "Total translated = 50\n",
            "Total unchanged = 0\n",
            "Overall time elapsed = 405.03657245635986 seconds\n",
            "Overall time since last calc = 405.03657245635986 seconds\n",
            "estimated time left = 20138.418382530213 seconds\n",
            "\n",
            "Stats every 100 items\n",
            "Total translated = 100\n",
            "Total unchanged = 0\n",
            "Overall time elapsed = 790.6807906627655 seconds\n",
            "Overall time since last calc = 385.6432104110718 seconds\n",
            "estimated time left = 19260.984060544968 seconds\n",
            "\n",
            "Stats every 100 items\n",
            "Total translated = 150\n",
            "Total unchanged = 0\n",
            "Overall time elapsed = 1189.959421634674 seconds\n",
            "Overall time since last calc = 399.2783508300781 seconds\n",
            "estimated time left = 18928.287866802213 seconds\n",
            "\n",
            "Stats every 100 items\n",
            "Total translated = 200\n",
            "Total unchanged = 0\n",
            "Overall time elapsed = 1575.722739458084 seconds\n",
            "Overall time since last calc = 385.76303124427795 seconds\n",
            "estimated time left = 18404.441596870423 seconds\n",
            "\n",
            "Stats every 100 items\n",
            "Total translated = 250\n",
            "Total unchanged = 0\n",
            "Overall time elapsed = 1962.249549627304 seconds\n",
            "Overall time since last calc = 386.5256299972534 seconds\n",
            "estimated time left = 17942.80988179207 seconds\n",
            "\n",
            "Stats every 100 items\n",
            "Total translated = 300\n",
            "Total unchanged = 0\n",
            "Overall time elapsed = 2361.722205877304 seconds\n",
            "Overall time since last calc = 399.4723083972931 seconds\n",
            "estimated time left = 17602.70284113884 seconds\n",
            "\n",
            "Stats every 100 items\n",
            "Total translated = 350\n",
            "Total unchanged = 0\n",
            "Overall time elapsed = 2760.175794363022 seconds\n",
            "Overall time since last calc = 398.453250169754 seconds\n",
            "estimated time left = 17239.2693899359 seconds\n",
            "\n",
            "Stats every 100 items\n",
            "Total translated = 400\n",
            "Total unchanged = 0\n",
            "Overall time elapsed = 3168.965613603592 seconds\n",
            "Overall time since last calc = 408.78952383995056 seconds\n",
            "estimated time left = 16922.27637664318 seconds\n",
            "\n",
            "Stats every 100 items\n",
            "Total translated = 450\n",
            "Total unchanged = 0\n",
            "Overall time elapsed = 3563.79821228981 seconds\n",
            "Overall time since last calc = 394.8323290348053 seconds\n",
            "estimated time left = 16520.184601858986 seconds\n",
            "\n",
            "Stats every 100 items\n",
            "Total translated = 500\n",
            "Total unchanged = 0\n",
            "Overall time elapsed = 3978.080965280533 seconds\n",
            "Overall time since last calc = 414.282363653183 seconds\n",
            "estimated time left = 16198.745690622329 seconds\n",
            "\n",
            "Stats every 100 items\n",
            "Total translated = 550\n",
            "Total unchanged = 0\n",
            "Overall time elapsed = 4389.033854007721 seconds\n",
            "Overall time since last calc = 410.95248198509216 seconds\n",
            "estimated time left = 15848.402243744244 seconds\n",
            "\n",
            "Stats every 100 items\n",
            "Total translated = 600\n",
            "Total unchanged = 0\n",
            "Overall time elapsed = 4785.126923799515 seconds\n",
            "Overall time since last calc = 396.092675447464 seconds\n",
            "estimated time left = 15440.0095407931 seconds\n",
            "\n",
            "Stats every 100 items\n",
            "Total translated = 650\n",
            "Total unchanged = 0\n",
            "Overall time elapsed = 5165.940081834793 seconds\n",
            "Overall time since last calc = 380.8127439022064 seconds\n",
            "estimated time left = 14989.173837446799 seconds\n",
            "\n",
            "Stats every 100 items\n",
            "Total translated = 700\n",
            "Total unchanged = 0\n",
            "Overall time elapsed = 5572.316905736923 seconds\n",
            "Overall time since last calc = 406.3765048980713 seconds\n",
            "estimated time left = 14615.391198475701 seconds\n",
            "\n",
            "Stats every 100 items\n",
            "Total translated = 749\n",
            "Total unchanged = 1\n",
            "Overall time elapsed = 5979.09876203537 seconds\n",
            "Overall time since last calc = 406.7814552783966 seconds\n",
            "estimated time left = 14238.227185326894 seconds\n",
            "\n",
            "Stats every 100 items\n",
            "Total translated = 799\n",
            "Total unchanged = 1\n",
            "Overall time elapsed = 6378.113966703415 seconds\n",
            "Overall time since last calc = 399.01479983329773 seconds\n",
            "estimated time left = 13840.50730774641 seconds\n",
            "\n",
            "Stats every 100 items\n",
            "Total translated = 849\n",
            "Total unchanged = 1\n",
            "Overall time elapsed = 6782.000866174698 seconds\n",
            "Overall time since last calc = 403.8865761756897 seconds\n",
            "estimated time left = 13452.298188671224 seconds\n",
            "\n",
            "Stats every 100 items\n",
            "Total translated = 899\n",
            "Total unchanged = 1\n",
            "Overall time elapsed = 7178.7383761405945 seconds\n",
            "Overall time since last calc = 396.7371709346771 seconds\n",
            "estimated time left = 13049.351092628904 seconds\n",
            "\n",
            "Stats every 100 items\n",
            "Total translated = 949\n",
            "Total unchanged = 1\n",
            "Overall time elapsed = 7551.640021324158 seconds\n",
            "Overall time since last calc = 372.90032291412354 seconds\n",
            "estimated time left = 12607.2642882317 seconds\n",
            "\n",
            "Stats every 100 items\n",
            "Total translated = 999\n",
            "Total unchanged = 1\n",
            "Overall time elapsed = 7948.918512105942 seconds\n",
            "Overall time since last calc = 397.27746844291687 seconds\n",
            "estimated time left = 12209.538834594727 seconds\n",
            "\n",
            "Stats every 100 items\n",
            "Total translated = 1049\n",
            "Total unchanged = 1\n",
            "Overall time elapsed = 8326.008344650269 seconds\n",
            "Overall time since last calc = 377.08945655822754 seconds\n",
            "estimated time left = 11783.284190619332 seconds\n",
            "\n",
            "Stats every 100 items\n",
            "Total translated = 1099\n",
            "Total unchanged = 1\n",
            "Overall time elapsed = 8736.791356801987 seconds\n",
            "Overall time since last calc = 410.7821638584137 seconds\n",
            "estimated time left = 11405.48398942514 seconds\n",
            "\n",
            "Stats every 100 items\n",
            "Total translated = 1149\n",
            "Total unchanged = 1\n",
            "Overall time elapsed = 9112.621004343033 seconds\n",
            "Overall time since last calc = 375.8292729854584 seconds\n",
            "estimated time left = 10982.689314799516 seconds\n",
            "\n",
            "Stats every 100 items\n",
            "Total translated = 1199\n",
            "Total unchanged = 1\n",
            "Overall time elapsed = 9484.471200466156 seconds\n",
            "Overall time since last calc = 371.8498191833496 seconds\n",
            "estimated time left = 10559.377936518988 seconds\n",
            "\n",
            "Stats every 100 items\n",
            "Total translated = 1249\n",
            "Total unchanged = 1\n",
            "Overall time elapsed = 9877.685541391373 seconds\n",
            "Overall time since last calc = 393.21403646469116 seconds\n",
            "estimated time left = 10162.162884983443 seconds\n",
            "\n",
            "Stats every 100 items\n",
            "Total translated = 1299\n",
            "Total unchanged = 1\n",
            "Overall time elapsed = 10282.74521613121 seconds\n",
            "Overall time since last calc = 405.05940341949463 seconds\n",
            "estimated time left = 9776.517759337059 seconds\n",
            "\n",
            "Stats every 100 items\n",
            "Total translated = 1349\n",
            "Total unchanged = 1\n",
            "Overall time elapsed = 10667.121077537537 seconds\n",
            "Overall time since last calc = 384.3748972415924 seconds\n",
            "estimated time left = 9371.26340589594 seconds\n",
            "\n",
            "Stats every 100 items\n",
            "Total translated = 1399\n",
            "Total unchanged = 1\n",
            "Overall time elapsed = 11089.124092817307 seconds\n",
            "Overall time since last calc = 422.00270795822144 seconds\n",
            "estimated time left = 8998.0321210289 seconds\n",
            "\n",
            "Stats every 100 items\n",
            "Total translated = 1449\n",
            "Total unchanged = 1\n",
            "Overall time elapsed = 11490.824000358582 seconds\n",
            "Overall time since last calc = 401.6995806694031 seconds\n",
            "estimated time left = 8606.23094095822 seconds\n",
            "\n",
            "Stats every 100 items\n",
            "Total translated = 1499\n",
            "Total unchanged = 1\n",
            "Overall time elapsed = 11897.639492988586 seconds\n",
            "Overall time since last calc = 406.8143084049225 seconds\n",
            "estimated time left = 8217.303009824118 seconds\n",
            "\n",
            "Stats every 100 items\n",
            "Total translated = 1549\n",
            "Total unchanged = 1\n",
            "Overall time elapsed = 12294.299087762833 seconds\n",
            "Overall time since last calc = 396.65820717811584 seconds\n",
            "estimated time left = 7820.760580989776 seconds\n",
            "\n",
            "Stats every 100 items\n",
            "Total translated = 1599\n",
            "Total unchanged = 1\n",
            "Overall time elapsed = 12675.641350269318 seconds\n",
            "Overall time since last calc = 381.34189319610596 seconds\n",
            "estimated time left = 7415.2501899075505 seconds\n",
            "\n",
            "Stats every 100 items\n",
            "Total translated = 1649\n",
            "Total unchanged = 1\n",
            "Overall time elapsed = 13074.422604560852 seconds\n",
            "Overall time since last calc = 398.78088998794556 seconds\n",
            "estimated time left = 7020.568744024797 seconds\n",
            "\n",
            "Stats every 100 items\n",
            "Total translated = 1699\n",
            "Total unchanged = 1\n",
            "Overall time elapsed = 13474.0669195652 seconds\n",
            "Overall time since last calc = 399.64382553100586 seconds\n",
            "estimated time left = 6626.070555739122 seconds\n",
            "\n",
            "Stats every 100 items\n",
            "Total translated = 1749\n",
            "Total unchanged = 1\n",
            "Overall time elapsed = 13893.60674238205 seconds\n",
            "Overall time since last calc = 419.5394883155823 seconds\n",
            "estimated time left = 6240.214228292738 seconds\n",
            "\n",
            "Stats every 100 items\n",
            "Total translated = 1799\n",
            "Total unchanged = 1\n",
            "Overall time elapsed = 14297.967527151108 seconds\n",
            "Overall time since last calc = 404.3605263233185 seconds\n",
            "estimated time left = 5846.280055546231 seconds\n",
            "\n",
            "Stats every 100 items\n",
            "Total translated = 1849\n",
            "Total unchanged = 1\n",
            "Overall time elapsed = 14700.816306829453 seconds\n",
            "Overall time since last calc = 402.8476610183716 seconds\n",
            "estimated time left = 5451.221614316219 seconds\n",
            "\n",
            "Stats every 100 items\n",
            "Total translated = 1899\n",
            "Total unchanged = 1\n",
            "Overall time elapsed = 15117.436486005783 seconds\n",
            "Overall time since last calc = 416.6191327571869 seconds\n",
            "estimated time left = 5060.362950052462 seconds\n",
            "\n",
            "Stats every 100 items\n",
            "Total translated = 1949\n",
            "Total unchanged = 1\n",
            "Overall time elapsed = 15535.126441001892 seconds\n",
            "Overall time since last calc = 417.68966150283813 seconds\n",
            "estimated time left = 4668.504663808774 seconds\n",
            "\n",
            "Stats every 100 items\n",
            "Total translated = 1999\n",
            "Total unchanged = 1\n",
            "Overall time elapsed = 15943.331571817398 seconds\n",
            "Overall time since last calc = 408.2044265270233 seconds\n",
            "estimated time left = 4272.812861247063 seconds\n",
            "\n",
            "Stats every 100 items\n",
            "Total translated = 2049\n",
            "Total unchanged = 1\n",
            "Overall time elapsed = 16338.343665361404 seconds\n",
            "Overall time since last calc = 395.01179099082947 seconds\n",
            "estimated time left = 3873.382937251533 seconds\n",
            "\n",
            "Stats every 100 items\n",
            "Total translated = 2099\n",
            "Total unchanged = 1\n",
            "Overall time elapsed = 16735.460302114487 seconds\n",
            "Overall time since last calc = 397.1163902282715 seconds\n",
            "estimated time left = 3474.6003293913886 seconds\n",
            "\n",
            "Stats every 100 items\n",
            "Total translated = 2149\n",
            "Total unchanged = 1\n",
            "Overall time elapsed = 17141.893022060394 seconds\n",
            "Overall time since last calc = 406.4323830604553 seconds\n",
            "estimated time left = 3077.5677704722384 seconds\n",
            "\n",
            "Stats every 100 items\n",
            "Total translated = 2199\n",
            "Total unchanged = 1\n",
            "Overall time elapsed = 17558.604644536972 seconds\n",
            "Overall time since last calc = 416.71063256263733 seconds\n",
            "estimated time left = 2681.6778002565557 seconds\n",
            "\n",
            "Stats every 100 items\n",
            "Total translated = 2249\n",
            "Total unchanged = 1\n",
            "Overall time elapsed = 17976.177382707596 seconds\n",
            "Overall time since last calc = 417.57241582870483 seconds\n",
            "estimated time left = 2284.9718806463875 seconds\n",
            "\n",
            "Stats every 100 items\n",
            "Total translated = 2299\n",
            "Total unchanged = 1\n",
            "Overall time elapsed = 18379.273173570633 seconds\n",
            "Overall time since last calc = 403.09499406814575 seconds\n",
            "estimated time left = 1885.8732473750738 seconds\n",
            "\n",
            "Stats every 100 items\n",
            "Total translated = 2349\n",
            "Total unchanged = 1\n",
            "Overall time elapsed = 18767.284267902374 seconds\n",
            "Overall time since last calc = 388.01067662239075 seconds\n",
            "estimated time left = 1485.4105846084433 seconds\n",
            "\n",
            "Stats every 100 items\n",
            "Total translated = 2399\n",
            "Total unchanged = 1\n",
            "Overall time elapsed = 19168.23694062233 seconds\n",
            "Overall time since last calc = 400.9520356655121 seconds\n",
            "estimated time left = 1086.2000933019322 seconds\n",
            "\n",
            "Stats every 100 items\n",
            "Total translated = 2449\n",
            "Total unchanged = 1\n",
            "Overall time elapsed = 19566.818785429 seconds\n",
            "Overall time since last calc = 398.58079075813293 seconds\n",
            "estimated time left = 686.8352716517935 seconds\n",
            "\n",
            "Stats every 100 items\n",
            "Total translated = 2499\n",
            "Total unchanged = 1\n",
            "Overall time elapsed = 19983.992222070694 seconds\n",
            "Overall time since last calc = 417.173152923584 seconds\n",
            "estimated time left = 287.769487997818 seconds\n",
            "\n"
          ],
          "name": "stdout"
        }
      ]
    },
    {
      "cell_type": "code",
      "metadata": {
        "id": "hHSEOBujJAnU",
        "colab_type": "code",
        "colab": {}
      },
      "source": [
        "df_output.drop(df_output.index[drop], inplace=True)\n",
        "df_output.to_csv('Kaggle2_mixed_a_bt.csv')\n",
        "!cp Kaggle2_mixed_a_bt.csv \"/content/drive/My Drive/\""
      ],
      "execution_count": 0,
      "outputs": []
    }
  ]
}