{
 "cells": [
  {
   "cell_type": "code",
   "execution_count": 1,
   "metadata": {},
   "outputs": [],
   "source": [
    "import pandas as pd\n",
    "import numpy as np\n",
    "import json"
   ]
  },
  {
   "cell_type": "code",
   "execution_count": 2,
   "metadata": {},
   "outputs": [
    {
     "name": "stdout",
     "output_type": "stream",
     "text": [
      "(905, 3)\n"
     ]
    },
    {
     "data": {
      "text/html": [
       "<div>\n",
       "<style scoped>\n",
       "    .dataframe tbody tr th:only-of-type {\n",
       "        vertical-align: middle;\n",
       "    }\n",
       "\n",
       "    .dataframe tbody tr th {\n",
       "        vertical-align: top;\n",
       "    }\n",
       "\n",
       "    .dataframe thead th {\n",
       "        text-align: right;\n",
       "    }\n",
       "</style>\n",
       "<table border=\"1\" class=\"dataframe\">\n",
       "  <thead>\n",
       "    <tr style=\"text-align: right;\">\n",
       "      <th></th>\n",
       "      <th>url</th>\n",
       "      <th>clean_title</th>\n",
       "      <th>clean_text</th>\n",
       "    </tr>\n",
       "  </thead>\n",
       "  <tbody>\n",
       "    <tr>\n",
       "      <td>0</td>\n",
       "      <td>https://www.cnn.com/2020/03/29/politics/trump-...</td>\n",
       "      <td>trump extends federal social distancing guidel...</td>\n",
       "      <td>washington cnn president donald trump said sun...</td>\n",
       "    </tr>\n",
       "    <tr>\n",
       "      <td>1</td>\n",
       "      <td>https://www.cnn.com/world/live-news/coronaviru...</td>\n",
       "      <td>coronavirus live updates global pandemic kills</td>\n",
       "      <td>exterior elmhurst hospital queens sunday march...</td>\n",
       "    </tr>\n",
       "    <tr>\n",
       "      <td>2</td>\n",
       "      <td>https://www.cnn.com/2020/03/29/politics/trump-...</td>\n",
       "      <td>trump concedes us coronavirus death toll could</td>\n",
       "      <td>cnn president donald trump acknowledged sunday...</td>\n",
       "    </tr>\n",
       "    <tr>\n",
       "      <td>3</td>\n",
       "      <td>https://www.cnn.com/2020/03/29/opinions/donald...</td>\n",
       "      <td>donald trumps special day</td>\n",
       "      <td>sign get new weekly column newsletter looking ...</td>\n",
       "    </tr>\n",
       "    <tr>\n",
       "      <td>4</td>\n",
       "      <td>https://www.cnn.com/2020/03/29/politics/us-ele...</td>\n",
       "      <td>long trumps poll surge last</td>\n",
       "      <td>cnn  race publicly least largely halted countr...</td>\n",
       "    </tr>\n",
       "  </tbody>\n",
       "</table>\n",
       "</div>"
      ],
      "text/plain": [
       "                                                 url  \\\n",
       "0  https://www.cnn.com/2020/03/29/politics/trump-...   \n",
       "1  https://www.cnn.com/world/live-news/coronaviru...   \n",
       "2  https://www.cnn.com/2020/03/29/politics/trump-...   \n",
       "3  https://www.cnn.com/2020/03/29/opinions/donald...   \n",
       "4  https://www.cnn.com/2020/03/29/politics/us-ele...   \n",
       "\n",
       "                                         clean_title  \\\n",
       "0  trump extends federal social distancing guidel...   \n",
       "1     coronavirus live updates global pandemic kills   \n",
       "2     trump concedes us coronavirus death toll could   \n",
       "3                          donald trumps special day   \n",
       "4                        long trumps poll surge last   \n",
       "\n",
       "                                          clean_text  \n",
       "0  washington cnn president donald trump said sun...  \n",
       "1  exterior elmhurst hospital queens sunday march...  \n",
       "2  cnn president donald trump acknowledged sunday...  \n",
       "3  sign get new weekly column newsletter looking ...  \n",
       "4  cnn  race publicly least largely halted countr...  "
      ]
     },
     "execution_count": 2,
     "metadata": {},
     "output_type": "execute_result"
    }
   ],
   "source": [
    "df_real = pd.read_csv('../Cleaned Data/Real_News.csv')\n",
    "df_real = df_real[['url','clean_title','clean_text']]\n",
    "print(df_real.shape)\n",
    "df_real.head()\n",
    "\n"
   ]
  },
  {
   "cell_type": "code",
   "execution_count": 3,
   "metadata": {},
   "outputs": [
    {
     "name": "stdout",
     "output_type": "stream",
     "text": [
      "(905, 4)\n"
     ]
    },
    {
     "data": {
      "text/html": [
       "<div>\n",
       "<style scoped>\n",
       "    .dataframe tbody tr th:only-of-type {\n",
       "        vertical-align: middle;\n",
       "    }\n",
       "\n",
       "    .dataframe tbody tr th {\n",
       "        vertical-align: top;\n",
       "    }\n",
       "\n",
       "    .dataframe thead th {\n",
       "        text-align: right;\n",
       "    }\n",
       "</style>\n",
       "<table border=\"1\" class=\"dataframe\">\n",
       "  <thead>\n",
       "    <tr style=\"text-align: right;\">\n",
       "      <th></th>\n",
       "      <th>clean_title</th>\n",
       "      <th>clean_text</th>\n",
       "      <th>label</th>\n",
       "    </tr>\n",
       "  </thead>\n",
       "  <tbody>\n",
       "    <tr>\n",
       "      <td>0</td>\n",
       "      <td>trump extends federal social distancing guidel...</td>\n",
       "      <td>washington cnn president donald trump said sun...</td>\n",
       "      <td>1</td>\n",
       "    </tr>\n",
       "    <tr>\n",
       "      <td>1</td>\n",
       "      <td>coronavirus live updates global pandemic kills</td>\n",
       "      <td>exterior elmhurst hospital queens sunday march...</td>\n",
       "      <td>1</td>\n",
       "    </tr>\n",
       "    <tr>\n",
       "      <td>2</td>\n",
       "      <td>trump concedes us coronavirus death toll could</td>\n",
       "      <td>cnn president donald trump acknowledged sunday...</td>\n",
       "      <td>1</td>\n",
       "    </tr>\n",
       "    <tr>\n",
       "      <td>3</td>\n",
       "      <td>donald trumps special day</td>\n",
       "      <td>sign get new weekly column newsletter looking ...</td>\n",
       "      <td>1</td>\n",
       "    </tr>\n",
       "    <tr>\n",
       "      <td>4</td>\n",
       "      <td>long trumps poll surge last</td>\n",
       "      <td>cnn  race publicly least largely halted countr...</td>\n",
       "      <td>1</td>\n",
       "    </tr>\n",
       "  </tbody>\n",
       "</table>\n",
       "</div>"
      ],
      "text/plain": [
       "                                         clean_title  \\\n",
       "0  trump extends federal social distancing guidel...   \n",
       "1     coronavirus live updates global pandemic kills   \n",
       "2     trump concedes us coronavirus death toll could   \n",
       "3                          donald trumps special day   \n",
       "4                        long trumps poll surge last   \n",
       "\n",
       "                                          clean_text  label  \n",
       "0  washington cnn president donald trump said sun...      1  \n",
       "1  exterior elmhurst hospital queens sunday march...      1  \n",
       "2  cnn president donald trump acknowledged sunday...      1  \n",
       "3  sign get new weekly column newsletter looking ...      1  \n",
       "4  cnn  race publicly least largely halted countr...      1  "
      ]
     },
     "execution_count": 3,
     "metadata": {},
     "output_type": "execute_result"
    }
   ],
   "source": [
    "df_real['label'] = 1\n",
    "df_real.dropna(inplace=True)\n",
    "print(df_real.shape)\n",
    "df_real.drop(['url'],axis=1,inplace=True)\n",
    "df_real.head()"
   ]
  },
  {
   "cell_type": "code",
   "execution_count": 4,
   "metadata": {},
   "outputs": [],
   "source": [
    "df_fake = pd.read_csv('../Cleaned Data/Human_Fake_News.csv')"
   ]
  },
  {
   "cell_type": "code",
   "execution_count": 5,
   "metadata": {},
   "outputs": [
    {
     "name": "stdout",
     "output_type": "stream",
     "text": [
      "(12273, 23)\n"
     ]
    },
    {
     "data": {
      "text/html": [
       "<div>\n",
       "<style scoped>\n",
       "    .dataframe tbody tr th:only-of-type {\n",
       "        vertical-align: middle;\n",
       "    }\n",
       "\n",
       "    .dataframe tbody tr th {\n",
       "        vertical-align: top;\n",
       "    }\n",
       "\n",
       "    .dataframe thead th {\n",
       "        text-align: right;\n",
       "    }\n",
       "</style>\n",
       "<table border=\"1\" class=\"dataframe\">\n",
       "  <thead>\n",
       "    <tr style=\"text-align: right;\">\n",
       "      <th></th>\n",
       "      <th>Unnamed: 0</th>\n",
       "      <th>uuid</th>\n",
       "      <th>ord_in_thread</th>\n",
       "      <th>author</th>\n",
       "      <th>published</th>\n",
       "      <th>title</th>\n",
       "      <th>text</th>\n",
       "      <th>language</th>\n",
       "      <th>crawled</th>\n",
       "      <th>site_url</th>\n",
       "      <th>...</th>\n",
       "      <th>spam_score</th>\n",
       "      <th>main_img_url</th>\n",
       "      <th>replies_count</th>\n",
       "      <th>participants_count</th>\n",
       "      <th>likes</th>\n",
       "      <th>comments</th>\n",
       "      <th>shares</th>\n",
       "      <th>type</th>\n",
       "      <th>clean_text</th>\n",
       "      <th>clean_title</th>\n",
       "    </tr>\n",
       "  </thead>\n",
       "  <tbody>\n",
       "    <tr>\n",
       "      <td>0</td>\n",
       "      <td>0</td>\n",
       "      <td>6a175f46bcd24d39b3e962ad0f29936721db70db</td>\n",
       "      <td>0</td>\n",
       "      <td>Barracuda Brigade</td>\n",
       "      <td>2016-10-26T21:41:00.000+03:00</td>\n",
       "      <td>Muslims BUSTED: They Stole Millions In Gov’t B...</td>\n",
       "      <td>Print They should pay all the back all the mon...</td>\n",
       "      <td>english</td>\n",
       "      <td>2016-10-27T01:49:27.168+03:00</td>\n",
       "      <td>100percentfedup.com</td>\n",
       "      <td>...</td>\n",
       "      <td>0.000</td>\n",
       "      <td>http://bb4sp.com/wp-content/uploads/2016/10/Fu...</td>\n",
       "      <td>0</td>\n",
       "      <td>1</td>\n",
       "      <td>0</td>\n",
       "      <td>0</td>\n",
       "      <td>0</td>\n",
       "      <td>bias</td>\n",
       "      <td>print pay back money plus interest entire fami...</td>\n",
       "      <td>muslims busted stole millions govt benefits</td>\n",
       "    </tr>\n",
       "    <tr>\n",
       "      <td>1</td>\n",
       "      <td>1</td>\n",
       "      <td>2bdc29d12605ef9cf3f09f9875040a7113be5d5b</td>\n",
       "      <td>0</td>\n",
       "      <td>reasoning with facts</td>\n",
       "      <td>2016-10-29T08:47:11.259+03:00</td>\n",
       "      <td>Re: Why Did Attorney General Loretta Lynch Ple...</td>\n",
       "      <td>Why Did Attorney General Loretta Lynch Plead T...</td>\n",
       "      <td>english</td>\n",
       "      <td>2016-10-29T08:47:11.259+03:00</td>\n",
       "      <td>100percentfedup.com</td>\n",
       "      <td>...</td>\n",
       "      <td>0.000</td>\n",
       "      <td>http://bb4sp.com/wp-content/uploads/2016/10/Fu...</td>\n",
       "      <td>0</td>\n",
       "      <td>1</td>\n",
       "      <td>0</td>\n",
       "      <td>0</td>\n",
       "      <td>0</td>\n",
       "      <td>bias</td>\n",
       "      <td>attorney general loretta lynch plead fifth bar...</td>\n",
       "      <td>attorney general loretta lynch plead fifth</td>\n",
       "    </tr>\n",
       "    <tr>\n",
       "      <td>2</td>\n",
       "      <td>2</td>\n",
       "      <td>c70e149fdd53de5e61c29281100b9de0ed268bc3</td>\n",
       "      <td>0</td>\n",
       "      <td>Barracuda Brigade</td>\n",
       "      <td>2016-10-31T01:41:49.479+02:00</td>\n",
       "      <td>BREAKING: Weiner Cooperating With FBI On Hilla...</td>\n",
       "      <td>Red State : \\nFox News Sunday reported this mo...</td>\n",
       "      <td>english</td>\n",
       "      <td>2016-10-31T01:41:49.479+02:00</td>\n",
       "      <td>100percentfedup.com</td>\n",
       "      <td>...</td>\n",
       "      <td>0.000</td>\n",
       "      <td>http://bb4sp.com/wp-content/uploads/2016/10/Fu...</td>\n",
       "      <td>0</td>\n",
       "      <td>1</td>\n",
       "      <td>0</td>\n",
       "      <td>0</td>\n",
       "      <td>0</td>\n",
       "      <td>bias</td>\n",
       "      <td>red state  fox news sunday reported morning an...</td>\n",
       "      <td>breaking weiner cooperating fbi hillary email ...</td>\n",
       "    </tr>\n",
       "    <tr>\n",
       "      <td>3</td>\n",
       "      <td>3</td>\n",
       "      <td>7cf7c15731ac2a116dd7f629bd57ea468ed70284</td>\n",
       "      <td>0</td>\n",
       "      <td>Fed Up</td>\n",
       "      <td>2016-11-01T05:22:00.000+02:00</td>\n",
       "      <td>PIN DROP SPEECH BY FATHER OF DAUGHTER Kidnappe...</td>\n",
       "      <td>Email Kayla Mueller was a prisoner and torture...</td>\n",
       "      <td>english</td>\n",
       "      <td>2016-11-01T15:46:26.304+02:00</td>\n",
       "      <td>100percentfedup.com</td>\n",
       "      <td>...</td>\n",
       "      <td>0.068</td>\n",
       "      <td>http://100percentfedup.com/wp-content/uploads/...</td>\n",
       "      <td>0</td>\n",
       "      <td>0</td>\n",
       "      <td>0</td>\n",
       "      <td>0</td>\n",
       "      <td>0</td>\n",
       "      <td>bias</td>\n",
       "      <td>email kayla mueller prisoner tortured isis cha...</td>\n",
       "      <td>pin drop speech father daughter kidnapped kill...</td>\n",
       "    </tr>\n",
       "    <tr>\n",
       "      <td>4</td>\n",
       "      <td>4</td>\n",
       "      <td>0206b54719c7e241ffe0ad4315b808290dbe6c0f</td>\n",
       "      <td>0</td>\n",
       "      <td>Fed Up</td>\n",
       "      <td>2016-11-01T21:56:00.000+02:00</td>\n",
       "      <td>FANTASTIC! TRUMP'S 7 POINT PLAN To Reform Heal...</td>\n",
       "      <td>Email HEALTHCARE REFORM TO MAKE AMERICA GREAT ...</td>\n",
       "      <td>english</td>\n",
       "      <td>2016-11-01T23:59:42.266+02:00</td>\n",
       "      <td>100percentfedup.com</td>\n",
       "      <td>...</td>\n",
       "      <td>0.865</td>\n",
       "      <td>http://100percentfedup.com/wp-content/uploads/...</td>\n",
       "      <td>0</td>\n",
       "      <td>0</td>\n",
       "      <td>0</td>\n",
       "      <td>0</td>\n",
       "      <td>0</td>\n",
       "      <td>bias</td>\n",
       "      <td>email healthcare reform make america great sin...</td>\n",
       "      <td>fantastic! trumps  point plan reform healthcar...</td>\n",
       "    </tr>\n",
       "  </tbody>\n",
       "</table>\n",
       "<p>5 rows × 23 columns</p>\n",
       "</div>"
      ],
      "text/plain": [
       "   Unnamed: 0                                      uuid  ord_in_thread  \\\n",
       "0           0  6a175f46bcd24d39b3e962ad0f29936721db70db              0   \n",
       "1           1  2bdc29d12605ef9cf3f09f9875040a7113be5d5b              0   \n",
       "2           2  c70e149fdd53de5e61c29281100b9de0ed268bc3              0   \n",
       "3           3  7cf7c15731ac2a116dd7f629bd57ea468ed70284              0   \n",
       "4           4  0206b54719c7e241ffe0ad4315b808290dbe6c0f              0   \n",
       "\n",
       "                 author                      published  \\\n",
       "0     Barracuda Brigade  2016-10-26T21:41:00.000+03:00   \n",
       "1  reasoning with facts  2016-10-29T08:47:11.259+03:00   \n",
       "2     Barracuda Brigade  2016-10-31T01:41:49.479+02:00   \n",
       "3                Fed Up  2016-11-01T05:22:00.000+02:00   \n",
       "4                Fed Up  2016-11-01T21:56:00.000+02:00   \n",
       "\n",
       "                                               title  \\\n",
       "0  Muslims BUSTED: They Stole Millions In Gov’t B...   \n",
       "1  Re: Why Did Attorney General Loretta Lynch Ple...   \n",
       "2  BREAKING: Weiner Cooperating With FBI On Hilla...   \n",
       "3  PIN DROP SPEECH BY FATHER OF DAUGHTER Kidnappe...   \n",
       "4  FANTASTIC! TRUMP'S 7 POINT PLAN To Reform Heal...   \n",
       "\n",
       "                                                text language  \\\n",
       "0  Print They should pay all the back all the mon...  english   \n",
       "1  Why Did Attorney General Loretta Lynch Plead T...  english   \n",
       "2  Red State : \\nFox News Sunday reported this mo...  english   \n",
       "3  Email Kayla Mueller was a prisoner and torture...  english   \n",
       "4  Email HEALTHCARE REFORM TO MAKE AMERICA GREAT ...  english   \n",
       "\n",
       "                         crawled             site_url  ... spam_score  \\\n",
       "0  2016-10-27T01:49:27.168+03:00  100percentfedup.com  ...      0.000   \n",
       "1  2016-10-29T08:47:11.259+03:00  100percentfedup.com  ...      0.000   \n",
       "2  2016-10-31T01:41:49.479+02:00  100percentfedup.com  ...      0.000   \n",
       "3  2016-11-01T15:46:26.304+02:00  100percentfedup.com  ...      0.068   \n",
       "4  2016-11-01T23:59:42.266+02:00  100percentfedup.com  ...      0.865   \n",
       "\n",
       "                                        main_img_url replies_count  \\\n",
       "0  http://bb4sp.com/wp-content/uploads/2016/10/Fu...             0   \n",
       "1  http://bb4sp.com/wp-content/uploads/2016/10/Fu...             0   \n",
       "2  http://bb4sp.com/wp-content/uploads/2016/10/Fu...             0   \n",
       "3  http://100percentfedup.com/wp-content/uploads/...             0   \n",
       "4  http://100percentfedup.com/wp-content/uploads/...             0   \n",
       "\n",
       "   participants_count likes  comments  shares  type  \\\n",
       "0                   1     0         0       0  bias   \n",
       "1                   1     0         0       0  bias   \n",
       "2                   1     0         0       0  bias   \n",
       "3                   0     0         0       0  bias   \n",
       "4                   0     0         0       0  bias   \n",
       "\n",
       "                                          clean_text  \\\n",
       "0  print pay back money plus interest entire fami...   \n",
       "1  attorney general loretta lynch plead fifth bar...   \n",
       "2  red state  fox news sunday reported morning an...   \n",
       "3  email kayla mueller prisoner tortured isis cha...   \n",
       "4  email healthcare reform make america great sin...   \n",
       "\n",
       "                                         clean_title  \n",
       "0        muslims busted stole millions govt benefits  \n",
       "1         attorney general loretta lynch plead fifth  \n",
       "2  breaking weiner cooperating fbi hillary email ...  \n",
       "3  pin drop speech father daughter kidnapped kill...  \n",
       "4  fantastic! trumps  point plan reform healthcar...  \n",
       "\n",
       "[5 rows x 23 columns]"
      ]
     },
     "execution_count": 5,
     "metadata": {},
     "output_type": "execute_result"
    }
   ],
   "source": [
    "print(df_fake.shape)\n",
    "df_fake.head()"
   ]
  },
  {
   "cell_type": "code",
   "execution_count": 6,
   "metadata": {},
   "outputs": [],
   "source": [
    "df_fake = df_fake[['site_url','clean_title','clean_text']]\n",
    "df_fake.dropna(inplace=True)\n",
    "df_fake.rename(columns={\"site_url\": \"url\"}, inplace=True)\n",
    "chosen_idx = np.random.choice(df_fake.shape[0], replace=False, size=df_real.shape[0])\n",
    "df_fake_trim = df_fake.iloc[chosen_idx]"
   ]
  },
  {
   "cell_type": "code",
   "execution_count": 7,
   "metadata": {},
   "outputs": [
    {
     "name": "stdout",
     "output_type": "stream",
     "text": [
      "(905, 4)\n"
     ]
    },
    {
     "name": "stderr",
     "output_type": "stream",
     "text": [
      "/opt/anaconda3/lib/python3.7/site-packages/ipykernel_launcher.py:1: SettingWithCopyWarning: \n",
      "A value is trying to be set on a copy of a slice from a DataFrame.\n",
      "Try using .loc[row_indexer,col_indexer] = value instead\n",
      "\n",
      "See the caveats in the documentation: http://pandas.pydata.org/pandas-docs/stable/user_guide/indexing.html#returning-a-view-versus-a-copy\n",
      "  \"\"\"Entry point for launching an IPython kernel.\n",
      "/opt/anaconda3/lib/python3.7/site-packages/pandas/core/frame.py:4102: SettingWithCopyWarning: \n",
      "A value is trying to be set on a copy of a slice from a DataFrame\n",
      "\n",
      "See the caveats in the documentation: http://pandas.pydata.org/pandas-docs/stable/user_guide/indexing.html#returning-a-view-versus-a-copy\n",
      "  errors=errors,\n"
     ]
    },
    {
     "data": {
      "text/html": [
       "<div>\n",
       "<style scoped>\n",
       "    .dataframe tbody tr th:only-of-type {\n",
       "        vertical-align: middle;\n",
       "    }\n",
       "\n",
       "    .dataframe tbody tr th {\n",
       "        vertical-align: top;\n",
       "    }\n",
       "\n",
       "    .dataframe thead th {\n",
       "        text-align: right;\n",
       "    }\n",
       "</style>\n",
       "<table border=\"1\" class=\"dataframe\">\n",
       "  <thead>\n",
       "    <tr style=\"text-align: right;\">\n",
       "      <th></th>\n",
       "      <th>clean_title</th>\n",
       "      <th>clean_text</th>\n",
       "      <th>label</th>\n",
       "    </tr>\n",
       "  </thead>\n",
       "  <tbody>\n",
       "    <tr>\n",
       "      <td>10903</td>\n",
       "      <td>mystery solved! gets hillary clinton get movin...</td>\n",
       "      <td>liars never win liarsneverwin october   hard t...</td>\n",
       "      <td>0</td>\n",
       "    </tr>\n",
       "    <tr>\n",
       "      <td>9087</td>\n",
       "      <td>rigged election hillary  trump caught partying...</td>\n",
       "      <td>covert geopolitics suspicious donald trump sin...</td>\n",
       "      <td>0</td>\n",
       "    </tr>\n",
       "    <tr>\n",
       "      <td>7026</td>\n",
       "      <td>nato put war footing russia</td>\n",
       "      <td>nato put war footing russia  jens stoltenberg ...</td>\n",
       "      <td>0</td>\n",
       "    </tr>\n",
       "    <tr>\n",
       "      <td>10636</td>\n",
       "      <td>madman cathedral former monk dedicates yrs bui...</td>\n",
       "      <td>check keiser report website httpwwwmaxkeiserco...</td>\n",
       "      <td>0</td>\n",
       "    </tr>\n",
       "    <tr>\n",
       "      <td>7480</td>\n",
       "      <td>hillary cancels public appearance due large cr...</td>\n",
       "      <td>memes breaking hillary cancels public appearan...</td>\n",
       "      <td>0</td>\n",
       "    </tr>\n",
       "  </tbody>\n",
       "</table>\n",
       "</div>"
      ],
      "text/plain": [
       "                                             clean_title  \\\n",
       "10903  mystery solved! gets hillary clinton get movin...   \n",
       "9087   rigged election hillary  trump caught partying...   \n",
       "7026                         nato put war footing russia   \n",
       "10636  madman cathedral former monk dedicates yrs bui...   \n",
       "7480   hillary cancels public appearance due large cr...   \n",
       "\n",
       "                                              clean_text  label  \n",
       "10903  liars never win liarsneverwin october   hard t...      0  \n",
       "9087   covert geopolitics suspicious donald trump sin...      0  \n",
       "7026   nato put war footing russia  jens stoltenberg ...      0  \n",
       "10636  check keiser report website httpwwwmaxkeiserco...      0  \n",
       "7480   memes breaking hillary cancels public appearan...      0  "
      ]
     },
     "execution_count": 7,
     "metadata": {},
     "output_type": "execute_result"
    }
   ],
   "source": [
    "df_fake_trim['label'] = 0\n",
    "print(df_fake_trim.shape)\n",
    "df_fake_trim.drop(['url'], axis=1, inplace= True)\n",
    "df_fake_trim.head()\n"
   ]
  },
  {
   "cell_type": "code",
   "execution_count": 8,
   "metadata": {},
   "outputs": [
    {
     "name": "stdout",
     "output_type": "stream",
     "text": [
      "(908, 2)\n",
      "(908, 2)\n"
     ]
    },
    {
     "data": {
      "text/html": [
       "<div>\n",
       "<style scoped>\n",
       "    .dataframe tbody tr th:only-of-type {\n",
       "        vertical-align: middle;\n",
       "    }\n",
       "\n",
       "    .dataframe tbody tr th {\n",
       "        vertical-align: top;\n",
       "    }\n",
       "\n",
       "    .dataframe thead th {\n",
       "        text-align: right;\n",
       "    }\n",
       "</style>\n",
       "<table border=\"1\" class=\"dataframe\">\n",
       "  <thead>\n",
       "    <tr style=\"text-align: right;\">\n",
       "      <th></th>\n",
       "      <th>clean_title</th>\n",
       "      <th>clean_text</th>\n",
       "      <th>label</th>\n",
       "    </tr>\n",
       "  </thead>\n",
       "  <tbody>\n",
       "    <tr>\n",
       "      <td>0</td>\n",
       "      <td>trump extends federal social distancing guidel...</td>\n",
       "      <td>president donald trump first official state vi...</td>\n",
       "      <td>2</td>\n",
       "    </tr>\n",
       "    <tr>\n",
       "      <td>1</td>\n",
       "      <td>coronavirus live updates global pandemic kills</td>\n",
       "      <td>dylan welch april   bloomberg  outbreak intest...</td>\n",
       "      <td>2</td>\n",
       "    </tr>\n",
       "    <tr>\n",
       "      <td>2</td>\n",
       "      <td>trump concedes us coronavirus death toll could</td>\n",
       "      <td>donald trump home state california sunday land...</td>\n",
       "      <td>2</td>\n",
       "    </tr>\n",
       "    <tr>\n",
       "      <td>3</td>\n",
       "      <td>tracking covid cases us</td>\n",
       "      <td>editors note readers visitors new york area ma...</td>\n",
       "      <td>2</td>\n",
       "    </tr>\n",
       "    <tr>\n",
       "      <td>4</td>\n",
       "      <td>donald trumps special day</td>\n",
       "      <td>wish many press morning president facebook sta...</td>\n",
       "      <td>2</td>\n",
       "    </tr>\n",
       "  </tbody>\n",
       "</table>\n",
       "</div>"
      ],
      "text/plain": [
       "                                         clean_title  \\\n",
       "0  trump extends federal social distancing guidel...   \n",
       "1     coronavirus live updates global pandemic kills   \n",
       "2     trump concedes us coronavirus death toll could   \n",
       "3                            tracking covid cases us   \n",
       "4                          donald trumps special day   \n",
       "\n",
       "                                          clean_text  label  \n",
       "0  president donald trump first official state vi...      2  \n",
       "1  dylan welch april   bloomberg  outbreak intest...      2  \n",
       "2  donald trump home state california sunday land...      2  \n",
       "3  editors note readers visitors new york area ma...      2  \n",
       "4  wish many press morning president facebook sta...      2  "
      ]
     },
     "execution_count": 8,
     "metadata": {},
     "output_type": "execute_result"
    }
   ],
   "source": [
    "df_grover = pd.read_csv('../Cleaned Data/Neural_Fake_News.csv')\n",
    "df_grover = df_grover[['clean_title','clean_text']]\n",
    "print(df_grover.shape)\n",
    "df_grover.dropna(inplace=True)\n",
    "print(df_grover.shape)\n",
    "df_grover.head()\n",
    "df_grover['label'] = 2\n",
    "df_grover.head()"
   ]
  },
  {
   "cell_type": "markdown",
   "metadata": {},
   "source": [
    "# Experiment Number 1\n",
    "## Naive Bayes, Real Human News and Fake Human News\n",
    "905 instances of each \n",
    "\n",
    "Class: Label\n",
    "\n",
    "Real: 0\n",
    "\n",
    "Fake: 1"
   ]
  },
  {
   "cell_type": "code",
   "execution_count": 9,
   "metadata": {},
   "outputs": [],
   "source": [
    "#combine both the real and trimmed fake news into one df\n",
    "combined = pd.concat([df_real,df_fake_trim],ignore_index=True)"
   ]
  },
  {
   "cell_type": "code",
   "execution_count": 10,
   "metadata": {},
   "outputs": [
    {
     "name": "stdout",
     "output_type": "stream",
     "text": [
      "                                         clean_title  \\\n",
      "0  trump extends federal social distancing guidel...   \n",
      "1     coronavirus live updates global pandemic kills   \n",
      "2     trump concedes us coronavirus death toll could   \n",
      "3                          donald trumps special day   \n",
      "4                        long trumps poll surge last   \n",
      "\n",
      "                                          clean_text  label  \n",
      "0  washington cnn president donald trump said sun...      1  \n",
      "1  exterior elmhurst hospital queens sunday march...      1  \n",
      "2  cnn president donald trump acknowledged sunday...      1  \n",
      "3  sign get new weekly column newsletter looking ...      1  \n",
      "4  cnn  race publicly least largely halted countr...      1  \n"
     ]
    },
    {
     "data": {
      "text/html": [
       "<div>\n",
       "<style scoped>\n",
       "    .dataframe tbody tr th:only-of-type {\n",
       "        vertical-align: middle;\n",
       "    }\n",
       "\n",
       "    .dataframe tbody tr th {\n",
       "        vertical-align: top;\n",
       "    }\n",
       "\n",
       "    .dataframe thead th {\n",
       "        text-align: right;\n",
       "    }\n",
       "</style>\n",
       "<table border=\"1\" class=\"dataframe\">\n",
       "  <thead>\n",
       "    <tr style=\"text-align: right;\">\n",
       "      <th></th>\n",
       "      <th>clean_title</th>\n",
       "      <th>clean_text</th>\n",
       "      <th>label</th>\n",
       "    </tr>\n",
       "  </thead>\n",
       "  <tbody>\n",
       "    <tr>\n",
       "      <td>1805</td>\n",
       "      <td>madonna says shell give blowjob anyone votes h...</td>\n",
       "      <td>home  news  madonna says shell give blowjob an...</td>\n",
       "      <td>0</td>\n",
       "    </tr>\n",
       "    <tr>\n",
       "      <td>1806</td>\n",
       "      <td>never want use johnson  johnson baby powder re...</td>\n",
       "      <td>jury st louis awarded california woman  millio...</td>\n",
       "      <td>0</td>\n",
       "    </tr>\n",
       "    <tr>\n",
       "      <td>1807</td>\n",
       "      <td>new gallup poll reveals americans really think...</td>\n",
       "      <td>home  us  new gallup poll reveals americans re...</td>\n",
       "      <td>0</td>\n",
       "    </tr>\n",
       "    <tr>\n",
       "      <td>1808</td>\n",
       "      <td>lefts vision</td>\n",
       "      <td>thomas sowell november   political left keeps ...</td>\n",
       "      <td>0</td>\n",
       "    </tr>\n",
       "    <tr>\n",
       "      <td>1809</td>\n",
       "      <td>open letter black south african police officers</td>\n",
       "      <td>tweet widget black power front students joinin...</td>\n",
       "      <td>0</td>\n",
       "    </tr>\n",
       "  </tbody>\n",
       "</table>\n",
       "</div>"
      ],
      "text/plain": [
       "                                            clean_title  \\\n",
       "1805  madonna says shell give blowjob anyone votes h...   \n",
       "1806  never want use johnson  johnson baby powder re...   \n",
       "1807  new gallup poll reveals americans really think...   \n",
       "1808                                       lefts vision   \n",
       "1809    open letter black south african police officers   \n",
       "\n",
       "                                             clean_text  label  \n",
       "1805  home  news  madonna says shell give blowjob an...      0  \n",
       "1806  jury st louis awarded california woman  millio...      0  \n",
       "1807  home  us  new gallup poll reveals americans re...      0  \n",
       "1808  thomas sowell november   political left keeps ...      0  \n",
       "1809  tweet widget black power front students joinin...      0  "
      ]
     },
     "execution_count": 10,
     "metadata": {},
     "output_type": "execute_result"
    }
   ],
   "source": [
    "print(combined.head())\n",
    "combined.tail()"
   ]
  },
  {
   "cell_type": "code",
   "execution_count": 11,
   "metadata": {},
   "outputs": [],
   "source": [
    "import nltk\n",
    "from wordcloud import WordCloud\n",
    "from sklearn.feature_extraction.text import TfidfVectorizer\n",
    "from sklearn.model_selection import train_test_split\n",
    "from sklearn.metrics import f1_score, accuracy_score, recall_score, precision_score"
   ]
  },
  {
   "cell_type": "code",
   "execution_count": 12,
   "metadata": {},
   "outputs": [
    {
     "data": {
      "text/html": [
       "<div>\n",
       "<style scoped>\n",
       "    .dataframe tbody tr th:only-of-type {\n",
       "        vertical-align: middle;\n",
       "    }\n",
       "\n",
       "    .dataframe tbody tr th {\n",
       "        vertical-align: top;\n",
       "    }\n",
       "\n",
       "    .dataframe thead th {\n",
       "        text-align: right;\n",
       "    }\n",
       "</style>\n",
       "<table border=\"1\" class=\"dataframe\">\n",
       "  <thead>\n",
       "    <tr style=\"text-align: right;\">\n",
       "      <th></th>\n",
       "      <th>clean_title</th>\n",
       "      <th>clean_text</th>\n",
       "    </tr>\n",
       "    <tr>\n",
       "      <th>label</th>\n",
       "      <th></th>\n",
       "      <th></th>\n",
       "    </tr>\n",
       "  </thead>\n",
       "  <tbody>\n",
       "    <tr>\n",
       "      <td>0</td>\n",
       "      <td>905</td>\n",
       "      <td>905</td>\n",
       "    </tr>\n",
       "    <tr>\n",
       "      <td>1</td>\n",
       "      <td>905</td>\n",
       "      <td>905</td>\n",
       "    </tr>\n",
       "  </tbody>\n",
       "</table>\n",
       "</div>"
      ],
      "text/plain": [
       "       clean_title  clean_text\n",
       "label                         \n",
       "0              905         905\n",
       "1              905         905"
      ]
     },
     "execution_count": 12,
     "metadata": {},
     "output_type": "execute_result"
    }
   ],
   "source": [
    "combined_text = combined['clean_text'].values\n",
    "X_title =combined['clean_title'].values\n",
    "labels = combined['label'].values\n",
    "combined.groupby('label').agg('count')"
   ]
  },
  {
   "cell_type": "code",
   "execution_count": 13,
   "metadata": {},
   "outputs": [],
   "source": [
    "tfidf = TfidfVectorizer(ngram_range=(1,2), max_df= 0.85, min_df= 0.01)"
   ]
  },
  {
   "cell_type": "code",
   "execution_count": 14,
   "metadata": {},
   "outputs": [],
   "source": [
    "combined_text = tfidf.fit_transform(combined_text)\n",
    "# combined['title'] = tfidf.fit_transform (combined['title'])"
   ]
  },
  {
   "cell_type": "code",
   "execution_count": 15,
   "metadata": {},
   "outputs": [
    {
     "name": "stdout",
     "output_type": "stream",
     "text": [
      "<class 'scipy.sparse.csr.csr_matrix'>\n",
      "tf idf vectorized text shape: (1810, 5322)\n",
      "original text shape: (1810,)\n"
     ]
    }
   ],
   "source": [
    "print(\"tf idf vectorized text shape: {}\".format(combined_text.shape))\n",
    "print(\"original text shape: {}\".format(combined['clean_text'].shape))\n"
   ]
  },
  {
   "cell_type": "code",
   "execution_count": 16,
   "metadata": {},
   "outputs": [],
   "source": [
    "train_text, test_text, train_labels, test_labels  = train_test_split(combined_text, labels, test_size=0.2)\n"
   ]
  },
  {
   "cell_type": "code",
   "execution_count": 44,
   "metadata": {},
   "outputs": [
    {
     "name": "stdout",
     "output_type": "stream",
     "text": [
      "<class 'scipy.sparse.csr.csr_matrix'>\n",
      "size of train_text: (1448, 5092)\n",
      "<class 'numpy.ndarray'>\n",
      "size of train_labels: (1448,)\n"
     ]
    },
    {
     "data": {
      "text/plain": [
       "Counter({1: 724, 0: 724})"
      ]
     },
     "execution_count": 44,
     "metadata": {},
     "output_type": "execute_result"
    }
   ],
   "source": [
    "import collections\n",
    "\n",
    "print(\"size of train_text: {}\".format(train_text.shape))\n",
    "\n",
    "print(\"size of train_labels: {}\".format(train_labels.shape))\n",
    "collections.Counter(train_labels)\n"
   ]
  },
  {
   "cell_type": "code",
   "execution_count": 45,
   "metadata": {},
   "outputs": [
    {
     "name": "stdout",
     "output_type": "stream",
     "text": [
      "<class 'scipy.sparse.csr.csr_matrix'>\n",
      "size of test_text: (362, 5092)\n",
      "<class 'numpy.ndarray'>\n",
      "size of test_labels: (362,)\n"
     ]
    },
    {
     "data": {
      "text/plain": [
       "Counter({1: 181, 0: 181})"
      ]
     },
     "execution_count": 45,
     "metadata": {},
     "output_type": "execute_result"
    }
   ],
   "source": [
    "print(\"size of test_text: {}\".format(test_text.shape))\n",
    "\n",
    "print(\"size of test_labels: {}\".format(test_labels.shape))\n",
    "collections.Counter(test_labels)\n",
    "\n"
   ]
  },
  {
   "cell_type": "code",
   "execution_count": 19,
   "metadata": {},
   "outputs": [],
   "source": [
    "from sklearn.naive_bayes import MultinomialNB\n",
    "nb = MultinomialNB()\n"
   ]
  },
  {
   "cell_type": "code",
   "execution_count": 20,
   "metadata": {},
   "outputs": [
    {
     "data": {
      "text/plain": [
       "MultinomialNB(alpha=1.0, class_prior=None, fit_prior=True)"
      ]
     },
     "execution_count": 20,
     "metadata": {},
     "output_type": "execute_result"
    }
   ],
   "source": [
    "nb.fit(train_text,train_labels)"
   ]
  },
  {
   "cell_type": "code",
   "execution_count": 21,
   "metadata": {},
   "outputs": [],
   "source": [
    "train_pred = nb.predict(train_text)"
   ]
  },
  {
   "cell_type": "code",
   "execution_count": 22,
   "metadata": {},
   "outputs": [
    {
     "name": "stdout",
     "output_type": "stream",
     "text": [
      "Naive Bayes In Sample F1 and Accuracy Scores:\n",
      "F1 score 96.89%\n",
      "Accuracy score 96.89%\n"
     ]
    }
   ],
   "source": [
    "print('Naive Bayes In Sample F1 and Accuracy Scores:')\n",
    "print('F1 score {:.4}%'.format(f1_score(train_labels, train_pred, average='macro')*100 ))\n",
    "print ('Accuracy score {:.4}%'.format(accuracy_score(train_labels, train_pred)*100))"
   ]
  },
  {
   "cell_type": "code",
   "execution_count": 23,
   "metadata": {},
   "outputs": [
    {
     "data": {
      "text/html": [
       "<div>\n",
       "<style scoped>\n",
       "    .dataframe tbody tr th:only-of-type {\n",
       "        vertical-align: middle;\n",
       "    }\n",
       "\n",
       "    .dataframe tbody tr th {\n",
       "        vertical-align: top;\n",
       "    }\n",
       "\n",
       "    .dataframe thead th {\n",
       "        text-align: right;\n",
       "    }\n",
       "</style>\n",
       "<table border=\"1\" class=\"dataframe\">\n",
       "  <thead>\n",
       "    <tr style=\"text-align: right;\">\n",
       "      <th></th>\n",
       "      <th>clean_title</th>\n",
       "      <th>clean_text</th>\n",
       "    </tr>\n",
       "    <tr>\n",
       "      <th>label</th>\n",
       "      <th></th>\n",
       "      <th></th>\n",
       "    </tr>\n",
       "  </thead>\n",
       "  <tbody>\n",
       "    <tr>\n",
       "      <td>0</td>\n",
       "      <td>16</td>\n",
       "      <td>16</td>\n",
       "    </tr>\n",
       "    <tr>\n",
       "      <td>1</td>\n",
       "      <td>29</td>\n",
       "      <td>29</td>\n",
       "    </tr>\n",
       "  </tbody>\n",
       "</table>\n",
       "</div>"
      ],
      "text/plain": [
       "       clean_title  clean_text\n",
       "label                         \n",
       "0               16          16\n",
       "1               29          29"
      ]
     },
     "execution_count": 23,
     "metadata": {},
     "output_type": "execute_result"
    }
   ],
   "source": [
    "combined.loc[np.where(train_labels != train_pred)[0].tolist()].groupby('label').agg('count')"
   ]
  },
  {
   "cell_type": "code",
   "execution_count": 24,
   "metadata": {},
   "outputs": [
    {
     "name": "stdout",
     "output_type": "stream",
     "text": [
      "Naive Bayes Out of Sample F1 and Accuracy Scores:\n",
      "F1 score 93.63%\n",
      "Accuracy score 93.65%\n"
     ]
    }
   ],
   "source": [
    "test_pred = nb.predict(test_text)\n",
    "print('Naive Bayes Out of Sample F1 and Accuracy Scores:')\n",
    "print('F1 score {:.4}%'.format(f1_score(test_labels, test_pred, average='macro')*100 ))\n",
    "print ('Accuracy score {:.4}%'.format(accuracy_score(test_labels, test_pred)*100))"
   ]
  },
  {
   "cell_type": "code",
   "execution_count": 25,
   "metadata": {},
   "outputs": [
    {
     "data": {
      "text/html": [
       "<div>\n",
       "<style scoped>\n",
       "    .dataframe tbody tr th:only-of-type {\n",
       "        vertical-align: middle;\n",
       "    }\n",
       "\n",
       "    .dataframe tbody tr th {\n",
       "        vertical-align: top;\n",
       "    }\n",
       "\n",
       "    .dataframe thead th {\n",
       "        text-align: right;\n",
       "    }\n",
       "</style>\n",
       "<table border=\"1\" class=\"dataframe\">\n",
       "  <thead>\n",
       "    <tr style=\"text-align: right;\">\n",
       "      <th></th>\n",
       "      <th>clean_title</th>\n",
       "      <th>clean_text</th>\n",
       "    </tr>\n",
       "    <tr>\n",
       "      <th>label</th>\n",
       "      <th></th>\n",
       "      <th></th>\n",
       "    </tr>\n",
       "  </thead>\n",
       "  <tbody>\n",
       "    <tr>\n",
       "      <td>1</td>\n",
       "      <td>23</td>\n",
       "      <td>23</td>\n",
       "    </tr>\n",
       "  </tbody>\n",
       "</table>\n",
       "</div>"
      ],
      "text/plain": [
       "       clean_title  clean_text\n",
       "label                         \n",
       "1               23          23"
      ]
     },
     "execution_count": 25,
     "metadata": {},
     "output_type": "execute_result"
    }
   ],
   "source": [
    "combined.loc[np.where(test_labels != test_pred)[0].tolist()].groupby('label').agg('count')"
   ]
  },
  {
   "cell_type": "markdown",
   "metadata": {},
   "source": [
    "# Experiment 2\n",
    "## Augmenting with Neural Fake News\n",
    "\n",
    "905 Real News, 905 Fake (neural and human combined)\n",
    "\n",
    "80% Train = 1448\n",
    "20% Test = 362 (1/2 Real, 1/2 Human Fake)\n",
    "\n",
    "Train on (1/2 real news, 1/2 fake news (1/4 human fake + 1/4 neural fake))\n",
    "\n",
    "Human Fake = 543 (362 for train, 181 for test)\n",
    "\n",
    "Neural Fake = 362 for train"
   ]
  },
  {
   "cell_type": "code",
   "execution_count": 26,
   "metadata": {},
   "outputs": [
    {
     "name": "stdout",
     "output_type": "stream",
     "text": [
      "(908, 3)\n",
      "(905, 3)\n",
      "(12160, 3)\n"
     ]
    }
   ],
   "source": [
    "print(df_grover.shape)\n",
    "print(df_real.shape)\n",
    "print(df_fake.shape)"
   ]
  },
  {
   "cell_type": "code",
   "execution_count": 27,
   "metadata": {},
   "outputs": [
    {
     "name": "stdout",
     "output_type": "stream",
     "text": [
      "(543, 4)\n"
     ]
    },
    {
     "name": "stderr",
     "output_type": "stream",
     "text": [
      "/opt/anaconda3/lib/python3.7/site-packages/ipykernel_launcher.py:4: SettingWithCopyWarning: \n",
      "A value is trying to be set on a copy of a slice from a DataFrame.\n",
      "Try using .loc[row_indexer,col_indexer] = value instead\n",
      "\n",
      "See the caveats in the documentation: http://pandas.pydata.org/pandas-docs/stable/user_guide/indexing.html#returning-a-view-versus-a-copy\n",
      "  after removing the cwd from sys.path.\n",
      "/opt/anaconda3/lib/python3.7/site-packages/pandas/core/frame.py:4102: SettingWithCopyWarning: \n",
      "A value is trying to be set on a copy of a slice from a DataFrame\n",
      "\n",
      "See the caveats in the documentation: http://pandas.pydata.org/pandas-docs/stable/user_guide/indexing.html#returning-a-view-versus-a-copy\n",
      "  errors=errors,\n"
     ]
    },
    {
     "data": {
      "text/html": [
       "<div>\n",
       "<style scoped>\n",
       "    .dataframe tbody tr th:only-of-type {\n",
       "        vertical-align: middle;\n",
       "    }\n",
       "\n",
       "    .dataframe tbody tr th {\n",
       "        vertical-align: top;\n",
       "    }\n",
       "\n",
       "    .dataframe thead th {\n",
       "        text-align: right;\n",
       "    }\n",
       "</style>\n",
       "<table border=\"1\" class=\"dataframe\">\n",
       "  <thead>\n",
       "    <tr style=\"text-align: right;\">\n",
       "      <th></th>\n",
       "      <th>clean_title</th>\n",
       "      <th>clean_text</th>\n",
       "      <th>label</th>\n",
       "    </tr>\n",
       "  </thead>\n",
       "  <tbody>\n",
       "    <tr>\n",
       "      <td>4737</td>\n",
       "      <td>politics populism mudslinging undermines democ...</td>\n",
       "      <td>politics populism mudslinging undermines democ...</td>\n",
       "      <td>0</td>\n",
       "    </tr>\n",
       "    <tr>\n",
       "      <td>11030</td>\n",
       "      <td>oh lovely war!</td>\n",
       "      <td>oh lovely war! delusional foreign policy could...</td>\n",
       "      <td>0</td>\n",
       "    </tr>\n",
       "    <tr>\n",
       "      <td>6353</td>\n",
       "      <td>mayhem awaits crooked hillary clinton advised ...</td>\n",
       "      <td>mayhem awaits crooked hillary clinton advised ...</td>\n",
       "      <td>0</td>\n",
       "    </tr>\n",
       "    <tr>\n",
       "      <td>9477</td>\n",
       "      <td>time! cnn fires donna brazile rigging debates ...</td>\n",
       "      <td>email cnn made official monday firing commenta...</td>\n",
       "      <td>0</td>\n",
       "    </tr>\n",
       "    <tr>\n",
       "      <td>655</td>\n",
       "      <td>turkeys rivalry kurds likely complicate raqqa ...</td>\n",
       "      <td>turkey repeatedly demanded us allow kurds part...</td>\n",
       "      <td>0</td>\n",
       "    </tr>\n",
       "  </tbody>\n",
       "</table>\n",
       "</div>"
      ],
      "text/plain": [
       "                                             clean_title  \\\n",
       "4737   politics populism mudslinging undermines democ...   \n",
       "11030                                     oh lovely war!   \n",
       "6353   mayhem awaits crooked hillary clinton advised ...   \n",
       "9477   time! cnn fires donna brazile rigging debates ...   \n",
       "655    turkeys rivalry kurds likely complicate raqqa ...   \n",
       "\n",
       "                                              clean_text  label  \n",
       "4737   politics populism mudslinging undermines democ...      0  \n",
       "11030  oh lovely war! delusional foreign policy could...      0  \n",
       "6353   mayhem awaits crooked hillary clinton advised ...      0  \n",
       "9477   email cnn made official monday firing commenta...      0  \n",
       "655    turkey repeatedly demanded us allow kurds part...      0  "
      ]
     },
     "execution_count": 27,
     "metadata": {},
     "output_type": "execute_result"
    }
   ],
   "source": [
    "trim_size = int(df_real.shape[0] * 0.6)\n",
    "chosen_idx = np.random.choice(df_fake.shape[0], replace=False, size=trim_size)\n",
    "df_fake_trim_2 = df_fake.iloc[chosen_idx]\n",
    "df_fake_trim_2['label'] = 0\n",
    "print(df_fake_trim_2.shape)\n",
    "df_fake_trim_2.drop(['url'], axis=1, inplace= True)\n",
    "df_fake_trim_2.head()"
   ]
  },
  {
   "cell_type": "code",
   "execution_count": 28,
   "metadata": {},
   "outputs": [
    {
     "name": "stdout",
     "output_type": "stream",
     "text": [
      "(362, 3)\n"
     ]
    },
    {
     "name": "stderr",
     "output_type": "stream",
     "text": [
      "/opt/anaconda3/lib/python3.7/site-packages/ipykernel_launcher.py:4: SettingWithCopyWarning: \n",
      "A value is trying to be set on a copy of a slice from a DataFrame.\n",
      "Try using .loc[row_indexer,col_indexer] = value instead\n",
      "\n",
      "See the caveats in the documentation: http://pandas.pydata.org/pandas-docs/stable/user_guide/indexing.html#returning-a-view-versus-a-copy\n",
      "  after removing the cwd from sys.path.\n"
     ]
    },
    {
     "data": {
      "text/html": [
       "<div>\n",
       "<style scoped>\n",
       "    .dataframe tbody tr th:only-of-type {\n",
       "        vertical-align: middle;\n",
       "    }\n",
       "\n",
       "    .dataframe tbody tr th {\n",
       "        vertical-align: top;\n",
       "    }\n",
       "\n",
       "    .dataframe thead th {\n",
       "        text-align: right;\n",
       "    }\n",
       "</style>\n",
       "<table border=\"1\" class=\"dataframe\">\n",
       "  <thead>\n",
       "    <tr style=\"text-align: right;\">\n",
       "      <th></th>\n",
       "      <th>clean_title</th>\n",
       "      <th>clean_text</th>\n",
       "      <th>label</th>\n",
       "    </tr>\n",
       "  </thead>\n",
       "  <tbody>\n",
       "    <tr>\n",
       "      <td>313</td>\n",
       "      <td>customer calls companies rise amid coronavirus...</td>\n",
       "      <td>warning signs surfaced market wireless communi...</td>\n",
       "      <td>0</td>\n",
       "    </tr>\n",
       "    <tr>\n",
       "      <td>193</td>\n",
       "      <td>benny gantz breaking vows says would serve net...</td>\n",
       "      <td>rep bart custer dohio calling upcoming  budget...</td>\n",
       "      <td>0</td>\n",
       "    </tr>\n",
       "    <tr>\n",
       "      <td>164</td>\n",
       "      <td>shielding fetus coronavirus</td>\n",
       "      <td>image pbs humans microbes vulnerable various v...</td>\n",
       "      <td>0</td>\n",
       "    </tr>\n",
       "    <tr>\n",
       "      <td>212</td>\n",
       "      <td>rhode island pulls new yorkers keep virus bay</td>\n",
       "      <td>rhode islands attorney general ashley schmidt ...</td>\n",
       "      <td>0</td>\n",
       "    </tr>\n",
       "    <tr>\n",
       "      <td>205</td>\n",
       "      <td>much public know coronavirus</td>\n",
       "      <td>please enable javascript watch video hollywood...</td>\n",
       "      <td>0</td>\n",
       "    </tr>\n",
       "  </tbody>\n",
       "</table>\n",
       "</div>"
      ],
      "text/plain": [
       "                                           clean_title  \\\n",
       "313  customer calls companies rise amid coronavirus...   \n",
       "193  benny gantz breaking vows says would serve net...   \n",
       "164                        shielding fetus coronavirus   \n",
       "212      rhode island pulls new yorkers keep virus bay   \n",
       "205                       much public know coronavirus   \n",
       "\n",
       "                                            clean_text  label  \n",
       "313  warning signs surfaced market wireless communi...      0  \n",
       "193  rep bart custer dohio calling upcoming  budget...      0  \n",
       "164  image pbs humans microbes vulnerable various v...      0  \n",
       "212  rhode islands attorney general ashley schmidt ...      0  \n",
       "205  please enable javascript watch video hollywood...      0  "
      ]
     },
     "execution_count": 28,
     "metadata": {},
     "output_type": "execute_result"
    }
   ],
   "source": [
    "trim_size = int(df_real.shape[0]*0.4)\n",
    "chosen_idx = np.random.choice(df_grover.shape[0], replace=False, size=trim_size)\n",
    "df_grover_trim = df_grover.iloc[chosen_idx]\n",
    "df_grover_trim['label'] = 0\n",
    "print(df_grover_trim.shape)\n",
    "df_grover_trim.head()"
   ]
  },
  {
   "cell_type": "code",
   "execution_count": 29,
   "metadata": {},
   "outputs": [
    {
     "name": "stdout",
     "output_type": "stream",
     "text": [
      "(905, 3)\n"
     ]
    },
    {
     "data": {
      "text/html": [
       "<div>\n",
       "<style scoped>\n",
       "    .dataframe tbody tr th:only-of-type {\n",
       "        vertical-align: middle;\n",
       "    }\n",
       "\n",
       "    .dataframe tbody tr th {\n",
       "        vertical-align: top;\n",
       "    }\n",
       "\n",
       "    .dataframe thead th {\n",
       "        text-align: right;\n",
       "    }\n",
       "</style>\n",
       "<table border=\"1\" class=\"dataframe\">\n",
       "  <thead>\n",
       "    <tr style=\"text-align: right;\">\n",
       "      <th></th>\n",
       "      <th>clean_title</th>\n",
       "      <th>clean_text</th>\n",
       "      <th>label</th>\n",
       "    </tr>\n",
       "  </thead>\n",
       "  <tbody>\n",
       "    <tr>\n",
       "      <td>0</td>\n",
       "      <td>trump extends federal social distancing guidel...</td>\n",
       "      <td>washington cnn president donald trump said sun...</td>\n",
       "      <td>1</td>\n",
       "    </tr>\n",
       "    <tr>\n",
       "      <td>1</td>\n",
       "      <td>coronavirus live updates global pandemic kills</td>\n",
       "      <td>exterior elmhurst hospital queens sunday march...</td>\n",
       "      <td>1</td>\n",
       "    </tr>\n",
       "    <tr>\n",
       "      <td>2</td>\n",
       "      <td>trump concedes us coronavirus death toll could</td>\n",
       "      <td>cnn president donald trump acknowledged sunday...</td>\n",
       "      <td>1</td>\n",
       "    </tr>\n",
       "    <tr>\n",
       "      <td>3</td>\n",
       "      <td>donald trumps special day</td>\n",
       "      <td>sign get new weekly column newsletter looking ...</td>\n",
       "      <td>1</td>\n",
       "    </tr>\n",
       "    <tr>\n",
       "      <td>4</td>\n",
       "      <td>long trumps poll surge last</td>\n",
       "      <td>cnn  race publicly least largely halted countr...</td>\n",
       "      <td>1</td>\n",
       "    </tr>\n",
       "  </tbody>\n",
       "</table>\n",
       "</div>"
      ],
      "text/plain": [
       "                                         clean_title  \\\n",
       "0  trump extends federal social distancing guidel...   \n",
       "1     coronavirus live updates global pandemic kills   \n",
       "2     trump concedes us coronavirus death toll could   \n",
       "3                          donald trumps special day   \n",
       "4                        long trumps poll surge last   \n",
       "\n",
       "                                          clean_text  label  \n",
       "0  washington cnn president donald trump said sun...      1  \n",
       "1  exterior elmhurst hospital queens sunday march...      1  \n",
       "2  cnn president donald trump acknowledged sunday...      1  \n",
       "3  sign get new weekly column newsletter looking ...      1  \n",
       "4  cnn  race publicly least largely halted countr...      1  "
      ]
     },
     "execution_count": 29,
     "metadata": {},
     "output_type": "execute_result"
    }
   ],
   "source": [
    "print(df_real.shape)\n",
    "df_real.head()"
   ]
  },
  {
   "cell_type": "code",
   "execution_count": 30,
   "metadata": {},
   "outputs": [
    {
     "name": "stdout",
     "output_type": "stream",
     "text": [
      "(181, 3)\n",
      "(724, 3)\n"
     ]
    }
   ],
   "source": [
    "#Create Test Set first from trimmed\n",
    "trim_size = int(df_real.shape[0]*.2)\n",
    "mask =  np.random.choice(df_real.shape[0], trim_size, replace=False) \n",
    "neg_mask = [i for i in range(0, df_real.shape[0]) if i not in mask]\n",
    "df_real_test = df_real.iloc[mask]\n",
    "df_real_train = df_real.iloc[neg_mask]\n",
    "print(df_real_test.shape)\n",
    "print(df_real_train.shape)"
   ]
  },
  {
   "cell_type": "code",
   "execution_count": 31,
   "metadata": {},
   "outputs": [
    {
     "name": "stdout",
     "output_type": "stream",
     "text": [
      "(543, 3)\n",
      "(181, 3)\n",
      "(362, 3)\n"
     ]
    }
   ],
   "source": [
    "#Create Test Set first from trimmed\n",
    "print(df_fake_trim_2.shape)\n",
    "trim_size = int(df_fake_trim_2.shape[0]*(1/3))\n",
    "mask =  np.random.choice(df_fake_trim_2.shape[0], trim_size, replace=False) \n",
    "neg_mask = [i for i in range(0, df_fake_trim_2.shape[0]) if i not in mask]\n",
    "df_fake_trim_2_test = df_fake_trim_2.iloc[mask]\n",
    "df_fake_trim_2_train = df_fake_trim_2.iloc[neg_mask]\n",
    "print(df_fake_trim_2_test.shape)\n",
    "print(df_fake_trim_2_train.shape)"
   ]
  },
  {
   "cell_type": "code",
   "execution_count": 32,
   "metadata": {},
   "outputs": [],
   "source": [
    "#combine both the real and trimmed fake news into one df\n",
    "combined_train = pd.concat([df_real_train,df_fake_trim_2_train,df_grover_trim],ignore_index=True)\n",
    "combined_test = pd.concat([df_real_test,df_fake_trim_2_test],ignore_index=True)"
   ]
  },
  {
   "cell_type": "code",
   "execution_count": 33,
   "metadata": {},
   "outputs": [
    {
     "name": "stdout",
     "output_type": "stream",
     "text": [
      "(1448, 3)\n",
      "                                         clean_title  \\\n",
      "0  trump extends federal social distancing guidel...   \n",
      "1     coronavirus live updates global pandemic kills   \n",
      "2                          donald trumps special day   \n",
      "3                        long trumps poll surge last   \n",
      "4  breakdown false misleading statements trump ro...   \n",
      "\n",
      "                                          clean_text  label  \n",
      "0  washington cnn president donald trump said sun...      1  \n",
      "1  exterior elmhurst hospital queens sunday march...      1  \n",
      "2  sign get new weekly column newsletter looking ...      1  \n",
      "3  cnn  race publicly least largely halted countr...      1  \n",
      "4  cnn president donald trump made numerous false...      1  \n"
     ]
    },
    {
     "data": {
      "text/html": [
       "<div>\n",
       "<style scoped>\n",
       "    .dataframe tbody tr th:only-of-type {\n",
       "        vertical-align: middle;\n",
       "    }\n",
       "\n",
       "    .dataframe tbody tr th {\n",
       "        vertical-align: top;\n",
       "    }\n",
       "\n",
       "    .dataframe thead th {\n",
       "        text-align: right;\n",
       "    }\n",
       "</style>\n",
       "<table border=\"1\" class=\"dataframe\">\n",
       "  <thead>\n",
       "    <tr style=\"text-align: right;\">\n",
       "      <th></th>\n",
       "      <th>clean_title</th>\n",
       "      <th>clean_text</th>\n",
       "      <th>label</th>\n",
       "    </tr>\n",
       "  </thead>\n",
       "  <tbody>\n",
       "    <tr>\n",
       "      <td>1443</td>\n",
       "      <td>irs coronavirusextended deadlines apply taxes</td>\n",
       "      <td>reuters  office personnel management evaluatin...</td>\n",
       "      <td>0</td>\n",
       "    </tr>\n",
       "    <tr>\n",
       "      <td>1444</td>\n",
       "      <td>tornado rips arkansas city injuring  people</td>\n",
       "      <td>kansas city mo tornado rips arkansas city caus...</td>\n",
       "      <td>0</td>\n",
       "    </tr>\n",
       "    <tr>\n",
       "      <td>1445</td>\n",
       "      <td>online festival celebrates arts affected covid</td>\n",
       "      <td>vancouver prince edward island announced  inau...</td>\n",
       "      <td>0</td>\n",
       "    </tr>\n",
       "    <tr>\n",
       "      <td>1446</td>\n",
       "      <td>happy little miracle dark times plant nursery ...</td>\n",
       "      <td>whole plants often make life impossible small ...</td>\n",
       "      <td>0</td>\n",
       "    </tr>\n",
       "    <tr>\n",
       "      <td>1447</td>\n",
       "      <td>dr deborah birx urging calm come heavy criticism</td>\n",
       "      <td>august  ad age small business risk  insurance ...</td>\n",
       "      <td>0</td>\n",
       "    </tr>\n",
       "  </tbody>\n",
       "</table>\n",
       "</div>"
      ],
      "text/plain": [
       "                                            clean_title  \\\n",
       "1443      irs coronavirusextended deadlines apply taxes   \n",
       "1444        tornado rips arkansas city injuring  people   \n",
       "1445     online festival celebrates arts affected covid   \n",
       "1446  happy little miracle dark times plant nursery ...   \n",
       "1447   dr deborah birx urging calm come heavy criticism   \n",
       "\n",
       "                                             clean_text  label  \n",
       "1443  reuters  office personnel management evaluatin...      0  \n",
       "1444  kansas city mo tornado rips arkansas city caus...      0  \n",
       "1445  vancouver prince edward island announced  inau...      0  \n",
       "1446  whole plants often make life impossible small ...      0  \n",
       "1447  august  ad age small business risk  insurance ...      0  "
      ]
     },
     "execution_count": 33,
     "metadata": {},
     "output_type": "execute_result"
    }
   ],
   "source": [
    "print(combined_train.shape)\n",
    "print(combined_train.head())\n",
    "combined_train.tail()"
   ]
  },
  {
   "cell_type": "code",
   "execution_count": 34,
   "metadata": {},
   "outputs": [
    {
     "name": "stdout",
     "output_type": "stream",
     "text": [
      "(362, 3)\n",
      "                                         clean_title  \\\n",
      "0          life time coronavirus photos around world   \n",
      "1  pentagon asks reconsider massive cloud contrac...   \n",
      "2  experts converge plans easing coronavirus rest...   \n",
      "3                    democratic candidates president   \n",
      "4  california dmv closing field offices public st...   \n",
      "\n",
      "                                          clean_text  label  \n",
      "0  newsletter mustread stories la times get days ...      1  \n",
      "1  pentagon wishes reconsider award controversial...      1  \n",
      "2  proposals come white houses current day guidel...      1  \n",
      "3  race democratic presidential nomination two ca...      1  \n",
      "4  faced concerns among workers spread covid cali...      1  \n"
     ]
    },
    {
     "data": {
      "text/html": [
       "<div>\n",
       "<style scoped>\n",
       "    .dataframe tbody tr th:only-of-type {\n",
       "        vertical-align: middle;\n",
       "    }\n",
       "\n",
       "    .dataframe tbody tr th {\n",
       "        vertical-align: top;\n",
       "    }\n",
       "\n",
       "    .dataframe thead th {\n",
       "        text-align: right;\n",
       "    }\n",
       "</style>\n",
       "<table border=\"1\" class=\"dataframe\">\n",
       "  <thead>\n",
       "    <tr style=\"text-align: right;\">\n",
       "      <th></th>\n",
       "      <th>clean_title</th>\n",
       "      <th>clean_text</th>\n",
       "      <th>label</th>\n",
       "    </tr>\n",
       "  </thead>\n",
       "  <tbody>\n",
       "    <tr>\n",
       "      <td>357</td>\n",
       "      <td>breaking jury finds #oregonstandoff seven incl...</td>\n",
       "      <td>breaking jury finds #oregonstandoff seven incl...</td>\n",
       "      <td>0</td>\n",
       "    </tr>\n",
       "    <tr>\n",
       "      <td>358</td>\n",
       "      <td>turkeys face deep divisions thanksgiving vote</td>\n",
       "      <td>november   group  white holland turkeys gigant...</td>\n",
       "      <td>0</td>\n",
       "    </tr>\n",
       "    <tr>\n",
       "      <td>359</td>\n",
       "      <td>cnn over! look trump moments ago end wolf blit...</td>\n",
       "      <td>story paris swade  cnn cnn over! need black te...</td>\n",
       "      <td>0</td>\n",
       "    </tr>\n",
       "    <tr>\n",
       "      <td>360</td>\n",
       "      <td>king tut eastern european according dna results</td>\n",
       "      <td>posted eddie scientists zurichbased dna geneal...</td>\n",
       "      <td>0</td>\n",
       "    </tr>\n",
       "    <tr>\n",
       "      <td>361</td>\n",
       "      <td>#trumpprotest communists mobilize disrupt pres...</td>\n",
       "      <td>home  articles bound  #trumpprotest communists...</td>\n",
       "      <td>0</td>\n",
       "    </tr>\n",
       "  </tbody>\n",
       "</table>\n",
       "</div>"
      ],
      "text/plain": [
       "                                           clean_title  \\\n",
       "357  breaking jury finds #oregonstandoff seven incl...   \n",
       "358      turkeys face deep divisions thanksgiving vote   \n",
       "359  cnn over! look trump moments ago end wolf blit...   \n",
       "360    king tut eastern european according dna results   \n",
       "361  #trumpprotest communists mobilize disrupt pres...   \n",
       "\n",
       "                                            clean_text  label  \n",
       "357  breaking jury finds #oregonstandoff seven incl...      0  \n",
       "358  november   group  white holland turkeys gigant...      0  \n",
       "359  story paris swade  cnn cnn over! need black te...      0  \n",
       "360  posted eddie scientists zurichbased dna geneal...      0  \n",
       "361  home  articles bound  #trumpprotest communists...      0  "
      ]
     },
     "execution_count": 34,
     "metadata": {},
     "output_type": "execute_result"
    }
   ],
   "source": [
    "print(combined_test.shape)\n",
    "print(combined_test.head())\n",
    "combined_test.tail()"
   ]
  },
  {
   "cell_type": "code",
   "execution_count": 48,
   "metadata": {},
   "outputs": [],
   "source": [
    "train_text = combined_train['clean_text'].values\n",
    "test_text = combined_test['clean_text'].values\n",
    "train_labels = combined_train['label'].values\n",
    "test_labels = combined_test['label'].values"
   ]
  },
  {
   "cell_type": "code",
   "execution_count": 36,
   "metadata": {},
   "outputs": [
    {
     "name": "stdout",
     "output_type": "stream",
     "text": [
      "(1448,)\n",
      "(362,)\n",
      "(1810,)\n"
     ]
    }
   ],
   "source": [
    "type(train_text)\n",
    "print(train_text.shape)\n",
    "print(test_text.shape)\n",
    "fit_text = np.concatenate((train_text, test_text))\n",
    "print(fit_text.shape)"
   ]
  },
  {
   "cell_type": "code",
   "execution_count": 37,
   "metadata": {},
   "outputs": [
    {
     "name": "stdout",
     "output_type": "stream",
     "text": [
      "<class 'scipy.sparse.csr.csr_matrix'>\n",
      "tf idf vectorized text shape: (1448, 5092)\n",
      "original text shape: (1448,)\n",
      "<class 'scipy.sparse.csr.csr_matrix'>\n",
      "tf idf vectorized text shape: (362, 5092)\n",
      "original text shape: (362,)\n"
     ]
    }
   ],
   "source": [
    "tfidf_2 = TfidfVectorizer(ngram_range=(1,2), max_df= 0.85, min_df= 0.01)\n",
    "tfidf_2.fit(fit_text)\n",
    "train_text = tfidf_2.transform(train_text)\n",
    "print(type(train_text))\n",
    "print(\"tf idf vectorized text shape: {}\".format(train_text.shape))\n",
    "print(\"original text shape: {}\".format(combined_train['clean_text'].shape))\n",
    "\n",
    "test_text = tfidf_2.transform(test_text)\n",
    "print(type(test_text))\n",
    "print(\"tf idf vectorized text shape: {}\".format(test_text.shape))\n",
    "print(\"original text shape: {}\".format(combined_test['clean_text'].shape))"
   ]
  },
  {
   "cell_type": "code",
   "execution_count": 38,
   "metadata": {},
   "outputs": [],
   "source": [
    "nb_2 = MultinomialNB()\n",
    "nb_2.fit(train_text,train_labels)\n",
    "train_pred = nb_2.predict(train_text)"
   ]
  },
  {
   "cell_type": "code",
   "execution_count": 39,
   "metadata": {},
   "outputs": [
    {
     "name": "stdout",
     "output_type": "stream",
     "text": [
      "Naive Bayes In Sample F1 and Accuracy Scores:\n",
      "F1 score 91.37%\n",
      "Accuracy score 91.37%\n"
     ]
    }
   ],
   "source": [
    "print('Naive Bayes In Sample F1 and Accuracy Scores:')\n",
    "print('F1 score {:.4}%'.format(f1_score(train_labels, train_pred, average='macro')*100 ))\n",
    "print ('Accuracy score {:.4}%'.format(accuracy_score(train_labels, train_pred)*100))"
   ]
  },
  {
   "cell_type": "code",
   "execution_count": 40,
   "metadata": {},
   "outputs": [
    {
     "data": {
      "text/html": [
       "<div>\n",
       "<style scoped>\n",
       "    .dataframe tbody tr th:only-of-type {\n",
       "        vertical-align: middle;\n",
       "    }\n",
       "\n",
       "    .dataframe tbody tr th {\n",
       "        vertical-align: top;\n",
       "    }\n",
       "\n",
       "    .dataframe thead th {\n",
       "        text-align: right;\n",
       "    }\n",
       "</style>\n",
       "<table border=\"1\" class=\"dataframe\">\n",
       "  <thead>\n",
       "    <tr style=\"text-align: right;\">\n",
       "      <th></th>\n",
       "      <th>clean_title</th>\n",
       "      <th>clean_text</th>\n",
       "    </tr>\n",
       "    <tr>\n",
       "      <th>label</th>\n",
       "      <th></th>\n",
       "      <th></th>\n",
       "    </tr>\n",
       "  </thead>\n",
       "  <tbody>\n",
       "    <tr>\n",
       "      <td>0</td>\n",
       "      <td>61</td>\n",
       "      <td>61</td>\n",
       "    </tr>\n",
       "    <tr>\n",
       "      <td>1</td>\n",
       "      <td>64</td>\n",
       "      <td>64</td>\n",
       "    </tr>\n",
       "  </tbody>\n",
       "</table>\n",
       "</div>"
      ],
      "text/plain": [
       "       clean_title  clean_text\n",
       "label                         \n",
       "0               61          61\n",
       "1               64          64"
      ]
     },
     "execution_count": 40,
     "metadata": {},
     "output_type": "execute_result"
    }
   ],
   "source": [
    "combined.loc[np.where(train_labels != train_pred)[0].tolist()].groupby('label').agg('count')"
   ]
  },
  {
   "cell_type": "code",
   "execution_count": 41,
   "metadata": {},
   "outputs": [
    {
     "name": "stdout",
     "output_type": "stream",
     "text": [
      "Naive Bayes Out of Sample F1 and Accuracy Scores:\n",
      "F1 score 93.07%\n",
      "Accuracy score 93.09%\n"
     ]
    }
   ],
   "source": [
    "test_pred = nb_2.predict(test_text)\n",
    "print('Naive Bayes Out of Sample F1 and Accuracy Scores:')\n",
    "print('F1 score {:.4}%'.format(f1_score(test_labels, test_pred, average='macro')*100 ))\n",
    "print ('Accuracy score {:.4}%'.format(accuracy_score(test_labels, test_pred)*100))"
   ]
  },
  {
   "cell_type": "code",
   "execution_count": 42,
   "metadata": {},
   "outputs": [
    {
     "data": {
      "text/html": [
       "<div>\n",
       "<style scoped>\n",
       "    .dataframe tbody tr th:only-of-type {\n",
       "        vertical-align: middle;\n",
       "    }\n",
       "\n",
       "    .dataframe tbody tr th {\n",
       "        vertical-align: top;\n",
       "    }\n",
       "\n",
       "    .dataframe thead th {\n",
       "        text-align: right;\n",
       "    }\n",
       "</style>\n",
       "<table border=\"1\" class=\"dataframe\">\n",
       "  <thead>\n",
       "    <tr style=\"text-align: right;\">\n",
       "      <th></th>\n",
       "      <th>clean_title</th>\n",
       "      <th>clean_text</th>\n",
       "    </tr>\n",
       "    <tr>\n",
       "      <th>label</th>\n",
       "      <th></th>\n",
       "      <th></th>\n",
       "    </tr>\n",
       "  </thead>\n",
       "  <tbody>\n",
       "    <tr>\n",
       "      <td>1</td>\n",
       "      <td>25</td>\n",
       "      <td>25</td>\n",
       "    </tr>\n",
       "  </tbody>\n",
       "</table>\n",
       "</div>"
      ],
      "text/plain": [
       "       clean_title  clean_text\n",
       "label                         \n",
       "1               25          25"
      ]
     },
     "execution_count": 42,
     "metadata": {},
     "output_type": "execute_result"
    }
   ],
   "source": [
    "combined.loc[np.where(test_labels != test_pred)[0].tolist()].groupby('label').agg('count')"
   ]
  },
  {
   "cell_type": "code",
   "execution_count": null,
   "metadata": {},
   "outputs": [],
   "source": []
  }
 ],
 "metadata": {
  "kernelspec": {
   "display_name": "Python 3",
   "language": "python",
   "name": "python3"
  },
  "language_info": {
   "codemirror_mode": {
    "name": "ipython",
    "version": 3
   },
   "file_extension": ".py",
   "mimetype": "text/x-python",
   "name": "python",
   "nbconvert_exporter": "python",
   "pygments_lexer": "ipython3",
   "version": "3.7.4"
  }
 },
 "nbformat": 4,
 "nbformat_minor": 2
}
