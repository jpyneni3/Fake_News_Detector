{
 "cells": [
  {
   "cell_type": "code",
   "execution_count": 1,
   "metadata": {},
   "outputs": [],
   "source": [
    "import pandas as pd\n",
    "import numpy as np\n",
    "import json"
   ]
  },
  {
   "cell_type": "code",
   "execution_count": 2,
   "metadata": {},
   "outputs": [
    {
     "name": "stdout",
     "output_type": "stream",
     "text": [
      "(905, 3)\n"
     ]
    },
    {
     "data": {
      "text/html": [
       "<div>\n",
       "<style scoped>\n",
       "    .dataframe tbody tr th:only-of-type {\n",
       "        vertical-align: middle;\n",
       "    }\n",
       "\n",
       "    .dataframe tbody tr th {\n",
       "        vertical-align: top;\n",
       "    }\n",
       "\n",
       "    .dataframe thead th {\n",
       "        text-align: right;\n",
       "    }\n",
       "</style>\n",
       "<table border=\"1\" class=\"dataframe\">\n",
       "  <thead>\n",
       "    <tr style=\"text-align: right;\">\n",
       "      <th></th>\n",
       "      <th>url</th>\n",
       "      <th>title</th>\n",
       "      <th>text</th>\n",
       "    </tr>\n",
       "  </thead>\n",
       "  <tbody>\n",
       "    <tr>\n",
       "      <td>0</td>\n",
       "      <td>https://www.cnn.com/2020/03/29/politics/trump-...</td>\n",
       "      <td>Trump extends federal social distancing guidel...</td>\n",
       "      <td>Washington (CNN) President Donald Trump said S...</td>\n",
       "    </tr>\n",
       "    <tr>\n",
       "      <td>1</td>\n",
       "      <td>https://www.cnn.com/world/live-news/coronaviru...</td>\n",
       "      <td>Coronavirus live updates: Global pandemic kill...</td>\n",
       "      <td>The exterior of Elmhurst Hospital in Queens on...</td>\n",
       "    </tr>\n",
       "    <tr>\n",
       "      <td>2</td>\n",
       "      <td>https://www.cnn.com/2020/03/29/politics/trump-...</td>\n",
       "      <td>Trump concedes US coronavirus death toll could...</td>\n",
       "      <td>(CNN) President Donald Trump acknowledged Sund...</td>\n",
       "    </tr>\n",
       "    <tr>\n",
       "      <td>3</td>\n",
       "      <td>https://www.cnn.com/2020/03/29/opinions/donald...</td>\n",
       "      <td>Donald Trump's special day</td>\n",
       "      <td>Sign up to get our new weekly column as a news...</td>\n",
       "    </tr>\n",
       "    <tr>\n",
       "      <td>4</td>\n",
       "      <td>https://www.cnn.com/2020/03/29/politics/us-ele...</td>\n",
       "      <td>How long will Trump's poll surge last?</td>\n",
       "      <td>(CNN) The 2020 race, publicly at least, has la...</td>\n",
       "    </tr>\n",
       "  </tbody>\n",
       "</table>\n",
       "</div>"
      ],
      "text/plain": [
       "                                                 url  \\\n",
       "0  https://www.cnn.com/2020/03/29/politics/trump-...   \n",
       "1  https://www.cnn.com/world/live-news/coronaviru...   \n",
       "2  https://www.cnn.com/2020/03/29/politics/trump-...   \n",
       "3  https://www.cnn.com/2020/03/29/opinions/donald...   \n",
       "4  https://www.cnn.com/2020/03/29/politics/us-ele...   \n",
       "\n",
       "                                               title  \\\n",
       "0  Trump extends federal social distancing guidel...   \n",
       "1  Coronavirus live updates: Global pandemic kill...   \n",
       "2  Trump concedes US coronavirus death toll could...   \n",
       "3                         Donald Trump's special day   \n",
       "4             How long will Trump's poll surge last?   \n",
       "\n",
       "                                                text  \n",
       "0  Washington (CNN) President Donald Trump said S...  \n",
       "1  The exterior of Elmhurst Hospital in Queens on...  \n",
       "2  (CNN) President Donald Trump acknowledged Sund...  \n",
       "3  Sign up to get our new weekly column as a news...  \n",
       "4  (CNN) The 2020 race, publicly at least, has la...  "
      ]
     },
     "execution_count": 2,
     "metadata": {},
     "output_type": "execute_result"
    }
   ],
   "source": [
    "df_real = pd.read_csv('../Cleaned Data/Real_News.csv')\n",
    "df_real = df_real[['url','title','text']]\n",
    "print(df_real.shape)\n",
    "df_real.head()\n",
    "\n"
   ]
  },
  {
   "cell_type": "code",
   "execution_count": 3,
   "metadata": {},
   "outputs": [
    {
     "name": "stdout",
     "output_type": "stream",
     "text": [
      "(905, 4)\n"
     ]
    },
    {
     "data": {
      "text/html": [
       "<div>\n",
       "<style scoped>\n",
       "    .dataframe tbody tr th:only-of-type {\n",
       "        vertical-align: middle;\n",
       "    }\n",
       "\n",
       "    .dataframe tbody tr th {\n",
       "        vertical-align: top;\n",
       "    }\n",
       "\n",
       "    .dataframe thead th {\n",
       "        text-align: right;\n",
       "    }\n",
       "</style>\n",
       "<table border=\"1\" class=\"dataframe\">\n",
       "  <thead>\n",
       "    <tr style=\"text-align: right;\">\n",
       "      <th></th>\n",
       "      <th>title</th>\n",
       "      <th>text</th>\n",
       "      <th>label</th>\n",
       "    </tr>\n",
       "  </thead>\n",
       "  <tbody>\n",
       "    <tr>\n",
       "      <td>0</td>\n",
       "      <td>Trump extends federal social distancing guidel...</td>\n",
       "      <td>Washington (CNN) President Donald Trump said S...</td>\n",
       "      <td>1</td>\n",
       "    </tr>\n",
       "    <tr>\n",
       "      <td>1</td>\n",
       "      <td>Coronavirus live updates: Global pandemic kill...</td>\n",
       "      <td>The exterior of Elmhurst Hospital in Queens on...</td>\n",
       "      <td>1</td>\n",
       "    </tr>\n",
       "    <tr>\n",
       "      <td>2</td>\n",
       "      <td>Trump concedes US coronavirus death toll could...</td>\n",
       "      <td>(CNN) President Donald Trump acknowledged Sund...</td>\n",
       "      <td>1</td>\n",
       "    </tr>\n",
       "    <tr>\n",
       "      <td>3</td>\n",
       "      <td>Donald Trump's special day</td>\n",
       "      <td>Sign up to get our new weekly column as a news...</td>\n",
       "      <td>1</td>\n",
       "    </tr>\n",
       "    <tr>\n",
       "      <td>4</td>\n",
       "      <td>How long will Trump's poll surge last?</td>\n",
       "      <td>(CNN) The 2020 race, publicly at least, has la...</td>\n",
       "      <td>1</td>\n",
       "    </tr>\n",
       "  </tbody>\n",
       "</table>\n",
       "</div>"
      ],
      "text/plain": [
       "                                               title  \\\n",
       "0  Trump extends federal social distancing guidel...   \n",
       "1  Coronavirus live updates: Global pandemic kill...   \n",
       "2  Trump concedes US coronavirus death toll could...   \n",
       "3                         Donald Trump's special day   \n",
       "4             How long will Trump's poll surge last?   \n",
       "\n",
       "                                                text  label  \n",
       "0  Washington (CNN) President Donald Trump said S...      1  \n",
       "1  The exterior of Elmhurst Hospital in Queens on...      1  \n",
       "2  (CNN) President Donald Trump acknowledged Sund...      1  \n",
       "3  Sign up to get our new weekly column as a news...      1  \n",
       "4  (CNN) The 2020 race, publicly at least, has la...      1  "
      ]
     },
     "execution_count": 3,
     "metadata": {},
     "output_type": "execute_result"
    }
   ],
   "source": [
    "df_real['label'] = 1\n",
    "df_real.dropna(inplace=True)\n",
    "print(df_real.shape)\n",
    "df_real.drop(['url'],axis=1,inplace=True)\n",
    "df_real.head()"
   ]
  },
  {
   "cell_type": "code",
   "execution_count": 4,
   "metadata": {},
   "outputs": [],
   "source": [
    "df_fake = pd.read_csv('../Cleaned Data/Human_Fake_News.csv')"
   ]
  },
  {
   "cell_type": "code",
   "execution_count": 5,
   "metadata": {},
   "outputs": [
    {
     "name": "stdout",
     "output_type": "stream",
     "text": [
      "(12273, 23)\n"
     ]
    },
    {
     "data": {
      "text/html": [
       "<div>\n",
       "<style scoped>\n",
       "    .dataframe tbody tr th:only-of-type {\n",
       "        vertical-align: middle;\n",
       "    }\n",
       "\n",
       "    .dataframe tbody tr th {\n",
       "        vertical-align: top;\n",
       "    }\n",
       "\n",
       "    .dataframe thead th {\n",
       "        text-align: right;\n",
       "    }\n",
       "</style>\n",
       "<table border=\"1\" class=\"dataframe\">\n",
       "  <thead>\n",
       "    <tr style=\"text-align: right;\">\n",
       "      <th></th>\n",
       "      <th>Unnamed: 0</th>\n",
       "      <th>uuid</th>\n",
       "      <th>ord_in_thread</th>\n",
       "      <th>author</th>\n",
       "      <th>published</th>\n",
       "      <th>title</th>\n",
       "      <th>text</th>\n",
       "      <th>language</th>\n",
       "      <th>crawled</th>\n",
       "      <th>site_url</th>\n",
       "      <th>...</th>\n",
       "      <th>spam_score</th>\n",
       "      <th>main_img_url</th>\n",
       "      <th>replies_count</th>\n",
       "      <th>participants_count</th>\n",
       "      <th>likes</th>\n",
       "      <th>comments</th>\n",
       "      <th>shares</th>\n",
       "      <th>type</th>\n",
       "      <th>clean_text</th>\n",
       "      <th>clean_title</th>\n",
       "    </tr>\n",
       "  </thead>\n",
       "  <tbody>\n",
       "    <tr>\n",
       "      <td>0</td>\n",
       "      <td>0</td>\n",
       "      <td>6a175f46bcd24d39b3e962ad0f29936721db70db</td>\n",
       "      <td>0</td>\n",
       "      <td>Barracuda Brigade</td>\n",
       "      <td>2016-10-26T21:41:00.000+03:00</td>\n",
       "      <td>Muslims BUSTED: They Stole Millions In Gov’t B...</td>\n",
       "      <td>Print They should pay all the back all the mon...</td>\n",
       "      <td>english</td>\n",
       "      <td>2016-10-27T01:49:27.168+03:00</td>\n",
       "      <td>100percentfedup.com</td>\n",
       "      <td>...</td>\n",
       "      <td>0.000</td>\n",
       "      <td>http://bb4sp.com/wp-content/uploads/2016/10/Fu...</td>\n",
       "      <td>0</td>\n",
       "      <td>1</td>\n",
       "      <td>0</td>\n",
       "      <td>0</td>\n",
       "      <td>0</td>\n",
       "      <td>bias</td>\n",
       "      <td>print pay back money plus interest entire fami...</td>\n",
       "      <td>muslims busted stole millions govt benefits</td>\n",
       "    </tr>\n",
       "    <tr>\n",
       "      <td>1</td>\n",
       "      <td>1</td>\n",
       "      <td>2bdc29d12605ef9cf3f09f9875040a7113be5d5b</td>\n",
       "      <td>0</td>\n",
       "      <td>reasoning with facts</td>\n",
       "      <td>2016-10-29T08:47:11.259+03:00</td>\n",
       "      <td>Re: Why Did Attorney General Loretta Lynch Ple...</td>\n",
       "      <td>Why Did Attorney General Loretta Lynch Plead T...</td>\n",
       "      <td>english</td>\n",
       "      <td>2016-10-29T08:47:11.259+03:00</td>\n",
       "      <td>100percentfedup.com</td>\n",
       "      <td>...</td>\n",
       "      <td>0.000</td>\n",
       "      <td>http://bb4sp.com/wp-content/uploads/2016/10/Fu...</td>\n",
       "      <td>0</td>\n",
       "      <td>1</td>\n",
       "      <td>0</td>\n",
       "      <td>0</td>\n",
       "      <td>0</td>\n",
       "      <td>bias</td>\n",
       "      <td>attorney general loretta lynch plead fifth bar...</td>\n",
       "      <td>attorney general loretta lynch plead fifth</td>\n",
       "    </tr>\n",
       "    <tr>\n",
       "      <td>2</td>\n",
       "      <td>2</td>\n",
       "      <td>c70e149fdd53de5e61c29281100b9de0ed268bc3</td>\n",
       "      <td>0</td>\n",
       "      <td>Barracuda Brigade</td>\n",
       "      <td>2016-10-31T01:41:49.479+02:00</td>\n",
       "      <td>BREAKING: Weiner Cooperating With FBI On Hilla...</td>\n",
       "      <td>Red State : \\nFox News Sunday reported this mo...</td>\n",
       "      <td>english</td>\n",
       "      <td>2016-10-31T01:41:49.479+02:00</td>\n",
       "      <td>100percentfedup.com</td>\n",
       "      <td>...</td>\n",
       "      <td>0.000</td>\n",
       "      <td>http://bb4sp.com/wp-content/uploads/2016/10/Fu...</td>\n",
       "      <td>0</td>\n",
       "      <td>1</td>\n",
       "      <td>0</td>\n",
       "      <td>0</td>\n",
       "      <td>0</td>\n",
       "      <td>bias</td>\n",
       "      <td>red state  fox news sunday reported morning an...</td>\n",
       "      <td>breaking weiner cooperating fbi hillary email ...</td>\n",
       "    </tr>\n",
       "    <tr>\n",
       "      <td>3</td>\n",
       "      <td>3</td>\n",
       "      <td>7cf7c15731ac2a116dd7f629bd57ea468ed70284</td>\n",
       "      <td>0</td>\n",
       "      <td>Fed Up</td>\n",
       "      <td>2016-11-01T05:22:00.000+02:00</td>\n",
       "      <td>PIN DROP SPEECH BY FATHER OF DAUGHTER Kidnappe...</td>\n",
       "      <td>Email Kayla Mueller was a prisoner and torture...</td>\n",
       "      <td>english</td>\n",
       "      <td>2016-11-01T15:46:26.304+02:00</td>\n",
       "      <td>100percentfedup.com</td>\n",
       "      <td>...</td>\n",
       "      <td>0.068</td>\n",
       "      <td>http://100percentfedup.com/wp-content/uploads/...</td>\n",
       "      <td>0</td>\n",
       "      <td>0</td>\n",
       "      <td>0</td>\n",
       "      <td>0</td>\n",
       "      <td>0</td>\n",
       "      <td>bias</td>\n",
       "      <td>email kayla mueller prisoner tortured isis cha...</td>\n",
       "      <td>pin drop speech father daughter kidnapped kill...</td>\n",
       "    </tr>\n",
       "    <tr>\n",
       "      <td>4</td>\n",
       "      <td>4</td>\n",
       "      <td>0206b54719c7e241ffe0ad4315b808290dbe6c0f</td>\n",
       "      <td>0</td>\n",
       "      <td>Fed Up</td>\n",
       "      <td>2016-11-01T21:56:00.000+02:00</td>\n",
       "      <td>FANTASTIC! TRUMP'S 7 POINT PLAN To Reform Heal...</td>\n",
       "      <td>Email HEALTHCARE REFORM TO MAKE AMERICA GREAT ...</td>\n",
       "      <td>english</td>\n",
       "      <td>2016-11-01T23:59:42.266+02:00</td>\n",
       "      <td>100percentfedup.com</td>\n",
       "      <td>...</td>\n",
       "      <td>0.865</td>\n",
       "      <td>http://100percentfedup.com/wp-content/uploads/...</td>\n",
       "      <td>0</td>\n",
       "      <td>0</td>\n",
       "      <td>0</td>\n",
       "      <td>0</td>\n",
       "      <td>0</td>\n",
       "      <td>bias</td>\n",
       "      <td>email healthcare reform make america great sin...</td>\n",
       "      <td>fantastic trumps  point plan reform healthcare...</td>\n",
       "    </tr>\n",
       "  </tbody>\n",
       "</table>\n",
       "<p>5 rows × 23 columns</p>\n",
       "</div>"
      ],
      "text/plain": [
       "   Unnamed: 0                                      uuid  ord_in_thread  \\\n",
       "0           0  6a175f46bcd24d39b3e962ad0f29936721db70db              0   \n",
       "1           1  2bdc29d12605ef9cf3f09f9875040a7113be5d5b              0   \n",
       "2           2  c70e149fdd53de5e61c29281100b9de0ed268bc3              0   \n",
       "3           3  7cf7c15731ac2a116dd7f629bd57ea468ed70284              0   \n",
       "4           4  0206b54719c7e241ffe0ad4315b808290dbe6c0f              0   \n",
       "\n",
       "                 author                      published  \\\n",
       "0     Barracuda Brigade  2016-10-26T21:41:00.000+03:00   \n",
       "1  reasoning with facts  2016-10-29T08:47:11.259+03:00   \n",
       "2     Barracuda Brigade  2016-10-31T01:41:49.479+02:00   \n",
       "3                Fed Up  2016-11-01T05:22:00.000+02:00   \n",
       "4                Fed Up  2016-11-01T21:56:00.000+02:00   \n",
       "\n",
       "                                               title  \\\n",
       "0  Muslims BUSTED: They Stole Millions In Gov’t B...   \n",
       "1  Re: Why Did Attorney General Loretta Lynch Ple...   \n",
       "2  BREAKING: Weiner Cooperating With FBI On Hilla...   \n",
       "3  PIN DROP SPEECH BY FATHER OF DAUGHTER Kidnappe...   \n",
       "4  FANTASTIC! TRUMP'S 7 POINT PLAN To Reform Heal...   \n",
       "\n",
       "                                                text language  \\\n",
       "0  Print They should pay all the back all the mon...  english   \n",
       "1  Why Did Attorney General Loretta Lynch Plead T...  english   \n",
       "2  Red State : \\nFox News Sunday reported this mo...  english   \n",
       "3  Email Kayla Mueller was a prisoner and torture...  english   \n",
       "4  Email HEALTHCARE REFORM TO MAKE AMERICA GREAT ...  english   \n",
       "\n",
       "                         crawled             site_url  ... spam_score  \\\n",
       "0  2016-10-27T01:49:27.168+03:00  100percentfedup.com  ...      0.000   \n",
       "1  2016-10-29T08:47:11.259+03:00  100percentfedup.com  ...      0.000   \n",
       "2  2016-10-31T01:41:49.479+02:00  100percentfedup.com  ...      0.000   \n",
       "3  2016-11-01T15:46:26.304+02:00  100percentfedup.com  ...      0.068   \n",
       "4  2016-11-01T23:59:42.266+02:00  100percentfedup.com  ...      0.865   \n",
       "\n",
       "                                        main_img_url replies_count  \\\n",
       "0  http://bb4sp.com/wp-content/uploads/2016/10/Fu...             0   \n",
       "1  http://bb4sp.com/wp-content/uploads/2016/10/Fu...             0   \n",
       "2  http://bb4sp.com/wp-content/uploads/2016/10/Fu...             0   \n",
       "3  http://100percentfedup.com/wp-content/uploads/...             0   \n",
       "4  http://100percentfedup.com/wp-content/uploads/...             0   \n",
       "\n",
       "   participants_count likes  comments  shares  type  \\\n",
       "0                   1     0         0       0  bias   \n",
       "1                   1     0         0       0  bias   \n",
       "2                   1     0         0       0  bias   \n",
       "3                   0     0         0       0  bias   \n",
       "4                   0     0         0       0  bias   \n",
       "\n",
       "                                          clean_text  \\\n",
       "0  print pay back money plus interest entire fami...   \n",
       "1  attorney general loretta lynch plead fifth bar...   \n",
       "2  red state  fox news sunday reported morning an...   \n",
       "3  email kayla mueller prisoner tortured isis cha...   \n",
       "4  email healthcare reform make america great sin...   \n",
       "\n",
       "                                         clean_title  \n",
       "0        muslims busted stole millions govt benefits  \n",
       "1         attorney general loretta lynch plead fifth  \n",
       "2  breaking weiner cooperating fbi hillary email ...  \n",
       "3  pin drop speech father daughter kidnapped kill...  \n",
       "4  fantastic trumps  point plan reform healthcare...  \n",
       "\n",
       "[5 rows x 23 columns]"
      ]
     },
     "execution_count": 5,
     "metadata": {},
     "output_type": "execute_result"
    }
   ],
   "source": [
    "print(df_fake.shape)\n",
    "df_fake.head()"
   ]
  },
  {
   "cell_type": "code",
   "execution_count": 6,
   "metadata": {},
   "outputs": [],
   "source": [
    "df_fake = df_fake[['site_url','title','text']]\n",
    "df_fake.dropna(inplace=True)\n",
    "df_fake.rename(columns={\"site_url\": \"url\"}, inplace=True)\n",
    "chosen_idx = np.random.choice(df_fake.shape[0], replace=False, size=df_real.shape[0])\n",
    "df_fake_trim = df_fake.iloc[chosen_idx]"
   ]
  },
  {
   "cell_type": "code",
   "execution_count": 7,
   "metadata": {},
   "outputs": [
    {
     "name": "stdout",
     "output_type": "stream",
     "text": [
      "(905, 4)\n"
     ]
    },
    {
     "name": "stderr",
     "output_type": "stream",
     "text": [
      "/opt/anaconda3/lib/python3.7/site-packages/ipykernel_launcher.py:1: SettingWithCopyWarning: \n",
      "A value is trying to be set on a copy of a slice from a DataFrame.\n",
      "Try using .loc[row_indexer,col_indexer] = value instead\n",
      "\n",
      "See the caveats in the documentation: http://pandas.pydata.org/pandas-docs/stable/user_guide/indexing.html#returning-a-view-versus-a-copy\n",
      "  \"\"\"Entry point for launching an IPython kernel.\n",
      "/opt/anaconda3/lib/python3.7/site-packages/pandas/core/frame.py:4102: SettingWithCopyWarning: \n",
      "A value is trying to be set on a copy of a slice from a DataFrame\n",
      "\n",
      "See the caveats in the documentation: http://pandas.pydata.org/pandas-docs/stable/user_guide/indexing.html#returning-a-view-versus-a-copy\n",
      "  errors=errors,\n"
     ]
    },
    {
     "data": {
      "text/html": [
       "<div>\n",
       "<style scoped>\n",
       "    .dataframe tbody tr th:only-of-type {\n",
       "        vertical-align: middle;\n",
       "    }\n",
       "\n",
       "    .dataframe tbody tr th {\n",
       "        vertical-align: top;\n",
       "    }\n",
       "\n",
       "    .dataframe thead th {\n",
       "        text-align: right;\n",
       "    }\n",
       "</style>\n",
       "<table border=\"1\" class=\"dataframe\">\n",
       "  <thead>\n",
       "    <tr style=\"text-align: right;\">\n",
       "      <th></th>\n",
       "      <th>title</th>\n",
       "      <th>text</th>\n",
       "      <th>label</th>\n",
       "    </tr>\n",
       "  </thead>\n",
       "  <tbody>\n",
       "    <tr>\n",
       "      <td>11375</td>\n",
       "      <td>Syrian War Report – November 2, 2016: ISIS and...</td>\n",
       "      <td>Trump Whistles His Dogs ‹ › South Front Analys...</td>\n",
       "      <td>0</td>\n",
       "    </tr>\n",
       "    <tr>\n",
       "      <td>12039</td>\n",
       "      <td>World wildlife 'falls by 58% in 40 years'</td>\n",
       "      <td>Donations World wildlife 'falls by 58% in 40 y...</td>\n",
       "      <td>0</td>\n",
       "    </tr>\n",
       "    <tr>\n",
       "      <td>1068</td>\n",
       "      <td>Black Agenda Radio for Week of Nov 21, 2016</td>\n",
       "      <td>News, information and analysis from the black ...</td>\n",
       "      <td>0</td>\n",
       "    </tr>\n",
       "    <tr>\n",
       "      <td>271</td>\n",
       "      <td>The U.S./Turkey Plan For “Seizing, Holding, An...</td>\n",
       "      <td>By Brandon Turbeville As the U.S. Presidential...</td>\n",
       "      <td>0</td>\n",
       "    </tr>\n",
       "    <tr>\n",
       "      <td>6410</td>\n",
       "      <td>Furious Eric Holder Just Issued A Dire Warning...</td>\n",
       "      <td>Comments \\nFormer US Attorney General Eric Hol...</td>\n",
       "      <td>0</td>\n",
       "    </tr>\n",
       "  </tbody>\n",
       "</table>\n",
       "</div>"
      ],
      "text/plain": [
       "                                                   title  \\\n",
       "11375  Syrian War Report – November 2, 2016: ISIS and...   \n",
       "12039          World wildlife 'falls by 58% in 40 years'   \n",
       "1068         Black Agenda Radio for Week of Nov 21, 2016   \n",
       "271    The U.S./Turkey Plan For “Seizing, Holding, An...   \n",
       "6410   Furious Eric Holder Just Issued A Dire Warning...   \n",
       "\n",
       "                                                    text  label  \n",
       "11375  Trump Whistles His Dogs ‹ › South Front Analys...      0  \n",
       "12039  Donations World wildlife 'falls by 58% in 40 y...      0  \n",
       "1068   News, information and analysis from the black ...      0  \n",
       "271    By Brandon Turbeville As the U.S. Presidential...      0  \n",
       "6410   Comments \\nFormer US Attorney General Eric Hol...      0  "
      ]
     },
     "execution_count": 7,
     "metadata": {},
     "output_type": "execute_result"
    }
   ],
   "source": [
    "df_fake_trim['label'] = 0\n",
    "print(df_fake_trim.shape)\n",
    "df_fake_trim.drop(['url'], axis=1, inplace= True)\n",
    "df_fake_trim.head()\n"
   ]
  },
  {
   "cell_type": "code",
   "execution_count": 8,
   "metadata": {},
   "outputs": [
    {
     "name": "stdout",
     "output_type": "stream",
     "text": [
      "(908, 2)\n",
      "(908, 2)\n"
     ]
    },
    {
     "data": {
      "text/html": [
       "<div>\n",
       "<style scoped>\n",
       "    .dataframe tbody tr th:only-of-type {\n",
       "        vertical-align: middle;\n",
       "    }\n",
       "\n",
       "    .dataframe tbody tr th {\n",
       "        vertical-align: top;\n",
       "    }\n",
       "\n",
       "    .dataframe thead th {\n",
       "        text-align: right;\n",
       "    }\n",
       "</style>\n",
       "<table border=\"1\" class=\"dataframe\">\n",
       "  <thead>\n",
       "    <tr style=\"text-align: right;\">\n",
       "      <th></th>\n",
       "      <th>title</th>\n",
       "      <th>text</th>\n",
       "      <th>label</th>\n",
       "    </tr>\n",
       "  </thead>\n",
       "  <tbody>\n",
       "    <tr>\n",
       "      <td>0</td>\n",
       "      <td>Trump extends federal social distancing guidel...</td>\n",
       "      <td>President Donald Trump, on his first official ...</td>\n",
       "      <td>2</td>\n",
       "    </tr>\n",
       "    <tr>\n",
       "      <td>1</td>\n",
       "      <td>Coronavirus live updates: Global pandemic kill...</td>\n",
       "      <td>By Dylan Welch\\nApril 1, 2015. (Bloomberg) -- ...</td>\n",
       "      <td>2</td>\n",
       "    </tr>\n",
       "    <tr>\n",
       "      <td>2</td>\n",
       "      <td>Trump concedes US coronavirus death toll could...</td>\n",
       "      <td>Donald Trump won his home state of California ...</td>\n",
       "      <td>2</td>\n",
       "    </tr>\n",
       "    <tr>\n",
       "      <td>3</td>\n",
       "      <td>Tracking Covid-19 cases in the US</td>\n",
       "      <td>Editor’s note: Readers and visitors in the New...</td>\n",
       "      <td>2</td>\n",
       "    </tr>\n",
       "    <tr>\n",
       "      <td>4</td>\n",
       "      <td>Donald Trump's special day</td>\n",
       "      <td>The wish of many in the press was for the morn...</td>\n",
       "      <td>2</td>\n",
       "    </tr>\n",
       "  </tbody>\n",
       "</table>\n",
       "</div>"
      ],
      "text/plain": [
       "                                               title  \\\n",
       "0  Trump extends federal social distancing guidel...   \n",
       "1  Coronavirus live updates: Global pandemic kill...   \n",
       "2  Trump concedes US coronavirus death toll could...   \n",
       "3                  Tracking Covid-19 cases in the US   \n",
       "4                         Donald Trump's special day   \n",
       "\n",
       "                                                text  label  \n",
       "0  President Donald Trump, on his first official ...      2  \n",
       "1  By Dylan Welch\\nApril 1, 2015. (Bloomberg) -- ...      2  \n",
       "2  Donald Trump won his home state of California ...      2  \n",
       "3  Editor’s note: Readers and visitors in the New...      2  \n",
       "4  The wish of many in the press was for the morn...      2  "
      ]
     },
     "execution_count": 8,
     "metadata": {},
     "output_type": "execute_result"
    }
   ],
   "source": [
    "df_grover = pd.read_csv('../Cleaned Data/Neural_Fake_News.csv')\n",
    "df_grover = df_grover[['title','text']]\n",
    "print(df_grover.shape)\n",
    "df_grover.dropna(inplace=True)\n",
    "print(df_grover.shape)\n",
    "df_grover.head()\n",
    "df_grover['label'] = 2\n",
    "df_grover.head()"
   ]
  },
  {
   "cell_type": "markdown",
   "metadata": {},
   "source": [
    "# Experiment Number 1\n",
    "## Naive Bayes, Real Human News and Fake Human News\n",
    "905 instances of each \n",
    "\n",
    "Class: Label\n",
    "\n",
    "Real: 0\n",
    "\n",
    "Fake: 1"
   ]
  },
  {
   "cell_type": "code",
   "execution_count": 9,
   "metadata": {},
   "outputs": [],
   "source": [
    "#combine both the real and trimmed fake news into one df\n",
    "\n",
    "# combined = pd.concat([df_real,df_fake_trim,df_grover],ignore_index=True) # For 3 class classification \n",
    "# combined = pd.concat([df_real,df_grover],ignore_index=True) # For real vs neural fake\n",
    "combined = pd.concat([df_real,df_fake_trim],ignore_index=True) # For real vs human fake"
   ]
  },
  {
   "cell_type": "code",
   "execution_count": 10,
   "metadata": {},
   "outputs": [
    {
     "name": "stdout",
     "output_type": "stream",
     "text": [
      "                                               title  \\\n",
      "0  Trump extends federal social distancing guidel...   \n",
      "1  Coronavirus live updates: Global pandemic kill...   \n",
      "2  Trump concedes US coronavirus death toll could...   \n",
      "3                         Donald Trump's special day   \n",
      "4             How long will Trump's poll surge last?   \n",
      "\n",
      "                                                text  label  \n",
      "0  Washington (CNN) President Donald Trump said S...      1  \n",
      "1  The exterior of Elmhurst Hospital in Queens on...      1  \n",
      "2  (CNN) President Donald Trump acknowledged Sund...      1  \n",
      "3  Sign up to get our new weekly column as a news...      1  \n",
      "4  (CNN) The 2020 race, publicly at least, has la...      1  \n"
     ]
    },
    {
     "data": {
      "text/html": [
       "<div>\n",
       "<style scoped>\n",
       "    .dataframe tbody tr th:only-of-type {\n",
       "        vertical-align: middle;\n",
       "    }\n",
       "\n",
       "    .dataframe tbody tr th {\n",
       "        vertical-align: top;\n",
       "    }\n",
       "\n",
       "    .dataframe thead th {\n",
       "        text-align: right;\n",
       "    }\n",
       "</style>\n",
       "<table border=\"1\" class=\"dataframe\">\n",
       "  <thead>\n",
       "    <tr style=\"text-align: right;\">\n",
       "      <th></th>\n",
       "      <th>title</th>\n",
       "      <th>text</th>\n",
       "      <th>label</th>\n",
       "    </tr>\n",
       "  </thead>\n",
       "  <tbody>\n",
       "    <tr>\n",
       "      <td>1805</td>\n",
       "      <td>Mike Pence Drapes Shawl Over Immodest Lady Jus...</td>\n",
       "      <td>Trump Raises Concern Over Members Of Urban Com...</td>\n",
       "      <td>0</td>\n",
       "    </tr>\n",
       "    <tr>\n",
       "      <td>1806</td>\n",
       "      <td>Comment on All Saints Day by Steven Broiles</td>\n",
       "      <td>Posted on November 1, 2016 by joandarc | 8 Com...</td>\n",
       "      <td>0</td>\n",
       "    </tr>\n",
       "    <tr>\n",
       "      <td>1807</td>\n",
       "      <td>Kenyan marathon runner Rita Jeptoo banned 2 mo...</td>\n",
       "      <td>News Bulletin Rita Jeptoo celebrates with the ...</td>\n",
       "      <td>0</td>\n",
       "    </tr>\n",
       "    <tr>\n",
       "      <td>1808</td>\n",
       "      <td>8 Things You Need To Know About The Dakota Acc...</td>\n",
       "      <td>North Dakota is ablaze as a result of proteste...</td>\n",
       "      <td>0</td>\n",
       "    </tr>\n",
       "    <tr>\n",
       "      <td>1809</td>\n",
       "      <td>Fans Asked George Takei To Tweet Something Pos...</td>\n",
       "      <td>Comments \\nLegendary Star Trek actor turned LG...</td>\n",
       "      <td>0</td>\n",
       "    </tr>\n",
       "  </tbody>\n",
       "</table>\n",
       "</div>"
      ],
      "text/plain": [
       "                                                  title  \\\n",
       "1805  Mike Pence Drapes Shawl Over Immodest Lady Jus...   \n",
       "1806        Comment on All Saints Day by Steven Broiles   \n",
       "1807  Kenyan marathon runner Rita Jeptoo banned 2 mo...   \n",
       "1808  8 Things You Need To Know About The Dakota Acc...   \n",
       "1809  Fans Asked George Takei To Tweet Something Pos...   \n",
       "\n",
       "                                                   text  label  \n",
       "1805  Trump Raises Concern Over Members Of Urban Com...      0  \n",
       "1806  Posted on November 1, 2016 by joandarc | 8 Com...      0  \n",
       "1807  News Bulletin Rita Jeptoo celebrates with the ...      0  \n",
       "1808  North Dakota is ablaze as a result of proteste...      0  \n",
       "1809  Comments \\nLegendary Star Trek actor turned LG...      0  "
      ]
     },
     "execution_count": 10,
     "metadata": {},
     "output_type": "execute_result"
    }
   ],
   "source": [
    "print(combined.head())\n",
    "combined.tail()"
   ]
  },
  {
   "cell_type": "code",
   "execution_count": 11,
   "metadata": {},
   "outputs": [],
   "source": [
    "import nltk\n",
    "from wordcloud import WordCloud\n",
    "from sklearn.feature_extraction.text import TfidfVectorizer\n",
    "from sklearn.model_selection import train_test_split\n",
    "from sklearn.metrics import f1_score, accuracy_score, recall_score, precision_score"
   ]
  },
  {
   "cell_type": "code",
   "execution_count": 12,
   "metadata": {},
   "outputs": [
    {
     "data": {
      "text/html": [
       "<div>\n",
       "<style scoped>\n",
       "    .dataframe tbody tr th:only-of-type {\n",
       "        vertical-align: middle;\n",
       "    }\n",
       "\n",
       "    .dataframe tbody tr th {\n",
       "        vertical-align: top;\n",
       "    }\n",
       "\n",
       "    .dataframe thead th {\n",
       "        text-align: right;\n",
       "    }\n",
       "</style>\n",
       "<table border=\"1\" class=\"dataframe\">\n",
       "  <thead>\n",
       "    <tr style=\"text-align: right;\">\n",
       "      <th></th>\n",
       "      <th>title</th>\n",
       "      <th>text</th>\n",
       "    </tr>\n",
       "    <tr>\n",
       "      <th>label</th>\n",
       "      <th></th>\n",
       "      <th></th>\n",
       "    </tr>\n",
       "  </thead>\n",
       "  <tbody>\n",
       "    <tr>\n",
       "      <td>0</td>\n",
       "      <td>905</td>\n",
       "      <td>905</td>\n",
       "    </tr>\n",
       "    <tr>\n",
       "      <td>1</td>\n",
       "      <td>905</td>\n",
       "      <td>905</td>\n",
       "    </tr>\n",
       "  </tbody>\n",
       "</table>\n",
       "</div>"
      ],
      "text/plain": [
       "       title  text\n",
       "label             \n",
       "0        905   905\n",
       "1        905   905"
      ]
     },
     "execution_count": 12,
     "metadata": {},
     "output_type": "execute_result"
    }
   ],
   "source": [
    "combined_text = combined['text'].values\n",
    "X_title =combined['title'].values\n",
    "labels = combined['label'].values\n",
    "combined.groupby('label').agg('count')"
   ]
  },
  {
   "cell_type": "code",
   "execution_count": 13,
   "metadata": {},
   "outputs": [],
   "source": [
    "tfidf = TfidfVectorizer(ngram_range=(1,2), max_df= 0.85, min_df= 0.01)"
   ]
  },
  {
   "cell_type": "code",
   "execution_count": 14,
   "metadata": {},
   "outputs": [],
   "source": [
    "combined_text = tfidf.fit_transform(combined_text)\n",
    "# combined['title'] = tfidf.fit_transform (combined['title'])"
   ]
  },
  {
   "cell_type": "code",
   "execution_count": 15,
   "metadata": {},
   "outputs": [
    {
     "name": "stdout",
     "output_type": "stream",
     "text": [
      "tf idf vectorized text shape: (1810, 10200)\n",
      "original text shape: (1810,)\n"
     ]
    }
   ],
   "source": [
    "print(\"tf idf vectorized text shape: {}\".format(combined_text.shape))\n",
    "print(\"original text shape: {}\".format(combined['text'].shape))\n"
   ]
  },
  {
   "cell_type": "code",
   "execution_count": 16,
   "metadata": {},
   "outputs": [],
   "source": [
    "train_text, test_text, train_labels, test_labels  = train_test_split(combined_text, labels, test_size=0.2)\n"
   ]
  },
  {
   "cell_type": "code",
   "execution_count": 17,
   "metadata": {},
   "outputs": [
    {
     "name": "stdout",
     "output_type": "stream",
     "text": [
      "size of train_text: (1448, 10200)\n",
      "size of train_labels: (1448,)\n"
     ]
    },
    {
     "data": {
      "text/plain": [
       "Counter({0: 732, 1: 716})"
      ]
     },
     "execution_count": 17,
     "metadata": {},
     "output_type": "execute_result"
    }
   ],
   "source": [
    "import collections\n",
    "\n",
    "print(\"size of train_text: {}\".format(train_text.shape))\n",
    "\n",
    "print(\"size of train_labels: {}\".format(train_labels.shape))\n",
    "collections.Counter(train_labels)\n"
   ]
  },
  {
   "cell_type": "code",
   "execution_count": 18,
   "metadata": {},
   "outputs": [
    {
     "name": "stdout",
     "output_type": "stream",
     "text": [
      "size of test_text: (362, 10200)\n",
      "size of test_labels: (362,)\n"
     ]
    },
    {
     "data": {
      "text/plain": [
       "Counter({0: 173, 1: 189})"
      ]
     },
     "execution_count": 18,
     "metadata": {},
     "output_type": "execute_result"
    }
   ],
   "source": [
    "print(\"size of test_text: {}\".format(test_text.shape))\n",
    "\n",
    "print(\"size of test_labels: {}\".format(test_labels.shape))\n",
    "collections.Counter(test_labels)\n",
    "\n"
   ]
  },
  {
   "cell_type": "code",
   "execution_count": 19,
   "metadata": {},
   "outputs": [],
   "source": [
    "from sklearn.naive_bayes import MultinomialNB\n",
    "nb = MultinomialNB()\n"
   ]
  },
  {
   "cell_type": "code",
   "execution_count": 20,
   "metadata": {},
   "outputs": [
    {
     "data": {
      "text/plain": [
       "MultinomialNB(alpha=1.0, class_prior=None, fit_prior=True)"
      ]
     },
     "execution_count": 20,
     "metadata": {},
     "output_type": "execute_result"
    }
   ],
   "source": [
    "nb.fit(train_text,train_labels)"
   ]
  },
  {
   "cell_type": "code",
   "execution_count": 21,
   "metadata": {},
   "outputs": [],
   "source": [
    "train_pred = nb.predict(train_text)"
   ]
  },
  {
   "cell_type": "code",
   "execution_count": 22,
   "metadata": {},
   "outputs": [
    {
     "name": "stdout",
     "output_type": "stream",
     "text": [
      "Naive Bayes In Sample F1 and Accuracy Scores:\n",
      "F1 score 97.1%\n",
      "Accuracy score 97.1%\n"
     ]
    }
   ],
   "source": [
    "print('Naive Bayes In Sample F1 and Accuracy Scores:')\n",
    "print('F1 score {:.4}%'.format(f1_score(train_labels, train_pred, average='macro')*100 ))\n",
    "print ('Accuracy score {:.4}%'.format(accuracy_score(train_labels, train_pred)*100))"
   ]
  },
  {
   "cell_type": "code",
   "execution_count": 23,
   "metadata": {},
   "outputs": [
    {
     "data": {
      "text/html": [
       "<div>\n",
       "<style scoped>\n",
       "    .dataframe tbody tr th:only-of-type {\n",
       "        vertical-align: middle;\n",
       "    }\n",
       "\n",
       "    .dataframe tbody tr th {\n",
       "        vertical-align: top;\n",
       "    }\n",
       "\n",
       "    .dataframe thead th {\n",
       "        text-align: right;\n",
       "    }\n",
       "</style>\n",
       "<table border=\"1\" class=\"dataframe\">\n",
       "  <thead>\n",
       "    <tr style=\"text-align: right;\">\n",
       "      <th></th>\n",
       "      <th>title</th>\n",
       "      <th>text</th>\n",
       "    </tr>\n",
       "    <tr>\n",
       "      <th>label</th>\n",
       "      <th></th>\n",
       "      <th></th>\n",
       "    </tr>\n",
       "  </thead>\n",
       "  <tbody>\n",
       "    <tr>\n",
       "      <td>0</td>\n",
       "      <td>20</td>\n",
       "      <td>20</td>\n",
       "    </tr>\n",
       "    <tr>\n",
       "      <td>1</td>\n",
       "      <td>22</td>\n",
       "      <td>22</td>\n",
       "    </tr>\n",
       "  </tbody>\n",
       "</table>\n",
       "</div>"
      ],
      "text/plain": [
       "       title  text\n",
       "label             \n",
       "0         20    20\n",
       "1         22    22"
      ]
     },
     "execution_count": 23,
     "metadata": {},
     "output_type": "execute_result"
    }
   ],
   "source": [
    "combined.loc[np.where(train_labels != train_pred)[0].tolist()].groupby('label').agg('count')"
   ]
  },
  {
   "cell_type": "code",
   "execution_count": 24,
   "metadata": {},
   "outputs": [
    {
     "name": "stdout",
     "output_type": "stream",
     "text": [
      "Naive Bayes Out of Sample F1 and Accuracy Scores:\n",
      "F1 score 94.75%\n",
      "Accuracy score 94.75%\n"
     ]
    }
   ],
   "source": [
    "test_pred = nb.predict(test_text)\n",
    "print('Naive Bayes Out of Sample F1 and Accuracy Scores:')\n",
    "print('F1 score {:.4}%'.format(f1_score(test_labels, test_pred, average='macro')*100 ))\n",
    "print ('Accuracy score {:.4}%'.format(accuracy_score(test_labels, test_pred)*100))"
   ]
  },
  {
   "cell_type": "code",
   "execution_count": 25,
   "metadata": {},
   "outputs": [
    {
     "data": {
      "text/html": [
       "<div>\n",
       "<style scoped>\n",
       "    .dataframe tbody tr th:only-of-type {\n",
       "        vertical-align: middle;\n",
       "    }\n",
       "\n",
       "    .dataframe tbody tr th {\n",
       "        vertical-align: top;\n",
       "    }\n",
       "\n",
       "    .dataframe thead th {\n",
       "        text-align: right;\n",
       "    }\n",
       "</style>\n",
       "<table border=\"1\" class=\"dataframe\">\n",
       "  <thead>\n",
       "    <tr style=\"text-align: right;\">\n",
       "      <th></th>\n",
       "      <th>title</th>\n",
       "      <th>text</th>\n",
       "    </tr>\n",
       "    <tr>\n",
       "      <th>label</th>\n",
       "      <th></th>\n",
       "      <th></th>\n",
       "    </tr>\n",
       "  </thead>\n",
       "  <tbody>\n",
       "    <tr>\n",
       "      <td>1</td>\n",
       "      <td>19</td>\n",
       "      <td>19</td>\n",
       "    </tr>\n",
       "  </tbody>\n",
       "</table>\n",
       "</div>"
      ],
      "text/plain": [
       "       title  text\n",
       "label             \n",
       "1         19    19"
      ]
     },
     "execution_count": 25,
     "metadata": {},
     "output_type": "execute_result"
    }
   ],
   "source": [
    "combined.loc[np.where(test_labels != test_pred)[0].tolist()].groupby('label').agg('count')"
   ]
  },
  {
   "cell_type": "markdown",
   "metadata": {},
   "source": [
    "# Experiment 2\n",
    "## Augmenting with Neural Fake News\n",
    "\n",
    "905 Real News, 905 Fake (neural and human combined)\n",
    "\n",
    "80% Train = 1448\n",
    "20% Test = 362 (1/2 Real, 1/2 Human Fake)\n",
    "\n",
    "Train on (1/2 real news, 1/2 fake news (1/4 human fake + 1/4 neural fake))\n",
    "\n",
    "Human Fake = 543 (362 for train, 181 for test)\n",
    "\n",
    "Neural Fake = 362 for train"
   ]
  },
  {
   "cell_type": "code",
   "execution_count": 26,
   "metadata": {},
   "outputs": [
    {
     "name": "stdout",
     "output_type": "stream",
     "text": [
      "(908, 3)\n",
      "(905, 3)\n",
      "(12273, 3)\n"
     ]
    }
   ],
   "source": [
    "print(df_grover.shape)\n",
    "print(df_real.shape)\n",
    "print(df_fake.shape)"
   ]
  },
  {
   "cell_type": "code",
   "execution_count": 27,
   "metadata": {},
   "outputs": [
    {
     "name": "stdout",
     "output_type": "stream",
     "text": [
      "(543, 4)\n"
     ]
    },
    {
     "name": "stderr",
     "output_type": "stream",
     "text": [
      "/opt/anaconda3/lib/python3.7/site-packages/ipykernel_launcher.py:4: SettingWithCopyWarning: \n",
      "A value is trying to be set on a copy of a slice from a DataFrame.\n",
      "Try using .loc[row_indexer,col_indexer] = value instead\n",
      "\n",
      "See the caveats in the documentation: http://pandas.pydata.org/pandas-docs/stable/user_guide/indexing.html#returning-a-view-versus-a-copy\n",
      "  after removing the cwd from sys.path.\n",
      "/opt/anaconda3/lib/python3.7/site-packages/pandas/core/frame.py:4102: SettingWithCopyWarning: \n",
      "A value is trying to be set on a copy of a slice from a DataFrame\n",
      "\n",
      "See the caveats in the documentation: http://pandas.pydata.org/pandas-docs/stable/user_guide/indexing.html#returning-a-view-versus-a-copy\n",
      "  errors=errors,\n"
     ]
    },
    {
     "data": {
      "text/html": [
       "<div>\n",
       "<style scoped>\n",
       "    .dataframe tbody tr th:only-of-type {\n",
       "        vertical-align: middle;\n",
       "    }\n",
       "\n",
       "    .dataframe tbody tr th {\n",
       "        vertical-align: top;\n",
       "    }\n",
       "\n",
       "    .dataframe thead th {\n",
       "        text-align: right;\n",
       "    }\n",
       "</style>\n",
       "<table border=\"1\" class=\"dataframe\">\n",
       "  <thead>\n",
       "    <tr style=\"text-align: right;\">\n",
       "      <th></th>\n",
       "      <th>title</th>\n",
       "      <th>text</th>\n",
       "      <th>label</th>\n",
       "    </tr>\n",
       "  </thead>\n",
       "  <tbody>\n",
       "    <tr>\n",
       "      <td>8208</td>\n",
       "      <td>Secretary of State? Bolton Advises Trump to “C...</td>\n",
       "      <td>\\nThis article was written by Kurt Nimmo and o...</td>\n",
       "      <td>0</td>\n",
       "    </tr>\n",
       "    <tr>\n",
       "      <td>6822</td>\n",
       "      <td>The Top Democrat In The Senate Just Accused FB...</td>\n",
       "      <td>Here is the full text of Sen. Reid’s letter to...</td>\n",
       "      <td>0</td>\n",
       "    </tr>\n",
       "    <tr>\n",
       "      <td>4651</td>\n",
       "      <td>Here’s what happened when a Hillary supporting...</td>\n",
       "      <td>VIDEOS Here’s what happened when a Hillary sup...</td>\n",
       "      <td>0</td>\n",
       "    </tr>\n",
       "    <tr>\n",
       "      <td>631</td>\n",
       "      <td>Ashton Kutcher Rescues 6,000 Sex Trafficking V...</td>\n",
       "      <td>Christopher Ashton Kutcher is a well-known fig...</td>\n",
       "      <td>0</td>\n",
       "    </tr>\n",
       "    <tr>\n",
       "      <td>1730</td>\n",
       "      <td>Michael Moore Wants A Spot in Hillary’s Cabinet</td>\n",
       "      <td>Given the shameless, over-the-top, almost brea...</td>\n",
       "      <td>0</td>\n",
       "    </tr>\n",
       "  </tbody>\n",
       "</table>\n",
       "</div>"
      ],
      "text/plain": [
       "                                                  title  \\\n",
       "8208  Secretary of State? Bolton Advises Trump to “C...   \n",
       "6822  The Top Democrat In The Senate Just Accused FB...   \n",
       "4651  Here’s what happened when a Hillary supporting...   \n",
       "631   Ashton Kutcher Rescues 6,000 Sex Trafficking V...   \n",
       "1730    Michael Moore Wants A Spot in Hillary’s Cabinet   \n",
       "\n",
       "                                                   text  label  \n",
       "8208  \\nThis article was written by Kurt Nimmo and o...      0  \n",
       "6822  Here is the full text of Sen. Reid’s letter to...      0  \n",
       "4651  VIDEOS Here’s what happened when a Hillary sup...      0  \n",
       "631   Christopher Ashton Kutcher is a well-known fig...      0  \n",
       "1730  Given the shameless, over-the-top, almost brea...      0  "
      ]
     },
     "execution_count": 27,
     "metadata": {},
     "output_type": "execute_result"
    }
   ],
   "source": [
    "trim_size = int(df_real.shape[0] * 0.6)\n",
    "chosen_idx = np.random.choice(df_fake.shape[0], replace=False, size=trim_size)\n",
    "df_fake_trim_2 = df_fake.iloc[chosen_idx]\n",
    "df_fake_trim_2['label'] = 0\n",
    "print(df_fake_trim_2.shape)\n",
    "df_fake_trim_2.drop(['url'], axis=1, inplace= True)\n",
    "df_fake_trim_2.head()"
   ]
  },
  {
   "cell_type": "code",
   "execution_count": 28,
   "metadata": {},
   "outputs": [
    {
     "name": "stdout",
     "output_type": "stream",
     "text": [
      "(362, 3)\n"
     ]
    },
    {
     "name": "stderr",
     "output_type": "stream",
     "text": [
      "/opt/anaconda3/lib/python3.7/site-packages/ipykernel_launcher.py:4: SettingWithCopyWarning: \n",
      "A value is trying to be set on a copy of a slice from a DataFrame.\n",
      "Try using .loc[row_indexer,col_indexer] = value instead\n",
      "\n",
      "See the caveats in the documentation: http://pandas.pydata.org/pandas-docs/stable/user_guide/indexing.html#returning-a-view-versus-a-copy\n",
      "  after removing the cwd from sys.path.\n"
     ]
    },
    {
     "data": {
      "text/html": [
       "<div>\n",
       "<style scoped>\n",
       "    .dataframe tbody tr th:only-of-type {\n",
       "        vertical-align: middle;\n",
       "    }\n",
       "\n",
       "    .dataframe tbody tr th {\n",
       "        vertical-align: top;\n",
       "    }\n",
       "\n",
       "    .dataframe thead th {\n",
       "        text-align: right;\n",
       "    }\n",
       "</style>\n",
       "<table border=\"1\" class=\"dataframe\">\n",
       "  <thead>\n",
       "    <tr style=\"text-align: right;\">\n",
       "      <th></th>\n",
       "      <th>title</th>\n",
       "      <th>text</th>\n",
       "      <th>label</th>\n",
       "    </tr>\n",
       "  </thead>\n",
       "  <tbody>\n",
       "    <tr>\n",
       "      <td>242</td>\n",
       "      <td>‘The Other Option Is Death’: New York Starts S...</td>\n",
       "      <td>If you were searching for a new way to disable...</td>\n",
       "      <td>0</td>\n",
       "    </tr>\n",
       "    <tr>\n",
       "      <td>202</td>\n",
       "      <td>Facebook, Google and Twitter Struggle to Handl...</td>\n",
       "      <td>Invisible ballots and ballot-in-boxes may slow...</td>\n",
       "      <td>0</td>\n",
       "    </tr>\n",
       "    <tr>\n",
       "      <td>892</td>\n",
       "      <td>‘A mess in America’: Why Asia now looks safer ...</td>\n",
       "      <td>WASHINGTON — If you listen to President Donald...</td>\n",
       "      <td>0</td>\n",
       "    </tr>\n",
       "    <tr>\n",
       "      <td>589</td>\n",
       "      <td>Coronavirus upends the battle for the House</td>\n",
       "      <td>CORONAVIA, Md. (April 1, 2020) - The rising ra...</td>\n",
       "      <td>0</td>\n",
       "    </tr>\n",
       "    <tr>\n",
       "      <td>627</td>\n",
       "      <td>Here are remote jobs that could keep you worki...</td>\n",
       "      <td>If these job offers fail, we may be lost to a ...</td>\n",
       "      <td>0</td>\n",
       "    </tr>\n",
       "  </tbody>\n",
       "</table>\n",
       "</div>"
      ],
      "text/plain": [
       "                                                 title  \\\n",
       "242  ‘The Other Option Is Death’: New York Starts S...   \n",
       "202  Facebook, Google and Twitter Struggle to Handl...   \n",
       "892  ‘A mess in America’: Why Asia now looks safer ...   \n",
       "589        Coronavirus upends the battle for the House   \n",
       "627  Here are remote jobs that could keep you worki...   \n",
       "\n",
       "                                                  text  label  \n",
       "242  If you were searching for a new way to disable...      0  \n",
       "202  Invisible ballots and ballot-in-boxes may slow...      0  \n",
       "892  WASHINGTON — If you listen to President Donald...      0  \n",
       "589  CORONAVIA, Md. (April 1, 2020) - The rising ra...      0  \n",
       "627  If these job offers fail, we may be lost to a ...      0  "
      ]
     },
     "execution_count": 28,
     "metadata": {},
     "output_type": "execute_result"
    }
   ],
   "source": [
    "trim_size = int(df_real.shape[0]*0.4)\n",
    "chosen_idx = np.random.choice(df_grover.shape[0], replace=False, size=trim_size)\n",
    "df_grover_trim = df_grover.iloc[chosen_idx]\n",
    "df_grover_trim['label'] = 0\n",
    "print(df_grover_trim.shape)\n",
    "df_grover_trim.head()"
   ]
  },
  {
   "cell_type": "code",
   "execution_count": 29,
   "metadata": {},
   "outputs": [
    {
     "name": "stdout",
     "output_type": "stream",
     "text": [
      "(905, 3)\n"
     ]
    },
    {
     "data": {
      "text/html": [
       "<div>\n",
       "<style scoped>\n",
       "    .dataframe tbody tr th:only-of-type {\n",
       "        vertical-align: middle;\n",
       "    }\n",
       "\n",
       "    .dataframe tbody tr th {\n",
       "        vertical-align: top;\n",
       "    }\n",
       "\n",
       "    .dataframe thead th {\n",
       "        text-align: right;\n",
       "    }\n",
       "</style>\n",
       "<table border=\"1\" class=\"dataframe\">\n",
       "  <thead>\n",
       "    <tr style=\"text-align: right;\">\n",
       "      <th></th>\n",
       "      <th>title</th>\n",
       "      <th>text</th>\n",
       "      <th>label</th>\n",
       "    </tr>\n",
       "  </thead>\n",
       "  <tbody>\n",
       "    <tr>\n",
       "      <td>0</td>\n",
       "      <td>Trump extends federal social distancing guidel...</td>\n",
       "      <td>Washington (CNN) President Donald Trump said S...</td>\n",
       "      <td>1</td>\n",
       "    </tr>\n",
       "    <tr>\n",
       "      <td>1</td>\n",
       "      <td>Coronavirus live updates: Global pandemic kill...</td>\n",
       "      <td>The exterior of Elmhurst Hospital in Queens on...</td>\n",
       "      <td>1</td>\n",
       "    </tr>\n",
       "    <tr>\n",
       "      <td>2</td>\n",
       "      <td>Trump concedes US coronavirus death toll could...</td>\n",
       "      <td>(CNN) President Donald Trump acknowledged Sund...</td>\n",
       "      <td>1</td>\n",
       "    </tr>\n",
       "    <tr>\n",
       "      <td>3</td>\n",
       "      <td>Donald Trump's special day</td>\n",
       "      <td>Sign up to get our new weekly column as a news...</td>\n",
       "      <td>1</td>\n",
       "    </tr>\n",
       "    <tr>\n",
       "      <td>4</td>\n",
       "      <td>How long will Trump's poll surge last?</td>\n",
       "      <td>(CNN) The 2020 race, publicly at least, has la...</td>\n",
       "      <td>1</td>\n",
       "    </tr>\n",
       "  </tbody>\n",
       "</table>\n",
       "</div>"
      ],
      "text/plain": [
       "                                               title  \\\n",
       "0  Trump extends federal social distancing guidel...   \n",
       "1  Coronavirus live updates: Global pandemic kill...   \n",
       "2  Trump concedes US coronavirus death toll could...   \n",
       "3                         Donald Trump's special day   \n",
       "4             How long will Trump's poll surge last?   \n",
       "\n",
       "                                                text  label  \n",
       "0  Washington (CNN) President Donald Trump said S...      1  \n",
       "1  The exterior of Elmhurst Hospital in Queens on...      1  \n",
       "2  (CNN) President Donald Trump acknowledged Sund...      1  \n",
       "3  Sign up to get our new weekly column as a news...      1  \n",
       "4  (CNN) The 2020 race, publicly at least, has la...      1  "
      ]
     },
     "execution_count": 29,
     "metadata": {},
     "output_type": "execute_result"
    }
   ],
   "source": [
    "print(df_real.shape)\n",
    "df_real.head()"
   ]
  },
  {
   "cell_type": "code",
   "execution_count": 30,
   "metadata": {},
   "outputs": [
    {
     "name": "stdout",
     "output_type": "stream",
     "text": [
      "(181, 3)\n",
      "(724, 3)\n"
     ]
    }
   ],
   "source": [
    "#Create Test Set first from trimmed\n",
    "trim_size = int(df_real.shape[0]*.2)\n",
    "mask =  np.random.choice(df_real.shape[0], trim_size, replace=False) \n",
    "neg_mask = [i for i in range(0, df_real.shape[0]) if i not in mask]\n",
    "df_real_test = df_real.iloc[mask]\n",
    "df_real_train = df_real.iloc[neg_mask]\n",
    "print(df_real_test.shape)\n",
    "print(df_real_train.shape)"
   ]
  },
  {
   "cell_type": "code",
   "execution_count": 31,
   "metadata": {},
   "outputs": [
    {
     "name": "stdout",
     "output_type": "stream",
     "text": [
      "(543, 3)\n",
      "(181, 3)\n",
      "(362, 3)\n"
     ]
    }
   ],
   "source": [
    "#Create Test Set first from trimmed\n",
    "print(df_fake_trim_2.shape)\n",
    "trim_size = int(df_fake_trim_2.shape[0]*(1/3))\n",
    "mask =  np.random.choice(df_fake_trim_2.shape[0], trim_size, replace=False) \n",
    "neg_mask = [i for i in range(0, df_fake_trim_2.shape[0]) if i not in mask]\n",
    "df_fake_trim_2_test = df_fake_trim_2.iloc[mask]\n",
    "df_fake_trim_2_train = df_fake_trim_2.iloc[neg_mask]\n",
    "print(df_fake_trim_2_test.shape)\n",
    "print(df_fake_trim_2_train.shape)"
   ]
  },
  {
   "cell_type": "code",
   "execution_count": 32,
   "metadata": {},
   "outputs": [],
   "source": [
    "#combine both the real and trimmed fake news into one df\n",
    "combined_train = pd.concat([df_real_train,df_fake_trim_2_train,df_grover_trim],ignore_index=True)\n",
    "combined_test = pd.concat([df_real_test,df_fake_trim_2_test],ignore_index=True)"
   ]
  },
  {
   "cell_type": "code",
   "execution_count": 33,
   "metadata": {},
   "outputs": [
    {
     "name": "stdout",
     "output_type": "stream",
     "text": [
      "(1448, 3)\n",
      "                                               title  \\\n",
      "0  Trump extends federal social distancing guidel...   \n",
      "1  Coronavirus live updates: Global pandemic kill...   \n",
      "2                         Donald Trump's special day   \n",
      "3  A breakdown of false and misleading statements...   \n",
      "4  New York coronavirus deaths soar past 960 as N...   \n",
      "\n",
      "                                                text  label  \n",
      "0  Washington (CNN) President Donald Trump said S...      1  \n",
      "1  The exterior of Elmhurst Hospital in Queens on...      1  \n",
      "2  Sign up to get our new weekly column as a news...      1  \n",
      "3  (CNN) President Donald Trump has made numerous...      1  \n",
      "4  (CNN) The mammoth fight against coronavirus in...      1  \n"
     ]
    },
    {
     "data": {
      "text/html": [
       "<div>\n",
       "<style scoped>\n",
       "    .dataframe tbody tr th:only-of-type {\n",
       "        vertical-align: middle;\n",
       "    }\n",
       "\n",
       "    .dataframe tbody tr th {\n",
       "        vertical-align: top;\n",
       "    }\n",
       "\n",
       "    .dataframe thead th {\n",
       "        text-align: right;\n",
       "    }\n",
       "</style>\n",
       "<table border=\"1\" class=\"dataframe\">\n",
       "  <thead>\n",
       "    <tr style=\"text-align: right;\">\n",
       "      <th></th>\n",
       "      <th>title</th>\n",
       "      <th>text</th>\n",
       "      <th>label</th>\n",
       "    </tr>\n",
       "  </thead>\n",
       "  <tbody>\n",
       "    <tr>\n",
       "      <td>1443</td>\n",
       "      <td>Coronavirus Diverts U.S. Aircraft Carrier From...</td>\n",
       "      <td>After making its first flight in Asia in Febru...</td>\n",
       "      <td>0</td>\n",
       "    </tr>\n",
       "    <tr>\n",
       "      <td>1444</td>\n",
       "      <td>Pennsylvania hit by more jobless claims than a...</td>\n",
       "      <td>By Marc Levy (Reuters) - Pennsylvania could be...</td>\n",
       "      <td>0</td>\n",
       "    </tr>\n",
       "    <tr>\n",
       "      <td>1445</td>\n",
       "      <td>Space Force leaders' quest: A gender-neutral f...</td>\n",
       "      <td>Amid the last dozen or so directives from Stra...</td>\n",
       "      <td>0</td>\n",
       "    </tr>\n",
       "    <tr>\n",
       "      <td>1446</td>\n",
       "      <td>What's Inside The Senate's $2 Trillion Coronav...</td>\n",
       "      <td>Posted Tuesday, April 1, 2020 9:25 am\\nRep. Fr...</td>\n",
       "      <td>0</td>\n",
       "    </tr>\n",
       "    <tr>\n",
       "      <td>1447</td>\n",
       "      <td>On Job Just 6 Weeks, U.K.’s Finance Chief Shin...</td>\n",
       "      <td>UK financial secretary Jack Straw on Thursday ...</td>\n",
       "      <td>0</td>\n",
       "    </tr>\n",
       "  </tbody>\n",
       "</table>\n",
       "</div>"
      ],
      "text/plain": [
       "                                                  title  \\\n",
       "1443  Coronavirus Diverts U.S. Aircraft Carrier From...   \n",
       "1444  Pennsylvania hit by more jobless claims than a...   \n",
       "1445  Space Force leaders' quest: A gender-neutral f...   \n",
       "1446  What's Inside The Senate's $2 Trillion Coronav...   \n",
       "1447  On Job Just 6 Weeks, U.K.’s Finance Chief Shin...   \n",
       "\n",
       "                                                   text  label  \n",
       "1443  After making its first flight in Asia in Febru...      0  \n",
       "1444  By Marc Levy (Reuters) - Pennsylvania could be...      0  \n",
       "1445  Amid the last dozen or so directives from Stra...      0  \n",
       "1446  Posted Tuesday, April 1, 2020 9:25 am\\nRep. Fr...      0  \n",
       "1447  UK financial secretary Jack Straw on Thursday ...      0  "
      ]
     },
     "execution_count": 33,
     "metadata": {},
     "output_type": "execute_result"
    }
   ],
   "source": [
    "print(combined_train.shape)\n",
    "print(combined_train.head())\n",
    "combined_train.tail()"
   ]
  },
  {
   "cell_type": "code",
   "execution_count": 34,
   "metadata": {},
   "outputs": [
    {
     "name": "stdout",
     "output_type": "stream",
     "text": [
      "(362, 3)\n",
      "                                               title  \\\n",
      "0  Gilead Revamps Process for Emergency Requests ...   \n",
      "1                Coronavirus: Live BBC News coverage   \n",
      "2   Lou Ferrigno gives it another go in Santa Monica   \n",
      "3  For France, Coronavirus Tests a Vaunted Health...   \n",
      "4  Shareholder suit accuses Sen. Richard Burr of ...   \n",
      "\n",
      "                                                text  label  \n",
      "0  Gilead Sciences Inc. will stop considering ind...      1  \n",
      "1  Video\\n\\nLive BBC News coverage of the coronav...      1  \n",
      "2  Bodybuilder turned actor Lou Ferrigno has put ...      1  \n",
      "3  PARIS — One of the world’s best health care sy...      1  \n",
      "4  Burr was also in the hot seat after NPR report...      1  \n"
     ]
    },
    {
     "data": {
      "text/html": [
       "<div>\n",
       "<style scoped>\n",
       "    .dataframe tbody tr th:only-of-type {\n",
       "        vertical-align: middle;\n",
       "    }\n",
       "\n",
       "    .dataframe tbody tr th {\n",
       "        vertical-align: top;\n",
       "    }\n",
       "\n",
       "    .dataframe thead th {\n",
       "        text-align: right;\n",
       "    }\n",
       "</style>\n",
       "<table border=\"1\" class=\"dataframe\">\n",
       "  <thead>\n",
       "    <tr style=\"text-align: right;\">\n",
       "      <th></th>\n",
       "      <th>title</th>\n",
       "      <th>text</th>\n",
       "      <th>label</th>\n",
       "    </tr>\n",
       "  </thead>\n",
       "  <tbody>\n",
       "    <tr>\n",
       "      <td>357</td>\n",
       "      <td>The Yellow Brick Road to Extinction - Russia N...</td>\n",
       "      <td>This post was originally published on this sit...</td>\n",
       "      <td>0</td>\n",
       "    </tr>\n",
       "    <tr>\n",
       "      <td>358</td>\n",
       "      <td>Kunst am Werk: Wie UralMasch zur Bilder-Galeri...</td>\n",
       "      <td>Audio-Slideshows Kunst am Werk: Wie UralMasch ...</td>\n",
       "      <td>0</td>\n",
       "    </tr>\n",
       "    <tr>\n",
       "      <td>359</td>\n",
       "      <td>Actor Mark Ruffalo Joins Activists In ND To Pr...</td>\n",
       "      <td>Mark Ruffalo is one the movie industry’s most ...</td>\n",
       "      <td>0</td>\n",
       "    </tr>\n",
       "    <tr>\n",
       "      <td>360</td>\n",
       "      <td>Is Russia Hiding The Existence Of An Advanced ...</td>\n",
       "      <td>Peculiar supernatural activity which is suspec...</td>\n",
       "      <td>0</td>\n",
       "    </tr>\n",
       "    <tr>\n",
       "      <td>361</td>\n",
       "      <td>World's Oldest Person Had Smoked For 76 Years</td>\n",
       "      <td>Report Copyright Violation World's Oldest Pers...</td>\n",
       "      <td>0</td>\n",
       "    </tr>\n",
       "  </tbody>\n",
       "</table>\n",
       "</div>"
      ],
      "text/plain": [
       "                                                 title  \\\n",
       "357  The Yellow Brick Road to Extinction - Russia N...   \n",
       "358  Kunst am Werk: Wie UralMasch zur Bilder-Galeri...   \n",
       "359  Actor Mark Ruffalo Joins Activists In ND To Pr...   \n",
       "360  Is Russia Hiding The Existence Of An Advanced ...   \n",
       "361      World's Oldest Person Had Smoked For 76 Years   \n",
       "\n",
       "                                                  text  label  \n",
       "357  This post was originally published on this sit...      0  \n",
       "358  Audio-Slideshows Kunst am Werk: Wie UralMasch ...      0  \n",
       "359  Mark Ruffalo is one the movie industry’s most ...      0  \n",
       "360  Peculiar supernatural activity which is suspec...      0  \n",
       "361  Report Copyright Violation World's Oldest Pers...      0  "
      ]
     },
     "execution_count": 34,
     "metadata": {},
     "output_type": "execute_result"
    }
   ],
   "source": [
    "print(combined_test.shape)\n",
    "print(combined_test.head())\n",
    "combined_test.tail()"
   ]
  },
  {
   "cell_type": "code",
   "execution_count": 35,
   "metadata": {},
   "outputs": [],
   "source": [
    "train_text = combined_train['text'].values\n",
    "test_text = combined_test['text'].values\n",
    "train_labels = combined_train['label'].values\n",
    "test_labels = combined_test['label'].values"
   ]
  },
  {
   "cell_type": "code",
   "execution_count": 36,
   "metadata": {},
   "outputs": [
    {
     "name": "stdout",
     "output_type": "stream",
     "text": [
      "(1448,)\n",
      "(362,)\n",
      "(1810,)\n"
     ]
    }
   ],
   "source": [
    "type(train_text)\n",
    "print(train_text.shape)\n",
    "print(test_text.shape)\n",
    "fit_text = np.concatenate((train_text, test_text))\n",
    "print(fit_text.shape)"
   ]
  },
  {
   "cell_type": "code",
   "execution_count": 37,
   "metadata": {},
   "outputs": [
    {
     "name": "stdout",
     "output_type": "stream",
     "text": [
      "<class 'scipy.sparse.csr.csr_matrix'>\n",
      "tf idf vectorized text shape: (1448, 9935)\n",
      "original text shape: (1448,)\n",
      "<class 'scipy.sparse.csr.csr_matrix'>\n",
      "tf idf vectorized text shape: (362, 9935)\n",
      "original text shape: (362,)\n"
     ]
    }
   ],
   "source": [
    "tfidf_2 = TfidfVectorizer(ngram_range=(1,2), max_df= 0.85, min_df= 0.01)\n",
    "tfidf_2.fit(fit_text)\n",
    "train_text = tfidf_2.transform(train_text)\n",
    "print(type(train_text))\n",
    "print(\"tf idf vectorized text shape: {}\".format(train_text.shape))\n",
    "print(\"original text shape: {}\".format(combined_train['text'].shape))\n",
    "\n",
    "test_text = tfidf_2.transform(test_text)\n",
    "print(type(test_text))\n",
    "print(\"tf idf vectorized text shape: {}\".format(test_text.shape))\n",
    "print(\"original text shape: {}\".format(combined_test['text'].shape))"
   ]
  },
  {
   "cell_type": "code",
   "execution_count": 38,
   "metadata": {},
   "outputs": [],
   "source": [
    "nb_2 = MultinomialNB()\n",
    "nb_2.fit(train_text,train_labels)\n",
    "train_pred = nb_2.predict(train_text)"
   ]
  },
  {
   "cell_type": "code",
   "execution_count": 39,
   "metadata": {},
   "outputs": [
    {
     "name": "stdout",
     "output_type": "stream",
     "text": [
      "Naive Bayes In Sample F1 and Accuracy Scores:\n",
      "F1 score 91.99%\n",
      "Accuracy score 91.99%\n"
     ]
    }
   ],
   "source": [
    "print('Naive Bayes In Sample F1 and Accuracy Scores:')\n",
    "print('F1 score {:.4}%'.format(f1_score(train_labels, train_pred, average='macro')*100 ))\n",
    "print ('Accuracy score {:.4}%'.format(accuracy_score(train_labels, train_pred)*100))"
   ]
  },
  {
   "cell_type": "code",
   "execution_count": 40,
   "metadata": {},
   "outputs": [
    {
     "data": {
      "text/html": [
       "<div>\n",
       "<style scoped>\n",
       "    .dataframe tbody tr th:only-of-type {\n",
       "        vertical-align: middle;\n",
       "    }\n",
       "\n",
       "    .dataframe tbody tr th {\n",
       "        vertical-align: top;\n",
       "    }\n",
       "\n",
       "    .dataframe thead th {\n",
       "        text-align: right;\n",
       "    }\n",
       "</style>\n",
       "<table border=\"1\" class=\"dataframe\">\n",
       "  <thead>\n",
       "    <tr style=\"text-align: right;\">\n",
       "      <th></th>\n",
       "      <th>title</th>\n",
       "      <th>text</th>\n",
       "    </tr>\n",
       "    <tr>\n",
       "      <th>label</th>\n",
       "      <th></th>\n",
       "      <th></th>\n",
       "    </tr>\n",
       "  </thead>\n",
       "  <tbody>\n",
       "    <tr>\n",
       "      <td>0</td>\n",
       "      <td>66</td>\n",
       "      <td>66</td>\n",
       "    </tr>\n",
       "    <tr>\n",
       "      <td>1</td>\n",
       "      <td>50</td>\n",
       "      <td>50</td>\n",
       "    </tr>\n",
       "  </tbody>\n",
       "</table>\n",
       "</div>"
      ],
      "text/plain": [
       "       title  text\n",
       "label             \n",
       "0         66    66\n",
       "1         50    50"
      ]
     },
     "execution_count": 40,
     "metadata": {},
     "output_type": "execute_result"
    }
   ],
   "source": [
    "combined.loc[np.where(train_labels != train_pred)[0].tolist()].groupby('label').agg('count')"
   ]
  },
  {
   "cell_type": "code",
   "execution_count": 41,
   "metadata": {},
   "outputs": [
    {
     "name": "stdout",
     "output_type": "stream",
     "text": [
      "Naive Bayes Out of Sample F1 and Accuracy Scores:\n",
      "F1 score 93.07%\n",
      "Accuracy score 93.09%\n"
     ]
    }
   ],
   "source": [
    "test_pred = nb_2.predict(test_text)\n",
    "print('Naive Bayes Out of Sample F1 and Accuracy Scores:')\n",
    "print('F1 score {:.4}%'.format(f1_score(test_labels, test_pred, average='macro')*100 ))\n",
    "print ('Accuracy score {:.4}%'.format(accuracy_score(test_labels, test_pred)*100))"
   ]
  },
  {
   "cell_type": "code",
   "execution_count": 42,
   "metadata": {},
   "outputs": [
    {
     "data": {
      "text/html": [
       "<div>\n",
       "<style scoped>\n",
       "    .dataframe tbody tr th:only-of-type {\n",
       "        vertical-align: middle;\n",
       "    }\n",
       "\n",
       "    .dataframe tbody tr th {\n",
       "        vertical-align: top;\n",
       "    }\n",
       "\n",
       "    .dataframe thead th {\n",
       "        text-align: right;\n",
       "    }\n",
       "</style>\n",
       "<table border=\"1\" class=\"dataframe\">\n",
       "  <thead>\n",
       "    <tr style=\"text-align: right;\">\n",
       "      <th></th>\n",
       "      <th>title</th>\n",
       "      <th>text</th>\n",
       "    </tr>\n",
       "    <tr>\n",
       "      <th>label</th>\n",
       "      <th></th>\n",
       "      <th></th>\n",
       "    </tr>\n",
       "  </thead>\n",
       "  <tbody>\n",
       "    <tr>\n",
       "      <td>1</td>\n",
       "      <td>25</td>\n",
       "      <td>25</td>\n",
       "    </tr>\n",
       "  </tbody>\n",
       "</table>\n",
       "</div>"
      ],
      "text/plain": [
       "       title  text\n",
       "label             \n",
       "1         25    25"
      ]
     },
     "execution_count": 42,
     "metadata": {},
     "output_type": "execute_result"
    }
   ],
   "source": [
    "combined.loc[np.where(test_labels != test_pred)[0].tolist()].groupby('label').agg('count')"
   ]
  },
  {
   "cell_type": "code",
   "execution_count": null,
   "metadata": {},
   "outputs": [],
   "source": []
  }
 ],
 "metadata": {
  "kernelspec": {
   "display_name": "Python 3",
   "language": "python",
   "name": "python3"
  },
  "language_info": {
   "codemirror_mode": {
    "name": "ipython",
    "version": 3
   },
   "file_extension": ".py",
   "mimetype": "text/x-python",
   "name": "python",
   "nbconvert_exporter": "python",
   "pygments_lexer": "ipython3",
   "version": "3.7.4"
  }
 },
 "nbformat": 4,
 "nbformat_minor": 2
}
