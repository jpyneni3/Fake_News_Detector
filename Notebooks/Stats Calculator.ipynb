{
 "cells": [
  {
   "cell_type": "code",
   "execution_count": 18,
   "metadata": {},
   "outputs": [],
   "source": [
    "import pandas as pd\n",
    "import numpy as np\n",
    "import json"
   ]
  },
  {
   "cell_type": "code",
   "execution_count": 3,
   "metadata": {},
   "outputs": [
    {
     "name": "stdout",
     "output_type": "stream",
     "text": [
      "(908, 6)\n",
      "Number of articles = 908\n",
      "Average article Length = 482 words\n"
     ]
    }
   ],
   "source": [
    "df_real = pd.read_csv('../Cleaned Data/Neural_Fake_News.csv')\n",
    "print(df_real.shape)\n",
    "df_real.head()\n",
    "df_real.dropna(inplace=True)\n",
    "\n",
    "articles = 0\n",
    "words = 0\n",
    "for i in range(0, df_real.shape[0]):\n",
    "    text = df_real['text'].iloc[i]\n",
    "    articles += 1\n",
    "    words += len(text.split())\n",
    "    \n",
    "print(\"Number of articles = {}\".format(df_real.shape[0]))\n",
    "print(\"Average article Length = {} words\".format(int(words/articles)))"
   ]
  },
  {
   "cell_type": "code",
   "execution_count": 24,
   "metadata": {},
   "outputs": [
    {
     "name": "stdout",
     "output_type": "stream",
     "text": [
      "(12999, 20)\n",
      "(4702, 20)\n",
      "Number of articles = 4702\n",
      "Average article Length = 670 words\n"
     ]
    }
   ],
   "source": [
    "df_fake = pd.read_csv('../Uncleaned Data/fake.csv')\n",
    "print(df_fake.shape)\n",
    "df_fake.head()\n",
    "df_fake.dropna(inplace=True)\n",
    "print(df_fake.shape)\n",
    "articles = 0\n",
    "words = 0\n",
    "for i in range(0, df_fake.shape[0]):\n",
    "    text = df_fake['text'].iloc[i]\n",
    "    articles += 1\n",
    "    words += len(text.split())\n",
    "    \n",
    "print(\"Number of articles = {}\".format(df_fake.shape[0]))\n",
    "print(\"Average article Length = {} words\".format(int(words/articles)))"
   ]
  },
  {
   "cell_type": "code",
   "execution_count": 19,
   "metadata": {},
   "outputs": [
    {
     "name": "stdout",
     "output_type": "stream",
     "text": [
      "Dies ist ein Test, um zu sehen, wie viel dies verarbeiten kann. Dies ist ein Test, um zu sehen, wie viel dies verarbeiten kann. Dies ist ein Test, um zu sehen, wie viel dies verarbeiten kann. Dies ist ein Test, um zu sehen, wie viel dies verarbeiten kann. Dies ist ein Test, um zu sehen Wie viel kann dies verarbeiten? Dies ist ein Test, um zu sehen, wie viel dies verarbeiten kann. Dies ist ein Test, um zu sehen, wie viel dies verarbeiten kann. Dies ist ein Test, um zu sehen, wie viel dies verarbeiten kann. Dies ist ein Test, um zu sehen, wie viel dies verarbeiten kann\n",
      "\n",
      "<class 'str'>\n",
      "This is a test to see how much this can handle. This is a test to see how much this can handle. This is a test to see how much this can handle. This is a test to see how much this can handle. This is a test to see how much can this handle? This is a test to see how much this can handle. This is a test to see how much this can handle. This is a test to see how much this can handle. This is a test to see how much this can handle\n"
     ]
    }
   ],
   "source": [
    "from textblob import TextBlob\n",
    "import time\n",
    "import pandas as pd\n",
    "\n",
    "# from googletrans import Translator\n",
    "# translator = Translator()\n",
    "# def translate(original, language='de'):\n",
    "#     foreign = translator.translate(original, dest=language, src='en')\n",
    "#     out = translator.translate(foreign.text, dest='en', src=language)\n",
    "#     return out.text\n",
    "text = \"This is a test to see how much this can handle This is a test to see how much this can handle This is a test to see how much this can handle This is a test to see how much this can handle This is a test to see how much this can handle This is a test to see how much this can handle This is a test to see how much this can handle This is a test to see how much this can handle This is a test to see how much this can handle   \"\n",
    "# text = text + \" \" + text\n",
    "\n",
    "blob1 = TextBlob(text)\n",
    "foreign = blob1.translate(to='de')\n",
    "out = foreign.translate(to='en')\n",
    "print(foreign)\n",
    "out = str(out)\n",
    "print()\n",
    "print(type(out))\n",
    "print(out)\n",
    "def translate(original, language='de'):\n",
    "    input_text = TextBlob(original)\n",
    "    foreign = input_text.translate(to=language)\n",
    "    time.sleep(0.2)\n",
    "    out = foreign.translate(to='en')\n",
    "    time.sleep(0.2)\n",
    "    return str(out)"
   ]
  },
  {
   "cell_type": "code",
   "execution_count": 20,
   "metadata": {},
   "outputs": [
    {
     "data": {
      "text/html": [
       "<div>\n",
       "<style scoped>\n",
       "    .dataframe tbody tr th:only-of-type {\n",
       "        vertical-align: middle;\n",
       "    }\n",
       "\n",
       "    .dataframe tbody tr th {\n",
       "        vertical-align: top;\n",
       "    }\n",
       "\n",
       "    .dataframe thead th {\n",
       "        text-align: right;\n",
       "    }\n",
       "</style>\n",
       "<table border=\"1\" class=\"dataframe\">\n",
       "  <thead>\n",
       "    <tr style=\"text-align: right;\">\n",
       "      <th></th>\n",
       "      <th>clean_text</th>\n",
       "    </tr>\n",
       "  </thead>\n",
       "  <tbody>\n",
       "    <tr>\n",
       "      <td>0</td>\n",
       "      <td>washington cnn president donald trump said sun...</td>\n",
       "    </tr>\n",
       "    <tr>\n",
       "      <td>1</td>\n",
       "      <td>exterior elmhurst hospital queens sunday march...</td>\n",
       "    </tr>\n",
       "    <tr>\n",
       "      <td>2</td>\n",
       "      <td>cnn president donald trump acknowledged sunday...</td>\n",
       "    </tr>\n",
       "    <tr>\n",
       "      <td>3</td>\n",
       "      <td>sign get new weekly column newsletter looking ...</td>\n",
       "    </tr>\n",
       "    <tr>\n",
       "      <td>4</td>\n",
       "      <td>cnn  race publicly least largely halted countr...</td>\n",
       "    </tr>\n",
       "    <tr>\n",
       "      <td>...</td>\n",
       "      <td>...</td>\n",
       "    </tr>\n",
       "    <tr>\n",
       "      <td>2342</td>\n",
       "      <td>south korea significantly improved legal frame...</td>\n",
       "    </tr>\n",
       "    <tr>\n",
       "      <td>2343</td>\n",
       "      <td>zak driouche stepped outside quattro formaggi ...</td>\n",
       "    </tr>\n",
       "    <tr>\n",
       "      <td>2344</td>\n",
       "      <td>throughout march even business manufacturing s...</td>\n",
       "    </tr>\n",
       "    <tr>\n",
       "      <td>2345</td>\n",
       "      <td>californias effort move homeless people hotel ...</td>\n",
       "    </tr>\n",
       "    <tr>\n",
       "      <td>2346</td>\n",
       "      <td>growing numbers protesters challenge coronavir...</td>\n",
       "    </tr>\n",
       "  </tbody>\n",
       "</table>\n",
       "<p>2347 rows × 1 columns</p>\n",
       "</div>"
      ],
      "text/plain": [
       "                                             clean_text\n",
       "0     washington cnn president donald trump said sun...\n",
       "1     exterior elmhurst hospital queens sunday march...\n",
       "2     cnn president donald trump acknowledged sunday...\n",
       "3     sign get new weekly column newsletter looking ...\n",
       "4     cnn  race publicly least largely halted countr...\n",
       "...                                                 ...\n",
       "2342  south korea significantly improved legal frame...\n",
       "2343  zak driouche stepped outside quattro formaggi ...\n",
       "2344  throughout march even business manufacturing s...\n",
       "2345  californias effort move homeless people hotel ...\n",
       "2346  growing numbers protesters challenge coronavir...\n",
       "\n",
       "[2347 rows x 1 columns]"
      ]
     },
     "execution_count": 20,
     "metadata": {},
     "output_type": "execute_result"
    }
   ],
   "source": [
    "file_name = '../Cleaned Data/Real_News.csv'\n",
    "df_real = pd.read_csv(file_name)\n",
    "df_real.drop(['url',\"Unnamed: 0\"],inplace=True,axis=1)\n",
    "df_real"
   ]
  },
  {
   "cell_type": "code",
   "execution_count": 35,
   "metadata": {},
   "outputs": [],
   "source": [
    "sizes_dict = {}\n",
    "size = []\n",
    "for i in range(df_real.shape[0]):\n",
    "    key = len(df_real['clean_text'][i])\n",
    "    if key in sizes_dict:\n",
    "        sizes_dict[key].append(i)\n",
    "    else:\n",
    "        sizes_dict[key] = [i]\n",
    "    size.append(key)"
   ]
  },
  {
   "cell_type": "code",
   "execution_count": 36,
   "metadata": {},
   "outputs": [],
   "source": [
    "sizes = sorted(sizes, reverse=True)"
   ]
  },
  {
   "cell_type": "code",
   "execution_count": 37,
   "metadata": {},
   "outputs": [
    {
     "name": "stdout",
     "output_type": "stream",
     "text": [
      "[36089, 33718, 32808, 22112, 21331, 20822, 19961, 19961, 18571, 17879]\n"
     ]
    }
   ],
   "source": [
    "print(sizes[0:10])"
   ]
  },
  {
   "cell_type": "code",
   "execution_count": 54,
   "metadata": {},
   "outputs": [
    {
     "data": {
      "text/plain": [
       "[41]"
      ]
     },
     "execution_count": 54,
     "metadata": {},
     "output_type": "execute_result"
    }
   ],
   "source": [
    "sizes_dict[22112]"
   ]
  },
  {
   "cell_type": "code",
   "execution_count": 42,
   "metadata": {},
   "outputs": [
    {
     "data": {
      "text/plain": [
       "'cnn  womens history month comes amid time social upheaval global fear coronavirus pandemic resulting political turmoil many  presidential race afterthought womens history month also mark departure last remaining women candidates  presidential field  election year also marks centennial womens suffrage womens history month comes close many us afraid angry anxious whats next  theres arguably never significant time consider womens history informs present spirit asked esteemed set women reflect back lives careers leaders drawing historical moments achievements women given hope fortitude keep going jennifer siebel newsom told must continue lift build partnerships fight otherbecause women rise rise glimpse inspiring stories figureswho theyve meant women past mean looking forward  beyond trailblazing tennis legend billie jean king said whatever care make difference really dont ever underestimate underestimate human spirit clara barton madeleine albright global community grapples major public health crisis womens history month reflecting pride leading role women always played continue play front lines medicine caregiving united states story perhaps best exemplified clara barton  founder american red cross one celebrated figures nations history lifesaving work civil war battlefields lasting contributions betterment society reminder much determined woman clarissa harlowe clara barton    barton dreamer doer whose legacy embodies principle core america every one us counts matter come race gender creed happen confront challenge coronavirus must recommit principle central pillar upon healthy united communities built madeleine albright first woman serve us secretary state author multiple books including shortly forthcoming  first woman serve us secretary state author multiple books including shortly forthcoming  hell destinations stcentury memoir rachel carson jane goodall  two years studying chimpanzees went cambridge university read phd ethology told difference kind humans animals humans personalities minds emotions learned true childhood teachers wonderful mother dog rusty refused comply reductionist thinking eventually chimpanzees similar us biologically well behaviorally scientists accepted part animal kingdom received much criticism challenging time read rachel carsons silent spring inspired courage battling pharmaceutical companies government scientists danger environment ddt wrote general public letting people know truth challenging belief scientists criticism rachel carson  thought rachel  confronting scientists medical research laboratories chimpanzees imprisoned small barren cages increasingly spoke use chemical pesticides herbicides industrial agriculture although recent victories companies encouraging long fight ahead us still rachel continue inspire never gave succeeded banning ddt despite vested interests corporations governmentdespite fact secretly battling cancer killed addition always supported encouraged mother jane goodall founder founder jane goodall institute un messenger peace claudette colvin sheryl sandberg first reaction learning claudette colvin know  claudette  living montgomery alabama ride home school one day driver ordered give seat white woman claudette refused two police officers dragged bus handcuffs claudette colvin civil rights lawyers considered making claudette test case dismantle segregation alabama various reasonsincluding claudette pregnant perhaps sympathetic enough  decided claudette ended paying fine moving life nine months later rosa parks refused leave seat bus everything changed learning claudette lesson womens history lot vibrant thrilling history books suggest think think something different think black pregnant teenager courage stand racist dehumanizing system lot people wouldnt young people always powerful think sheryl sandberg facebooks chief operating officer founder facebooks chief operating officer founder lean option shirley chisholm barbara lee first met congresswoman shirley chisholm  young single mom public assistance food stamps active communityserving president black student union volunteering black panther party raising two young boys time spent campaign deeply impacted life government professor assigned us fieldwork presidential campaign time three men vying democratic nomination didnt represent platforms regarding issues impacted black single motherissues like childcare public education universal health care ending poverty never flunked class life resigned flunking assignment met shirley chisholm invited congresswoman chisholm mills college address black student union first african american woman elected congress one idea also running president right said speech candidate hoping stood children struggling families spoke racism sexism xenophobia advocated knew right undeterred criticism without fear consequences bold courageoustruly unbought unbossed soon finished speech offered anything could campaign asked registered vote admitted pleased looked said little girl cant change system youre outside looking register vote showed moral leadership means standing right standing beliefs face overwhelming opposition taught black women cant go along get alongwe must change rules game address institutional racism sexism showed broke barriers must bring women us barbara lee democratic representative california worked shirley chisholms presidential campaign  shirley chisholm  kamala harris congresswoman shirley chisholm remains inspiration little girls women everywhere including reminding us strive whats possible unburdened whats motheranother hero eyesused say may first many things make sure youre last shirley chisholm taught us power truth carving path help next generation asked wanted legacy said id like say shirley chisholm guts thats id like remembered womens history month thinking shirley chisholm hope little girls women everywhere remember yes guts kamala harris us senator california former candidate democratic nomination president dorothy bolden aijen poo new york domestic workers bill rights passed  years ago knew witnessing massive historical achievement moment riding crest longer historical arc lifted millions women fighting respect dignity generations women like dorothy bolden  began fighting rights domestic workers riding buses atlanta georgia organize workers way work made breakthrough  founded national domestic workers union america dorothy bolden daughter housekeeper chauffeur organized  domestic workerssomething considered impossibleacross ten different cities fought wage increases workers compensation social security around  years later witnessed signing law first state legislation ensuring domestic workers new york right overtime day rest three days paid time protections discrimination harassmenta moment riding momentum dorothy bolden us also turn created momentum eight pieces state legislation followed nearly decade new york legislation passed national domestic workers bill rights introduced  sen kamala harris rep pramila jayapaltwo strong women color serving congress movement bookmarked moments historical achievement riding wave started long many us born believe continue rise well future dorothy parker jennifer finney boylan course career looked women writers blazed trail one dorothy parker  woman shone brilliantly mans world back gents thought woman writer aberrant stunt like circus bear riding unicycle shes best known poems love thing never go wrongand marie romania clever bon mots girls attended yale prom laid end end wouldnt bit surprised membership algonquin roundtable also dedicated activist civil rights civil liberties ashes interred headquarters naacp baltimore think career made clear sometimes best way bring social change sense humor sometimes best consolation broken heart crispy cold martini parker deserves honored wit wisdom miraculous measures words four things wiser know  idleness sorrow friend foe four things id better without  love curiosity freckles doubt three things shall never attain  envy content sufficient champagne three things shall till die  laughter hope sock eye jennifer finney boylan author  books including novel long black veil memoir shes life two genders next book memoir  author  books including novel long black veil memoir shes life two genders next book memoir  good boy life seven dogs  forthcoming april inaugural anna quindlen writer residence barnard college columbia university member board trustees pen america formerly chaired glaads board directors bella abzug pat mitchell along nearly one thousand women world traveled brussels may  firstever international peace conference convened women proudly hanging front european parliament building banner women give peace chance bella abzug  opening plenary colorful congresswoman new york bella abzug proclaimed next century women change nature power rather power changing nature women historic year celebrating th amendment giving women power vote im still believer bellas prediction witnessed happen women bring forward full scope experiences mothers daughters sisters individually collectively redefine power use share negotiating peace leading toward climate justice global womens community opportunity fully actualize bellas faith us pat mitchell media executive author editorial director media executive author editorial director tedwomen  first female president pbs margaret chase smith  many kay bailey hutchison wrote american heroines spirited women shaped country observation jumped many instances remarkable progress women history first barrier breakers worked years recognized fields never saw success margaret chase smith first woman us senate elected reelected right broke barrier likely would surprised almost  senates members women margaret chase smith  amelia earhart broke barrier women aviation jackie cochran founded wasp wwii women pilots service paving way sally ride first american woman space emma willard fought girls public education lobbying speaking importance educating girls early lead started movement eventually spread every state finally suffragists rallied marched womens equality starting  seeking basic right vote assure voices counted took  years dream realized none brave early leaders lived celebrate exercise important right opened many doors next steps true equality many women faced obstacles women never even dreamed women today running americas biggest corporations leading cities states judiciary mayors governors senators supreme court justices fought equality education efforts opened doors stand shoulders giant spirits fought womens role building country every field contributes greatness america kay bailey hutchison former republican us senator texas us permanent representative nato hillary clinton kirsten gillibrand  years ago beijing hillary clinton stood front united nations world conference women declared human rights womens rights womens rights human rights although hillarys historymaking speech directed world felt like speaking directly time young lawyer hillarys words forced ask tough questions make world better place hillarys speech got sidelines became involved womens leadership forum worked us department housing urban development last year clinton administration  ran congress twotoone republican district two years later reelection coming full circle appointed hillarys senate seat following appointment secretary state cant imagine hillary would predicted speech beijing would lead successor us senate im certain knew words would inspire generations women speaking one im grateful kirsten gillibrand democratic us senator new york former candidate democratic nomination president creator democratic us senator new york former candidate democratic nomination president creator sidelines  movement encourage women girls run office participate civic life mother alicia garza times uncertainty important reach inspiration way stay connected whats possible im grateful mother lynette schwartz taught young age always expect unexpected prepared things cannot see growing used think mother unnecessarily worried everything overly prepared advice habits become especially helpful last weeks uncertainty spreads home become sanctuary dont mother died two years ago flooded stories near far showed someone darkest uncertain moments moving  realize guidance mother gave growing important foundation woman become given important framework approach moment show kindness love every chance get connect someone needs hear caring voice right offer assistance making sure oxygen mask secured smile travel million milespractice hug loved ones tight recognize actions take today impact many people choose actions wisely fight like hell family others way make times like together alicia garza strategy partnerships director strategy partnerships director national domestic workers alliance cofounder black lives matter supermajority women color built movement aimee allison women color founded movement carry forward today inspiration persistence seen heard gives strength carry uncertain times term women color born  houston texas first national womens conference among  mostly white women cadre black latina asian american native women redefined womens agenda include race class solidarity inspired entire generations us step fully collective leadership power women colora majority women several statesare leading progressive reforms voters organizers courageous elected leaders harriet tubman    lineage women color runs even deeper back harriet tubman sojourner truth ida wells ella baker peoplethe clarion call democracyresounds words grace lee boggs yuri kochiyama zitkalasa queen liliuokalni cherokee chief wilma mankiller organizer luisa moreno exemplified hero shirley chisholm began historic run congress  years ago godmothers walk footsteps give hope keeping fight end lead us want democracy based love justice belonging aimee allison founder president founder president people  national network elevating political power women color geraldine ferraro cecile richards still remember standing mother ann richards floor  democratic national convention san francisco first time wed done anything like together state treasurer texas mom asked give speech seconding walter mondales nomination presidency asked go along even though speech next day furthest thing minds waited mondales running mate geraldine ferraro  take stage night would become first woman ever nominated vice president major party ticket geraldine ferraro  usually official delegates allowed convention floor night packed women country wasnt delegate like many women around given floor pass male delegate susan stamberg npr dressed always sandals flowing dress walked mom ubiquitous microphone headphones yelled screaming delegates feel ann mom sentimental person even overcome soaking moment geraldine ferraros name announced speakers answered tearyeyed wasnt sure would ever live see day finally one us later night geraldine took stage raucous applause said choosing american woman run nations second highest office send powerful signal americans doors cannot unlock place limits achievement anything moment women caught glimpse would feel real representation highest levels government first time moment mind year women proving energized voters country may shatter highest hardest glass ceiling november  years geraldine ferraro electrified convention absolutely elect first woman vice president united states cecile richards former president planned parenthood author cofounder former president planned parenthood author cofounder supermajority harriet tubman angela davis patrisse cullors young girl impacted overpolicing overincarceration communities particularly grateful learned abolitionist movement helped support enslaved africans gain freedom would learn relearn brilliant story harriet tubmana young enslaved woman would free slavery eventually free many others including entire family kind bravery helped assess life living created courage translated work currently today angela davis would often ask new underground railroad new abolitionist movement answer come one mentors angela davis angela made sure country understood prisons police new frontier movement towards ending slavery angela believes deeplyand tubman toothat black people must able determine destinies slavery imprisonment antithetical freedom thats ive dedicated life towards abolitionist movement embodies vision towards healing justice transformative justice community accountability patrisse cullors artist activist cofounder black lives matter founder chair artist activist cofounder black lives matter founder chair reform la jails  los angelesbased committee represents coalition citizens community leaders organizations prevent crime permanently reduce population people cycling jail experiencing mental health drug dependency chronic homelessness issues  ileana roslehtinen life many moments selfdoubt felt lacked knowledge background expertise necessary deal vexing issues women experiences one moment happened decided run first congressional campaign summer  longterm member congress former us senator claude pepper died rare vacancy opened miami congressional seat serving time florida state senator many folks around political circle encouraging throw hat ring resisted rush listen supportive voices felt needed time become wellversed international issues even though born cuba became naturalized us citizen immersed matters related world affairs communitys involvement fight freedom democracy hemisphere still felt others knew wanted time decide truly ready run time ponder decision made quickly encouragement husband father decided hesitantly would run congress crash course national international issues sink swim find campaign season already knew plenty big issues prepared debate political opponents male candidates superficial knowledge important issues yet undeterred confidence knew limits lesson garnered first congressional campaign believe dont think lack preparation job seeking get prepared never doubt blow guys seem polished ready water ileana roslehtinen former republican us representative florida first latina elected congress ida wellsbarnett kimberl crenshaw born slavery orphaned young woman ida wellsbarnett uncompromising courageous voice race gender justice resisted terror racism suffocation sexism also conventions artificially limited advocacy isms ida bell wellsbarnett  wellsbarnetts inspiring story one resilience bravery constant success dared sue rejected ladies car victory overturned appeal wrote scathing account lynching three successful black businessmen white mobs destroyed printing press launched antilynching campaign ultimately seeded naacps signature efforts excluded leadership organization sought march alongside white woman suffragists singlehandedly combat efforts white sisters force march back may odd find inspiration travails someone frequently lost even within allies wellsbarnetts legacy seen sitin demonstrations contemporary emerging political power black women struggles antiblack violence foundation #blacklivesmatter #sayhername fighting present nurtured realizable future everpresent reminder losing short run worst outcome refusal fight kimberl crenshaw cofounder executive director cofounder executive director african american policy forum professor law ucla columbia law school mariame kaba opal tometi one people inspired mariame kaba one nations leading prison abolitionists founder organization project nia works end youth incarceration shes truly remarkable one attributes admire resilience embodies genuine sense hope exudes deeply principled warm hearted pursuit justice said something years ago stayed hope discipline things feel bleak come back words maintain perspective persevere one look womens history month however also several women around globe admire fact month used personal instagram page launch something im calling #globalherstory profiles ive highlighting black women change makers around globemodern icons admire phenomenal work communities women ive included range graca machel mandelathe wife late nelson mandelato erica malunguinho da silva first transgender congresswoman brazil many sheroes worthy recognition celebration learn way daily hope help amplify contribution keep legacy transnational feminism going little way project daily work opal tometi cofounder black lives matter former executive director cofounder black lives matter former executive director black alliance immigration get free weekly newsletter sign cnn opinions new newsletter join us twitter facebook gunnawa robin morgan  years ago went mountainous northern cordillera region philippines invitation filipina womens movement work women memorable moments trip theres one encounter always return feel lost went one tiny ricepaddy villages cluster six tin opensided leanto huts days trek minibus little town bontoc foot steep hillsides across fragile rope bridges teetering along thin strips earth divide paddies finally sit mud floor one huts drinking peanut coffee shared tin cup urban filipinas speak english spanish little filipino tagalog tribal people north languages one woman translates gunnawa woman whose hut sat mother seven children crowd around us speak thirties looked like woman sixties teeth rotting skin tanned leather sun stretched across gaunt frame eyes gleamed intelligence proud children learning read woman came week tiny bontoc womens centre teach gunnawa never village longing soft voice clear even translation reaches another womans voice want anything learn read came quiet reply asked gently food better shelter ease intense lifelong labor insisted dignity read see continued someday might go somewhere hear signs roads could read signs would know could know going later afternoon us clutching ropes swaying bridge activist translator shouted somehow must find funding start adult literacy program women rice paddy gunnawa always us need know read signs tell us know going robin morgan author cofounder author cofounder womens media center host wmc live robin morgan note article updated dorothy parker entry'"
      ]
     },
     "execution_count": 42,
     "metadata": {},
     "output_type": "execute_result"
    }
   ],
   "source": [
    "df_real['clean_text'][41]"
   ]
  },
  {
   "cell_type": "code",
   "execution_count": 103,
   "metadata": {},
   "outputs": [],
   "source": [
    "\n",
    "def translate(original, language='de'):\n",
    "    input_text = TextBlob(original)\n",
    "    foreign = input_text.translate(to=language)\n",
    "    time.sleep(0.2)\n",
    "    out = foreign.translate(to='en')\n",
    "    time.sleep(0.2)\n",
    "    return str(out)"
   ]
  },
  {
   "cell_type": "code",
   "execution_count": 106,
   "metadata": {},
   "outputs": [
    {
     "name": "stdout",
     "output_type": "stream",
     "text": [
      "pre translation\n",
      "isaac stanleybecker washington dc\n"
     ]
    },
    {
     "ename": "NotTranslated",
     "evalue": "Translation API returned the input string unchanged.",
     "output_type": "error",
     "traceback": [
      "\u001b[0;31m---------------------------------------------------------------------------\u001b[0m",
      "\u001b[0;31mNotTranslated\u001b[0m                             Traceback (most recent call last)",
      "\u001b[0;32m<ipython-input-106-4def1ca8a706>\u001b[0m in \u001b[0;36m<module>\u001b[0;34m\u001b[0m\n\u001b[1;32m      4\u001b[0m \u001b[0mprint\u001b[0m\u001b[0;34m(\u001b[0m\u001b[0mdf_real\u001b[0m\u001b[0;34m[\u001b[0m\u001b[0;34m'clean_text'\u001b[0m\u001b[0;34m]\u001b[0m\u001b[0;34m[\u001b[0m\u001b[0midx\u001b[0m\u001b[0;34m]\u001b[0m\u001b[0;34m)\u001b[0m\u001b[0;34m\u001b[0m\u001b[0;34m\u001b[0m\u001b[0m\n\u001b[1;32m      5\u001b[0m \u001b[0;34m\u001b[0m\u001b[0m\n\u001b[0;32m----> 6\u001b[0;31m \u001b[0mx\u001b[0m \u001b[0;34m=\u001b[0m \u001b[0mtranslate\u001b[0m\u001b[0;34m(\u001b[0m\u001b[0mdf_real\u001b[0m\u001b[0;34m[\u001b[0m\u001b[0;34m'clean_text'\u001b[0m\u001b[0;34m]\u001b[0m\u001b[0;34m[\u001b[0m\u001b[0midx\u001b[0m\u001b[0;34m]\u001b[0m\u001b[0;34m)\u001b[0m\u001b[0;34m\u001b[0m\u001b[0;34m\u001b[0m\u001b[0m\n\u001b[0m\u001b[1;32m      7\u001b[0m \u001b[0mdf_real\u001b[0m\u001b[0;34m.\u001b[0m\u001b[0mloc\u001b[0m\u001b[0;34m[\u001b[0m\u001b[0mdf_real\u001b[0m\u001b[0;34m.\u001b[0m\u001b[0mshape\u001b[0m\u001b[0;34m[\u001b[0m\u001b[0;36m0\u001b[0m\u001b[0;34m]\u001b[0m\u001b[0;34m]\u001b[0m\u001b[0;34m=\u001b[0m\u001b[0mx\u001b[0m\u001b[0;34m\u001b[0m\u001b[0;34m\u001b[0m\u001b[0m\n\u001b[1;32m      8\u001b[0m \u001b[0mend\u001b[0m \u001b[0;34m=\u001b[0m \u001b[0mtime\u001b[0m\u001b[0;34m.\u001b[0m\u001b[0mtime\u001b[0m\u001b[0;34m(\u001b[0m\u001b[0;34m)\u001b[0m\u001b[0;34m\u001b[0m\u001b[0;34m\u001b[0m\u001b[0m\n",
      "\u001b[0;32m<ipython-input-103-ae5b04bc0385>\u001b[0m in \u001b[0;36mtranslate\u001b[0;34m(original, language)\u001b[0m\n\u001b[1;32m      1\u001b[0m \u001b[0;32mdef\u001b[0m \u001b[0mtranslate\u001b[0m\u001b[0;34m(\u001b[0m\u001b[0moriginal\u001b[0m\u001b[0;34m,\u001b[0m \u001b[0mlanguage\u001b[0m\u001b[0;34m=\u001b[0m\u001b[0;34m'de'\u001b[0m\u001b[0;34m)\u001b[0m\u001b[0;34m:\u001b[0m\u001b[0;34m\u001b[0m\u001b[0;34m\u001b[0m\u001b[0m\n\u001b[1;32m      2\u001b[0m     \u001b[0minput_text\u001b[0m \u001b[0;34m=\u001b[0m \u001b[0mTextBlob\u001b[0m\u001b[0;34m(\u001b[0m\u001b[0moriginal\u001b[0m\u001b[0;34m)\u001b[0m\u001b[0;34m\u001b[0m\u001b[0;34m\u001b[0m\u001b[0m\n\u001b[0;32m----> 3\u001b[0;31m     \u001b[0mforeign\u001b[0m \u001b[0;34m=\u001b[0m \u001b[0minput_text\u001b[0m\u001b[0;34m.\u001b[0m\u001b[0mtranslate\u001b[0m\u001b[0;34m(\u001b[0m\u001b[0mto\u001b[0m\u001b[0;34m=\u001b[0m\u001b[0mlanguage\u001b[0m\u001b[0;34m)\u001b[0m\u001b[0;34m\u001b[0m\u001b[0;34m\u001b[0m\u001b[0m\n\u001b[0m\u001b[1;32m      4\u001b[0m     \u001b[0mtime\u001b[0m\u001b[0;34m.\u001b[0m\u001b[0msleep\u001b[0m\u001b[0;34m(\u001b[0m\u001b[0;36m0.2\u001b[0m\u001b[0;34m)\u001b[0m\u001b[0;34m\u001b[0m\u001b[0;34m\u001b[0m\u001b[0m\n\u001b[1;32m      5\u001b[0m     \u001b[0mout\u001b[0m \u001b[0;34m=\u001b[0m \u001b[0mforeign\u001b[0m\u001b[0;34m.\u001b[0m\u001b[0mtranslate\u001b[0m\u001b[0;34m(\u001b[0m\u001b[0mto\u001b[0m\u001b[0;34m=\u001b[0m\u001b[0;34m'en'\u001b[0m\u001b[0;34m)\u001b[0m\u001b[0;34m\u001b[0m\u001b[0;34m\u001b[0m\u001b[0m\n",
      "\u001b[0;32m~/opt/anaconda3/lib/python3.7/site-packages/textblob/blob.py\u001b[0m in \u001b[0;36mtranslate\u001b[0;34m(self, from_lang, to)\u001b[0m\n\u001b[1;32m    545\u001b[0m         \"\"\"\n\u001b[1;32m    546\u001b[0m         return self.__class__(self.translator.translate(self.raw,\n\u001b[0;32m--> 547\u001b[0;31m                               from_lang=from_lang, to_lang=to))\n\u001b[0m\u001b[1;32m    548\u001b[0m \u001b[0;34m\u001b[0m\u001b[0m\n\u001b[1;32m    549\u001b[0m     \u001b[0;32mdef\u001b[0m \u001b[0mdetect_language\u001b[0m\u001b[0;34m(\u001b[0m\u001b[0mself\u001b[0m\u001b[0;34m)\u001b[0m\u001b[0;34m:\u001b[0m\u001b[0;34m\u001b[0m\u001b[0;34m\u001b[0m\u001b[0m\n",
      "\u001b[0;32m~/opt/anaconda3/lib/python3.7/site-packages/textblob/translate.py\u001b[0m in \u001b[0;36mtranslate\u001b[0;34m(self, source, from_lang, to_lang, host, type_)\u001b[0m\n\u001b[1;32m     59\u001b[0m             \u001b[0;32mexcept\u001b[0m \u001b[0mIndexError\u001b[0m\u001b[0;34m:\u001b[0m\u001b[0;34m\u001b[0m\u001b[0;34m\u001b[0m\u001b[0m\n\u001b[1;32m     60\u001b[0m                 \u001b[0;32mpass\u001b[0m\u001b[0;34m\u001b[0m\u001b[0;34m\u001b[0m\u001b[0m\n\u001b[0;32m---> 61\u001b[0;31m         \u001b[0mself\u001b[0m\u001b[0;34m.\u001b[0m\u001b[0m_validate_translation\u001b[0m\u001b[0;34m(\u001b[0m\u001b[0msource\u001b[0m\u001b[0;34m,\u001b[0m \u001b[0mresult\u001b[0m\u001b[0;34m)\u001b[0m\u001b[0;34m\u001b[0m\u001b[0;34m\u001b[0m\u001b[0m\n\u001b[0m\u001b[1;32m     62\u001b[0m         \u001b[0;32mreturn\u001b[0m \u001b[0mresult\u001b[0m\u001b[0;34m\u001b[0m\u001b[0;34m\u001b[0m\u001b[0m\n\u001b[1;32m     63\u001b[0m \u001b[0;34m\u001b[0m\u001b[0m\n",
      "\u001b[0;32m~/opt/anaconda3/lib/python3.7/site-packages/textblob/translate.py\u001b[0m in \u001b[0;36m_validate_translation\u001b[0;34m(self, source, result)\u001b[0m\n\u001b[1;32m     83\u001b[0m             \u001b[0mresult\u001b[0m \u001b[0;34m=\u001b[0m \u001b[0mresult\u001b[0m\u001b[0;34m.\u001b[0m\u001b[0mencode\u001b[0m\u001b[0;34m(\u001b[0m\u001b[0;34m'utf-8'\u001b[0m\u001b[0;34m)\u001b[0m\u001b[0;34m\u001b[0m\u001b[0;34m\u001b[0m\u001b[0m\n\u001b[1;32m     84\u001b[0m         \u001b[0;32mif\u001b[0m \u001b[0mresult\u001b[0m\u001b[0;34m.\u001b[0m\u001b[0mstrip\u001b[0m\u001b[0;34m(\u001b[0m\u001b[0;34m)\u001b[0m \u001b[0;34m==\u001b[0m \u001b[0msource\u001b[0m\u001b[0;34m.\u001b[0m\u001b[0mstrip\u001b[0m\u001b[0;34m(\u001b[0m\u001b[0;34m)\u001b[0m\u001b[0;34m:\u001b[0m\u001b[0;34m\u001b[0m\u001b[0;34m\u001b[0m\u001b[0m\n\u001b[0;32m---> 85\u001b[0;31m             \u001b[0;32mraise\u001b[0m \u001b[0mNotTranslated\u001b[0m\u001b[0;34m(\u001b[0m\u001b[0;34m'Translation API returned the input string unchanged.'\u001b[0m\u001b[0;34m)\u001b[0m\u001b[0;34m\u001b[0m\u001b[0;34m\u001b[0m\u001b[0m\n\u001b[0m\u001b[1;32m     86\u001b[0m \u001b[0;34m\u001b[0m\u001b[0m\n\u001b[1;32m     87\u001b[0m     \u001b[0;32mdef\u001b[0m \u001b[0m_request\u001b[0m\u001b[0;34m(\u001b[0m\u001b[0mself\u001b[0m\u001b[0;34m,\u001b[0m \u001b[0murl\u001b[0m\u001b[0;34m,\u001b[0m \u001b[0mhost\u001b[0m\u001b[0;34m=\u001b[0m\u001b[0;32mNone\u001b[0m\u001b[0;34m,\u001b[0m \u001b[0mtype_\u001b[0m\u001b[0;34m=\u001b[0m\u001b[0;32mNone\u001b[0m\u001b[0;34m,\u001b[0m \u001b[0mdata\u001b[0m\u001b[0;34m=\u001b[0m\u001b[0;32mNone\u001b[0m\u001b[0;34m)\u001b[0m\u001b[0;34m:\u001b[0m\u001b[0;34m\u001b[0m\u001b[0;34m\u001b[0m\u001b[0m\n",
      "\u001b[0;31mNotTranslated\u001b[0m: Translation API returned the input string unchanged."
     ]
    }
   ],
   "source": [
    "idx = 409\n",
    "start = time.time()\n",
    "print(\"pre translation\")\n",
    "print(df_real['clean_text'][idx])\n",
    "\n",
    "x = translate(df_real['clean_text'][idx])\n",
    "df_real.loc[df_real.shape[0]]=x\n",
    "end = time.time()\n",
    "print(\"post translation\")\n",
    "print(x)\n",
    "print(end-start)\n",
    "\n",
    "try:\n",
    "    x = translate(df_real['clean_text'][idx])\n",
    "    df_real.loc[df_real.shape[0]]=x\n",
    "\n",
    "except Exception as e:\n",
    "    issues[i] = e\n",
    "    print(\"issue\")\n",
    "    pass\n"
   ]
  },
  {
   "cell_type": "code",
   "execution_count": 76,
   "metadata": {},
   "outputs": [
    {
     "name": "stdout",
     "output_type": "stream",
     "text": [
      "cnn Women's History Month brings political turmoil as a result of the social turbulence global horror coronavirus pandemic Many post-election Women's History Month also leaves the last remaining women The year of the presidential election also marks the centenary of women's suffrage women's history month is angry, fearing many of us Next, the history of women in the present spirit There is definitely no significant time to consider influencing. Respected set Women look back on life Career leaders portray historical moments Jennifer Sebel Newsom tells her that she must continue lift-build partnerships Women are rising because past women are It means looking forward beyond the pioneering tennis legend. Women's History of Health Crisis Reflects Leading Roles Women Always Proud The Month is Always at the Forefront American Storytelling Probably the Best Example Clara Burton Founder American Red Cross 1 Celebrated Person National History Lifesaving Work Civil War Battlefield Continuous Contribution Improvement Social Reminder Much-decided Female Clarissa Harlow Clara Burton Burton Dreamer Door is a Legacy who embodies the principle Core America, Race Gender Creeds Become a Major Issue Confrontation Challenge Coronavirus Must Rebuild Major Core Pillars Offer us multiple books, including upcoming hell destinations Century memoir Rachel Carson Jane D'Or Chimpanzee study 2 years went to Cambridge University Human character spirit emotion true childhood teacher great mother dog rusty denial obedient reductionist thinking and then obedient chimpanzee biologically similar behaviors Scientifically accepted scientists are often found in the animal kingdom Rachel Carsons Silent Spring Inspired Courage Fighting Pharmaceutical Company Government Scientist Dangerous Environment Written by the General Public Belief in Belief Scientist Criticism Rachel Carson Rachel Faces Scientists Rachel Carson was imprisoned in a small barren cage Increasingly spokes are using chemical pesticides Herbicides industrial agriculture Recent winning companies are encouraging long battles We have vested interests Despite being a company, the government secretly encourages the fact that additional kills in addition to the cancer kills are always supported Mother Jane Goodall Founder jan e Goodall Institute United Nations Messenger Peace Claudette Corvin Sheryl Sandberg First Reaction Learning Claudette Colvin Know Claudette Living Montgomery Alabama Ride Home School One Day Driver Caucasian Refusal Police Secretary Two different reasons, including dragbath handcuffs isolated Alabama McClaudette Pregnancy Probably sympathetic enough decision Clodette quits tremor life after 9 months Rosa Parks refused to leave the seat Bus everything changed Learning Claudette Lessons Women's History Vibrant Thrilling History Book Think What's Different A Black Pregnant Teen Courage Stand Thinking of Humanization of Racists System Lot People Youth Always Think Strong Young Single Mom Public Support Food Stamps Active Community Serving President Black Student Union Volunteer Black Panther Party Two boys spending time nurturing campaign A campaign that had a huge impact on life A professor of life assigns us fieldwork presidential election time and nominates democracy Three men fighting don't represent a platform on issues affected Nursery Public Education Universal Healthcare End of Poverty Never Resigned Class Life Equally Resigned Meet Shirley Chishom Invited Parliamentarian Chisholm Mills University Address Black Student Union The first African-American woman elected presidential phobia ends immediately without a bold courageous and truly unburied boss who knew the right undecided criticism without the effects of fear The speech was Campey Reg cant change system youre Appeal Register Vote Appearance Moral Leadership Meaning Rebuilding Belief Facing Overwhelming Opposition Overwhelming Opposition Taught Black Women Won't Work Rules Must Change Rules Institutional racism that needs to be changed Discrimination Discrimination Barber Lee's Democratic Party representatives show that a broken barrier must take women Shirley Chisholm, California Presidential Election Campaign Shirley Zam Kamala Harris Congresswoman Shirley Chisholm reminds us that she does not take any burden, such as reminding a little girl woman to work everywhere she inspires, the eyes of another hero mother can see a lot at first Shirley Chim Guts thats id like Remembered Women's History Month Thinking Shirley Chisholm Hope Everywhere Little Girls Women Remember Yes Guts Kamala Harris Us Senator California Former Democratic Nominee President Dorothy Bolden a Housework in Yempoo New York that passed a few years ago Knew that their bill rights witnessed a moment of massive historical achievement. A long historical arc defended millions of women fighting with respect for a generation of dignity. Housework union America Dorothy Bold daughter housekeeper chauffeur organized housework workers organized what is considered impossible in 10 different cities wages increased worker compensation social security signed a few years later The law that confirmed the first state legislation Houseworker New York right Overtime days off 3 days paid time protection Discrimination Discrimination Harassment moments momentum of horse riding Dorothy Bold We also created the momentum of eight state legislation For nearly a decade, the New York bill has passed a national domestic worker bill Senka Mara Harris representative ramila jayapaltwo strong women color parliamentary movement bookmarked moments historical achievement He believes the future of Dorothy Parker Jennifer Finney Boylan course career female writer Blazed Trailed Losiepa Riding a unicycle as car women is brilliantly shining circus bear love to love her most famous poem. The best way to bring about social change Sense humor Sometimes the best comfort Comforted heartbreak Crispy cold Martini Parker is wisdom wisdom Wisdom miraculous measures Enough worthy of words Enough champagne Three things last until dying Hope to laugh Socks Eyes Jennifer Finney Boylan Author's Book Novel Long Black Veil Memoire Seas Life 2 Gender Next Memorandum Novel Long Black Veil Memoire Seas Life 2 Gender Next Book Memoirs Good Boy Life 7 Dogs, Appointed In April Anna Kindren Reiter Residence Bernard College Columbia Member Board Board of Directors Pen America Former Chairman glaads Board Director Bella Abu Zug Pat Mitchell Traveling 1000 Women Across the World Brussels Gives First Peace Peace Opportunity La Abzug Opening Plenary Colorful House of Representatives New York Bella Abzug Declared Next Century Women Change Powers of Nature Change Women's Power of Natural Women Historic Years Recognizing Women's Power Vote Still Believers of Belas Forecast Witnessed events en Push full-scope experience to the forefront Mother and daughter sisters Individually use electricity Shares Redefine peace negotiations Globally lead peace towards climate justice Global Ladies Community Opportunity Velas Faith pat Mitchell Media Executive Author Editor-in-Chief Media Executive Author Editor-in-Chief tedwomen First Female President pbs Margaret Chase Smith Many Kay Bailey Hutchison wrote the American heroine A lively female-shaped country observation leaps many cases Amazing progress Women's history First Recognized field year when the barrier breaker worked Margaret Chase Smith the first woman we didn't see Senator elected right-defining barrier was probably a Senate member of the Senate Margaret Chase Smith Amelia Earht beat the female barrier Aviation Jackie Cochrane founder wasp wwii female pilot service pavement method Sally Riding the First American Woman Space Emma Willard Fighting Girls Public Education Lobbying Talking Importance Education Girls Early leads began to move, eventually all states widened, and finally the suffragist rallyed the equality of marched women. , Began to seek basic right votes Counted voices have fulfilled dreams for years Dreams do not come true Brave early leaders were alive Celebrating the movement Important rights Next steps True Equality of disability many women face today operating America Biggest Company Major City State Justice Mayor Governor Senate Supreme Court Justice Fought Equality Education Effort Open Door Shoulder Giant Spirit Fight Women Role Building Country All Areas Contributions Greatness America Cavalry Hutchison Former Republican United States Senator Texas Despite feeling that the world of U.S. Permanent Representative Nat Hillary Clinton Kirchsten Gilibrand Hillary's history-making speech speaks directly to the time, Beijing Hillary Clinton's premiered UN World Congress proclaimed the rights of a young lawyer, Hillary. Hillary's speech, which makes the world a better place by forcing the language to ask tough questions, worked on us by a women's leadership forum Last year's Clinton administration ran a two-to-one Republican district of parliament Hillary speaks in the state Predicting Beijing Will Not Predict Speech Certain Knowing Words Inspire Generations Generations Will Inspire Women Thank You Kirsten Gilibrand Democratic Senator New York Former Candidate Democratic Party Nominee Creator Democrats We Senators New York Former Candidates Democratic Nominees President Creator Side Jobs Encourage Women to Run Office Join the Civil Life Mother Alicia Garza Time Uncertainty Important Reach Inspiration Way Connect Keep what is possible thanks mother Lynette Schwartz taught younger age always expects unexpected p sees nothing prepared mother thinks needlessly worried too much The advice habits are especially helpful Uncertainty last week Homes aren't sanctuary Mothers don't die two years ago Giving a good framework approach Moment of tenderness Every opportunity I need someone to connect with Hearing a caring voice The right offer Oxygen mask Protected smile Ensuring travel Mile travel Hugging loved ones Take action Acting Today Many People Fight Wisely Like Hell's Family Another Way to Choose Action Alicia Garza Strategic Partnership Director Strategic Partnership Director National Workers Alliance National Co-Founder Black Life Supermajority Women Color Built Movement Emmy Allison Women Color Established Movement Power Hearing Uncertain Time Words Color Born Houston Texas Texas First National Women's Conference Executive Black Latina Asian American Native Woman Redefined Among Most White Women A woman Agenda is a progressive reform that has affected generations, including racial solidarity. Voters Organizers Courageously elected leaders Harriet Tubman Lineage Women Colors Run Deep Harriet Tubman Resident Truth Ida Wells Ella Baker Peopleza Clarion Cole Demo Cracy Resounds Ward Gracery Boggs Yuryokochi Yamachito Karasa Queen Liliu Carnice Cherokee Chief Wilma Mankerer Wilma Mankerer Wilma Mankerer A few years ago, the Parliamentary Godmothers stepped, held hope, and fought Amy Alison Founder President President People People's National Network Women's color that enhances political power Gerardi ferraro cecile richards is the first democratic national convention of mother and Richards floor still standing We had a wedding together for the first time State Treasury Secretary Mama of Texas gave a speech Walter Mondale's nominated president was waiting for the next day's speech for Mondale to run her mate Geraldine Ferraro will be the first woman to take the stage night The first Vice President Major Party Ticket Geraldine Ferraro is usually the official representative authorized Convention Floor Night Pack Women Country representative is many women around the floor pass Mike Headphones, who was not a delegate like, yelled at a screaming representative and felt that an Amama sentimental man had overcame a moment of silence A woman who replied by the speaker the name of Geraldine Ferraros Is the country with the highest running office Sends American doors cannot unlock place restrictions Moment when the limit is reached Woman feels the highest level of actual expression Government Moment for the first time Motivated Year First Female Vice President, United States, Cecil Richards, Affected by former president, parent-child author, co-founder, former president, parent-child author, co-founder, supermajority, Harriet Tubman, Angela Davis Patrices, overabandoned community. Story Harriet Tubumana Young slaved woman releases slavery and many others including courage, including the whole family Courage helped to evaluate life Today Angela Davis often New Underground Road Will Ask The Answer To The New Abolition Movement Angela Davis Angela Helped The State Understand New Frontier Movement To End Slavery To Prison Police Angela Deep And Tabman Teeth Fate Of Blacks Life to the abolition movement embodies a vision for healing transformative justice community accountability Patrice Crawler artist activist co-founder black life founder chair artist activist co-founder black life Founder Chair Reform La Giles Los Angeles Bay Committee of Coalition Citizens Community Leaders Organize Crime Prevention Mental Health in Jail Drug Addiction Chronic Homeless Problems ileana roslehtinen Life Many Moments Self-doubt felt lack of knowledge Background Knowledge Needed Coping Troublesome ces Women experience ces One moment happened The decision was made The first parliamentary campaign was carried out Summer's long-term member's parliament Former US Senator Claude Pepper was killed A rare vacancy Opened Miami Parliamentary seats Open hours Florida Many people around the State Senator politicians resist the slow hat ring Rush Listen Listening Supportive voices Even if the born Cuba felt naturalized to us the time needed, even if it was naturalized to us Is a problem that citizens are engrossed in Relevant world affairs Community involvement battle Free democracy hemisphere Still others really prepared Campaign season was thinking to determine the execution time is coming has confirmed that he had already prepared a sufficiently big problem. Eager Preparation No doubt there is no blow man looks sophisticated ready ida Bellwells Barnet Wells Barnet Inspiration Story 1 Resilience Courage Constant Success Refusal Refused Ladies Car Victory Overturned Complaint The fighting efforts of the white sisters to force a march may strangely find the tragedy of inspiration lost by someone, often even within the legacy of Wealth Barnett's allies.Black women of political power are anti-black. Fight the Foundation of Violence #blacklivesmatter #sayhername fighting present Lost the eternal reminder of a fostered and feasible future Losing the worst short-term consequences Kimber Clenshaw Co-Founder Executive Director Co-Founder Executive Director African American Policy Forum Teaching Method Uc la Colombia Law School People Inspired Maria Mekaba National Prison Abolitionist Founder Organization Project Niaworks Youth Imprisonment She Realizes One Attribute Responsive to Really Remarkable Hope that Embodies the True Sense Many years ago, some women all over the world have a fact month Admires Launches personal Instagram page using personal Instagram page #globalherstory Launches profile Highlights black women change makers around the world Icon Icon Admires the amazing work community Range Included Graca Machell Manderate Wife Late Nelson Manderat Erika Marunginho da Silva The First Transgender Parliament Brazil Many Sheloe Valuable Recognition Celebration How to Learn Legacy Transnational Maintaining Feminism to Help Expand Your Daily Contributions Living Issues Former Executive Director Co-founder Black Living Issues Former Executive Director Black Alliance Immigration Free Get In Weekly Newsletter Sign cnn Opinion Join New Newsletter Twitter facebook Gannawa Robin Morgan Years ago Mountains Northern Mountains Region Invitation to the Philippines Philippines Ladies Movement Jobs Women Memorable Moments Travel Encounter Always Back Lost Feeling Lost One small paddy village cluster broken into six tins Openside reinto hat Day trekking minibus Small town Bontock Feet on a steep hillside narrow strip across a fragile rope bridge Swaying earth split paddy finally sits mud floor one hut peanut coffee drink shared tin cup urban filipina english english spanish little filipino tagalog tribal people northern language one woman translated gnana I will. Gantt frame eyes Glittering intelligence Proud children read women to learn women Small Bontok women's center never knows Gannawa Someday I may go somewhere I can see a sign I can read a sign In the afternoon when I know a sign Swaying bridge activist holding a rope to understand somehow translators have to find some way to find an adult literacy program for women female paddy gunnawa author cofounder author cofounder ladies media center host wmc live robin morgan note post update Dorothy hoodie entry\n"
     ]
    }
   ],
   "source": []
  },
  {
   "cell_type": "code",
   "execution_count": null,
   "metadata": {},
   "outputs": [],
   "source": []
  }
 ],
 "metadata": {
  "kernelspec": {
   "display_name": "Python 3",
   "language": "python",
   "name": "python3"
  },
  "language_info": {
   "codemirror_mode": {
    "name": "ipython",
    "version": 3
   },
   "file_extension": ".py",
   "mimetype": "text/x-python",
   "name": "python",
   "nbconvert_exporter": "python",
   "pygments_lexer": "ipython3",
   "version": "3.7.4"
  }
 },
 "nbformat": 4,
 "nbformat_minor": 2
}
